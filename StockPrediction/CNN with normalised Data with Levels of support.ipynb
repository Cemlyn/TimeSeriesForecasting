{
 "cells": [
  {
   "cell_type": "code",
   "execution_count": 108,
   "id": "cbed3774",
   "metadata": {},
   "outputs": [],
   "source": [
    "import pandas as pd\n",
    "import numpy as np\n",
    "import os\n",
    "from matplotlib import pyplot as plt"
   ]
  },
  {
   "cell_type": "code",
   "execution_count": 109,
   "id": "ec78f695",
   "metadata": {},
   "outputs": [
    {
     "data": {
      "text/html": [
       "<div>\n",
       "<style scoped>\n",
       "    .dataframe tbody tr th:only-of-type {\n",
       "        vertical-align: middle;\n",
       "    }\n",
       "\n",
       "    .dataframe tbody tr th {\n",
       "        vertical-align: top;\n",
       "    }\n",
       "\n",
       "    .dataframe thead th {\n",
       "        text-align: right;\n",
       "    }\n",
       "</style>\n",
       "<table border=\"1\" class=\"dataframe\">\n",
       "  <thead>\n",
       "    <tr style=\"text-align: right;\">\n",
       "      <th></th>\n",
       "      <th>datetime</th>\n",
       "      <th>volume</th>\n",
       "      <th>volume_weighted</th>\n",
       "      <th>open</th>\n",
       "      <th>close</th>\n",
       "      <th>high</th>\n",
       "      <th>low</th>\n",
       "      <th>timestamp</th>\n",
       "      <th>no_transactions</th>\n",
       "    </tr>\n",
       "  </thead>\n",
       "  <tbody>\n",
       "    <tr>\n",
       "      <th>0</th>\n",
       "      <td>2022-01-03 09:00:00</td>\n",
       "      <td>9426.0</td>\n",
       "      <td>476.6581</td>\n",
       "      <td>476.38</td>\n",
       "      <td>476.56</td>\n",
       "      <td>476.92</td>\n",
       "      <td>476.38</td>\n",
       "      <td>1641200400000</td>\n",
       "      <td>115</td>\n",
       "    </tr>\n",
       "    <tr>\n",
       "      <th>1</th>\n",
       "      <td>2022-01-03 09:05:00</td>\n",
       "      <td>1778.0</td>\n",
       "      <td>476.4585</td>\n",
       "      <td>476.48</td>\n",
       "      <td>476.44</td>\n",
       "      <td>476.49</td>\n",
       "      <td>476.44</td>\n",
       "      <td>1641200700000</td>\n",
       "      <td>37</td>\n",
       "    </tr>\n",
       "    <tr>\n",
       "      <th>2</th>\n",
       "      <td>2022-01-03 09:10:00</td>\n",
       "      <td>9767.0</td>\n",
       "      <td>476.7624</td>\n",
       "      <td>476.62</td>\n",
       "      <td>476.83</td>\n",
       "      <td>476.87</td>\n",
       "      <td>476.58</td>\n",
       "      <td>1641201000000</td>\n",
       "      <td>80</td>\n",
       "    </tr>\n",
       "    <tr>\n",
       "      <th>3</th>\n",
       "      <td>2022-01-03 09:15:00</td>\n",
       "      <td>1743.0</td>\n",
       "      <td>476.7269</td>\n",
       "      <td>476.84</td>\n",
       "      <td>476.53</td>\n",
       "      <td>476.84</td>\n",
       "      <td>476.53</td>\n",
       "      <td>1641201300000</td>\n",
       "      <td>44</td>\n",
       "    </tr>\n",
       "    <tr>\n",
       "      <th>4</th>\n",
       "      <td>2022-01-03 09:20:00</td>\n",
       "      <td>1037.0</td>\n",
       "      <td>476.7011</td>\n",
       "      <td>476.65</td>\n",
       "      <td>476.82</td>\n",
       "      <td>476.82</td>\n",
       "      <td>476.62</td>\n",
       "      <td>1641201600000</td>\n",
       "      <td>21</td>\n",
       "    </tr>\n",
       "  </tbody>\n",
       "</table>\n",
       "</div>"
      ],
      "text/plain": [
       "             datetime  volume  volume_weighted    open   close    high  \\\n",
       "0 2022-01-03 09:00:00  9426.0         476.6581  476.38  476.56  476.92   \n",
       "1 2022-01-03 09:05:00  1778.0         476.4585  476.48  476.44  476.49   \n",
       "2 2022-01-03 09:10:00  9767.0         476.7624  476.62  476.83  476.87   \n",
       "3 2022-01-03 09:15:00  1743.0         476.7269  476.84  476.53  476.84   \n",
       "4 2022-01-03 09:20:00  1037.0         476.7011  476.65  476.82  476.82   \n",
       "\n",
       "      low      timestamp  no_transactions  \n",
       "0  476.38  1641200400000              115  \n",
       "1  476.44  1641200700000               37  \n",
       "2  476.58  1641201000000               80  \n",
       "3  476.53  1641201300000               44  \n",
       "4  476.62  1641201600000               21  "
      ]
     },
     "execution_count": 109,
     "metadata": {},
     "output_type": "execute_result"
    }
   ],
   "source": [
    "file_loc = 'SPY_5min_2022-01-03T09.00.00_2022-03-25T14.10.00.csv'\n",
    "df = pd.read_csv(os.path.join('data',file_loc),parse_dates=['datetime'])\n",
    "df.head()"
   ]
  },
  {
   "cell_type": "code",
   "execution_count": 110,
   "id": "4fc51230",
   "metadata": {},
   "outputs": [],
   "source": [
    "# Calculate levels of support from the last "
   ]
  },
  {
   "cell_type": "code",
   "execution_count": 111,
   "id": "4d2e27b5",
   "metadata": {},
   "outputs": [
    {
     "data": {
      "text/html": [
       "<div>\n",
       "<style scoped>\n",
       "    .dataframe tbody tr th:only-of-type {\n",
       "        vertical-align: middle;\n",
       "    }\n",
       "\n",
       "    .dataframe tbody tr th {\n",
       "        vertical-align: top;\n",
       "    }\n",
       "\n",
       "    .dataframe thead th {\n",
       "        text-align: right;\n",
       "    }\n",
       "</style>\n",
       "<table border=\"1\" class=\"dataframe\">\n",
       "  <thead>\n",
       "    <tr style=\"text-align: right;\">\n",
       "      <th></th>\n",
       "      <th>datetime</th>\n",
       "      <th>volume</th>\n",
       "      <th>volume_weighted</th>\n",
       "      <th>open</th>\n",
       "      <th>close</th>\n",
       "      <th>high</th>\n",
       "      <th>low</th>\n",
       "      <th>timestamp</th>\n",
       "      <th>no_transactions</th>\n",
       "      <th>time-delta</th>\n",
       "      <th>close_diff</th>\n",
       "    </tr>\n",
       "  </thead>\n",
       "  <tbody>\n",
       "    <tr>\n",
       "      <th>0</th>\n",
       "      <td>2022-01-03 09:00:00</td>\n",
       "      <td>9426.0</td>\n",
       "      <td>476.6581</td>\n",
       "      <td>476.38</td>\n",
       "      <td>476.56</td>\n",
       "      <td>476.92</td>\n",
       "      <td>476.38</td>\n",
       "      <td>1641200400000</td>\n",
       "      <td>115</td>\n",
       "      <td>NaN</td>\n",
       "      <td>NaN</td>\n",
       "    </tr>\n",
       "    <tr>\n",
       "      <th>1</th>\n",
       "      <td>2022-01-03 09:05:00</td>\n",
       "      <td>1778.0</td>\n",
       "      <td>476.4585</td>\n",
       "      <td>476.48</td>\n",
       "      <td>476.44</td>\n",
       "      <td>476.49</td>\n",
       "      <td>476.44</td>\n",
       "      <td>1641200700000</td>\n",
       "      <td>37</td>\n",
       "      <td>300.0</td>\n",
       "      <td>-0.000252</td>\n",
       "    </tr>\n",
       "    <tr>\n",
       "      <th>2</th>\n",
       "      <td>2022-01-03 09:10:00</td>\n",
       "      <td>9767.0</td>\n",
       "      <td>476.7624</td>\n",
       "      <td>476.62</td>\n",
       "      <td>476.83</td>\n",
       "      <td>476.87</td>\n",
       "      <td>476.58</td>\n",
       "      <td>1641201000000</td>\n",
       "      <td>80</td>\n",
       "      <td>300.0</td>\n",
       "      <td>0.000819</td>\n",
       "    </tr>\n",
       "    <tr>\n",
       "      <th>3</th>\n",
       "      <td>2022-01-03 09:15:00</td>\n",
       "      <td>1743.0</td>\n",
       "      <td>476.7269</td>\n",
       "      <td>476.84</td>\n",
       "      <td>476.53</td>\n",
       "      <td>476.84</td>\n",
       "      <td>476.53</td>\n",
       "      <td>1641201300000</td>\n",
       "      <td>44</td>\n",
       "      <td>300.0</td>\n",
       "      <td>-0.000629</td>\n",
       "    </tr>\n",
       "    <tr>\n",
       "      <th>4</th>\n",
       "      <td>2022-01-03 09:20:00</td>\n",
       "      <td>1037.0</td>\n",
       "      <td>476.7011</td>\n",
       "      <td>476.65</td>\n",
       "      <td>476.82</td>\n",
       "      <td>476.82</td>\n",
       "      <td>476.62</td>\n",
       "      <td>1641201600000</td>\n",
       "      <td>21</td>\n",
       "      <td>300.0</td>\n",
       "      <td>0.000609</td>\n",
       "    </tr>\n",
       "  </tbody>\n",
       "</table>\n",
       "</div>"
      ],
      "text/plain": [
       "             datetime  volume  volume_weighted    open   close    high  \\\n",
       "0 2022-01-03 09:00:00  9426.0         476.6581  476.38  476.56  476.92   \n",
       "1 2022-01-03 09:05:00  1778.0         476.4585  476.48  476.44  476.49   \n",
       "2 2022-01-03 09:10:00  9767.0         476.7624  476.62  476.83  476.87   \n",
       "3 2022-01-03 09:15:00  1743.0         476.7269  476.84  476.53  476.84   \n",
       "4 2022-01-03 09:20:00  1037.0         476.7011  476.65  476.82  476.82   \n",
       "\n",
       "      low      timestamp  no_transactions  time-delta  close_diff  \n",
       "0  476.38  1641200400000              115         NaN         NaN  \n",
       "1  476.44  1641200700000               37       300.0   -0.000252  \n",
       "2  476.58  1641201000000               80       300.0    0.000819  \n",
       "3  476.53  1641201300000               44       300.0   -0.000629  \n",
       "4  476.62  1641201600000               21       300.0    0.000609  "
      ]
     },
     "execution_count": 111,
     "metadata": {},
     "output_type": "execute_result"
    }
   ],
   "source": [
    "df['time-delta'] = df['datetime'].diff().dt.seconds\n",
    "for col in ['close']:\n",
    "    df[f'{col}_diff'] = df[col].pct_change()\n",
    "df.head()"
   ]
  },
  {
   "cell_type": "code",
   "execution_count": 112,
   "id": "85a1454a",
   "metadata": {},
   "outputs": [
    {
     "data": {
      "text/plain": [
       "<matplotlib.axes._subplots.AxesSubplot at 0x7fe2601c4e90>"
      ]
     },
     "execution_count": 112,
     "metadata": {},
     "output_type": "execute_result"
    },
    {
     "data": {
      "image/png": "[encoded data removed]",
      "text/plain": [
       "<Figure size 432x288 with 1 Axes>"
      ]
     },
     "metadata": {
      "needs_background": "light"
     },
     "output_type": "display_data"
    }
   ],
   "source": [
    "df.set_index('datetime')['close'].plot()"
   ]
  },
  {
   "cell_type": "code",
   "execution_count": 113,
   "id": "11c4f492",
   "metadata": {},
   "outputs": [
    {
     "data": {
      "text/plain": [
       "300.0      10856\n",
       "600.0         49\n",
       "900.0          1\n",
       "1200.0         1\n",
       "25500.0        1\n",
       "29100.0       56\n",
       "Name: diff, dtype: int64"
      ]
     },
     "execution_count": 113,
     "metadata": {},
     "output_type": "execute_result"
    }
   ],
   "source": [
    "df['diff'] = df['datetime'].diff().dt.seconds\n",
    "df['diff'].value_counts().sort_index()"
   ]
  },
  {
   "cell_type": "code",
   "execution_count": 159,
   "id": "97a1f9a1",
   "metadata": {},
   "outputs": [],
   "source": [
    "time_since_opening_array = [0]\n",
    "\n",
    "time_since_opening = 1.0\n",
    "for n,x in enumerate(df['diff'].values.tolist()[1:]):\n",
    "    \n",
    "    time_since_opening+=x\n",
    "    \n",
    "    if x>20000:\n",
    "        time_since_opening = 1.0\n",
    "        \n",
    "    time_since_opening_array.append(time_since_opening)\n",
    "    \n",
    "df['time_since_opening'] = time_since_opening_array"
   ]
  },
  {
   "cell_type": "code",
   "execution_count": 286,
   "id": "123a1086",
   "metadata": {},
   "outputs": [],
   "source": [
    "df['close_13_ma'] = df['close'].rolling(13,min_periods=1).mean()\n",
    "df['close_48_ma'] = df['close'].rolling(48,min_periods=1).mean()\n",
    "df['close_13_48_diff'] = df['close_48_ma'] - df['close_13_ma']"
   ]
  },
  {
   "cell_type": "code",
   "execution_count": 311,
   "id": "2878fb2f",
   "metadata": {},
   "outputs": [
    {
     "name": "stdout",
     "output_type": "stream",
     "text": [
      "10965 ticks found\n",
      "Counter:10961\r"
     ]
    }
   ],
   "source": [
    "# Window of data we're working with\n",
    "N = df.shape[0]\n",
    "print(f'{N} ticks found')\n",
    "\n",
    "# 2 hour lookback period\n",
    "LOOKBACK = 2*(60/5)\n",
    "\n",
    "# Growth requirement\n",
    "GROWTH_LIMIT = 0.005\n",
    "\n",
    "# outcome period 30min\n",
    "HORIZON = 6\n",
    "\n",
    "X = list()\n",
    "y = list()\n",
    "\n",
    "t =1\n",
    "finish = False\n",
    "counter = 0\n",
    "while finish is False:\n",
    "    \n",
    "    counter+=1\n",
    "    print(f'Counter:{counter}',end='\\r')\n",
    "    \n",
    "    # check we have enough lookback data\n",
    "    if t<22:\n",
    "        t+=1\n",
    "        continue\n",
    "    \n",
    "    # check we don't have enough data left then end the cycle\n",
    "    if (N - t)<5:\n",
    "        finish = True\n",
    "        t+=1\n",
    "        continue\n",
    "        \n",
    "    lookback_data = df.loc[t-20:t,['volume','close','open','high','low','close_13_ma','close_48_ma']].fillna(0.1).values\n",
    "    lookback_data = lookback_data/(lookback_data[-1])\n",
    "    outcome_data = df.loc[t+1:t+6,'close_diff'].sum()>GROWTH_LIMIT\n",
    "    \n",
    "    X.append(lookback_data)\n",
    "    y.append(outcome_data)\n",
    "    \n",
    "    t+=1"
   ]
  },
  {
   "cell_type": "code",
   "execution_count": 312,
   "id": "9c9e469a",
   "metadata": {},
   "outputs": [
    {
     "data": {
      "text/plain": [
       "(10939, 1)"
      ]
     },
     "execution_count": 312,
     "metadata": {},
     "output_type": "execute_result"
    }
   ],
   "source": [
    "y = np.array(y).reshape(-1,1)\n",
    "y.shape"
   ]
  },
  {
   "cell_type": "code",
   "execution_count": 313,
   "id": "db4e880b",
   "metadata": {},
   "outputs": [
    {
     "data": {
      "text/plain": [
       "(10939, 21, 7)"
      ]
     },
     "execution_count": 313,
     "metadata": {},
     "output_type": "execute_result"
    }
   ],
   "source": [
    "X = np.stack(X)\n",
    "X.shape"
   ]
  },
  {
   "cell_type": "code",
   "execution_count": 314,
   "id": "de2cadf0",
   "metadata": {},
   "outputs": [],
   "source": [
    "X_train = X[:6000]\n",
    "X_test = X[6000:]\n",
    "\n",
    "y_train = y[:6000]\n",
    "y_test = y[6000:]\n",
    "\n",
    "with open('./data/X_train_2.npy','wb') as f:\n",
    "    np.save(f,X_train)\n",
    "    \n",
    "with open('./data/X_test_2.npy','wb') as f:\n",
    "    np.save(f,X_test)\n",
    "    \n",
    "with open('./data/y_train_2.npy','wb') as f:\n",
    "    np.save(f,y_train)\n",
    "    \n",
    "with open('./data/y_test_2.npy','wb') as f:\n",
    "    np.save(f,X_test)"
   ]
  },
  {
   "cell_type": "markdown",
   "id": "7b7b08e6",
   "metadata": {},
   "source": [
    "# Defining a simple CNN"
   ]
  },
  {
   "cell_type": "code",
   "execution_count": 315,
   "id": "8baee004",
   "metadata": {},
   "outputs": [],
   "source": [
    "import tensorflow as tf\n",
    "from tensorflow import keras"
   ]
  },
  {
   "cell_type": "code",
   "execution_count": 316,
   "id": "9825ddb6",
   "metadata": {},
   "outputs": [],
   "source": [
    "X_train = X_train.astype('float32')\n",
    "X_test = X_test.astype('float32')\n",
    "y_train = y_train.astype('float32')\n",
    "y_test = y_test.astype('float32')"
   ]
  },
  {
   "cell_type": "code",
   "execution_count": 317,
   "id": "53b482ab",
   "metadata": {},
   "outputs": [],
   "source": [
    "model = keras.Sequential([\n",
    "    keras.layers.Conv1D(24,2,\n",
    "                        activation='relu',\n",
    "                        input_shape=(X_train.shape[1],X_train.shape[2]),\n",
    "                        kernel_regularizer=tf.keras.regularizers.l2(l=.1)),\n",
    "    #keras.layers.Conv1D(3,3,activation='relu'),\n",
    "    keras.layers.BatchNormalization(),\n",
    "    keras.layers.MaxPooling1D(2),\n",
    "    #keras.layers.Conv1D(6,2,activation='relu'),\n",
    "    #keras.layers.BatchNormalization(),\n",
    "    #keras.layers.MaxPooling1D(2),    \n",
    "    keras.layers.Flatten(),\n",
    "    #keras.layers.Dense(10,activation='relu'),\n",
    "    keras.layers.Dense(1,activation='sigmoid')\n",
    "])"
   ]
  },
  {
   "cell_type": "code",
   "execution_count": 318,
   "id": "ce805d6f",
   "metadata": {},
   "outputs": [],
   "source": [
    "metrics = [\n",
    "    tf.metrics.AUC(name='auc')\n",
    "]\n",
    "\n",
    "model.compile(optimizer=keras.optimizers.Adam(1e-4),loss='binary_crossentropy',metrics=metrics)"
   ]
  },
  {
   "cell_type": "code",
   "execution_count": 319,
   "id": "7dd6d4a8",
   "metadata": {},
   "outputs": [],
   "source": [
    "callbacks = [keras.callbacks.EarlyStopping(patience=10,restore_best_weights=True)]"
   ]
  },
  {
   "cell_type": "code",
   "execution_count": 325,
   "id": "6039ad26",
   "metadata": {},
   "outputs": [
    {
     "name": "stdout",
     "output_type": "stream",
     "text": [
      "Train on 6000 samples, validate on 4939 samples\n",
      "Epoch 1/100\n",
      "6000/6000 - 1s - loss: 0.1317 - auc: 0.7040 - val_loss: 0.1603 - val_auc: 0.6427\n",
      "Epoch 2/100\n",
      "6000/6000 - 1s - loss: 0.1310 - auc: 0.7153 - val_loss: 0.1585 - val_auc: 0.6425\n",
      "Epoch 3/100\n",
      "6000/6000 - 1s - loss: 0.1316 - auc: 0.7136 - val_loss: 0.1596 - val_auc: 0.6395\n",
      "Epoch 4/100\n",
      "6000/6000 - 1s - loss: 0.1310 - auc: 0.7156 - val_loss: 0.1583 - val_auc: 0.6419\n",
      "Epoch 5/100\n",
      "6000/6000 - 1s - loss: 0.1308 - auc: 0.7159 - val_loss: 0.1603 - val_auc: 0.6420\n",
      "Epoch 6/100\n",
      "6000/6000 - 1s - loss: 0.1304 - auc: 0.7201 - val_loss: 0.1591 - val_auc: 0.6388\n",
      "Epoch 7/100\n",
      "6000/6000 - 1s - loss: 0.1303 - auc: 0.7239 - val_loss: 0.1590 - val_auc: 0.6411\n",
      "Epoch 8/100\n",
      "6000/6000 - 1s - loss: 0.1308 - auc: 0.7098 - val_loss: 0.1586 - val_auc: 0.6416\n",
      "Epoch 9/100\n",
      "6000/6000 - 1s - loss: 0.1309 - auc: 0.7062 - val_loss: 0.1588 - val_auc: 0.6376\n",
      "Epoch 10/100\n",
      "6000/6000 - 1s - loss: 0.1310 - auc: 0.7161 - val_loss: 0.1591 - val_auc: 0.6456\n",
      "Epoch 11/100\n",
      "6000/6000 - 1s - loss: 0.1305 - auc: 0.7201 - val_loss: 0.1595 - val_auc: 0.6427\n",
      "Epoch 12/100\n",
      "6000/6000 - 1s - loss: 0.1309 - auc: 0.7122 - val_loss: 0.1603 - val_auc: 0.6419\n",
      "Epoch 13/100\n",
      "6000/6000 - 1s - loss: 0.1311 - auc: 0.7113 - val_loss: 0.1586 - val_auc: 0.6439\n",
      "Epoch 14/100\n",
      "6000/6000 - 1s - loss: 0.1305 - auc: 0.7130 - val_loss: 0.1579 - val_auc: 0.6397\n",
      "Epoch 15/100\n",
      "6000/6000 - 1s - loss: 0.1307 - auc: 0.7140 - val_loss: 0.1627 - val_auc: 0.6368\n",
      "Epoch 16/100\n",
      "6000/6000 - 1s - loss: 0.1306 - auc: 0.7135 - val_loss: 0.1592 - val_auc: 0.6396\n",
      "Epoch 17/100\n",
      "6000/6000 - 1s - loss: 0.1309 - auc: 0.7065 - val_loss: 0.1611 - val_auc: 0.6368\n",
      "Epoch 18/100\n",
      "6000/6000 - 1s - loss: 0.1301 - auc: 0.7200 - val_loss: 0.1625 - val_auc: 0.6376\n",
      "Epoch 19/100\n",
      "6000/6000 - 1s - loss: 0.1306 - auc: 0.7119 - val_loss: 0.1594 - val_auc: 0.6404\n",
      "Epoch 20/100\n",
      "6000/6000 - 1s - loss: 0.1298 - auc: 0.7193 - val_loss: 0.1592 - val_auc: 0.6393\n",
      "Epoch 21/100\n",
      "6000/6000 - 1s - loss: 0.1308 - auc: 0.7053 - val_loss: 0.1611 - val_auc: 0.6348\n",
      "Epoch 22/100\n",
      "6000/6000 - 1s - loss: 0.1303 - auc: 0.7141 - val_loss: 0.1578 - val_auc: 0.6420\n",
      "Epoch 23/100\n",
      "6000/6000 - 1s - loss: 0.1302 - auc: 0.7153 - val_loss: 0.1618 - val_auc: 0.6335\n",
      "Epoch 24/100\n",
      "6000/6000 - 1s - loss: 0.1299 - auc: 0.7208 - val_loss: 0.1579 - val_auc: 0.6440\n",
      "Epoch 25/100\n",
      "6000/6000 - 1s - loss: 0.1309 - auc: 0.7124 - val_loss: 0.1602 - val_auc: 0.6398\n",
      "Epoch 26/100\n",
      "6000/6000 - 1s - loss: 0.1310 - auc: 0.7157 - val_loss: 0.1591 - val_auc: 0.6397\n",
      "Epoch 27/100\n",
      "6000/6000 - 1s - loss: 0.1299 - auc: 0.7162 - val_loss: 0.1617 - val_auc: 0.6353\n",
      "Epoch 28/100\n",
      "6000/6000 - 1s - loss: 0.1301 - auc: 0.7166 - val_loss: 0.1616 - val_auc: 0.6319\n",
      "Epoch 29/100\n",
      "6000/6000 - 1s - loss: 0.1296 - auc: 0.7192 - val_loss: 0.1580 - val_auc: 0.6427\n",
      "Epoch 30/100\n",
      "6000/6000 - 1s - loss: 0.1307 - auc: 0.7025 - val_loss: 0.1580 - val_auc: 0.6430\n",
      "Epoch 31/100\n",
      "6000/6000 - 1s - loss: 0.1302 - auc: 0.7121 - val_loss: 0.1626 - val_auc: 0.6360\n",
      "Epoch 32/100\n",
      "6000/6000 - 1s - loss: 0.1302 - auc: 0.7179 - val_loss: 0.1588 - val_auc: 0.6416\n",
      "Epoch 33/100\n",
      "6000/6000 - 1s - loss: 0.1303 - auc: 0.7157 - val_loss: 0.1578 - val_auc: 0.6436\n",
      "Epoch 34/100\n",
      "6000/6000 - 1s - loss: 0.1300 - auc: 0.7130 - val_loss: 0.1582 - val_auc: 0.6397\n",
      "Epoch 35/100\n",
      "6000/6000 - 1s - loss: 0.1300 - auc: 0.7131 - val_loss: 0.1593 - val_auc: 0.6420\n",
      "Epoch 36/100\n",
      "6000/6000 - 1s - loss: 0.1302 - auc: 0.7095 - val_loss: 0.1598 - val_auc: 0.6400\n",
      "Epoch 37/100\n",
      "6000/6000 - 1s - loss: 0.1302 - auc: 0.7173 - val_loss: 0.1578 - val_auc: 0.6424\n",
      "Epoch 38/100\n",
      "6000/6000 - 1s - loss: 0.1299 - auc: 0.7130 - val_loss: 0.1586 - val_auc: 0.6393\n",
      "Epoch 39/100\n",
      "6000/6000 - 1s - loss: 0.1299 - auc: 0.7114 - val_loss: 0.1585 - val_auc: 0.6430\n",
      "Epoch 40/100\n",
      "6000/6000 - 1s - loss: 0.1299 - auc: 0.7238 - val_loss: 0.1601 - val_auc: 0.6385\n",
      "Epoch 41/100\n",
      "6000/6000 - 1s - loss: 0.1292 - auc: 0.7224 - val_loss: 0.1578 - val_auc: 0.6437\n",
      "Epoch 42/100\n",
      "6000/6000 - 1s - loss: 0.1299 - auc: 0.7166 - val_loss: 0.1579 - val_auc: 0.6426\n",
      "Epoch 43/100\n",
      "6000/6000 - 1s - loss: 0.1293 - auc: 0.7179 - val_loss: 0.1584 - val_auc: 0.6413\n",
      "Epoch 44/100\n",
      "6000/6000 - 1s - loss: 0.1301 - auc: 0.7123 - val_loss: 0.1587 - val_auc: 0.6418\n",
      "Epoch 45/100\n",
      "6000/6000 - 1s - loss: 0.1298 - auc: 0.7159 - val_loss: 0.1609 - val_auc: 0.6318\n",
      "Epoch 46/100\n",
      "6000/6000 - 1s - loss: 0.1296 - auc: 0.7226 - val_loss: 0.1589 - val_auc: 0.6395\n",
      "Epoch 47/100\n",
      "6000/6000 - 1s - loss: 0.1295 - auc: 0.7195 - val_loss: 0.1614 - val_auc: 0.6350\n",
      "Epoch 48/100\n",
      "6000/6000 - 1s - loss: 0.1294 - auc: 0.7206 - val_loss: 0.1577 - val_auc: 0.6400\n",
      "Epoch 49/100\n",
      "6000/6000 - 1s - loss: 0.1297 - auc: 0.7136 - val_loss: 0.1581 - val_auc: 0.6377\n",
      "Epoch 50/100\n",
      "6000/6000 - 1s - loss: 0.1289 - auc: 0.7265 - val_loss: 0.1667 - val_auc: 0.6284\n",
      "Epoch 51/100\n",
      "6000/6000 - 1s - loss: 0.1298 - auc: 0.7153 - val_loss: 0.1636 - val_auc: 0.6381\n",
      "Epoch 52/100\n",
      "6000/6000 - 1s - loss: 0.1286 - auc: 0.7293 - val_loss: 0.1577 - val_auc: 0.6418\n",
      "Epoch 53/100\n",
      "6000/6000 - 1s - loss: 0.1303 - auc: 0.7145 - val_loss: 0.1584 - val_auc: 0.6418\n",
      "Epoch 54/100\n",
      "6000/6000 - 1s - loss: 0.1289 - auc: 0.7266 - val_loss: 0.1599 - val_auc: 0.6448\n",
      "Epoch 55/100\n",
      "6000/6000 - 1s - loss: 0.1295 - auc: 0.7257 - val_loss: 0.1595 - val_auc: 0.6408\n",
      "Epoch 56/100\n",
      "6000/6000 - 1s - loss: 0.1294 - auc: 0.7196 - val_loss: 0.1579 - val_auc: 0.6417\n",
      "Epoch 57/100\n",
      "6000/6000 - 1s - loss: 0.1299 - auc: 0.7161 - val_loss: 0.1594 - val_auc: 0.6393\n",
      "Epoch 58/100\n",
      "6000/6000 - 1s - loss: 0.1292 - auc: 0.7203 - val_loss: 0.1577 - val_auc: 0.6428\n",
      "Epoch 59/100\n",
      "6000/6000 - 1s - loss: 0.1294 - auc: 0.7160 - val_loss: 0.1587 - val_auc: 0.6397\n",
      "Epoch 60/100\n",
      "6000/6000 - 1s - loss: 0.1296 - auc: 0.7181 - val_loss: 0.1587 - val_auc: 0.6380\n",
      "Epoch 61/100\n",
      "6000/6000 - 1s - loss: 0.1290 - auc: 0.7172 - val_loss: 0.1583 - val_auc: 0.6418\n",
      "Epoch 62/100\n",
      "6000/6000 - 1s - loss: 0.1298 - auc: 0.7178 - val_loss: 0.1613 - val_auc: 0.6358\n",
      "Epoch 63/100\n",
      "6000/6000 - 1s - loss: 0.1292 - auc: 0.7241 - val_loss: 0.1602 - val_auc: 0.6383\n",
      "Epoch 64/100\n",
      "6000/6000 - 1s - loss: 0.1296 - auc: 0.7151 - val_loss: 0.1593 - val_auc: 0.6407\n",
      "Epoch 65/100\n",
      "6000/6000 - 1s - loss: 0.1291 - auc: 0.7275 - val_loss: 0.1591 - val_auc: 0.6371\n",
      "Epoch 66/100\n",
      "6000/6000 - 2s - loss: 0.1292 - auc: 0.7180 - val_loss: 0.1602 - val_auc: 0.6405\n",
      "Epoch 67/100\n",
      "6000/6000 - 1s - loss: 0.1301 - auc: 0.7132 - val_loss: 0.1588 - val_auc: 0.6357\n",
      "Epoch 68/100\n",
      "6000/6000 - 2s - loss: 0.1293 - auc: 0.7204 - val_loss: 0.1583 - val_auc: 0.6406\n",
      "Epoch 69/100\n",
      "6000/6000 - 2s - loss: 0.1292 - auc: 0.7237 - val_loss: 0.1632 - val_auc: 0.6301\n",
      "Epoch 70/100\n",
      "6000/6000 - 2s - loss: 0.1293 - auc: 0.7163 - val_loss: 0.1584 - val_auc: 0.6402\n",
      "Epoch 71/100\n",
      "6000/6000 - 2s - loss: 0.1292 - auc: 0.7195 - val_loss: 0.1581 - val_auc: 0.6400\n",
      "Epoch 72/100\n",
      "6000/6000 - 2s - loss: 0.1287 - auc: 0.7206 - val_loss: 0.1577 - val_auc: 0.6427\n",
      "Epoch 73/100\n",
      "6000/6000 - 1s - loss: 0.1291 - auc: 0.7197 - val_loss: 0.1624 - val_auc: 0.6332\n",
      "Epoch 74/100\n",
      "6000/6000 - 1s - loss: 0.1290 - auc: 0.7251 - val_loss: 0.1632 - val_auc: 0.6292\n",
      "Epoch 75/100\n",
      "6000/6000 - 1s - loss: 0.1286 - auc: 0.7296 - val_loss: 0.1581 - val_auc: 0.6387\n",
      "Epoch 76/100\n",
      "6000/6000 - 1s - loss: 0.1287 - auc: 0.7207 - val_loss: 0.1612 - val_auc: 0.6285\n",
      "Epoch 77/100\n",
      "6000/6000 - 1s - loss: 0.1294 - auc: 0.7160 - val_loss: 0.1594 - val_auc: 0.6407\n",
      "Epoch 78/100\n",
      "6000/6000 - 1s - loss: 0.1288 - auc: 0.7194 - val_loss: 0.1597 - val_auc: 0.6387\n",
      "Epoch 79/100\n",
      "6000/6000 - 1s - loss: 0.1295 - auc: 0.7165 - val_loss: 0.1583 - val_auc: 0.6393\n",
      "Epoch 80/100\n",
      "6000/6000 - 1s - loss: 0.1294 - auc: 0.7166 - val_loss: 0.1613 - val_auc: 0.6363\n",
      "Epoch 81/100\n",
      "6000/6000 - 1s - loss: 0.1288 - auc: 0.7258 - val_loss: 0.1617 - val_auc: 0.6385\n",
      "Epoch 82/100\n",
      "6000/6000 - 1s - loss: 0.1299 - auc: 0.7231 - val_loss: 0.1577 - val_auc: 0.6421\n",
      "Epoch 83/100\n",
      "6000/6000 - 1s - loss: 0.1282 - auc: 0.7316 - val_loss: 0.1656 - val_auc: 0.6312\n",
      "Epoch 84/100\n",
      "6000/6000 - 1s - loss: 0.1292 - auc: 0.7204 - val_loss: 0.1581 - val_auc: 0.6429\n",
      "Epoch 85/100\n",
      "6000/6000 - 1s - loss: 0.1291 - auc: 0.7124 - val_loss: 0.1604 - val_auc: 0.6350\n",
      "Epoch 86/100\n",
      "6000/6000 - 1s - loss: 0.1288 - auc: 0.7241 - val_loss: 0.1580 - val_auc: 0.6397\n",
      "Epoch 87/100\n",
      "6000/6000 - 1s - loss: 0.1293 - auc: 0.7188 - val_loss: 0.1587 - val_auc: 0.6417\n"
     ]
    },
    {
     "name": "stdout",
     "output_type": "stream",
     "text": [
      "Epoch 88/100\n",
      "6000/6000 - 1s - loss: 0.1285 - auc: 0.7241 - val_loss: 0.1618 - val_auc: 0.6327\n",
      "Epoch 89/100\n",
      "6000/6000 - 1s - loss: 0.1287 - auc: 0.7285 - val_loss: 0.1595 - val_auc: 0.6399\n",
      "Epoch 90/100\n",
      "6000/6000 - 1s - loss: 0.1290 - auc: 0.7213 - val_loss: 0.1588 - val_auc: 0.6341\n",
      "Epoch 91/100\n",
      "6000/6000 - 1s - loss: 0.1284 - auc: 0.7248 - val_loss: 0.1576 - val_auc: 0.6403\n",
      "Epoch 92/100\n",
      "6000/6000 - 1s - loss: 0.1283 - auc: 0.7237 - val_loss: 0.1615 - val_auc: 0.6335\n",
      "Epoch 93/100\n",
      "6000/6000 - 1s - loss: 0.1294 - auc: 0.7144 - val_loss: 0.1601 - val_auc: 0.6381\n",
      "Epoch 94/100\n",
      "6000/6000 - 1s - loss: 0.1281 - auc: 0.7260 - val_loss: 0.1626 - val_auc: 0.6342\n",
      "Epoch 95/100\n",
      "6000/6000 - 1s - loss: 0.1287 - auc: 0.7223 - val_loss: 0.1577 - val_auc: 0.6387\n",
      "Epoch 96/100\n",
      "6000/6000 - 1s - loss: 0.1293 - auc: 0.7173 - val_loss: 0.1586 - val_auc: 0.6359\n",
      "Epoch 97/100\n",
      "6000/6000 - 1s - loss: 0.1289 - auc: 0.7203 - val_loss: 0.1578 - val_auc: 0.6386\n",
      "Epoch 98/100\n",
      "6000/6000 - 1s - loss: 0.1284 - auc: 0.7183 - val_loss: 0.1635 - val_auc: 0.6304\n",
      "Epoch 99/100\n",
      "6000/6000 - 1s - loss: 0.1284 - auc: 0.7251 - val_loss: 0.1577 - val_auc: 0.6424\n",
      "Epoch 100/100\n",
      "6000/6000 - 1s - loss: 0.1286 - auc: 0.7226 - val_loss: 0.1589 - val_auc: 0.6370\n"
     ]
    }
   ],
   "source": [
    "'''\n",
    "Original Results\n",
    "\n",
    "Train on 6000 samples, validate on 4939 samples\n",
    "Epoch 1/5\n",
    "6000/6000 - 1s - loss: 0.1275 - auc: 0.7448 - val_loss: 0.1622 - val_auc: 0.6355\n",
    "Epoch 2/5\n",
    "6000/6000 - 1s - loss: 0.1274 - auc: 0.7465 - val_loss: 0.1593 - val_auc: 0.6444\n",
    "Epoch 3/5\n",
    "6000/6000 - 1s - loss: 0.1285 - auc: 0.7369 - val_loss: 0.1640 - val_auc: 0.6266\n",
    "Epoch 4/5\n",
    "6000/6000 - 1s - loss: 0.1278 - auc: 0.7370 - val_loss: 0.1620 - val_auc: 0.6323\n",
    "Epoch 5/5\n",
    "6000/6000 - 1s - loss: 0.1274 - auc: 0.7484 - val_loss: 0.1628 - val_auc: 0.6260\n",
    "'''\n",
    "\n",
    "history = model.fit(X_train,y_train,batch_size=100,epochs=100,verbose=2,validation_data=(X_test,y_test))"
   ]
  },
  {
   "cell_type": "code",
   "execution_count": 327,
   "id": "ce2c026b",
   "metadata": {},
   "outputs": [
    {
     "data": {
      "image/png": "[encoded data removed]",
      "text/plain": [
       "<Figure size 432x288 with 1 Axes>"
      ]
     },
     "metadata": {
      "needs_background": "light"
     },
     "output_type": "display_data"
    }
   ],
   "source": [
    "from matplotlib import pyplot as plt\n",
    "metric = 'auc'\n",
    "plt.figure()\n",
    "plt.plot(history.history[metric])\n",
    "plt.plot(history.history['val_'+metric])\n",
    "plt.title('model '+metric)\n",
    "plt.ylabel(metric,fontsize='large')\n",
    "plt.xlabel('epoch',fontsize='large')\n",
    "plt.legend(['train','val'],loc='best')\n",
    "plt.show()"
   ]
  },
  {
   "cell_type": "code",
   "execution_count": 328,
   "id": "847f2d6b",
   "metadata": {},
   "outputs": [],
   "source": [
    "test_pred = model.predict(X_test).ravel()\n",
    "train_pred = model.predict(X_train).ravel()"
   ]
  },
  {
   "cell_type": "code",
   "execution_count": 329,
   "id": "7a7abaef",
   "metadata": {},
   "outputs": [],
   "source": [
    "df['model_prediction'] = np.concatenate([np.zeros(22),train_pred,test_pred,np.zeros(4)],axis=0)"
   ]
  },
  {
   "cell_type": "code",
   "execution_count": 330,
   "id": "ab0d1fab",
   "metadata": {},
   "outputs": [
    {
     "data": {
      "image/png": "[encoded data removed]",
      "text/plain": [
       "<Figure size 576x432 with 1 Axes>"
      ]
     },
     "metadata": {
      "needs_background": "light"
     },
     "output_type": "display_data"
    }
   ],
   "source": [
    "from sklearn.metrics import roc_curve, roc_auc_score\n",
    "fig,axes = plt.subplots(1,1,figsize=[8,6])\n",
    "fpr,tpr,_ = roc_curve(y_test,model.predict(X_test))\n",
    "\n",
    "score = 2*roc_auc_score(y_test,model.predict(X_test))-1\n",
    "axes.plot(fpr,tpr,label=f'test, GINI:{score:0.2f}')\n",
    "\n",
    "fpr,tpr,_ = roc_curve(y_train,model.predict(X_train))\n",
    "score = 2*roc_auc_score(y_train,model.predict(X_train))-1\n",
    "axes.plot(fpr,tpr,label=f'train, GINI:{score:0.2f}')\n",
    "\n",
    "axes.plot(np.arange(0,1,0.01),np.arange(0,1,0.01),ls='--')\n",
    "\n",
    "plt.xlabel('False Positive Rate')\n",
    "plt.ylabel('True Positive Rate')\n",
    "plt.legend()\n",
    "plt.show()"
   ]
  },
  {
   "cell_type": "code",
   "execution_count": 331,
   "id": "69621c13",
   "metadata": {},
   "outputs": [
    {
     "data": {
      "text/plain": [
       "<matplotlib.axes._subplots.AxesSubplot at 0x7fe2626d2390>"
      ]
     },
     "execution_count": 331,
     "metadata": {},
     "output_type": "execute_result"
    },
    {
     "data": {
      "image/png": "[encoded data removed]",
      "text/plain": [
       "<Figure size 1800x432 with 1 Axes>"
      ]
     },
     "metadata": {
      "needs_background": "light"
     },
     "output_type": "display_data"
    }
   ],
   "source": [
    "fig,axes = plt.subplots(1,1,figsize=[25,6])\n",
    "df.set_index('datetime')['model_prediction'][-25:-5].plot(ax=axes)\n",
    "#plt.yscale('log')"
   ]
  },
  {
   "cell_type": "code",
   "execution_count": 333,
   "id": "2e7f1bd2",
   "metadata": {},
   "outputs": [
    {
     "data": {
      "image/png": "[encoded data removed]",
      "text/plain": [
       "<Figure size 432x288 with 1 Axes>"
      ]
     },
     "metadata": {
      "needs_background": "light"
     },
     "output_type": "display_data"
    }
   ],
   "source": [
    "plt.hist(model.predict(X_train),bins=100)\n",
    "plt.show()"
   ]
  },
  {
   "cell_type": "code",
   "execution_count": null,
   "id": "966c5bd3",
   "metadata": {},
   "outputs": [],
   "source": []
  }
 ],
 "metadata": {
  "kernelspec": {
   "display_name": "Python 3 (ipykernel)",
   "language": "python",
   "name": "python3"
  },
  "language_info": {
   "codemirror_mode": {
    "name": "ipython",
    "version": 3
   },
   "file_extension": ".py",
   "mimetype": "text/x-python",
   "name": "python",
   "nbconvert_exporter": "python",
   "pygments_lexer": "ipython3",
   "version": "3.7.13"
  }
 },
 "nbformat": 4,
 "nbformat_minor": 5
}
