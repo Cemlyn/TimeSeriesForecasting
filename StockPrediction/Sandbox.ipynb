{
 "cells": [
  {
   "cell_type": "code",
   "execution_count": 199,
   "id": "04e1b893",
   "metadata": {},
   "outputs": [
    {
     "name": "stdout",
     "output_type": "stream",
     "text": [
      "410.0\n",
      "15.000000000000163\n",
      "0.5793242521487495\n",
      "410.0\n",
      "14.999999999999925\n",
      "0.5768852611320463\n",
      "411.25\n",
      "23.99999999999987\n",
      "0.5781052328843092\n",
      "413.75\n",
      "-54.54545454545413\n",
      "0.5768852611320463\n",
      "911.25\n",
      "0.3002485376760993\n",
      "0.9097018552970803\n"
     ]
    }
   ],
   "source": [
    "import uuid\n",
    "from datetime import datetime\n",
    "from typing import Callable\n",
    "\n",
    "\n",
    "class DataStoreException(Exception):\n",
    "    pass\n",
    "\n",
    "\n",
    "class DataStore:\n",
    "    def __init__(self,\n",
    "                 name=(uuid.uuid4()),\n",
    "                 cold_start=True,\n",
    "                 padding=True,\n",
    "                 differential=300,\n",
    "                 indicators=list()):\n",
    "        self._name = name\n",
    "        self._init_time = datetime.today().strftime('%Y-%m-%d %H:%m:%S')\n",
    "        self._cold_start = cold_start\n",
    "        self._indicators = indicators\n",
    "        self._data = list()\n",
    "        self._differential = differential\n",
    "        self._counter = 0\n",
    "    \n",
    "    def add_datum(self,datum):\n",
    "        # check correct object type\n",
    "        if not isinstance(datum,dict):\n",
    "            raise DataStoreException('datum must be a python dictionary type object')\n",
    "            \n",
    "        # check it has the correct keys\n",
    "        if 'timestamp' not in datum:\n",
    "            raise DataStoreException('timestamp key must be provided in datum')\n",
    "            \n",
    "        if len(self._data)==0:\n",
    "            self._data.append(datum)\n",
    "            self._data_df = pd.DataFrame(datum,index=[self._counter])\n",
    "            self._counter+=1\n",
    "        else:\n",
    "            # check the time differential between data points\n",
    "            differential = datum['timestamp'] - self._data[-1]['timestamp']\n",
    "            if differential!=self._differential:\n",
    "                raise DataStoreException(f'differential of {differential} did not match the stated differential.')\n",
    "                \n",
    "            self._data.append(datum)\n",
    "            \n",
    "            data_df = pd.DataFrame(datum,index=[self._counter])\n",
    "            self._data_df = pd.concat([self._data_df,data_df],axis=0)\n",
    "            self._counter+=1\n",
    "            \n",
    "            self.calc_indicators()\n",
    "            \n",
    "    def calc_indicators(self):\n",
    "        for indicator in self._indicators:\n",
    "            if isinstance(indicator, Callable):\n",
    "                print(indicator(self._data_df))\n",
    "            else:\n",
    "                print('fail')\n",
    "\n",
    "def mean_l4(x):\n",
    "    return np.mean(x['close'][-4:])\n",
    "\n",
    "def trend_l4(x):\n",
    "    X = x['close'][-4:]\n",
    "    Y = x['timestamp'][-4:]\n",
    "    return np.polyfit(X,Y,1)[0]\n",
    "\n",
    "import math\n",
    "\n",
    "def logit(x):\n",
    "    return 1/(1+math.exp(-0.001*x+0.1))\n",
    "\n",
    "def model_prob(x):\n",
    "    #print(x['close'].shape)\n",
    "    return logit(x['close'][-1:])\n",
    "                \n",
    "a = DataStore(cold_start='hello',indicators=[mean_l4,trend_l4])\n",
    "\n",
    "\n",
    "if __name__=='__main__':\n",
    "    \n",
    "    def mean_l4(x):\n",
    "        return np.mean(x['close'][-4:])\n",
    "\n",
    "    def trend_l4(x):\n",
    "        X = x['close'][-4:]\n",
    "        Y = x['timestamp'][-4:]\n",
    "        return np.polyfit(X,Y,1)[0]\n",
    "\n",
    "    a = DataStore(cold_start='hello',indicators=[mean_l4,trend_l4,model_prob])\n",
    "\n",
    "    a.add_datum({'timestamp':300,'close':400})\n",
    "    \n",
    "    a.add_datum({'timestamp':600,'close':420})\n",
    "    \n",
    "    a.add_datum({'timestamp':900,'close':410})\n",
    "    \n",
    "    a.add_datum({'timestamp':1200,'close':415})\n",
    "    \n",
    "    a.add_datum({'timestamp':1500,'close':410})\n",
    "    \n",
    "    a.add_datum({'timestamp':1800,'close':2410})"
   ]
  },
  {
   "cell_type": "code",
   "execution_count": 184,
   "id": "d79a32d2",
   "metadata": {},
   "outputs": [
    {
     "data": {
      "text/plain": [
       "400"
      ]
     },
     "execution_count": 184,
     "metadata": {},
     "output_type": "execute_result"
    }
   ],
   "source": [
    "a._data_df['close'][-1:][0]"
   ]
  },
  {
   "cell_type": "code",
   "execution_count": 185,
   "id": "d8f235ca",
   "metadata": {},
   "outputs": [
    {
     "data": {
      "text/plain": [
       "1.2345"
      ]
     },
     "execution_count": 185,
     "metadata": {},
     "output_type": "execute_result"
    }
   ],
   "source": [
    "np.array([1.2345])[-1]"
   ]
  },
  {
   "cell_type": "code",
   "execution_count": 162,
   "id": "905958b1",
   "metadata": {},
   "outputs": [
    {
     "ename": "IndexError",
     "evalue": "index -1 is out of bounds for axis 0 with size 0",
     "output_type": "error",
     "traceback": [
      "\u001b[1;31m---------------------------------------------------------------------------\u001b[0m",
      "\u001b[1;31mIndexError\u001b[0m                                Traceback (most recent call last)",
      "\u001b[1;32m~\\AppData\\Local\\Temp/ipykernel_17232/3365932197.py\u001b[0m in \u001b[0;36m<module>\u001b[1;34m\u001b[0m\n\u001b[1;32m----> 1\u001b[1;33m \u001b[0mnp\u001b[0m\u001b[1;33m.\u001b[0m\u001b[0marray\u001b[0m\u001b[1;33m(\u001b[0m\u001b[1;33m[\u001b[0m\u001b[1;33m]\u001b[0m\u001b[1;33m)\u001b[0m\u001b[1;33m[\u001b[0m\u001b[1;33m-\u001b[0m\u001b[1;36m1\u001b[0m\u001b[1;33m]\u001b[0m\u001b[1;33m\u001b[0m\u001b[1;33m\u001b[0m\u001b[0m\n\u001b[0m",
      "\u001b[1;31mIndexError\u001b[0m: index -1 is out of bounds for axis 0 with size 0"
     ]
    }
   ],
   "source": [
    "np.array([])[-1]"
   ]
  },
  {
   "cell_type": "code",
   "execution_count": 147,
   "id": "953971ff",
   "metadata": {},
   "outputs": [
    {
     "name": "stdout",
     "output_type": "stream",
     "text": [
      "412.5\n",
      "27.27272727272728\n"
     ]
    }
   ],
   "source": [
    "a.add_datum({'timestamp':1200,'close':420})"
   ]
  },
  {
   "cell_type": "code",
   "execution_count": 148,
   "id": "6267ee7e",
   "metadata": {},
   "outputs": [
    {
     "name": "stdout",
     "output_type": "stream",
     "text": [
      "415.0\n",
      "-30.000000000000192\n"
     ]
    }
   ],
   "source": [
    " a.add_datum({'timestamp':1500,'close':410})"
   ]
  },
  {
   "cell_type": "code",
   "execution_count": 149,
   "id": "cdd2e65c",
   "metadata": {},
   "outputs": [
    {
     "name": "stdout",
     "output_type": "stream",
     "text": [
      "417.25\n",
      "28.115653040877365\n"
     ]
    }
   ],
   "source": [
    "a.add_datum({'timestamp':1800,'close':429})"
   ]
  },
  {
   "cell_type": "code",
   "execution_count": 150,
   "id": "ef9fa8a9",
   "metadata": {},
   "outputs": [
    {
     "name": "stdout",
     "output_type": "stream",
     "text": [
      "424.5\n",
      "24.728850325379558\n"
     ]
    }
   ],
   "source": [
    "a.add_datum({'timestamp':2100,'close':439})"
   ]
  },
  {
   "cell_type": "code",
   "execution_count": 151,
   "id": "a916cac9",
   "metadata": {},
   "outputs": [
    {
     "data": {
      "text/plain": [
       "[{'timestamp': 300, 'close': 400},\n",
       " {'timestamp': 600, 'close': 420},\n",
       " {'timestamp': 900, 'close': 410},\n",
       " {'timestamp': 1200, 'close': 420},\n",
       " {'timestamp': 1500, 'close': 410},\n",
       " {'timestamp': 1800, 'close': 429},\n",
       " {'timestamp': 2100, 'close': 439}]"
      ]
     },
     "execution_count": 151,
     "metadata": {},
     "output_type": "execute_result"
    }
   ],
   "source": [
    "a._data"
   ]
  },
  {
   "cell_type": "code",
   "execution_count": 1,
   "id": "d1dd77ce",
   "metadata": {},
   "outputs": [],
   "source": [
    "import pandas as pd\n",
    "import numpy as np\n",
    "import pickle\n",
    "import time\n",
    "import math\n",
    "from matplotlib import pyplot as plt\n",
    "import sys\n",
    "\n",
    "import warnings\n",
    "warnings.simplefilter('ignore', np.RankWarning)\n",
    "\n",
    "'''\n",
    "dataset which accepts data points through time. Has two modes:\n",
    "- irregular:\n",
    "    - stores random datapoints through time.\n",
    "    - doesn't perform any checks, just stores the data in it's raw form\n",
    "- regular:\n",
    "    - stores the data through time\n",
    "    - checks its regular, checks for any missing datapoints\n",
    "    - interpolates missing data points, if missing\n",
    "    - calculates indicators like RSI, gradients of varying order, etc....\n",
    "    - can splice in an irregular dataset into a regular one?\n",
    "'''\n",
    "\n",
    "class DataStoreException(Exception):\n",
    "    pass\n",
    "\n",
    "\n",
    "class DataStore:\n",
    "    ''' Class which iteratively stores data points, calculating statistical indicators as it goes along.'''\n",
    "\n",
    "    def __init__(self,\n",
    "                name:str,\n",
    "                cold_start: bool=True,\n",
    "                is_regular: bool=True, \n",
    "                indicators: list=['rolling_mean_30','rolling_median_30','calc_trend_30','calc_acceleration_30']):\n",
    "\n",
    "        self._name = name\n",
    "        self.init_time = time.time()\n",
    "        self._unique_id = f'{name}_{self.init_time}'\n",
    "\n",
    "        self._data = pd.DataFrame()\n",
    "        self.is_regular = is_regular\n",
    "\n",
    "        # Indicators is a list contain all the indicators which will be calculated on the go as each data point is added\n",
    "        self._indicators = indicators\n",
    "\n",
    "        #self.mlp = joblib.load('/home/cemlyn/Documents/BinanceBot/app/data/models/mlp_model.bz2')\n",
    "        self.mlp_covars = list()\n",
    "    \n",
    "    def add_datum(self,datum:pd.DataFrame):\n",
    "        ''' Add new data from the websocket feed to here - Note that data points are only added when the kline is closed. '''\n",
    "        # Append new data points\n",
    "        self._data = pd.concat([self._data,datum],axis=0)\n",
    "\n",
    "        if not self.check_is_regular():\n",
    "            pass\n",
    "        \n",
    "        self.calc_indicators(*self._indicators)\n",
    "\n",
    "\n",
    "    def insert_datum(self,datum:pd.DataFrame):\n",
    "        self._data = self._data.combine_first(datum)\n",
    "\n",
    "\n",
    "    def check_is_regular(self):\n",
    "        ''' Checks the close times series to see if time intervals are regular. '''\n",
    "        close_times = self._data.reset_index()[['close-time']].copy()\n",
    "\n",
    "        if len(close_times)<2:\n",
    "            return True\n",
    "\n",
    "        close_times.loc[:,'close-time-diff'] = close_times['close-time'].diff()\n",
    "\n",
    "        if (close_times['close-time-diff'].dropna().nunique())>1:\n",
    "            return False\n",
    "        else:\n",
    "            return True\n",
    "    \n",
    "\n",
    "    def calc_indicators(self,*args):\n",
    "        for arg in args:\n",
    "            func = getattr(DataStore,arg)\n",
    "            self.calc_indicator(func)\n",
    "\n",
    "\n",
    "    def calc_indicator(self,func):\n",
    "        ''' Calculates values for the indicator. '''\n",
    "        indicator_name = func.__name__\n",
    "        indicator_value = func(self._data['close-price'])\n",
    "\n",
    "        if indicator_name not in self._data:\n",
    "            self._data.loc[:,indicator_name] = indicator_value\n",
    "        else:\n",
    "            indicator_index_value = self._data.columns.tolist().index(indicator_name)\n",
    "            self._data.iloc[-1,indicator_index_value] = indicator_value\n",
    "\n",
    "\n",
    "\n",
    "    @staticmethod\n",
    "    def rolling_mean_30(series):\n",
    "        return np.mean(series.iloc[-30:])\n",
    "\n",
    "    @staticmethod\n",
    "    def rolling_median_30(series):\n",
    "        return np.median(series.iloc[-30:])\n",
    "\n",
    "    @staticmethod\n",
    "    def calc_trend_30(series):\n",
    "        x = series.iloc[-30:].index.astype(float).values\n",
    "        y = series.iloc[-30:].astype(float).values\n",
    "        \n",
    "        if len(series)>3:\n",
    "            grad = np.polyfit(x,y,1,full=False)[0]\n",
    "        else:\n",
    "            grad = np.nan\n",
    "        return grad\n",
    "\n",
    "    @staticmethod\n",
    "    def calc_trend(series):\n",
    "        x = series.dropna().index.astype(float).values\n",
    "        y = series.dropna().astype(float).values\n",
    "        if len(y)>3:\n",
    "            grad = np.polyfit(x,y,1,full=False)[0]\n",
    "        else:\n",
    "            grad = np.nan\n",
    "        return grad\n",
    "\n",
    "    @staticmethod\n",
    "    def calc_acceleration_30(series):\n",
    "        first_order = series.iloc[-60:].rolling(30).apply(lambda x: DataStore.calc_trend(x))\n",
    "        first_order = first_order.iloc[-30:]\n",
    "        return DataStore.calc_trend(first_order)\n",
    "\n",
    "# if __name__ == \"__main__\":\n",
    "    \n",
    "#     store = DataStore(name=\"Test\")\n",
    "\n",
    "#     df = pd.read_csv('bot.csv',index_col=0)\n",
    "\n",
    "#     for n,row in enumerate(df.iterrows()):\n",
    "#         store.add_datum(row[1].to_frame().T)\n",
    "\n",
    "#     store._data.to_csv('cvb.csv')"
   ]
  },
  {
   "cell_type": "code",
   "execution_count": null,
   "id": "c32a61d2",
   "metadata": {},
   "outputs": [],
   "source": []
  },
  {
   "cell_type": "code",
   "execution_count": null,
   "id": "678bf5df",
   "metadata": {},
   "outputs": [],
   "source": []
  }
 ],
 "metadata": {
  "kernelspec": {
   "display_name": "Python 3 (ipykernel)",
   "language": "python",
   "name": "python3"
  },
  "language_info": {
   "codemirror_mode": {
    "name": "ipython",
    "version": 3
   },
   "file_extension": ".py",
   "mimetype": "text/x-python",
   "name": "python",
   "nbconvert_exporter": "python",
   "pygments_lexer": "ipython3",
   "version": "3.9.7"
  }
 },
 "nbformat": 4,
 "nbformat_minor": 5
}
