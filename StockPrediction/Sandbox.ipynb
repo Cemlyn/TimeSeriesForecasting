{
 "cells": [
  {
   "cell_type": "code",
   "execution_count": 208,
   "id": "ae9ea97a",
   "metadata": {},
   "outputs": [
    {
     "name": "stderr",
     "output_type": "stream",
     "text": [
      "100%|████████████████████████████████████████████████████████████████████████████████| 599/599 [00:20<00:00, 29.40it/s]\n"
     ]
    }
   ],
   "source": [
    "import uuid\n",
    "from datetime import datetime\n",
    "from typing import Callable\n",
    "import pandas as pd\n",
    "import numpy as np\n",
    "import random\n",
    "import tensorflow as tf\n",
    "from tensorflow import keras\n",
    "import tqdm\n",
    "import warnings\n",
    "\n",
    "\n",
    "class DataStoreException(Exception):\n",
    "    pass\n",
    "\n",
    "class DataStoreWarning(Exception):\n",
    "    pass\n",
    "\n",
    "\n",
    "class DataStore:\n",
    "    def __init__(self,\n",
    "                 name=(uuid.uuid4()),\n",
    "                 cold_start=True,\n",
    "                 padding=True,\n",
    "                 differential=300,\n",
    "                 indicators=list()):\n",
    "        self._name = name\n",
    "        self._init_time = datetime.today().strftime('%Y-%m-%d %H:%m:%S')\n",
    "        self._cold_start = cold_start\n",
    "        self._indicators = indicators\n",
    "        self._data = list()\n",
    "        self._differential = differential\n",
    "        self._counter = 0\n",
    "        self._indicator_values = dict()\n",
    "    \n",
    "    def add_datum(self,datum):\n",
    "        # check correct object type\n",
    "        if not isinstance(datum,dict):\n",
    "            raise DataStoreException('datum must be a python dictionary type object')\n",
    "            #print('uhh oohhhhh!!!')\n",
    "            \n",
    "        # check it has the correct keys\n",
    "        if 'timestamp' not in datum:\n",
    "            raise DataStoreException('timestamp key must be provided in datum')\n",
    "            \n",
    "        if len(self._data)==0:\n",
    "            self._data.append(datum)\n",
    "            self._data_df = pd.DataFrame(datum,index=[self._counter])\n",
    "            self._counter+=1\n",
    "        else:\n",
    "            # check the time differential between data points\n",
    "            differential = datum['timestamp'] - self._data[-1]['timestamp']\n",
    "            if differential!=self._differential:\n",
    "                #raise DataStoreException(f'differential of {differential} did not match the stated differential.')\n",
    "                print('uhh oohhhhh!!!')\n",
    "                \n",
    "            self._data.append(datum)\n",
    "            \n",
    "            data_df = pd.DataFrame(datum,index=[self._counter])\n",
    "            self._data_df = pd.concat([self._data_df,data_df],axis=0)\n",
    "            \n",
    "            self.calc_indicators()\n",
    "            self._counter+=1\n",
    "            \n",
    "    def add_data_item(self,data_item,data_item_name):\n",
    "        last_index = self._data_df.index[-1]\n",
    "        self._data_df.loc[last_index,data_item_name] = data_item\n",
    "            \n",
    "    def calc_indicators(self):\n",
    "        for indicator in self._indicators:\n",
    "            if isinstance(indicator, Callable):\n",
    "                indicator_value = indicator(self._data_df)\n",
    "                self._data_df.loc[self._counter,indicator.__name__] = indicator_value\n",
    "                self._indicator_values[indicator.__name__] = indicator_value\n",
    "\n",
    "def mean_l4(x):\n",
    "    return np.mean(x['close'][-4:])\n",
    "\n",
    "def trend_l4(x):\n",
    "    print(len(x))\n",
    "    if len(x)<=3:\n",
    "        return 0\n",
    "    else:\n",
    "        X = x['close'][-4:]\n",
    "        Y = x['timestamp'][-4:]\n",
    "        return np.polyfit(X,Y,1)[0]\n",
    "\n",
    "import math\n",
    "\n",
    "def logit(x):\n",
    "    return 1/(1+math.exp(-0.001*x+0.1))\n",
    "\n",
    "def model_prob(x):\n",
    "    #print(x['close'].shape)\n",
    "    return logit(x['close'][-1:])\n",
    "\n",
    "\n",
    "if __name__=='__main__':\n",
    "    # Just checking that the code actually works\n",
    "    model = keras.models.load_model('C:\\\\Users\\\\cemly\\\\Documents\\\\TimeSeriesForecasting\\\\StockPrediction\\\\cnn_model')\n",
    "    \n",
    "    def cnn_predict(x):\n",
    "        if len(x)>21:\n",
    "            X = x[['volume','close','open','high','low']][-21:].values.reshape(1,21,5)\n",
    "            #print(X)\n",
    "            return model.predict(X,verbose=0).item(0)\n",
    "        else:\n",
    "            return np.nan\n",
    "\n",
    "    a = DataStore(cold_start=True,indicators=[mean_l4,model_prob,cnn_predict])\n",
    "    \n",
    "    start = 400\n",
    "    for i in tqdm.tqdm(range(1,600)):\n",
    "        if i==1:\n",
    "            a.add_datum({'timestamp':i*300,'close':start,'high':start,'low':start,'open':start,'volume':start})\n",
    "        else:\n",
    "            start = start+random.randint(-10,10)\n",
    "            a.add_datum({'timestamp':i*300,'close':start,'high':start,'low':start,'open':start,'volume':start})\n",
    "            \n",
    "            if (i%3==0):\n",
    "                a.add_data_item(i,'test_col')"
   ]
  },
  {
   "cell_type": "code",
   "execution_count": 209,
   "id": "49aba6d9",
   "metadata": {},
   "outputs": [
    {
     "data": {
      "text/html": [
       "<div>\n",
       "<style scoped>\n",
       "    .dataframe tbody tr th:only-of-type {\n",
       "        vertical-align: middle;\n",
       "    }\n",
       "\n",
       "    .dataframe tbody tr th {\n",
       "        vertical-align: top;\n",
       "    }\n",
       "\n",
       "    .dataframe thead th {\n",
       "        text-align: right;\n",
       "    }\n",
       "</style>\n",
       "<table border=\"1\" class=\"dataframe\">\n",
       "  <thead>\n",
       "    <tr style=\"text-align: right;\">\n",
       "      <th></th>\n",
       "      <th>timestamp</th>\n",
       "      <th>close</th>\n",
       "      <th>high</th>\n",
       "      <th>low</th>\n",
       "      <th>open</th>\n",
       "      <th>volume</th>\n",
       "      <th>mean_l4</th>\n",
       "      <th>model_prob</th>\n",
       "      <th>cnn_predict</th>\n",
       "      <th>test_col</th>\n",
       "    </tr>\n",
       "  </thead>\n",
       "  <tbody>\n",
       "    <tr>\n",
       "      <th>0</th>\n",
       "      <td>300</td>\n",
       "      <td>400</td>\n",
       "      <td>400</td>\n",
       "      <td>400</td>\n",
       "      <td>400</td>\n",
       "      <td>400</td>\n",
       "      <td>NaN</td>\n",
       "      <td>NaN</td>\n",
       "      <td>NaN</td>\n",
       "      <td>NaN</td>\n",
       "    </tr>\n",
       "    <tr>\n",
       "      <th>1</th>\n",
       "      <td>600</td>\n",
       "      <td>399</td>\n",
       "      <td>399</td>\n",
       "      <td>399</td>\n",
       "      <td>399</td>\n",
       "      <td>399</td>\n",
       "      <td>399.500000</td>\n",
       "      <td>0.574198</td>\n",
       "      <td>NaN</td>\n",
       "      <td>NaN</td>\n",
       "    </tr>\n",
       "    <tr>\n",
       "      <th>2</th>\n",
       "      <td>900</td>\n",
       "      <td>397</td>\n",
       "      <td>397</td>\n",
       "      <td>397</td>\n",
       "      <td>397</td>\n",
       "      <td>397</td>\n",
       "      <td>398.666667</td>\n",
       "      <td>0.573709</td>\n",
       "      <td>NaN</td>\n",
       "      <td>3.0</td>\n",
       "    </tr>\n",
       "    <tr>\n",
       "      <th>3</th>\n",
       "      <td>1200</td>\n",
       "      <td>392</td>\n",
       "      <td>392</td>\n",
       "      <td>392</td>\n",
       "      <td>392</td>\n",
       "      <td>392</td>\n",
       "      <td>397.000000</td>\n",
       "      <td>0.572486</td>\n",
       "      <td>NaN</td>\n",
       "      <td>NaN</td>\n",
       "    </tr>\n",
       "    <tr>\n",
       "      <th>4</th>\n",
       "      <td>1500</td>\n",
       "      <td>394</td>\n",
       "      <td>394</td>\n",
       "      <td>394</td>\n",
       "      <td>394</td>\n",
       "      <td>394</td>\n",
       "      <td>395.500000</td>\n",
       "      <td>0.572975</td>\n",
       "      <td>NaN</td>\n",
       "      <td>NaN</td>\n",
       "    </tr>\n",
       "    <tr>\n",
       "      <th>...</th>\n",
       "      <td>...</td>\n",
       "      <td>...</td>\n",
       "      <td>...</td>\n",
       "      <td>...</td>\n",
       "      <td>...</td>\n",
       "      <td>...</td>\n",
       "      <td>...</td>\n",
       "      <td>...</td>\n",
       "      <td>...</td>\n",
       "      <td>...</td>\n",
       "    </tr>\n",
       "    <tr>\n",
       "      <th>594</th>\n",
       "      <td>178500</td>\n",
       "      <td>356</td>\n",
       "      <td>356</td>\n",
       "      <td>356</td>\n",
       "      <td>356</td>\n",
       "      <td>356</td>\n",
       "      <td>351.000000</td>\n",
       "      <td>0.563653</td>\n",
       "      <td>0.913296</td>\n",
       "      <td>NaN</td>\n",
       "    </tr>\n",
       "    <tr>\n",
       "      <th>595</th>\n",
       "      <td>178800</td>\n",
       "      <td>354</td>\n",
       "      <td>354</td>\n",
       "      <td>354</td>\n",
       "      <td>354</td>\n",
       "      <td>354</td>\n",
       "      <td>351.000000</td>\n",
       "      <td>0.563161</td>\n",
       "      <td>0.913296</td>\n",
       "      <td>NaN</td>\n",
       "    </tr>\n",
       "    <tr>\n",
       "      <th>596</th>\n",
       "      <td>179100</td>\n",
       "      <td>358</td>\n",
       "      <td>358</td>\n",
       "      <td>358</td>\n",
       "      <td>358</td>\n",
       "      <td>358</td>\n",
       "      <td>353.750000</td>\n",
       "      <td>0.564145</td>\n",
       "      <td>0.913296</td>\n",
       "      <td>597.0</td>\n",
       "    </tr>\n",
       "    <tr>\n",
       "      <th>597</th>\n",
       "      <td>179400</td>\n",
       "      <td>366</td>\n",
       "      <td>366</td>\n",
       "      <td>366</td>\n",
       "      <td>366</td>\n",
       "      <td>366</td>\n",
       "      <td>358.500000</td>\n",
       "      <td>0.566111</td>\n",
       "      <td>0.913296</td>\n",
       "      <td>NaN</td>\n",
       "    </tr>\n",
       "    <tr>\n",
       "      <th>598</th>\n",
       "      <td>179700</td>\n",
       "      <td>358</td>\n",
       "      <td>358</td>\n",
       "      <td>358</td>\n",
       "      <td>358</td>\n",
       "      <td>358</td>\n",
       "      <td>359.000000</td>\n",
       "      <td>0.564145</td>\n",
       "      <td>0.913296</td>\n",
       "      <td>NaN</td>\n",
       "    </tr>\n",
       "  </tbody>\n",
       "</table>\n",
       "<p>599 rows × 10 columns</p>\n",
       "</div>"
      ],
      "text/plain": [
       "     timestamp  close  high  low  open  volume     mean_l4  model_prob  \\\n",
       "0          300    400   400  400   400     400         NaN         NaN   \n",
       "1          600    399   399  399   399     399  399.500000    0.574198   \n",
       "2          900    397   397  397   397     397  398.666667    0.573709   \n",
       "3         1200    392   392  392   392     392  397.000000    0.572486   \n",
       "4         1500    394   394  394   394     394  395.500000    0.572975   \n",
       "..         ...    ...   ...  ...   ...     ...         ...         ...   \n",
       "594     178500    356   356  356   356     356  351.000000    0.563653   \n",
       "595     178800    354   354  354   354     354  351.000000    0.563161   \n",
       "596     179100    358   358  358   358     358  353.750000    0.564145   \n",
       "597     179400    366   366  366   366     366  358.500000    0.566111   \n",
       "598     179700    358   358  358   358     358  359.000000    0.564145   \n",
       "\n",
       "     cnn_predict  test_col  \n",
       "0            NaN       NaN  \n",
       "1            NaN       NaN  \n",
       "2            NaN       3.0  \n",
       "3            NaN       NaN  \n",
       "4            NaN       NaN  \n",
       "..           ...       ...  \n",
       "594     0.913296       NaN  \n",
       "595     0.913296       NaN  \n",
       "596     0.913296     597.0  \n",
       "597     0.913296       NaN  \n",
       "598     0.913296       NaN  \n",
       "\n",
       "[599 rows x 10 columns]"
      ]
     },
     "execution_count": 209,
     "metadata": {},
     "output_type": "execute_result"
    }
   ],
   "source": [
    "a._data_df"
   ]
  },
  {
   "cell_type": "markdown",
   "id": "c835b795",
   "metadata": {},
   "source": [
    "Tasks:\n",
    "- Datastorer is done\n",
    "- code bot:\n",
    "    - pass data to the datastorer\n",
    "    - inspect the data stored and make decision whether to buy\n",
    "    - keep track of buy state and decide when to sell? Or just hold for 6 intervals?"
   ]
  },
  {
   "cell_type": "code",
   "execution_count": 210,
   "id": "f8094fac",
   "metadata": {},
   "outputs": [],
   "source": [
    "model = keras.models.load_model('C:\\\\Users\\\\cemly\\\\Documents\\\\TimeSeriesForecasting\\\\StockPrediction\\\\cnn_model')\n",
    "\n",
    "def cnn_predict(x):\n",
    "    if len(x)>21:\n",
    "        X = x[['volume','close','open','high','low']][-21:]\n",
    "        X = X/X.iloc[-1]\n",
    "        X = X.values.reshape(1,21,5)\n",
    "        return model.predict(X,verbose=0).item(0)\n",
    "    else:\n",
    "        return np.nan\n",
    "\n",
    "class TradingBot:\n",
    "    def __init__(self,backtest=True):\n",
    "        self._datastorer = DataStore(cold_start=True,indicators=[cnn_predict])\n",
    "        self._backtest = backtest\n",
    "        \n",
    "        # stuff to remember\n",
    "        self._current_close = np.nan\n",
    "        self._bought = False\n",
    "        self._bought_price = np.nan\n",
    "        \n",
    "    def input_stream(self,datum):\n",
    "        assert 'timestamp' in datum\n",
    "        assert 'close' in datum\n",
    "        assert isinstance(datum,dict)\n",
    "        self._datastorer.add_datum(datum)\n",
    "        self.check_status()\n",
    "        \n",
    "        self._current_close = datum['close']\n",
    "        \n",
    "    def run_backtest(self,data=None):\n",
    "        assert isinstance(data,pd.DataFrame)\n",
    "        rows = len(data)\n",
    "        for row in range(rows):\n",
    "            datum = df.iloc[i].to_dict()\n",
    "            self.input_stream(datum)\n",
    "    \n",
    "    def check_status(self):\n",
    "        if self._bought is True:\n",
    "            #check whether to sell\n",
    "            should_sell,outcome = self.do_i_sell()\n",
    "            if should_sell is True:\n",
    "                self.sell(outcome)\n",
    "        else:\n",
    "            # check if criteria are met to buy\n",
    "            should_buy = self.do_i_buy()\n",
    "            if should_buy is True:\n",
    "                self.buy()\n",
    "    \n",
    "    def buy(self):\n",
    "        if not self._backtest:\n",
    "            # use client to purchase and wait for response\n",
    "            # if purchase successful then add to the datastorer\n",
    "            pass\n",
    "        \n",
    "        # Record that we bought\n",
    "        self._datastorer.add_data_item(True,'buy')\n",
    "        self._bought = True\n",
    "        # Can probably base this on the input stream rather than reading from the datastore\n",
    "        self._bought_price = self._current_close\n",
    "            \n",
    "    def sell(self,outcome):\n",
    "        if not self._backtest:\n",
    "            pass\n",
    "        \n",
    "        self._datastorer.add_data_item(True,'sell')\n",
    "        self._datastorer.add_data_item(outcome,'outcome')\n",
    "        self._bought_price = np.nan\n",
    "        \n",
    "    \n",
    "    def do_i_buy(self):\n",
    "        if 'cnn_predict' in self._datastorer._indicator_values:\n",
    "            if self._datastorer._indicator_values['cnn_predict']>0.03:\n",
    "                return True\n",
    "        else:\n",
    "            return False\n",
    "    \n",
    "    def do_i_sell(self):\n",
    "        outcome = self._current_close/self._bought_price\n",
    "        if outcome>1.001:\n",
    "            return True,outcome\n",
    "        elif outcome<0.999:\n",
    "            return True,outcome\n",
    "        else:\n",
    "            return False,None"
   ]
  },
  {
   "cell_type": "code",
   "execution_count": 211,
   "id": "8edda76e",
   "metadata": {},
   "outputs": [
    {
     "data": {
      "text/html": [
       "<div>\n",
       "<style scoped>\n",
       "    .dataframe tbody tr th:only-of-type {\n",
       "        vertical-align: middle;\n",
       "    }\n",
       "\n",
       "    .dataframe tbody tr th {\n",
       "        vertical-align: top;\n",
       "    }\n",
       "\n",
       "    .dataframe thead th {\n",
       "        text-align: right;\n",
       "    }\n",
       "</style>\n",
       "<table border=\"1\" class=\"dataframe\">\n",
       "  <thead>\n",
       "    <tr style=\"text-align: right;\">\n",
       "      <th></th>\n",
       "      <th>datetime</th>\n",
       "      <th>volume</th>\n",
       "      <th>volume_weighted</th>\n",
       "      <th>open</th>\n",
       "      <th>close</th>\n",
       "      <th>high</th>\n",
       "      <th>low</th>\n",
       "      <th>timestamp</th>\n",
       "      <th>no_transactions</th>\n",
       "    </tr>\n",
       "  </thead>\n",
       "  <tbody>\n",
       "    <tr>\n",
       "      <th>0</th>\n",
       "      <td>2022-01-03 09:00:00</td>\n",
       "      <td>9426.0</td>\n",
       "      <td>476.6581</td>\n",
       "      <td>476.38</td>\n",
       "      <td>476.56</td>\n",
       "      <td>476.92</td>\n",
       "      <td>476.38</td>\n",
       "      <td>1641200400</td>\n",
       "      <td>115</td>\n",
       "    </tr>\n",
       "    <tr>\n",
       "      <th>1</th>\n",
       "      <td>2022-01-03 09:05:00</td>\n",
       "      <td>1778.0</td>\n",
       "      <td>476.4585</td>\n",
       "      <td>476.48</td>\n",
       "      <td>476.44</td>\n",
       "      <td>476.49</td>\n",
       "      <td>476.44</td>\n",
       "      <td>1641200700</td>\n",
       "      <td>37</td>\n",
       "    </tr>\n",
       "    <tr>\n",
       "      <th>2</th>\n",
       "      <td>2022-01-03 09:10:00</td>\n",
       "      <td>9767.0</td>\n",
       "      <td>476.7624</td>\n",
       "      <td>476.62</td>\n",
       "      <td>476.83</td>\n",
       "      <td>476.87</td>\n",
       "      <td>476.58</td>\n",
       "      <td>1641201000</td>\n",
       "      <td>80</td>\n",
       "    </tr>\n",
       "    <tr>\n",
       "      <th>3</th>\n",
       "      <td>2022-01-03 09:15:00</td>\n",
       "      <td>1743.0</td>\n",
       "      <td>476.7269</td>\n",
       "      <td>476.84</td>\n",
       "      <td>476.53</td>\n",
       "      <td>476.84</td>\n",
       "      <td>476.53</td>\n",
       "      <td>1641201300</td>\n",
       "      <td>44</td>\n",
       "    </tr>\n",
       "    <tr>\n",
       "      <th>4</th>\n",
       "      <td>2022-01-03 09:20:00</td>\n",
       "      <td>1037.0</td>\n",
       "      <td>476.7011</td>\n",
       "      <td>476.65</td>\n",
       "      <td>476.82</td>\n",
       "      <td>476.82</td>\n",
       "      <td>476.62</td>\n",
       "      <td>1641201600</td>\n",
       "      <td>21</td>\n",
       "    </tr>\n",
       "  </tbody>\n",
       "</table>\n",
       "</div>"
      ],
      "text/plain": [
       "             datetime  volume  volume_weighted    open   close    high  \\\n",
       "0 2022-01-03 09:00:00  9426.0         476.6581  476.38  476.56  476.92   \n",
       "1 2022-01-03 09:05:00  1778.0         476.4585  476.48  476.44  476.49   \n",
       "2 2022-01-03 09:10:00  9767.0         476.7624  476.62  476.83  476.87   \n",
       "3 2022-01-03 09:15:00  1743.0         476.7269  476.84  476.53  476.84   \n",
       "4 2022-01-03 09:20:00  1037.0         476.7011  476.65  476.82  476.82   \n",
       "\n",
       "      low   timestamp  no_transactions  \n",
       "0  476.38  1641200400              115  \n",
       "1  476.44  1641200700               37  \n",
       "2  476.58  1641201000               80  \n",
       "3  476.53  1641201300               44  \n",
       "4  476.62  1641201600               21  "
      ]
     },
     "execution_count": 211,
     "metadata": {},
     "output_type": "execute_result"
    }
   ],
   "source": [
    "# load the test file\n",
    "file_loc = 'C:\\\\Users\\\\cemly\\\\Documents\\\\TimeSeriesForecasting\\\\StockPrediction\\\\data\\\\SPY_5min_2022-01-03T09.00.00_2022-03-25T14.10.00.csv'\n",
    "df = pd.read_csv(file_loc,parse_dates=['datetime'])\n",
    "df['timestamp'] = (df['timestamp']/1000).astype(int)\n",
    "df.head()"
   ]
  },
  {
   "cell_type": "code",
   "execution_count": 212,
   "id": "2c4ed8de",
   "metadata": {},
   "outputs": [
    {
     "name": "stderr",
     "output_type": "stream",
     "text": [
      "  2%|█▍                                                                            | 196/10965 [00:06<06:22, 28.13it/s]"
     ]
    },
    {
     "name": "stdout",
     "output_type": "stream",
     "text": [
      "uhh oohhhhh!!!\n"
     ]
    },
    {
     "name": "stderr",
     "output_type": "stream",
     "text": [
      "  4%|██▊                                                                           | 388/10965 [00:13<06:08, 28.70it/s]"
     ]
    },
    {
     "name": "stdout",
     "output_type": "stream",
     "text": [
      "uhh oohhhhh!!!\n"
     ]
    },
    {
     "name": "stderr",
     "output_type": "stream",
     "text": [
      "  5%|████▏                                                                         | 580/10965 [00:19<06:08, 28.20it/s]"
     ]
    },
    {
     "name": "stdout",
     "output_type": "stream",
     "text": [
      "uhh oohhhhh!!!\n"
     ]
    },
    {
     "name": "stderr",
     "output_type": "stream",
     "text": [
      "  7%|█████▍                                                                        | 772/10965 [00:26<06:15, 27.13it/s]"
     ]
    },
    {
     "name": "stdout",
     "output_type": "stream",
     "text": [
      "uhh oohhhhh!!!\n"
     ]
    },
    {
     "name": "stderr",
     "output_type": "stream",
     "text": [
      "  9%|██████▊                                                                       | 949/10965 [00:33<06:33, 25.45it/s]"
     ]
    },
    {
     "name": "stdout",
     "output_type": "stream",
     "text": [
      "uhh oohhhhh!!!\n"
     ]
    },
    {
     "name": "stderr",
     "output_type": "stream",
     "text": [
      "  9%|██████▊                                                                       | 958/10965 [00:34<06:41, 24.93it/s]"
     ]
    },
    {
     "name": "stdout",
     "output_type": "stream",
     "text": [
      "uhh oohhhhh!!!\n"
     ]
    },
    {
     "name": "stderr",
     "output_type": "stream",
     "text": [
      "\r",
      "  9%|██████▊                                                                       | 961/10965 [00:34<06:45, 24.66it/s]"
     ]
    },
    {
     "name": "stdout",
     "output_type": "stream",
     "text": [
      "uhh oohhhhh!!!\n"
     ]
    },
    {
     "name": "stderr",
     "output_type": "stream",
     "text": [
      "  9%|██████▉                                                                       | 970/10965 [00:34<06:37, 25.15it/s]"
     ]
    },
    {
     "name": "stdout",
     "output_type": "stream",
     "text": [
      "uhh oohhhhh!!!\n"
     ]
    },
    {
     "name": "stderr",
     "output_type": "stream",
     "text": [
      "\r",
      "  9%|██████▉                                                                       | 973/10965 [00:34<06:47, 24.51it/s]"
     ]
    },
    {
     "name": "stdout",
     "output_type": "stream",
     "text": [
      "uhh oohhhhh!!!\n"
     ]
    },
    {
     "name": "stderr",
     "output_type": "stream",
     "text": [
      "  9%|███████                                                                       | 994/10965 [00:35<06:07, 27.14it/s]"
     ]
    },
    {
     "name": "stdout",
     "output_type": "stream",
     "text": [
      "uhh oohhhhh!!!\n"
     ]
    },
    {
     "name": "stderr",
     "output_type": "stream",
     "text": [
      " 10%|████████                                                                     | 1150/10965 [00:42<06:29, 25.19it/s]"
     ]
    },
    {
     "name": "stdout",
     "output_type": "stream",
     "text": [
      "uhh oohhhhh!!!\n"
     ]
    },
    {
     "name": "stderr",
     "output_type": "stream",
     "text": [
      " 12%|█████████▏                                                                   | 1309/10965 [00:48<06:20, 25.35it/s]"
     ]
    },
    {
     "name": "stdout",
     "output_type": "stream",
     "text": [
      "uhh oohhhhh!!!\n"
     ]
    },
    {
     "name": "stderr",
     "output_type": "stream",
     "text": [
      " 12%|█████████▎                                                                   | 1327/10965 [00:49<06:20, 25.35it/s]"
     ]
    },
    {
     "name": "stdout",
     "output_type": "stream",
     "text": [
      "uhh oohhhhh!!!\n"
     ]
    },
    {
     "name": "stderr",
     "output_type": "stream",
     "text": [
      " 12%|█████████▍                                                                   | 1342/10965 [00:49<06:20, 25.32it/s]"
     ]
    },
    {
     "name": "stdout",
     "output_type": "stream",
     "text": [
      "uhh oohhhhh!!!\n"
     ]
    },
    {
     "name": "stderr",
     "output_type": "stream",
     "text": [
      " 14%|██████████▊                                                                  | 1531/10965 [00:57<06:11, 25.37it/s]"
     ]
    },
    {
     "name": "stdout",
     "output_type": "stream",
     "text": [
      "uhh oohhhhh!!!\n"
     ]
    },
    {
     "name": "stderr",
     "output_type": "stream",
     "text": [
      " 14%|██████████▊                                                                  | 1537/10965 [00:57<06:13, 25.22it/s]"
     ]
    },
    {
     "name": "stdout",
     "output_type": "stream",
     "text": [
      "uhh oohhhhh!!!\n"
     ]
    },
    {
     "name": "stderr",
     "output_type": "stream",
     "text": [
      " 15%|███████████▉                                                                 | 1693/10965 [01:03<06:14, 24.76it/s]"
     ]
    },
    {
     "name": "stdout",
     "output_type": "stream",
     "text": [
      "uhh oohhhhh!!!\n"
     ]
    },
    {
     "name": "stderr",
     "output_type": "stream",
     "text": [
      " 16%|████████████                                                                 | 1723/10965 [01:04<06:03, 25.45it/s]"
     ]
    },
    {
     "name": "stdout",
     "output_type": "stream",
     "text": [
      "uhh oohhhhh!!!\n"
     ]
    },
    {
     "name": "stderr",
     "output_type": "stream",
     "text": [
      " 16%|████████████▏                                                                | 1744/10965 [01:05<06:10, 24.86it/s]"
     ]
    },
    {
     "name": "stdout",
     "output_type": "stream",
     "text": [
      "uhh oohhhhh!!!\n",
      "uhh oohhhhh!!!\n"
     ]
    },
    {
     "name": "stderr",
     "output_type": "stream",
     "text": [
      " 17%|█████████████▎                                                               | 1894/10965 [01:11<06:02, 25.02it/s]"
     ]
    },
    {
     "name": "stdout",
     "output_type": "stream",
     "text": [
      "uhh oohhhhh!!!\n",
      "uhh oohhhhh!!!\n"
     ]
    },
    {
     "name": "stderr",
     "output_type": "stream",
     "text": [
      " 17%|█████████████▍                                                               | 1912/10965 [01:12<05:58, 25.25it/s]"
     ]
    },
    {
     "name": "stdout",
     "output_type": "stream",
     "text": [
      "uhh oohhhhh!!!\n"
     ]
    },
    {
     "name": "stderr",
     "output_type": "stream",
     "text": [
      " 19%|██████████████▊                                                              | 2104/10965 [01:20<05:55, 24.90it/s]"
     ]
    },
    {
     "name": "stdout",
     "output_type": "stream",
     "text": [
      "uhh oohhhhh!!!\n"
     ]
    },
    {
     "name": "stderr",
     "output_type": "stream",
     "text": [
      " 21%|████████████████                                                             | 2293/10965 [01:27<05:48, 24.86it/s]"
     ]
    },
    {
     "name": "stdout",
     "output_type": "stream",
     "text": [
      "uhh oohhhhh!!!\n"
     ]
    },
    {
     "name": "stderr",
     "output_type": "stream",
     "text": [
      " 23%|█████████████████▍                                                           | 2488/10965 [01:35<05:33, 25.39it/s]"
     ]
    },
    {
     "name": "stdout",
     "output_type": "stream",
     "text": [
      "uhh oohhhhh!!!\n"
     ]
    },
    {
     "name": "stderr",
     "output_type": "stream",
     "text": [
      " 24%|██████████████████▊                                                          | 2677/10965 [01:43<05:34, 24.81it/s]"
     ]
    },
    {
     "name": "stdout",
     "output_type": "stream",
     "text": [
      "uhh oohhhhh!!!\n"
     ]
    },
    {
     "name": "stderr",
     "output_type": "stream",
     "text": [
      " 26%|████████████████████▏                                                        | 2869/10965 [01:50<05:19, 25.32it/s]"
     ]
    },
    {
     "name": "stdout",
     "output_type": "stream",
     "text": [
      "uhh oohhhhh!!!\n"
     ]
    },
    {
     "name": "stderr",
     "output_type": "stream",
     "text": [
      " 28%|█████████████████████▌                                                       | 3064/10965 [01:58<05:08, 25.57it/s]"
     ]
    },
    {
     "name": "stdout",
     "output_type": "stream",
     "text": [
      "uhh oohhhhh!!!\n"
     ]
    },
    {
     "name": "stderr",
     "output_type": "stream",
     "text": [
      " 30%|██████████████████████▊                                                      | 3256/10965 [02:06<05:07, 25.05it/s]"
     ]
    },
    {
     "name": "stdout",
     "output_type": "stream",
     "text": [
      "uhh oohhhhh!!!\n"
     ]
    },
    {
     "name": "stderr",
     "output_type": "stream",
     "text": [
      " 31%|████████████████████████▏                                                    | 3445/10965 [02:13<04:58, 25.18it/s]"
     ]
    },
    {
     "name": "stdout",
     "output_type": "stream",
     "text": [
      "uhh oohhhhh!!!\n",
      "uhh oohhhhh!!!\n"
     ]
    },
    {
     "name": "stderr",
     "output_type": "stream",
     "text": [
      " 33%|█████████████████████████▌                                                   | 3637/10965 [02:21<04:49, 25.27it/s]"
     ]
    },
    {
     "name": "stdout",
     "output_type": "stream",
     "text": [
      "uhh oohhhhh!!!\n"
     ]
    },
    {
     "name": "stderr",
     "output_type": "stream",
     "text": [
      " 33%|█████████████████████████▌                                                   | 3649/10965 [02:22<04:52, 24.97it/s]"
     ]
    },
    {
     "name": "stdout",
     "output_type": "stream",
     "text": [
      "uhh oohhhhh!!!\n",
      "uhh oohhhhh!!!\n"
     ]
    },
    {
     "name": "stderr",
     "output_type": "stream",
     "text": [
      " 35%|██████████████████████████▉                                                  | 3829/10965 [02:29<04:46, 24.91it/s]"
     ]
    },
    {
     "name": "stdout",
     "output_type": "stream",
     "text": [
      "uhh oohhhhh!!!\n"
     ]
    },
    {
     "name": "stderr",
     "output_type": "stream",
     "text": [
      " 35%|██████████████████████████▉                                                  | 3841/10965 [02:29<04:46, 24.82it/s]"
     ]
    },
    {
     "name": "stdout",
     "output_type": "stream",
     "text": [
      "uhh oohhhhh!!!\n"
     ]
    },
    {
     "name": "stderr",
     "output_type": "stream",
     "text": [
      " 37%|████████████████████████████▏                                                | 4018/10965 [02:36<04:34, 25.33it/s]"
     ]
    },
    {
     "name": "stdout",
     "output_type": "stream",
     "text": [
      "uhh oohhhhh!!!\n"
     ]
    },
    {
     "name": "stderr",
     "output_type": "stream",
     "text": [
      " 38%|█████████████████████████████▌                                               | 4210/10965 [02:44<04:34, 24.61it/s]"
     ]
    },
    {
     "name": "stdout",
     "output_type": "stream",
     "text": [
      "uhh oohhhhh!!!\n"
     ]
    },
    {
     "name": "stderr",
     "output_type": "stream",
     "text": [
      " 38%|█████████████████████████████▌                                               | 4216/10965 [02:45<04:37, 24.34it/s]"
     ]
    },
    {
     "name": "stdout",
     "output_type": "stream",
     "text": [
      "uhh oohhhhh!!!\n"
     ]
    },
    {
     "name": "stderr",
     "output_type": "stream",
     "text": [
      " 39%|█████████████████████████████▋                                               | 4228/10965 [02:45<04:32, 24.71it/s]"
     ]
    },
    {
     "name": "stdout",
     "output_type": "stream",
     "text": [
      "uhh oohhhhh!!!\n",
      "uhh oohhhhh!!!\n"
     ]
    },
    {
     "name": "stderr",
     "output_type": "stream",
     "text": [
      " 40%|██████████████████████████████▉                                              | 4399/10965 [02:52<04:31, 24.20it/s]"
     ]
    },
    {
     "name": "stdout",
     "output_type": "stream",
     "text": [
      "uhh oohhhhh!!!\n"
     ]
    },
    {
     "name": "stderr",
     "output_type": "stream",
     "text": [
      " 40%|██████████████████████████████▉                                              | 4408/10965 [02:52<04:42, 23.18it/s]"
     ]
    },
    {
     "name": "stdout",
     "output_type": "stream",
     "text": [
      "uhh oohhhhh!!!\n"
     ]
    },
    {
     "name": "stderr",
     "output_type": "stream",
     "text": [
      " 42%|████████████████████████████████▏                                            | 4579/10965 [02:59<04:19, 24.58it/s]"
     ]
    },
    {
     "name": "stdout",
     "output_type": "stream",
     "text": [
      "uhh oohhhhh!!!\n"
     ]
    },
    {
     "name": "stderr",
     "output_type": "stream",
     "text": [
      " 42%|████████████████████████████████▏                                            | 4591/10965 [03:00<04:19, 24.55it/s]"
     ]
    },
    {
     "name": "stdout",
     "output_type": "stream",
     "text": [
      "uhh oohhhhh!!!\n"
     ]
    },
    {
     "name": "stderr",
     "output_type": "stream",
     "text": [
      " 44%|█████████████████████████████████▌                                           | 4780/10965 [03:07<04:07, 25.01it/s]"
     ]
    },
    {
     "name": "stdout",
     "output_type": "stream",
     "text": [
      "uhh oohhhhh!!!\n"
     ]
    },
    {
     "name": "stderr",
     "output_type": "stream",
     "text": [
      " 44%|█████████████████████████████████▋                                           | 4801/10965 [03:08<04:09, 24.73it/s]"
     ]
    },
    {
     "name": "stdout",
     "output_type": "stream",
     "text": [
      "uhh oohhhhh!!!\n"
     ]
    },
    {
     "name": "stderr",
     "output_type": "stream",
     "text": [
      " 45%|██████████████████████████████████▉                                          | 4972/10965 [03:15<04:02, 24.67it/s]"
     ]
    },
    {
     "name": "stdout",
     "output_type": "stream",
     "text": [
      "uhh oohhhhh!!!\n"
     ]
    },
    {
     "name": "stderr",
     "output_type": "stream",
     "text": [
      " 46%|███████████████████████████████████▏                                         | 5002/10965 [03:16<03:57, 25.12it/s]"
     ]
    },
    {
     "name": "stdout",
     "output_type": "stream",
     "text": [
      "uhh oohhhhh!!!\n"
     ]
    },
    {
     "name": "stderr",
     "output_type": "stream",
     "text": [
      " 47%|████████████████████████████████████▏                                        | 5161/10965 [03:23<04:02, 23.93it/s]"
     ]
    },
    {
     "name": "stdout",
     "output_type": "stream",
     "text": [
      "uhh oohhhhh!!!\n",
      "uhh oohhhhh!!!\n"
     ]
    },
    {
     "name": "stderr",
     "output_type": "stream",
     "text": [
      " 47%|████████████████████████████████████▎                                        | 5179/10965 [03:24<03:49, 25.16it/s]"
     ]
    },
    {
     "name": "stdout",
     "output_type": "stream",
     "text": [
      "uhh oohhhhh!!!\n"
     ]
    },
    {
     "name": "stderr",
     "output_type": "stream",
     "text": [
      " 47%|████████████████████████████████████▍                                        | 5194/10965 [03:24<03:49, 25.11it/s]"
     ]
    },
    {
     "name": "stdout",
     "output_type": "stream",
     "text": [
      "uhh oohhhhh!!!\n"
     ]
    },
    {
     "name": "stderr",
     "output_type": "stream",
     "text": [
      " 49%|█████████████████████████████████████▌                                       | 5350/10965 [03:31<03:46, 24.82it/s]"
     ]
    },
    {
     "name": "stdout",
     "output_type": "stream",
     "text": [
      "uhh oohhhhh!!!\n"
     ]
    },
    {
     "name": "stderr",
     "output_type": "stream",
     "text": [
      " 49%|█████████████████████████████████████▋                                       | 5365/10965 [03:31<03:46, 24.77it/s]"
     ]
    },
    {
     "name": "stdout",
     "output_type": "stream",
     "text": [
      "uhh oohhhhh!!!\n"
     ]
    },
    {
     "name": "stderr",
     "output_type": "stream",
     "text": [
      " 49%|█████████████████████████████████████▋                                       | 5374/10965 [03:32<03:45, 24.76it/s]"
     ]
    },
    {
     "name": "stdout",
     "output_type": "stream",
     "text": [
      "uhh oohhhhh!!!\n"
     ]
    },
    {
     "name": "stderr",
     "output_type": "stream",
     "text": [
      " 51%|██████████████████████████████████████▉                                      | 5542/10965 [03:38<03:38, 24.77it/s]"
     ]
    },
    {
     "name": "stdout",
     "output_type": "stream",
     "text": [
      "uhh oohhhhh!!!\n"
     ]
    },
    {
     "name": "stderr",
     "output_type": "stream",
     "text": [
      " 52%|████████████████████████████████████████                                     | 5704/10965 [03:45<03:30, 24.94it/s]"
     ]
    },
    {
     "name": "stdout",
     "output_type": "stream",
     "text": [
      "uhh oohhhhh!!!\n",
      "uhh oohhhhh!!!\n",
      "uhh oohhhhh!!!\n"
     ]
    },
    {
     "name": "stderr",
     "output_type": "stream",
     "text": [
      " 52%|████████████████████████████████████████▏                                    | 5728/10965 [03:46<03:30, 24.90it/s]"
     ]
    },
    {
     "name": "stdout",
     "output_type": "stream",
     "text": [
      "uhh oohhhhh!!!\n"
     ]
    },
    {
     "name": "stderr",
     "output_type": "stream",
     "text": [
      " 54%|█████████████████████████████████████████▌                                   | 5923/10965 [03:54<03:25, 24.53it/s]"
     ]
    },
    {
     "name": "stdout",
     "output_type": "stream",
     "text": [
      "uhh oohhhhh!!!\n",
      "uhh oohhhhh!!!\n",
      "uhh oohhhhh!!!\n"
     ]
    },
    {
     "name": "stderr",
     "output_type": "stream",
     "text": [
      " 56%|██████████████████████████████████████████▉                                  | 6112/10965 [04:02<03:17, 24.62it/s]"
     ]
    },
    {
     "name": "stdout",
     "output_type": "stream",
     "text": [
      "uhh oohhhhh!!!\n"
     ]
    },
    {
     "name": "stderr",
     "output_type": "stream",
     "text": [
      " 56%|██████████████████████████████████████████▉                                  | 6118/10965 [04:02<03:22, 23.89it/s]"
     ]
    },
    {
     "name": "stdout",
     "output_type": "stream",
     "text": [
      "uhh oohhhhh!!!\n",
      "uhh oohhhhh!!!\n"
     ]
    },
    {
     "name": "stderr",
     "output_type": "stream",
     "text": [
      " 56%|███████████████████████████████████████████                                  | 6124/10965 [04:02<03:22, 23.93it/s]"
     ]
    },
    {
     "name": "stdout",
     "output_type": "stream",
     "text": [
      "uhh oohhhhh!!!\n"
     ]
    },
    {
     "name": "stderr",
     "output_type": "stream",
     "text": [
      " 57%|████████████████████████████████████████████▏                                | 6301/10965 [04:09<03:09, 24.56it/s]"
     ]
    },
    {
     "name": "stdout",
     "output_type": "stream",
     "text": [
      "uhh oohhhhh!!!\n"
     ]
    },
    {
     "name": "stderr",
     "output_type": "stream",
     "text": [
      " 58%|████████████████████████████████████████████▎                                | 6316/10965 [04:10<03:04, 25.25it/s]"
     ]
    },
    {
     "name": "stdout",
     "output_type": "stream",
     "text": [
      "uhh oohhhhh!!!\n"
     ]
    },
    {
     "name": "stderr",
     "output_type": "stream",
     "text": [
      " 59%|█████████████████████████████████████████████▌                               | 6493/10965 [04:17<03:03, 24.35it/s]"
     ]
    },
    {
     "name": "stdout",
     "output_type": "stream",
     "text": [
      "uhh oohhhhh!!!\n"
     ]
    },
    {
     "name": "stderr",
     "output_type": "stream",
     "text": [
      " 61%|██████████████████████████████████████████████▊                              | 6658/10965 [04:24<02:55, 24.49it/s]"
     ]
    },
    {
     "name": "stdout",
     "output_type": "stream",
     "text": [
      "uhh oohhhhh!!!\n"
     ]
    },
    {
     "name": "stderr",
     "output_type": "stream",
     "text": [
      " 61%|██████████████████████████████████████████████▉                              | 6682/10965 [04:25<02:56, 24.25it/s]"
     ]
    },
    {
     "name": "stdout",
     "output_type": "stream",
     "text": [
      "uhh oohhhhh!!!\n"
     ]
    },
    {
     "name": "stderr",
     "output_type": "stream",
     "text": [
      " 61%|███████████████████████████████████████████████▏                             | 6712/10965 [04:26<02:52, 24.65it/s]"
     ]
    },
    {
     "name": "stdout",
     "output_type": "stream",
     "text": [
      "uhh oohhhhh!!!\n"
     ]
    },
    {
     "name": "stderr",
     "output_type": "stream",
     "text": [
      " 63%|████████████████████████████████████████████████▎                            | 6874/10965 [04:33<02:47, 24.47it/s]"
     ]
    },
    {
     "name": "stdout",
     "output_type": "stream",
     "text": [
      "uhh oohhhhh!!!\n"
     ]
    },
    {
     "name": "stderr",
     "output_type": "stream",
     "text": [
      " 64%|█████████████████████████████████████████████████▌                           | 7066/10965 [04:41<02:35, 25.11it/s]"
     ]
    },
    {
     "name": "stdout",
     "output_type": "stream",
     "text": [
      "uhh oohhhhh!!!\n"
     ]
    },
    {
     "name": "stderr",
     "output_type": "stream",
     "text": [
      " 66%|██████████████████████████████████████████████████▊                          | 7240/10965 [04:47<02:28, 25.11it/s]"
     ]
    },
    {
     "name": "stdout",
     "output_type": "stream",
     "text": [
      "uhh oohhhhh!!!\n"
     ]
    },
    {
     "name": "stderr",
     "output_type": "stream",
     "text": [
      " 66%|██████████████████████████████████████████████████▉                          | 7258/10965 [04:48<02:28, 24.96it/s]"
     ]
    },
    {
     "name": "stdout",
     "output_type": "stream",
     "text": [
      "uhh oohhhhh!!!\n"
     ]
    },
    {
     "name": "stderr",
     "output_type": "stream",
     "text": [
      " 68%|████████████████████████████████████████████████████▎                        | 7450/10965 [04:56<02:21, 24.84it/s]"
     ]
    },
    {
     "name": "stdout",
     "output_type": "stream",
     "text": [
      "uhh oohhhhh!!!\n"
     ]
    },
    {
     "name": "stderr",
     "output_type": "stream",
     "text": [
      " 70%|█████████████████████████████████████████████████████▋                       | 7642/10965 [05:04<02:12, 25.05it/s]"
     ]
    },
    {
     "name": "stdout",
     "output_type": "stream",
     "text": [
      "uhh oohhhhh!!!\n"
     ]
    },
    {
     "name": "stderr",
     "output_type": "stream",
     "text": [
      "\r",
      " 70%|█████████████████████████████████████████████████████▋                       | 7645/10965 [05:04<02:13, 24.83it/s]"
     ]
    },
    {
     "name": "stdout",
     "output_type": "stream",
     "text": [
      "uhh oohhhhh!!!\n"
     ]
    },
    {
     "name": "stderr",
     "output_type": "stream",
     "text": [
      " 71%|██████████████████████████████████████████████████████▉                      | 7831/10965 [05:11<02:06, 24.75it/s]"
     ]
    },
    {
     "name": "stdout",
     "output_type": "stream",
     "text": [
      "uhh oohhhhh!!!\n"
     ]
    },
    {
     "name": "stderr",
     "output_type": "stream",
     "text": [
      " 72%|███████████████████████████████████████████████████████                      | 7846/10965 [05:12<02:04, 24.99it/s]"
     ]
    },
    {
     "name": "stdout",
     "output_type": "stream",
     "text": [
      "uhh oohhhhh!!!\n"
     ]
    },
    {
     "name": "stderr",
     "output_type": "stream",
     "text": [
      " 73%|████████████████████████████████████████████████████████▎                    | 8023/10965 [05:19<01:58, 24.76it/s]"
     ]
    },
    {
     "name": "stdout",
     "output_type": "stream",
     "text": [
      "uhh oohhhhh!!!\n"
     ]
    },
    {
     "name": "stderr",
     "output_type": "stream",
     "text": [
      " 75%|█████████████████████████████████████████████████████████▌                   | 8191/10965 [05:26<01:52, 24.76it/s]"
     ]
    },
    {
     "name": "stdout",
     "output_type": "stream",
     "text": [
      "uhh oohhhhh!!!\n"
     ]
    },
    {
     "name": "stderr",
     "output_type": "stream",
     "text": [
      " 75%|█████████████████████████████████████████████████████████▋                   | 8209/10965 [05:27<01:50, 24.93it/s]"
     ]
    },
    {
     "name": "stdout",
     "output_type": "stream",
     "text": [
      "uhh oohhhhh!!!\n",
      "uhh oohhhhh!!!\n"
     ]
    },
    {
     "name": "stderr",
     "output_type": "stream",
     "text": [
      " 77%|███████████████████████████████████████████████████████████                  | 8404/10965 [05:35<01:42, 24.94it/s]"
     ]
    },
    {
     "name": "stdout",
     "output_type": "stream",
     "text": [
      "uhh oohhhhh!!!\n"
     ]
    },
    {
     "name": "stderr",
     "output_type": "stream",
     "text": [
      " 78%|████████████████████████████████████████████████████████████▎                | 8596/10965 [05:42<01:34, 25.02it/s]"
     ]
    },
    {
     "name": "stdout",
     "output_type": "stream",
     "text": [
      "uhh oohhhhh!!!\n"
     ]
    },
    {
     "name": "stderr",
     "output_type": "stream",
     "text": [
      " 80%|█████████████████████████████████████████████████████████████▋               | 8788/10965 [05:50<01:27, 24.92it/s]"
     ]
    },
    {
     "name": "stdout",
     "output_type": "stream",
     "text": [
      "uhh oohhhhh!!!\n"
     ]
    },
    {
     "name": "stderr",
     "output_type": "stream",
     "text": [
      " 82%|███████████████████████████████████████████████████████████████              | 8980/10965 [05:58<01:21, 24.28it/s]"
     ]
    },
    {
     "name": "stdout",
     "output_type": "stream",
     "text": [
      "uhh oohhhhh!!!\n"
     ]
    },
    {
     "name": "stderr",
     "output_type": "stream",
     "text": [
      " 84%|████████████████████████████████████████████████████████████████▍            | 9169/10965 [06:06<01:12, 24.65it/s]"
     ]
    },
    {
     "name": "stdout",
     "output_type": "stream",
     "text": [
      "uhh oohhhhh!!!\n",
      "uhh oohhhhh!!!\n"
     ]
    },
    {
     "name": "stderr",
     "output_type": "stream",
     "text": [
      " 85%|█████████████████████████████████████████████████████████████████▊           | 9364/10965 [06:13<01:04, 24.65it/s]"
     ]
    },
    {
     "name": "stdout",
     "output_type": "stream",
     "text": [
      "uhh oohhhhh!!!\n"
     ]
    },
    {
     "name": "stderr",
     "output_type": "stream",
     "text": [
      " 87%|███████████████████████████████████████████████████████████████████          | 9556/10965 [06:21<00:56, 24.80it/s]"
     ]
    },
    {
     "name": "stdout",
     "output_type": "stream",
     "text": [
      "uhh oohhhhh!!!\n"
     ]
    },
    {
     "name": "stderr",
     "output_type": "stream",
     "text": [
      " 89%|████████████████████████████████████████████████████████████████████▍        | 9748/10965 [06:29<00:48, 25.11it/s]"
     ]
    },
    {
     "name": "stdout",
     "output_type": "stream",
     "text": [
      "uhh oohhhhh!!!\n"
     ]
    },
    {
     "name": "stderr",
     "output_type": "stream",
     "text": [
      " 91%|█████████████████████████████████████████████████████████████████████▊       | 9940/10965 [06:37<00:41, 24.81it/s]"
     ]
    },
    {
     "name": "stdout",
     "output_type": "stream",
     "text": [
      "uhh oohhhhh!!!\n"
     ]
    },
    {
     "name": "stderr",
     "output_type": "stream",
     "text": [
      " 92%|██████████████████████████████████████████████████████████████████████▏     | 10132/10965 [06:45<00:33, 24.85it/s]"
     ]
    },
    {
     "name": "stdout",
     "output_type": "stream",
     "text": [
      "uhh oohhhhh!!!\n"
     ]
    },
    {
     "name": "stderr",
     "output_type": "stream",
     "text": [
      " 93%|██████████████████████████████████████████████████████████████████████▎     | 10150/10965 [06:46<00:32, 24.84it/s]"
     ]
    },
    {
     "name": "stdout",
     "output_type": "stream",
     "text": [
      "uhh oohhhhh!!!\n"
     ]
    },
    {
     "name": "stderr",
     "output_type": "stream",
     "text": [
      " 94%|███████████████████████████████████████████████████████████████████████▌    | 10324/10965 [06:53<00:25, 24.72it/s]"
     ]
    },
    {
     "name": "stdout",
     "output_type": "stream",
     "text": [
      "uhh oohhhhh!!!\n"
     ]
    },
    {
     "name": "stderr",
     "output_type": "stream",
     "text": [
      " 96%|████████████████████████████████████████████████████████████████████████▊   | 10513/10965 [07:01<00:27, 16.16it/s]"
     ]
    },
    {
     "name": "stdout",
     "output_type": "stream",
     "text": [
      "uhh oohhhhh!!!\n"
     ]
    },
    {
     "name": "stderr",
     "output_type": "stream",
     "text": [
      " 98%|██████████████████████████████████████████████████████████████████████████▏ | 10708/10965 [07:09<00:10, 24.31it/s]"
     ]
    },
    {
     "name": "stdout",
     "output_type": "stream",
     "text": [
      "uhh oohhhhh!!!\n"
     ]
    },
    {
     "name": "stderr",
     "output_type": "stream",
     "text": [
      " 98%|██████████████████████████████████████████████████████████████████████████▎ | 10720/10965 [07:09<00:10, 24.13it/s]"
     ]
    },
    {
     "name": "stdout",
     "output_type": "stream",
     "text": [
      "uhh oohhhhh!!!\n"
     ]
    },
    {
     "name": "stderr",
     "output_type": "stream",
     "text": [
      " 99%|███████████████████████████████████████████████████████████████████████████▌| 10897/10965 [07:16<00:02, 24.54it/s]"
     ]
    },
    {
     "name": "stdout",
     "output_type": "stream",
     "text": [
      "uhh oohhhhh!!!\n"
     ]
    },
    {
     "name": "stderr",
     "output_type": "stream",
     "text": [
      " 99%|███████████████████████████████████████████████████████████████████████████▌| 10909/10965 [07:17<00:02, 24.22it/s]"
     ]
    },
    {
     "name": "stdout",
     "output_type": "stream",
     "text": [
      "uhh oohhhhh!!!\n"
     ]
    },
    {
     "name": "stderr",
     "output_type": "stream",
     "text": [
      "100%|███████████████████████████████████████████████████████████████████████████▋| 10918/10965 [07:17<00:01, 24.64it/s]"
     ]
    },
    {
     "name": "stdout",
     "output_type": "stream",
     "text": [
      "uhh oohhhhh!!!\n",
      "uhh oohhhhh!!!\n"
     ]
    },
    {
     "name": "stderr",
     "output_type": "stream",
     "text": [
      "100%|████████████████████████████████████████████████████████████████████████████| 10965/10965 [07:19<00:00, 24.95it/s]\n"
     ]
    }
   ],
   "source": [
    "a = TradingBot()\n",
    "for i in tqdm.tqdm(df.index.tolist()):\n",
    "    a.input_stream(df.loc[i,['timestamp','volume','open','close','high','low']].to_dict())"
   ]
  },
  {
   "cell_type": "code",
   "execution_count": 213,
   "id": "dc11db8e",
   "metadata": {},
   "outputs": [
    {
     "data": {
      "text/html": [
       "<div>\n",
       "<style scoped>\n",
       "    .dataframe tbody tr th:only-of-type {\n",
       "        vertical-align: middle;\n",
       "    }\n",
       "\n",
       "    .dataframe tbody tr th {\n",
       "        vertical-align: top;\n",
       "    }\n",
       "\n",
       "    .dataframe thead th {\n",
       "        text-align: right;\n",
       "    }\n",
       "</style>\n",
       "<table border=\"1\" class=\"dataframe\">\n",
       "  <thead>\n",
       "    <tr style=\"text-align: right;\">\n",
       "      <th></th>\n",
       "      <th>timestamp</th>\n",
       "      <th>volume</th>\n",
       "      <th>open</th>\n",
       "      <th>close</th>\n",
       "      <th>high</th>\n",
       "      <th>low</th>\n",
       "      <th>cnn_predict</th>\n",
       "      <th>buy</th>\n",
       "      <th>sell</th>\n",
       "      <th>outcome</th>\n",
       "    </tr>\n",
       "  </thead>\n",
       "  <tbody>\n",
       "    <tr>\n",
       "      <th>0</th>\n",
       "      <td>1641200400</td>\n",
       "      <td>9426.0</td>\n",
       "      <td>476.3800</td>\n",
       "      <td>476.5600</td>\n",
       "      <td>476.9200</td>\n",
       "      <td>476.38</td>\n",
       "      <td>NaN</td>\n",
       "      <td>NaN</td>\n",
       "      <td>NaN</td>\n",
       "      <td>NaN</td>\n",
       "    </tr>\n",
       "    <tr>\n",
       "      <th>1</th>\n",
       "      <td>1641200700</td>\n",
       "      <td>1778.0</td>\n",
       "      <td>476.4800</td>\n",
       "      <td>476.4400</td>\n",
       "      <td>476.4900</td>\n",
       "      <td>476.44</td>\n",
       "      <td>NaN</td>\n",
       "      <td>NaN</td>\n",
       "      <td>NaN</td>\n",
       "      <td>NaN</td>\n",
       "    </tr>\n",
       "    <tr>\n",
       "      <th>2</th>\n",
       "      <td>1641201000</td>\n",
       "      <td>9767.0</td>\n",
       "      <td>476.6200</td>\n",
       "      <td>476.8300</td>\n",
       "      <td>476.8700</td>\n",
       "      <td>476.58</td>\n",
       "      <td>NaN</td>\n",
       "      <td>NaN</td>\n",
       "      <td>NaN</td>\n",
       "      <td>NaN</td>\n",
       "    </tr>\n",
       "    <tr>\n",
       "      <th>3</th>\n",
       "      <td>1641201300</td>\n",
       "      <td>1743.0</td>\n",
       "      <td>476.8400</td>\n",
       "      <td>476.5300</td>\n",
       "      <td>476.8400</td>\n",
       "      <td>476.53</td>\n",
       "      <td>NaN</td>\n",
       "      <td>NaN</td>\n",
       "      <td>NaN</td>\n",
       "      <td>NaN</td>\n",
       "    </tr>\n",
       "    <tr>\n",
       "      <th>4</th>\n",
       "      <td>1641201600</td>\n",
       "      <td>1037.0</td>\n",
       "      <td>476.6500</td>\n",
       "      <td>476.8200</td>\n",
       "      <td>476.8200</td>\n",
       "      <td>476.62</td>\n",
       "      <td>NaN</td>\n",
       "      <td>NaN</td>\n",
       "      <td>NaN</td>\n",
       "      <td>NaN</td>\n",
       "    </tr>\n",
       "    <tr>\n",
       "      <th>...</th>\n",
       "      <td>...</td>\n",
       "      <td>...</td>\n",
       "      <td>...</td>\n",
       "      <td>...</td>\n",
       "      <td>...</td>\n",
       "      <td>...</td>\n",
       "      <td>...</td>\n",
       "      <td>...</td>\n",
       "      <td>...</td>\n",
       "      <td>...</td>\n",
       "    </tr>\n",
       "    <tr>\n",
       "      <th>10960</th>\n",
       "      <td>1648216200</td>\n",
       "      <td>768843.0</td>\n",
       "      <td>451.3881</td>\n",
       "      <td>451.4900</td>\n",
       "      <td>451.6300</td>\n",
       "      <td>451.10</td>\n",
       "      <td>0.047082</td>\n",
       "      <td>NaN</td>\n",
       "      <td>NaN</td>\n",
       "      <td>NaN</td>\n",
       "    </tr>\n",
       "    <tr>\n",
       "      <th>10961</th>\n",
       "      <td>1648216500</td>\n",
       "      <td>654224.0</td>\n",
       "      <td>451.5100</td>\n",
       "      <td>450.8601</td>\n",
       "      <td>451.5400</td>\n",
       "      <td>450.64</td>\n",
       "      <td>0.046765</td>\n",
       "      <td>NaN</td>\n",
       "      <td>NaN</td>\n",
       "      <td>NaN</td>\n",
       "    </tr>\n",
       "    <tr>\n",
       "      <th>10962</th>\n",
       "      <td>1648216800</td>\n",
       "      <td>657433.0</td>\n",
       "      <td>450.8800</td>\n",
       "      <td>450.8000</td>\n",
       "      <td>451.0300</td>\n",
       "      <td>450.45</td>\n",
       "      <td>0.047448</td>\n",
       "      <td>NaN</td>\n",
       "      <td>NaN</td>\n",
       "      <td>NaN</td>\n",
       "    </tr>\n",
       "    <tr>\n",
       "      <th>10963</th>\n",
       "      <td>1648217100</td>\n",
       "      <td>507110.0</td>\n",
       "      <td>450.7901</td>\n",
       "      <td>451.1650</td>\n",
       "      <td>451.2400</td>\n",
       "      <td>450.64</td>\n",
       "      <td>0.049606</td>\n",
       "      <td>NaN</td>\n",
       "      <td>NaN</td>\n",
       "      <td>NaN</td>\n",
       "    </tr>\n",
       "    <tr>\n",
       "      <th>10964</th>\n",
       "      <td>1648217400</td>\n",
       "      <td>793393.0</td>\n",
       "      <td>451.1700</td>\n",
       "      <td>451.0400</td>\n",
       "      <td>451.4345</td>\n",
       "      <td>451.04</td>\n",
       "      <td>0.055705</td>\n",
       "      <td>NaN</td>\n",
       "      <td>NaN</td>\n",
       "      <td>NaN</td>\n",
       "    </tr>\n",
       "  </tbody>\n",
       "</table>\n",
       "<p>10965 rows × 10 columns</p>\n",
       "</div>"
      ],
      "text/plain": [
       "        timestamp    volume      open     close      high     low  \\\n",
       "0      1641200400    9426.0  476.3800  476.5600  476.9200  476.38   \n",
       "1      1641200700    1778.0  476.4800  476.4400  476.4900  476.44   \n",
       "2      1641201000    9767.0  476.6200  476.8300  476.8700  476.58   \n",
       "3      1641201300    1743.0  476.8400  476.5300  476.8400  476.53   \n",
       "4      1641201600    1037.0  476.6500  476.8200  476.8200  476.62   \n",
       "...           ...       ...       ...       ...       ...     ...   \n",
       "10960  1648216200  768843.0  451.3881  451.4900  451.6300  451.10   \n",
       "10961  1648216500  654224.0  451.5100  450.8601  451.5400  450.64   \n",
       "10962  1648216800  657433.0  450.8800  450.8000  451.0300  450.45   \n",
       "10963  1648217100  507110.0  450.7901  451.1650  451.2400  450.64   \n",
       "10964  1648217400  793393.0  451.1700  451.0400  451.4345  451.04   \n",
       "\n",
       "       cnn_predict  buy sell  outcome  \n",
       "0              NaN  NaN  NaN      NaN  \n",
       "1              NaN  NaN  NaN      NaN  \n",
       "2              NaN  NaN  NaN      NaN  \n",
       "3              NaN  NaN  NaN      NaN  \n",
       "4              NaN  NaN  NaN      NaN  \n",
       "...            ...  ...  ...      ...  \n",
       "10960     0.047082  NaN  NaN      NaN  \n",
       "10961     0.046765  NaN  NaN      NaN  \n",
       "10962     0.047448  NaN  NaN      NaN  \n",
       "10963     0.049606  NaN  NaN      NaN  \n",
       "10964     0.055705  NaN  NaN      NaN  \n",
       "\n",
       "[10965 rows x 10 columns]"
      ]
     },
     "execution_count": 213,
     "metadata": {},
     "output_type": "execute_result"
    }
   ],
   "source": [
    "a._datastorer._data_df"
   ]
  },
  {
   "cell_type": "code",
   "execution_count": 220,
   "id": "54f20b5f",
   "metadata": {},
   "outputs": [
    {
     "data": {
      "text/plain": [
       "48    0.998975\n",
       "Name: outcome, dtype: float64"
      ]
     },
     "execution_count": 220,
     "metadata": {},
     "output_type": "execute_result"
    }
   ],
   "source": [
    "a._datastorer._data_df[~a._datastorer._data_df['outcome'].isna()]['outcome']"
   ]
  },
  {
   "cell_type": "code",
   "execution_count": 221,
   "id": "929ddb5f",
   "metadata": {},
   "outputs": [
    {
     "data": {
      "text/plain": [
       "{'cnn_predict': 0.05570507049560547}"
      ]
     },
     "execution_count": 221,
     "metadata": {},
     "output_type": "execute_result"
    }
   ],
   "source": [
    "a._datastorer._indicator_values"
   ]
  },
  {
   "cell_type": "code",
   "execution_count": 222,
   "id": "3a5509c9",
   "metadata": {},
   "outputs": [
    {
     "data": {
      "text/plain": [
       "1"
      ]
     },
     "execution_count": 222,
     "metadata": {},
     "output_type": "execute_result"
    }
   ],
   "source": [
    "a._datastorer._data_df['outcome'].count()"
   ]
  },
  {
   "cell_type": "code",
   "execution_count": 223,
   "id": "491013ed",
   "metadata": {
    "scrolled": true
   },
   "outputs": [
    {
     "data": {
      "text/plain": [
       "<AxesSubplot:>"
      ]
     },
     "execution_count": 223,
     "metadata": {},
     "output_type": "execute_result"
    },
    {
     "data": {
      "image/png": "[encoded data removed]",
      "text/plain": [
       "<Figure size 432x288 with 1 Axes>"
      ]
     },
     "metadata": {
      "needs_background": "light"
     },
     "output_type": "display_data"
    }
   ],
   "source": [
    "a._datastorer._data_df['cnn_predict'].hist()"
   ]
  },
  {
   "cell_type": "code",
   "execution_count": 229,
   "id": "d38c542d",
   "metadata": {},
   "outputs": [
    {
     "data": {
      "text/plain": [
       "<AxesSubplot:>"
      ]
     },
     "execution_count": 229,
     "metadata": {},
     "output_type": "execute_result"
    },
    {
     "data": {
      "image/png": "[encoded data removed]",
      "text/plain": [
       "<Figure size 1440x360 with 2 Axes>"
      ]
     },
     "metadata": {
      "needs_background": "light"
     },
     "output_type": "display_data"
    }
   ],
   "source": [
    "axes = a._datastorer._data_df[['cnn_predict']].plot()\n",
    "axes.set_ylabel('CNN Prediction')\n",
    "axes2 = axes.twinx()\n",
    "a._datastorer._data_df['close'].pct_change().plot(ax=axes2,c='darkorange',figsize=[20,5])"
   ]
  },
  {
   "cell_type": "code",
   "execution_count": 230,
   "id": "11b8115a",
   "metadata": {},
   "outputs": [
    {
     "data": {
      "text/html": [
       "<div>\n",
       "<style scoped>\n",
       "    .dataframe tbody tr th:only-of-type {\n",
       "        vertical-align: middle;\n",
       "    }\n",
       "\n",
       "    .dataframe tbody tr th {\n",
       "        vertical-align: top;\n",
       "    }\n",
       "\n",
       "    .dataframe thead th {\n",
       "        text-align: right;\n",
       "    }\n",
       "</style>\n",
       "<table border=\"1\" class=\"dataframe\">\n",
       "  <thead>\n",
       "    <tr style=\"text-align: right;\">\n",
       "      <th></th>\n",
       "      <th>timestamp</th>\n",
       "      <th>volume</th>\n",
       "      <th>open</th>\n",
       "      <th>close</th>\n",
       "      <th>high</th>\n",
       "      <th>low</th>\n",
       "      <th>cnn_predict</th>\n",
       "      <th>buy</th>\n",
       "      <th>sell</th>\n",
       "      <th>outcome</th>\n",
       "    </tr>\n",
       "  </thead>\n",
       "  <tbody>\n",
       "    <tr>\n",
       "      <th>0</th>\n",
       "      <td>1641200400</td>\n",
       "      <td>9426.0</td>\n",
       "      <td>476.38</td>\n",
       "      <td>476.56</td>\n",
       "      <td>476.92</td>\n",
       "      <td>476.38</td>\n",
       "      <td>NaN</td>\n",
       "      <td>NaN</td>\n",
       "      <td>NaN</td>\n",
       "      <td>NaN</td>\n",
       "    </tr>\n",
       "    <tr>\n",
       "      <th>1</th>\n",
       "      <td>1641200700</td>\n",
       "      <td>1778.0</td>\n",
       "      <td>476.48</td>\n",
       "      <td>476.44</td>\n",
       "      <td>476.49</td>\n",
       "      <td>476.44</td>\n",
       "      <td>NaN</td>\n",
       "      <td>NaN</td>\n",
       "      <td>NaN</td>\n",
       "      <td>NaN</td>\n",
       "    </tr>\n",
       "    <tr>\n",
       "      <th>2</th>\n",
       "      <td>1641201000</td>\n",
       "      <td>9767.0</td>\n",
       "      <td>476.62</td>\n",
       "      <td>476.83</td>\n",
       "      <td>476.87</td>\n",
       "      <td>476.58</td>\n",
       "      <td>NaN</td>\n",
       "      <td>NaN</td>\n",
       "      <td>NaN</td>\n",
       "      <td>NaN</td>\n",
       "    </tr>\n",
       "    <tr>\n",
       "      <th>3</th>\n",
       "      <td>1641201300</td>\n",
       "      <td>1743.0</td>\n",
       "      <td>476.84</td>\n",
       "      <td>476.53</td>\n",
       "      <td>476.84</td>\n",
       "      <td>476.53</td>\n",
       "      <td>NaN</td>\n",
       "      <td>NaN</td>\n",
       "      <td>NaN</td>\n",
       "      <td>NaN</td>\n",
       "    </tr>\n",
       "    <tr>\n",
       "      <th>4</th>\n",
       "      <td>1641201600</td>\n",
       "      <td>1037.0</td>\n",
       "      <td>476.65</td>\n",
       "      <td>476.82</td>\n",
       "      <td>476.82</td>\n",
       "      <td>476.62</td>\n",
       "      <td>NaN</td>\n",
       "      <td>NaN</td>\n",
       "      <td>NaN</td>\n",
       "      <td>NaN</td>\n",
       "    </tr>\n",
       "  </tbody>\n",
       "</table>\n",
       "</div>"
      ],
      "text/plain": [
       "    timestamp  volume    open   close    high     low  cnn_predict  buy sell  \\\n",
       "0  1641200400  9426.0  476.38  476.56  476.92  476.38          NaN  NaN  NaN   \n",
       "1  1641200700  1778.0  476.48  476.44  476.49  476.44          NaN  NaN  NaN   \n",
       "2  1641201000  9767.0  476.62  476.83  476.87  476.58          NaN  NaN  NaN   \n",
       "3  1641201300  1743.0  476.84  476.53  476.84  476.53          NaN  NaN  NaN   \n",
       "4  1641201600  1037.0  476.65  476.82  476.82  476.62          NaN  NaN  NaN   \n",
       "\n",
       "   outcome  \n",
       "0      NaN  \n",
       "1      NaN  \n",
       "2      NaN  \n",
       "3      NaN  \n",
       "4      NaN  "
      ]
     },
     "execution_count": 230,
     "metadata": {},
     "output_type": "execute_result"
    }
   ],
   "source": [
    "df = a._datastorer._data_df.copy()\n",
    "df.head()"
   ]
  },
  {
   "cell_type": "code",
   "execution_count": 231,
   "id": "986c4d81",
   "metadata": {},
   "outputs": [],
   "source": [
    "df['pct_change_close'] = df['close'].pct_change(-5)"
   ]
  },
  {
   "cell_type": "code",
   "execution_count": 242,
   "id": "33a2a42b",
   "metadata": {},
   "outputs": [
    {
     "data": {
      "image/png": "[encoded data removed]",
      "text/plain": [
       "<Figure size 432x288 with 1 Axes>"
      ]
     },
     "metadata": {
      "needs_background": "light"
     },
     "output_type": "display_data"
    }
   ],
   "source": [
    "from matplotlib import pyplot as plt\n",
    "df[['pct_change_close','cnn_predict']].dropna().sample(10**4).plot.scatter(y='pct_change_close',x='cnn_predict')\n",
    "plt.show()"
   ]
  },
  {
   "cell_type": "code",
   "execution_count": 245,
   "id": "4c1afcd9",
   "metadata": {},
   "outputs": [
    {
     "data": {
      "text/plain": [
       "<AxesSubplot:xlabel='cnn_predict', ylabel='pct_change_close'>"
      ]
     },
     "execution_count": 245,
     "metadata": {},
     "output_type": "execute_result"
    },
    {
     "data": {
      "image/png": "[encoded data removed]",
      "text/plain": [
       "<Figure size 432x288 with 1 Axes>"
      ]
     },
     "metadata": {
      "needs_background": "light"
     },
     "output_type": "display_data"
    }
   ],
   "source": [
    "import seaborn as sns\n",
    "sns.regplot(x=\"cnn_predict\", y=\"pct_change_close\", data=df[['pct_change_close','cnn_predict']].sample(10**2))"
   ]
  },
  {
   "cell_type": "code",
   "execution_count": 227,
   "id": "465327ad",
   "metadata": {},
   "outputs": [
    {
     "data": {
      "text/plain": [
       "<AxesSubplot:>"
      ]
     },
     "execution_count": 227,
     "metadata": {},
     "output_type": "execute_result"
    },
    {
     "data": {
      "image/png": "[encoded data removed]",
      "text/plain": [
       "<Figure size 432x288 with 1 Axes>"
      ]
     },
     "metadata": {
      "needs_background": "light"
     },
     "output_type": "display_data"
    }
   ],
   "source": [
    "a._datastorer._data_df['close'].plot()"
   ]
  },
  {
   "cell_type": "code",
   "execution_count": null,
   "id": "70873ef1",
   "metadata": {},
   "outputs": [],
   "source": [
    "import pandas as pd\n",
    "import numpy as np\n",
    "import pickle\n",
    "import time\n",
    "import math\n",
    "from matplotlib import pyplot as plt\n",
    "import sys\n",
    "\n",
    "import warnings\n",
    "warnings.simplefilter('ignore', np.RankWarning)\n",
    "\n",
    "'''\n",
    "dataset which accepts data points through time. Has two modes:\n",
    "- irregular:\n",
    "    - stores random datapoints through time.\n",
    "    - doesn't perform any checks, just stores the data in it's raw form\n",
    "- regular:\n",
    "    - stores the data through time\n",
    "    - checks its regular, checks for any missing datapoints\n",
    "    - interpolates missing data points, if missing\n",
    "    - calculates indicators like RSI, gradients of varying order, etc....\n",
    "    - can splice in an irregular dataset into a regular one?\n",
    "'''\n",
    "\n",
    "class DataStoreException(Exception):\n",
    "    pass\n",
    "\n",
    "\n",
    "class DataStore:\n",
    "    ''' Class which iteratively stores data points, calculating statistical indicators as it goes along.'''\n",
    "\n",
    "    def __init__(self,\n",
    "                name:str,\n",
    "                cold_start: bool=True,\n",
    "                is_regular: bool=True, \n",
    "                indicators: list=['rolling_mean_30','rolling_median_30','calc_trend_30','calc_acceleration_30']):\n",
    "\n",
    "        self._name = name\n",
    "        self.init_time = time.time()\n",
    "        self._unique_id = f'{name}_{self.init_time}'\n",
    "\n",
    "        self._data = pd.DataFrame()\n",
    "        self.is_regular = is_regular\n",
    "\n",
    "        # Indicators is a list contain all the indicators which will be calculated on the go as each data point is added\n",
    "        self._indicators = indicators\n",
    "\n",
    "        #self.mlp = joblib.load('/home/cemlyn/Documents/BinanceBot/app/data/models/mlp_model.bz2')\n",
    "        self.mlp_covars = list()\n",
    "    \n",
    "    def add_datum(self,datum:pd.DataFrame):\n",
    "        ''' Add new data from the websocket feed to here - Note that data points are only added when the kline is closed. '''\n",
    "        # Append new data points\n",
    "        self._data = pd.concat([self._data,datum],axis=0)\n",
    "\n",
    "        if not self.check_is_regular():\n",
    "            pass\n",
    "        \n",
    "        self.calc_indicators(*self._indicators)\n",
    "\n",
    "\n",
    "    def insert_datum(self,datum:pd.DataFrame):\n",
    "        self._data = self._data.combine_first(datum)\n",
    "\n",
    "\n",
    "    def check_is_regular(self):\n",
    "        ''' Checks the close times series to see if time intervals are regular. '''\n",
    "        close_times = self._data.reset_index()[['close-time']].copy()\n",
    "\n",
    "        if len(close_times)<2:\n",
    "            return True\n",
    "\n",
    "        close_times.loc[:,'close-time-diff'] = close_times['close-time'].diff()\n",
    "\n",
    "        if (close_times['close-time-diff'].dropna().nunique())>1:\n",
    "            return False\n",
    "        else:\n",
    "            return True\n",
    "    \n",
    "\n",
    "    def calc_indicators(self,*args):\n",
    "        for arg in args:\n",
    "            func = getattr(DataStore,arg)\n",
    "            self.calc_indicator(func)\n",
    "\n",
    "\n",
    "    def calc_indicator(self,func):\n",
    "        ''' Calculates values for the indicator. '''\n",
    "        indicator_name = func.__name__\n",
    "        indicator_value = func(self._data['close-price'])\n",
    "\n",
    "        if indicator_name not in self._data:\n",
    "            self._data.loc[:,indicator_name] = indicator_value\n",
    "        else:\n",
    "            indicator_index_value = self._data.columns.tolist().index(indicator_name)\n",
    "            self._data.iloc[-1,indicator_index_value] = indicator_value\n",
    "\n",
    "\n",
    "\n",
    "    @staticmethod\n",
    "    def rolling_mean_30(series):\n",
    "        return np.mean(series.iloc[-30:])\n",
    "\n",
    "    @staticmethod\n",
    "    def rolling_median_30(series):\n",
    "        return np.median(series.iloc[-30:])\n",
    "\n",
    "    @staticmethod\n",
    "    def calc_trend_30(series):\n",
    "        x = series.iloc[-30:].index.astype(float).values\n",
    "        y = series.iloc[-30:].astype(float).values\n",
    "        \n",
    "        if len(series)>3:\n",
    "            grad = np.polyfit(x,y,1,full=False)[0]\n",
    "        else:\n",
    "            grad = np.nan\n",
    "        return grad\n",
    "\n",
    "    @staticmethod\n",
    "    def calc_trend(series):\n",
    "        x = series.dropna().index.astype(float).values\n",
    "        y = series.dropna().astype(float).values\n",
    "        if len(y)>3:\n",
    "            grad = np.polyfit(x,y,1,full=False)[0]\n",
    "        else:\n",
    "            grad = np.nan\n",
    "        return grad\n",
    "\n",
    "    @staticmethod\n",
    "    def calc_acceleration_30(series):\n",
    "        first_order = series.iloc[-60:].rolling(30).apply(lambda x: DataStore.calc_trend(x))\n",
    "        first_order = first_order.iloc[-30:]\n",
    "        return DataStore.calc_trend(first_order)\n",
    "\n",
    "# if __name__ == \"__main__\":\n",
    "    \n",
    "#     store = DataStore(name=\"Test\")\n",
    "\n",
    "#     df = pd.read_csv('bot.csv',index_col=0)\n",
    "\n",
    "#     for n,row in enumerate(df.iterrows()):\n",
    "#         store.add_datum(row[1].to_frame().T)\n",
    "\n",
    "#     store._data.to_csv('cvb.csv')"
   ]
  },
  {
   "cell_type": "code",
   "execution_count": null,
   "id": "b09ce5df",
   "metadata": {},
   "outputs": [],
   "source": []
  },
  {
   "cell_type": "code",
   "execution_count": null,
   "id": "5e22478f",
   "metadata": {},
   "outputs": [],
   "source": []
  },
  {
   "cell_type": "code",
   "execution_count": null,
   "id": "34ac2b2d",
   "metadata": {},
   "outputs": [],
   "source": []
  }
 ],
 "metadata": {
  "kernelspec": {
   "display_name": "Python 3 (ipykernel)",
   "language": "python",
   "name": "python3"
  },
  "language_info": {
   "codemirror_mode": {
    "name": "ipython",
    "version": 3
   },
   "file_extension": ".py",
   "mimetype": "text/x-python",
   "name": "python",
   "nbconvert_exporter": "python",
   "pygments_lexer": "ipython3",
   "version": "3.9.7"
  }
 },
 "nbformat": 4,
 "nbformat_minor": 5
}
