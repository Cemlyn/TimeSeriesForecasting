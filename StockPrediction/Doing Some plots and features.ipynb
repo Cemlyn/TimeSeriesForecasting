{
 "cells": [
  {
   "cell_type": "code",
   "execution_count": 179,
   "id": "cbed3774",
   "metadata": {},
   "outputs": [],
   "source": [
    "import pandas as pd\n",
    "import numpy as np\n",
    "import os\n",
    "from matplotlib import pyplot as plt"
   ]
  },
  {
   "cell_type": "code",
   "execution_count": 180,
   "id": "ec78f695",
   "metadata": {},
   "outputs": [
    {
     "data": {
      "text/html": [
       "<div>\n",
       "<style scoped>\n",
       "    .dataframe tbody tr th:only-of-type {\n",
       "        vertical-align: middle;\n",
       "    }\n",
       "\n",
       "    .dataframe tbody tr th {\n",
       "        vertical-align: top;\n",
       "    }\n",
       "\n",
       "    .dataframe thead th {\n",
       "        text-align: right;\n",
       "    }\n",
       "</style>\n",
       "<table border=\"1\" class=\"dataframe\">\n",
       "  <thead>\n",
       "    <tr style=\"text-align: right;\">\n",
       "      <th></th>\n",
       "      <th>datetime</th>\n",
       "      <th>volume</th>\n",
       "      <th>volume_weighted</th>\n",
       "      <th>open</th>\n",
       "      <th>close</th>\n",
       "      <th>high</th>\n",
       "      <th>low</th>\n",
       "      <th>timestamp</th>\n",
       "      <th>no_transactions</th>\n",
       "    </tr>\n",
       "  </thead>\n",
       "  <tbody>\n",
       "    <tr>\n",
       "      <th>0</th>\n",
       "      <td>2022-01-03 09:00:00</td>\n",
       "      <td>9426.0</td>\n",
       "      <td>476.6581</td>\n",
       "      <td>476.38</td>\n",
       "      <td>476.56</td>\n",
       "      <td>476.92</td>\n",
       "      <td>476.38</td>\n",
       "      <td>1641200400000</td>\n",
       "      <td>115</td>\n",
       "    </tr>\n",
       "    <tr>\n",
       "      <th>1</th>\n",
       "      <td>2022-01-03 09:05:00</td>\n",
       "      <td>1778.0</td>\n",
       "      <td>476.4585</td>\n",
       "      <td>476.48</td>\n",
       "      <td>476.44</td>\n",
       "      <td>476.49</td>\n",
       "      <td>476.44</td>\n",
       "      <td>1641200700000</td>\n",
       "      <td>37</td>\n",
       "    </tr>\n",
       "    <tr>\n",
       "      <th>2</th>\n",
       "      <td>2022-01-03 09:10:00</td>\n",
       "      <td>9767.0</td>\n",
       "      <td>476.7624</td>\n",
       "      <td>476.62</td>\n",
       "      <td>476.83</td>\n",
       "      <td>476.87</td>\n",
       "      <td>476.58</td>\n",
       "      <td>1641201000000</td>\n",
       "      <td>80</td>\n",
       "    </tr>\n",
       "    <tr>\n",
       "      <th>3</th>\n",
       "      <td>2022-01-03 09:15:00</td>\n",
       "      <td>1743.0</td>\n",
       "      <td>476.7269</td>\n",
       "      <td>476.84</td>\n",
       "      <td>476.53</td>\n",
       "      <td>476.84</td>\n",
       "      <td>476.53</td>\n",
       "      <td>1641201300000</td>\n",
       "      <td>44</td>\n",
       "    </tr>\n",
       "    <tr>\n",
       "      <th>4</th>\n",
       "      <td>2022-01-03 09:20:00</td>\n",
       "      <td>1037.0</td>\n",
       "      <td>476.7011</td>\n",
       "      <td>476.65</td>\n",
       "      <td>476.82</td>\n",
       "      <td>476.82</td>\n",
       "      <td>476.62</td>\n",
       "      <td>1641201600000</td>\n",
       "      <td>21</td>\n",
       "    </tr>\n",
       "  </tbody>\n",
       "</table>\n",
       "</div>"
      ],
      "text/plain": [
       "             datetime  volume  volume_weighted    open   close    high  \\\n",
       "0 2022-01-03 09:00:00  9426.0         476.6581  476.38  476.56  476.92   \n",
       "1 2022-01-03 09:05:00  1778.0         476.4585  476.48  476.44  476.49   \n",
       "2 2022-01-03 09:10:00  9767.0         476.7624  476.62  476.83  476.87   \n",
       "3 2022-01-03 09:15:00  1743.0         476.7269  476.84  476.53  476.84   \n",
       "4 2022-01-03 09:20:00  1037.0         476.7011  476.65  476.82  476.82   \n",
       "\n",
       "      low      timestamp  no_transactions  \n",
       "0  476.38  1641200400000              115  \n",
       "1  476.44  1641200700000               37  \n",
       "2  476.58  1641201000000               80  \n",
       "3  476.53  1641201300000               44  \n",
       "4  476.62  1641201600000               21  "
      ]
     },
     "execution_count": 180,
     "metadata": {},
     "output_type": "execute_result"
    }
   ],
   "source": [
    "file_loc = 'SPY_5min_2022-01-03T09.00.00_2022-03-25T14.10.00.csv'\n",
    "df = pd.read_csv(os.path.join('data',file_loc),parse_dates=['datetime'])\n",
    "df.head()"
   ]
  },
  {
   "cell_type": "code",
   "execution_count": 184,
   "id": "f3a61f81",
   "metadata": {},
   "outputs": [],
   "source": [
    "def rsi(series):\n",
    "    diff = series.diff()\n",
    "    ups = np.where(diff>0,diff,0).mean()\n",
    "    downs = -np.where(diff<=0,diff,0).mean()\n",
    "    \n",
    "    #print(ups,downs)\n",
    "    rs = ups/downs\n",
    "    rsi = 100-100/(1+rs)\n",
    "    return rsi\n",
    "\n",
    "df['rsi'] = df['close'].rolling(100).apply(lambda x: rsi(x))"
   ]
  },
  {
   "cell_type": "code",
   "execution_count": 185,
   "id": "4d2e27b5",
   "metadata": {},
   "outputs": [
    {
     "data": {
      "text/html": [
       "<div>\n",
       "<style scoped>\n",
       "    .dataframe tbody tr th:only-of-type {\n",
       "        vertical-align: middle;\n",
       "    }\n",
       "\n",
       "    .dataframe tbody tr th {\n",
       "        vertical-align: top;\n",
       "    }\n",
       "\n",
       "    .dataframe thead th {\n",
       "        text-align: right;\n",
       "    }\n",
       "</style>\n",
       "<table border=\"1\" class=\"dataframe\">\n",
       "  <thead>\n",
       "    <tr style=\"text-align: right;\">\n",
       "      <th></th>\n",
       "      <th>datetime</th>\n",
       "      <th>volume</th>\n",
       "      <th>volume_weighted</th>\n",
       "      <th>open</th>\n",
       "      <th>close</th>\n",
       "      <th>high</th>\n",
       "      <th>low</th>\n",
       "      <th>timestamp</th>\n",
       "      <th>no_transactions</th>\n",
       "      <th>time-delta</th>\n",
       "      <th>close_diff</th>\n",
       "      <th>date</th>\n",
       "      <th>rsi</th>\n",
       "    </tr>\n",
       "  </thead>\n",
       "  <tbody>\n",
       "    <tr>\n",
       "      <th>0</th>\n",
       "      <td>2022-01-03 09:00:00</td>\n",
       "      <td>9426.0</td>\n",
       "      <td>476.6581</td>\n",
       "      <td>476.38</td>\n",
       "      <td>476.56</td>\n",
       "      <td>476.92</td>\n",
       "      <td>476.38</td>\n",
       "      <td>1641200400000</td>\n",
       "      <td>115</td>\n",
       "      <td>NaN</td>\n",
       "      <td>NaN</td>\n",
       "      <td>2022-01-03</td>\n",
       "      <td>NaN</td>\n",
       "    </tr>\n",
       "    <tr>\n",
       "      <th>1</th>\n",
       "      <td>2022-01-03 09:05:00</td>\n",
       "      <td>1778.0</td>\n",
       "      <td>476.4585</td>\n",
       "      <td>476.48</td>\n",
       "      <td>476.44</td>\n",
       "      <td>476.49</td>\n",
       "      <td>476.44</td>\n",
       "      <td>1641200700000</td>\n",
       "      <td>37</td>\n",
       "      <td>300.0</td>\n",
       "      <td>-0.000252</td>\n",
       "      <td>2022-01-03</td>\n",
       "      <td>NaN</td>\n",
       "    </tr>\n",
       "    <tr>\n",
       "      <th>2</th>\n",
       "      <td>2022-01-03 09:10:00</td>\n",
       "      <td>9767.0</td>\n",
       "      <td>476.7624</td>\n",
       "      <td>476.62</td>\n",
       "      <td>476.83</td>\n",
       "      <td>476.87</td>\n",
       "      <td>476.58</td>\n",
       "      <td>1641201000000</td>\n",
       "      <td>80</td>\n",
       "      <td>300.0</td>\n",
       "      <td>0.000819</td>\n",
       "      <td>2022-01-03</td>\n",
       "      <td>NaN</td>\n",
       "    </tr>\n",
       "    <tr>\n",
       "      <th>3</th>\n",
       "      <td>2022-01-03 09:15:00</td>\n",
       "      <td>1743.0</td>\n",
       "      <td>476.7269</td>\n",
       "      <td>476.84</td>\n",
       "      <td>476.53</td>\n",
       "      <td>476.84</td>\n",
       "      <td>476.53</td>\n",
       "      <td>1641201300000</td>\n",
       "      <td>44</td>\n",
       "      <td>300.0</td>\n",
       "      <td>-0.000629</td>\n",
       "      <td>2022-01-03</td>\n",
       "      <td>NaN</td>\n",
       "    </tr>\n",
       "    <tr>\n",
       "      <th>4</th>\n",
       "      <td>2022-01-03 09:20:00</td>\n",
       "      <td>1037.0</td>\n",
       "      <td>476.7011</td>\n",
       "      <td>476.65</td>\n",
       "      <td>476.82</td>\n",
       "      <td>476.82</td>\n",
       "      <td>476.62</td>\n",
       "      <td>1641201600000</td>\n",
       "      <td>21</td>\n",
       "      <td>300.0</td>\n",
       "      <td>0.000609</td>\n",
       "      <td>2022-01-03</td>\n",
       "      <td>NaN</td>\n",
       "    </tr>\n",
       "  </tbody>\n",
       "</table>\n",
       "</div>"
      ],
      "text/plain": [
       "             datetime  volume  volume_weighted    open   close    high  \\\n",
       "0 2022-01-03 09:00:00  9426.0         476.6581  476.38  476.56  476.92   \n",
       "1 2022-01-03 09:05:00  1778.0         476.4585  476.48  476.44  476.49   \n",
       "2 2022-01-03 09:10:00  9767.0         476.7624  476.62  476.83  476.87   \n",
       "3 2022-01-03 09:15:00  1743.0         476.7269  476.84  476.53  476.84   \n",
       "4 2022-01-03 09:20:00  1037.0         476.7011  476.65  476.82  476.82   \n",
       "\n",
       "      low      timestamp  no_transactions  time-delta  close_diff        date  \\\n",
       "0  476.38  1641200400000              115         NaN         NaN  2022-01-03   \n",
       "1  476.44  1641200700000               37       300.0   -0.000252  2022-01-03   \n",
       "2  476.58  1641201000000               80       300.0    0.000819  2022-01-03   \n",
       "3  476.53  1641201300000               44       300.0   -0.000629  2022-01-03   \n",
       "4  476.62  1641201600000               21       300.0    0.000609  2022-01-03   \n",
       "\n",
       "   rsi  \n",
       "0  NaN  \n",
       "1  NaN  \n",
       "2  NaN  \n",
       "3  NaN  \n",
       "4  NaN  "
      ]
     },
     "execution_count": 185,
     "metadata": {},
     "output_type": "execute_result"
    }
   ],
   "source": [
    "df['time-delta'] = df['datetime'].diff().dt.seconds\n",
    "for col in ['close']:\n",
    "    df[f'{col}_diff'] = df[col].pct_change()\n",
    "df.head()"
   ]
  },
  {
   "cell_type": "code",
   "execution_count": 186,
   "id": "14d0f3ad",
   "metadata": {},
   "outputs": [
    {
     "data": {
      "text/html": [
       "<div>\n",
       "<style scoped>\n",
       "    .dataframe tbody tr th:only-of-type {\n",
       "        vertical-align: middle;\n",
       "    }\n",
       "\n",
       "    .dataframe tbody tr th {\n",
       "        vertical-align: top;\n",
       "    }\n",
       "\n",
       "    .dataframe thead th {\n",
       "        text-align: right;\n",
       "    }\n",
       "</style>\n",
       "<table border=\"1\" class=\"dataframe\">\n",
       "  <thead>\n",
       "    <tr style=\"text-align: right;\">\n",
       "      <th></th>\n",
       "      <th>datetime</th>\n",
       "      <th>volume</th>\n",
       "      <th>volume_weighted</th>\n",
       "      <th>open</th>\n",
       "      <th>close</th>\n",
       "      <th>high</th>\n",
       "      <th>low</th>\n",
       "      <th>timestamp</th>\n",
       "      <th>no_transactions</th>\n",
       "      <th>time-delta</th>\n",
       "      <th>close_diff</th>\n",
       "      <th>date</th>\n",
       "      <th>rsi</th>\n",
       "    </tr>\n",
       "  </thead>\n",
       "  <tbody>\n",
       "    <tr>\n",
       "      <th>0</th>\n",
       "      <td>2022-01-03 09:00:00</td>\n",
       "      <td>9426.0</td>\n",
       "      <td>476.6581</td>\n",
       "      <td>476.38</td>\n",
       "      <td>476.56</td>\n",
       "      <td>476.92</td>\n",
       "      <td>476.38</td>\n",
       "      <td>1641200400000</td>\n",
       "      <td>115</td>\n",
       "      <td>NaN</td>\n",
       "      <td>NaN</td>\n",
       "      <td>2022-01-03</td>\n",
       "      <td>NaN</td>\n",
       "    </tr>\n",
       "    <tr>\n",
       "      <th>1</th>\n",
       "      <td>2022-01-03 09:05:00</td>\n",
       "      <td>1778.0</td>\n",
       "      <td>476.4585</td>\n",
       "      <td>476.48</td>\n",
       "      <td>476.44</td>\n",
       "      <td>476.49</td>\n",
       "      <td>476.44</td>\n",
       "      <td>1641200700000</td>\n",
       "      <td>37</td>\n",
       "      <td>300.0</td>\n",
       "      <td>-0.000252</td>\n",
       "      <td>2022-01-03</td>\n",
       "      <td>NaN</td>\n",
       "    </tr>\n",
       "    <tr>\n",
       "      <th>2</th>\n",
       "      <td>2022-01-03 09:10:00</td>\n",
       "      <td>9767.0</td>\n",
       "      <td>476.7624</td>\n",
       "      <td>476.62</td>\n",
       "      <td>476.83</td>\n",
       "      <td>476.87</td>\n",
       "      <td>476.58</td>\n",
       "      <td>1641201000000</td>\n",
       "      <td>80</td>\n",
       "      <td>300.0</td>\n",
       "      <td>0.000819</td>\n",
       "      <td>2022-01-03</td>\n",
       "      <td>NaN</td>\n",
       "    </tr>\n",
       "    <tr>\n",
       "      <th>3</th>\n",
       "      <td>2022-01-03 09:15:00</td>\n",
       "      <td>1743.0</td>\n",
       "      <td>476.7269</td>\n",
       "      <td>476.84</td>\n",
       "      <td>476.53</td>\n",
       "      <td>476.84</td>\n",
       "      <td>476.53</td>\n",
       "      <td>1641201300000</td>\n",
       "      <td>44</td>\n",
       "      <td>300.0</td>\n",
       "      <td>-0.000629</td>\n",
       "      <td>2022-01-03</td>\n",
       "      <td>NaN</td>\n",
       "    </tr>\n",
       "    <tr>\n",
       "      <th>4</th>\n",
       "      <td>2022-01-03 09:20:00</td>\n",
       "      <td>1037.0</td>\n",
       "      <td>476.7011</td>\n",
       "      <td>476.65</td>\n",
       "      <td>476.82</td>\n",
       "      <td>476.82</td>\n",
       "      <td>476.62</td>\n",
       "      <td>1641201600000</td>\n",
       "      <td>21</td>\n",
       "      <td>300.0</td>\n",
       "      <td>0.000609</td>\n",
       "      <td>2022-01-03</td>\n",
       "      <td>NaN</td>\n",
       "    </tr>\n",
       "  </tbody>\n",
       "</table>\n",
       "</div>"
      ],
      "text/plain": [
       "             datetime  volume  volume_weighted    open   close    high  \\\n",
       "0 2022-01-03 09:00:00  9426.0         476.6581  476.38  476.56  476.92   \n",
       "1 2022-01-03 09:05:00  1778.0         476.4585  476.48  476.44  476.49   \n",
       "2 2022-01-03 09:10:00  9767.0         476.7624  476.62  476.83  476.87   \n",
       "3 2022-01-03 09:15:00  1743.0         476.7269  476.84  476.53  476.84   \n",
       "4 2022-01-03 09:20:00  1037.0         476.7011  476.65  476.82  476.82   \n",
       "\n",
       "      low      timestamp  no_transactions  time-delta  close_diff        date  \\\n",
       "0  476.38  1641200400000              115         NaN         NaN  2022-01-03   \n",
       "1  476.44  1641200700000               37       300.0   -0.000252  2022-01-03   \n",
       "2  476.58  1641201000000               80       300.0    0.000819  2022-01-03   \n",
       "3  476.53  1641201300000               44       300.0   -0.000629  2022-01-03   \n",
       "4  476.62  1641201600000               21       300.0    0.000609  2022-01-03   \n",
       "\n",
       "   rsi  \n",
       "0  NaN  \n",
       "1  NaN  \n",
       "2  NaN  \n",
       "3  NaN  \n",
       "4  NaN  "
      ]
     },
     "execution_count": 186,
     "metadata": {},
     "output_type": "execute_result"
    }
   ],
   "source": [
    "df['date'] = df['datetime'].dt.date\n",
    "df.head()"
   ]
  },
  {
   "cell_type": "code",
   "execution_count": 187,
   "id": "a309cd5e",
   "metadata": {},
   "outputs": [
    {
     "data": {
      "text/html": [
       "<div>\n",
       "<style scoped>\n",
       "    .dataframe tbody tr th:only-of-type {\n",
       "        vertical-align: middle;\n",
       "    }\n",
       "\n",
       "    .dataframe tbody tr th {\n",
       "        vertical-align: top;\n",
       "    }\n",
       "\n",
       "    .dataframe thead th {\n",
       "        text-align: right;\n",
       "    }\n",
       "</style>\n",
       "<table border=\"1\" class=\"dataframe\">\n",
       "  <thead>\n",
       "    <tr style=\"text-align: right;\">\n",
       "      <th></th>\n",
       "      <th>min</th>\n",
       "      <th>max</th>\n",
       "    </tr>\n",
       "    <tr>\n",
       "      <th>date</th>\n",
       "      <th></th>\n",
       "      <th></th>\n",
       "    </tr>\n",
       "  </thead>\n",
       "  <tbody>\n",
       "    <tr>\n",
       "      <th>2022-01-03</th>\n",
       "      <td>474.550</td>\n",
       "      <td>478.06</td>\n",
       "    </tr>\n",
       "    <tr>\n",
       "      <th>2022-01-04</th>\n",
       "      <td>475.720</td>\n",
       "      <td>479.84</td>\n",
       "    </tr>\n",
       "    <tr>\n",
       "      <th>2022-01-05</th>\n",
       "      <td>467.660</td>\n",
       "      <td>477.83</td>\n",
       "    </tr>\n",
       "    <tr>\n",
       "      <th>2022-01-06</th>\n",
       "      <td>466.090</td>\n",
       "      <td>470.67</td>\n",
       "    </tr>\n",
       "    <tr>\n",
       "      <th>2022-01-07</th>\n",
       "      <td>465.000</td>\n",
       "      <td>469.65</td>\n",
       "    </tr>\n",
       "    <tr>\n",
       "      <th>...</th>\n",
       "      <td>...</td>\n",
       "      <td>...</td>\n",
       "    </tr>\n",
       "    <tr>\n",
       "      <th>2022-03-21</th>\n",
       "      <td>440.770</td>\n",
       "      <td>446.26</td>\n",
       "    </tr>\n",
       "    <tr>\n",
       "      <th>2022-03-22</th>\n",
       "      <td>444.930</td>\n",
       "      <td>450.26</td>\n",
       "    </tr>\n",
       "    <tr>\n",
       "      <th>2022-03-23</th>\n",
       "      <td>443.730</td>\n",
       "      <td>449.30</td>\n",
       "    </tr>\n",
       "    <tr>\n",
       "      <th>2022-03-24</th>\n",
       "      <td>445.125</td>\n",
       "      <td>450.78</td>\n",
       "    </tr>\n",
       "    <tr>\n",
       "      <th>2022-03-25</th>\n",
       "      <td>449.360</td>\n",
       "      <td>452.06</td>\n",
       "    </tr>\n",
       "  </tbody>\n",
       "</table>\n",
       "<p>68 rows × 2 columns</p>\n",
       "</div>"
      ],
      "text/plain": [
       "                min     max\n",
       "date                       \n",
       "2022-01-03  474.550  478.06\n",
       "2022-01-04  475.720  479.84\n",
       "2022-01-05  467.660  477.83\n",
       "2022-01-06  466.090  470.67\n",
       "2022-01-07  465.000  469.65\n",
       "...             ...     ...\n",
       "2022-03-21  440.770  446.26\n",
       "2022-03-22  444.930  450.26\n",
       "2022-03-23  443.730  449.30\n",
       "2022-03-24  445.125  450.78\n",
       "2022-03-25  449.360  452.06\n",
       "\n",
       "[68 rows x 2 columns]"
      ]
     },
     "execution_count": 187,
     "metadata": {},
     "output_type": "execute_result"
    }
   ],
   "source": [
    "df.groupby('date')['close'].agg(['min','max'])"
   ]
  },
  {
   "cell_type": "code",
   "execution_count": 188,
   "id": "e7f6632a",
   "metadata": {},
   "outputs": [
    {
     "data": {
      "text/html": [
       "<div>\n",
       "<style scoped>\n",
       "    .dataframe tbody tr th:only-of-type {\n",
       "        vertical-align: middle;\n",
       "    }\n",
       "\n",
       "    .dataframe tbody tr th {\n",
       "        vertical-align: top;\n",
       "    }\n",
       "\n",
       "    .dataframe thead th {\n",
       "        text-align: right;\n",
       "    }\n",
       "</style>\n",
       "<table border=\"1\" class=\"dataframe\">\n",
       "  <thead>\n",
       "    <tr style=\"text-align: right;\">\n",
       "      <th></th>\n",
       "      <th>datetime</th>\n",
       "      <th>volume</th>\n",
       "      <th>volume_weighted</th>\n",
       "      <th>open</th>\n",
       "      <th>close</th>\n",
       "      <th>high</th>\n",
       "      <th>low</th>\n",
       "      <th>timestamp</th>\n",
       "      <th>no_transactions</th>\n",
       "      <th>time-delta</th>\n",
       "      <th>close_diff</th>\n",
       "      <th>date</th>\n",
       "      <th>rsi</th>\n",
       "      <th>previous_day_min</th>\n",
       "      <th>previous_day_max</th>\n",
       "      <th>previous_day_max_ratio</th>\n",
       "      <th>previous_day_min_ratio</th>\n",
       "    </tr>\n",
       "  </thead>\n",
       "  <tbody>\n",
       "    <tr>\n",
       "      <th>0</th>\n",
       "      <td>2022-01-03 09:00:00</td>\n",
       "      <td>9426.0</td>\n",
       "      <td>476.6581</td>\n",
       "      <td>476.3800</td>\n",
       "      <td>476.5600</td>\n",
       "      <td>476.9200</td>\n",
       "      <td>476.38</td>\n",
       "      <td>1641200400000</td>\n",
       "      <td>115</td>\n",
       "      <td>NaN</td>\n",
       "      <td>NaN</td>\n",
       "      <td>2022-01-03</td>\n",
       "      <td>NaN</td>\n",
       "      <td>NaN</td>\n",
       "      <td>NaN</td>\n",
       "      <td>NaN</td>\n",
       "      <td>NaN</td>\n",
       "    </tr>\n",
       "    <tr>\n",
       "      <th>1</th>\n",
       "      <td>2022-01-03 09:05:00</td>\n",
       "      <td>1778.0</td>\n",
       "      <td>476.4585</td>\n",
       "      <td>476.4800</td>\n",
       "      <td>476.4400</td>\n",
       "      <td>476.4900</td>\n",
       "      <td>476.44</td>\n",
       "      <td>1641200700000</td>\n",
       "      <td>37</td>\n",
       "      <td>300.0</td>\n",
       "      <td>-0.000252</td>\n",
       "      <td>2022-01-03</td>\n",
       "      <td>NaN</td>\n",
       "      <td>NaN</td>\n",
       "      <td>NaN</td>\n",
       "      <td>NaN</td>\n",
       "      <td>NaN</td>\n",
       "    </tr>\n",
       "    <tr>\n",
       "      <th>2</th>\n",
       "      <td>2022-01-03 09:10:00</td>\n",
       "      <td>9767.0</td>\n",
       "      <td>476.7624</td>\n",
       "      <td>476.6200</td>\n",
       "      <td>476.8300</td>\n",
       "      <td>476.8700</td>\n",
       "      <td>476.58</td>\n",
       "      <td>1641201000000</td>\n",
       "      <td>80</td>\n",
       "      <td>300.0</td>\n",
       "      <td>0.000819</td>\n",
       "      <td>2022-01-03</td>\n",
       "      <td>NaN</td>\n",
       "      <td>NaN</td>\n",
       "      <td>NaN</td>\n",
       "      <td>NaN</td>\n",
       "      <td>NaN</td>\n",
       "    </tr>\n",
       "    <tr>\n",
       "      <th>3</th>\n",
       "      <td>2022-01-03 09:15:00</td>\n",
       "      <td>1743.0</td>\n",
       "      <td>476.7269</td>\n",
       "      <td>476.8400</td>\n",
       "      <td>476.5300</td>\n",
       "      <td>476.8400</td>\n",
       "      <td>476.53</td>\n",
       "      <td>1641201300000</td>\n",
       "      <td>44</td>\n",
       "      <td>300.0</td>\n",
       "      <td>-0.000629</td>\n",
       "      <td>2022-01-03</td>\n",
       "      <td>NaN</td>\n",
       "      <td>NaN</td>\n",
       "      <td>NaN</td>\n",
       "      <td>NaN</td>\n",
       "      <td>NaN</td>\n",
       "    </tr>\n",
       "    <tr>\n",
       "      <th>4</th>\n",
       "      <td>2022-01-03 09:20:00</td>\n",
       "      <td>1037.0</td>\n",
       "      <td>476.7011</td>\n",
       "      <td>476.6500</td>\n",
       "      <td>476.8200</td>\n",
       "      <td>476.8200</td>\n",
       "      <td>476.62</td>\n",
       "      <td>1641201600000</td>\n",
       "      <td>21</td>\n",
       "      <td>300.0</td>\n",
       "      <td>0.000609</td>\n",
       "      <td>2022-01-03</td>\n",
       "      <td>NaN</td>\n",
       "      <td>NaN</td>\n",
       "      <td>NaN</td>\n",
       "      <td>NaN</td>\n",
       "      <td>NaN</td>\n",
       "    </tr>\n",
       "    <tr>\n",
       "      <th>...</th>\n",
       "      <td>...</td>\n",
       "      <td>...</td>\n",
       "      <td>...</td>\n",
       "      <td>...</td>\n",
       "      <td>...</td>\n",
       "      <td>...</td>\n",
       "      <td>...</td>\n",
       "      <td>...</td>\n",
       "      <td>...</td>\n",
       "      <td>...</td>\n",
       "      <td>...</td>\n",
       "      <td>...</td>\n",
       "      <td>...</td>\n",
       "      <td>...</td>\n",
       "      <td>...</td>\n",
       "      <td>...</td>\n",
       "      <td>...</td>\n",
       "    </tr>\n",
       "    <tr>\n",
       "      <th>10960</th>\n",
       "      <td>2022-03-25 13:50:00</td>\n",
       "      <td>768843.0</td>\n",
       "      <td>451.3734</td>\n",
       "      <td>451.3881</td>\n",
       "      <td>451.4900</td>\n",
       "      <td>451.6300</td>\n",
       "      <td>451.10</td>\n",
       "      <td>1648216200000</td>\n",
       "      <td>10940</td>\n",
       "      <td>300.0</td>\n",
       "      <td>0.000222</td>\n",
       "      <td>2022-03-25</td>\n",
       "      <td>53.101784</td>\n",
       "      <td>445.125</td>\n",
       "      <td>450.78</td>\n",
       "      <td>1.001575</td>\n",
       "      <td>1.014299</td>\n",
       "    </tr>\n",
       "    <tr>\n",
       "      <th>10961</th>\n",
       "      <td>2022-03-25 13:55:00</td>\n",
       "      <td>654224.0</td>\n",
       "      <td>451.0207</td>\n",
       "      <td>451.5100</td>\n",
       "      <td>450.8601</td>\n",
       "      <td>451.5400</td>\n",
       "      <td>450.64</td>\n",
       "      <td>1648216500000</td>\n",
       "      <td>8177</td>\n",
       "      <td>300.0</td>\n",
       "      <td>-0.001395</td>\n",
       "      <td>2022-03-25</td>\n",
       "      <td>50.650740</td>\n",
       "      <td>445.125</td>\n",
       "      <td>450.78</td>\n",
       "      <td>1.000178</td>\n",
       "      <td>1.012884</td>\n",
       "    </tr>\n",
       "    <tr>\n",
       "      <th>10962</th>\n",
       "      <td>2022-03-25 14:00:00</td>\n",
       "      <td>657433.0</td>\n",
       "      <td>450.7049</td>\n",
       "      <td>450.8800</td>\n",
       "      <td>450.8000</td>\n",
       "      <td>451.0300</td>\n",
       "      <td>450.45</td>\n",
       "      <td>1648216800000</td>\n",
       "      <td>8871</td>\n",
       "      <td>300.0</td>\n",
       "      <td>-0.000133</td>\n",
       "      <td>2022-03-25</td>\n",
       "      <td>50.650374</td>\n",
       "      <td>445.125</td>\n",
       "      <td>450.78</td>\n",
       "      <td>1.000044</td>\n",
       "      <td>1.012749</td>\n",
       "    </tr>\n",
       "    <tr>\n",
       "      <th>10963</th>\n",
       "      <td>2022-03-25 14:05:00</td>\n",
       "      <td>507110.0</td>\n",
       "      <td>450.9019</td>\n",
       "      <td>450.7901</td>\n",
       "      <td>451.1650</td>\n",
       "      <td>451.2400</td>\n",
       "      <td>450.64</td>\n",
       "      <td>1648217100000</td>\n",
       "      <td>7328</td>\n",
       "      <td>300.0</td>\n",
       "      <td>0.000810</td>\n",
       "      <td>2022-03-25</td>\n",
       "      <td>51.918582</td>\n",
       "      <td>445.125</td>\n",
       "      <td>450.78</td>\n",
       "      <td>1.000854</td>\n",
       "      <td>1.013569</td>\n",
       "    </tr>\n",
       "    <tr>\n",
       "      <th>10964</th>\n",
       "      <td>2022-03-25 14:10:00</td>\n",
       "      <td>793393.0</td>\n",
       "      <td>450.9671</td>\n",
       "      <td>451.1700</td>\n",
       "      <td>451.0400</td>\n",
       "      <td>451.4345</td>\n",
       "      <td>451.04</td>\n",
       "      <td>1648217400000</td>\n",
       "      <td>6891</td>\n",
       "      <td>300.0</td>\n",
       "      <td>-0.000277</td>\n",
       "      <td>2022-03-25</td>\n",
       "      <td>51.718309</td>\n",
       "      <td>445.125</td>\n",
       "      <td>450.78</td>\n",
       "      <td>1.000577</td>\n",
       "      <td>1.013288</td>\n",
       "    </tr>\n",
       "  </tbody>\n",
       "</table>\n",
       "<p>10965 rows × 17 columns</p>\n",
       "</div>"
      ],
      "text/plain": [
       "                 datetime    volume  volume_weighted      open     close  \\\n",
       "0     2022-01-03 09:00:00    9426.0         476.6581  476.3800  476.5600   \n",
       "1     2022-01-03 09:05:00    1778.0         476.4585  476.4800  476.4400   \n",
       "2     2022-01-03 09:10:00    9767.0         476.7624  476.6200  476.8300   \n",
       "3     2022-01-03 09:15:00    1743.0         476.7269  476.8400  476.5300   \n",
       "4     2022-01-03 09:20:00    1037.0         476.7011  476.6500  476.8200   \n",
       "...                   ...       ...              ...       ...       ...   \n",
       "10960 2022-03-25 13:50:00  768843.0         451.3734  451.3881  451.4900   \n",
       "10961 2022-03-25 13:55:00  654224.0         451.0207  451.5100  450.8601   \n",
       "10962 2022-03-25 14:00:00  657433.0         450.7049  450.8800  450.8000   \n",
       "10963 2022-03-25 14:05:00  507110.0         450.9019  450.7901  451.1650   \n",
       "10964 2022-03-25 14:10:00  793393.0         450.9671  451.1700  451.0400   \n",
       "\n",
       "           high     low      timestamp  no_transactions  time-delta  \\\n",
       "0      476.9200  476.38  1641200400000              115         NaN   \n",
       "1      476.4900  476.44  1641200700000               37       300.0   \n",
       "2      476.8700  476.58  1641201000000               80       300.0   \n",
       "3      476.8400  476.53  1641201300000               44       300.0   \n",
       "4      476.8200  476.62  1641201600000               21       300.0   \n",
       "...         ...     ...            ...              ...         ...   \n",
       "10960  451.6300  451.10  1648216200000            10940       300.0   \n",
       "10961  451.5400  450.64  1648216500000             8177       300.0   \n",
       "10962  451.0300  450.45  1648216800000             8871       300.0   \n",
       "10963  451.2400  450.64  1648217100000             7328       300.0   \n",
       "10964  451.4345  451.04  1648217400000             6891       300.0   \n",
       "\n",
       "       close_diff        date        rsi  previous_day_min  previous_day_max  \\\n",
       "0             NaN  2022-01-03        NaN               NaN               NaN   \n",
       "1       -0.000252  2022-01-03        NaN               NaN               NaN   \n",
       "2        0.000819  2022-01-03        NaN               NaN               NaN   \n",
       "3       -0.000629  2022-01-03        NaN               NaN               NaN   \n",
       "4        0.000609  2022-01-03        NaN               NaN               NaN   \n",
       "...           ...         ...        ...               ...               ...   \n",
       "10960    0.000222  2022-03-25  53.101784           445.125            450.78   \n",
       "10961   -0.001395  2022-03-25  50.650740           445.125            450.78   \n",
       "10962   -0.000133  2022-03-25  50.650374           445.125            450.78   \n",
       "10963    0.000810  2022-03-25  51.918582           445.125            450.78   \n",
       "10964   -0.000277  2022-03-25  51.718309           445.125            450.78   \n",
       "\n",
       "       previous_day_max_ratio  previous_day_min_ratio  \n",
       "0                         NaN                     NaN  \n",
       "1                         NaN                     NaN  \n",
       "2                         NaN                     NaN  \n",
       "3                         NaN                     NaN  \n",
       "4                         NaN                     NaN  \n",
       "...                       ...                     ...  \n",
       "10960                1.001575                1.014299  \n",
       "10961                1.000178                1.012884  \n",
       "10962                1.000044                1.012749  \n",
       "10963                1.000854                1.013569  \n",
       "10964                1.000577                1.013288  \n",
       "\n",
       "[10965 rows x 17 columns]"
      ]
     },
     "execution_count": 188,
     "metadata": {},
     "output_type": "execute_result"
    }
   ],
   "source": [
    "min_max = df.groupby('date')['close'].agg(['min','max']).shift(1).reset_index().rename(columns={'min':'previous_day_min',\n",
    "                                                                                                'max':'previous_day_max'})\n",
    "open_value = df.groupby('date')['open'].first().to_frame(name='open_price').reset_index()\n",
    "#df = df.merge(open_value,on='date')\n",
    "df = df.merge(min_max,on='date')\n",
    "df['previous_day_max_ratio'] = df['close']/df['previous_day_max']\n",
    "df['previous_day_min_ratio'] = df['close']/df['previous_day_min']\n",
    "df"
   ]
  },
  {
   "cell_type": "code",
   "execution_count": 189,
   "id": "9a1ab828",
   "metadata": {},
   "outputs": [],
   "source": [
    "df = df[500:].reset_index(drop=True)"
   ]
  },
  {
   "cell_type": "code",
   "execution_count": 190,
   "id": "df20df19",
   "metadata": {},
   "outputs": [
    {
     "data": {
      "text/plain": [
       "(10465, 17)"
      ]
     },
     "execution_count": 190,
     "metadata": {},
     "output_type": "execute_result"
    }
   ],
   "source": [
    "df.shape"
   ]
  },
  {
   "cell_type": "code",
   "execution_count": 191,
   "id": "85a1454a",
   "metadata": {},
   "outputs": [
    {
     "data": {
      "text/plain": [
       "<AxesSubplot:xlabel='datetime'>"
      ]
     },
     "execution_count": 191,
     "metadata": {},
     "output_type": "execute_result"
    },
    {
     "data": {
      "image/png": "[encoded data removed]",
      "text/plain": [
       "<Figure size 432x288 with 1 Axes>"
      ]
     },
     "metadata": {
      "needs_background": "light"
     },
     "output_type": "display_data"
    }
   ],
   "source": [
    "df.set_index('datetime')['close'].plot()"
   ]
  },
  {
   "cell_type": "code",
   "execution_count": 192,
   "id": "9ad25615",
   "metadata": {},
   "outputs": [
    {
     "data": {
      "text/html": [
       "<div>\n",
       "<style scoped>\n",
       "    .dataframe tbody tr th:only-of-type {\n",
       "        vertical-align: middle;\n",
       "    }\n",
       "\n",
       "    .dataframe tbody tr th {\n",
       "        vertical-align: top;\n",
       "    }\n",
       "\n",
       "    .dataframe thead th {\n",
       "        text-align: right;\n",
       "    }\n",
       "</style>\n",
       "<table border=\"1\" class=\"dataframe\">\n",
       "  <thead>\n",
       "    <tr style=\"text-align: right;\">\n",
       "      <th></th>\n",
       "      <th>datetime</th>\n",
       "      <th>volume</th>\n",
       "      <th>volume_weighted</th>\n",
       "      <th>open</th>\n",
       "      <th>close</th>\n",
       "      <th>high</th>\n",
       "      <th>low</th>\n",
       "      <th>timestamp</th>\n",
       "      <th>no_transactions</th>\n",
       "      <th>time-delta</th>\n",
       "      <th>close_diff</th>\n",
       "      <th>date</th>\n",
       "      <th>rsi</th>\n",
       "      <th>previous_day_min</th>\n",
       "      <th>previous_day_max</th>\n",
       "      <th>previous_day_max_ratio</th>\n",
       "      <th>previous_day_min_ratio</th>\n",
       "    </tr>\n",
       "  </thead>\n",
       "  <tbody>\n",
       "    <tr>\n",
       "      <th>0</th>\n",
       "      <td>2022-01-05 18:40:00</td>\n",
       "      <td>296642.0</td>\n",
       "      <td>475.9565</td>\n",
       "      <td>475.91</td>\n",
       "      <td>475.88</td>\n",
       "      <td>476.11</td>\n",
       "      <td>475.841</td>\n",
       "      <td>1641408000000</td>\n",
       "      <td>3897</td>\n",
       "      <td>300.0</td>\n",
       "      <td>-0.000063</td>\n",
       "      <td>2022-01-05</td>\n",
       "      <td>43.987138</td>\n",
       "      <td>475.72</td>\n",
       "      <td>479.84</td>\n",
       "      <td>0.991747</td>\n",
       "      <td>1.000336</td>\n",
       "    </tr>\n",
       "    <tr>\n",
       "      <th>1</th>\n",
       "      <td>2022-01-05 18:45:00</td>\n",
       "      <td>1085457.0</td>\n",
       "      <td>477.0310</td>\n",
       "      <td>475.88</td>\n",
       "      <td>475.68</td>\n",
       "      <td>476.02</td>\n",
       "      <td>475.590</td>\n",
       "      <td>1641408300000</td>\n",
       "      <td>4330</td>\n",
       "      <td>300.0</td>\n",
       "      <td>-0.000420</td>\n",
       "      <td>2022-01-05</td>\n",
       "      <td>43.846154</td>\n",
       "      <td>475.72</td>\n",
       "      <td>479.84</td>\n",
       "      <td>0.991330</td>\n",
       "      <td>0.999916</td>\n",
       "    </tr>\n",
       "    <tr>\n",
       "      <th>2</th>\n",
       "      <td>2022-01-05 18:50:00</td>\n",
       "      <td>589527.0</td>\n",
       "      <td>476.5195</td>\n",
       "      <td>475.68</td>\n",
       "      <td>475.76</td>\n",
       "      <td>475.85</td>\n",
       "      <td>475.630</td>\n",
       "      <td>1641408600000</td>\n",
       "      <td>4153</td>\n",
       "      <td>300.0</td>\n",
       "      <td>0.000168</td>\n",
       "      <td>2022-01-05</td>\n",
       "      <td>44.302177</td>\n",
       "      <td>475.72</td>\n",
       "      <td>479.84</td>\n",
       "      <td>0.991497</td>\n",
       "      <td>1.000084</td>\n",
       "    </tr>\n",
       "    <tr>\n",
       "      <th>3</th>\n",
       "      <td>2022-01-05 18:55:00</td>\n",
       "      <td>428899.0</td>\n",
       "      <td>475.8023</td>\n",
       "      <td>475.78</td>\n",
       "      <td>475.85</td>\n",
       "      <td>475.92</td>\n",
       "      <td>475.650</td>\n",
       "      <td>1641408900000</td>\n",
       "      <td>3813</td>\n",
       "      <td>300.0</td>\n",
       "      <td>0.000189</td>\n",
       "      <td>2022-01-05</td>\n",
       "      <td>45.167526</td>\n",
       "      <td>475.72</td>\n",
       "      <td>479.84</td>\n",
       "      <td>0.991685</td>\n",
       "      <td>1.000273</td>\n",
       "    </tr>\n",
       "    <tr>\n",
       "      <th>4</th>\n",
       "      <td>2022-01-05 19:00:00</td>\n",
       "      <td>2228010.0</td>\n",
       "      <td>475.9024</td>\n",
       "      <td>475.84</td>\n",
       "      <td>475.27</td>\n",
       "      <td>476.91</td>\n",
       "      <td>475.220</td>\n",
       "      <td>1641409200000</td>\n",
       "      <td>31790</td>\n",
       "      <td>300.0</td>\n",
       "      <td>-0.001219</td>\n",
       "      <td>2022-01-05</td>\n",
       "      <td>43.364486</td>\n",
       "      <td>475.72</td>\n",
       "      <td>479.84</td>\n",
       "      <td>0.990476</td>\n",
       "      <td>0.999054</td>\n",
       "    </tr>\n",
       "    <tr>\n",
       "      <th>5</th>\n",
       "      <td>2022-01-05 19:05:00</td>\n",
       "      <td>2435466.0</td>\n",
       "      <td>475.3168</td>\n",
       "      <td>475.24</td>\n",
       "      <td>474.69</td>\n",
       "      <td>475.49</td>\n",
       "      <td>474.520</td>\n",
       "      <td>1641409500000</td>\n",
       "      <td>28890</td>\n",
       "      <td>300.0</td>\n",
       "      <td>-0.001220</td>\n",
       "      <td>2022-01-05</td>\n",
       "      <td>42.028986</td>\n",
       "      <td>475.72</td>\n",
       "      <td>479.84</td>\n",
       "      <td>0.989267</td>\n",
       "      <td>0.997835</td>\n",
       "    </tr>\n",
       "    <tr>\n",
       "      <th>6</th>\n",
       "      <td>2022-01-05 19:10:00</td>\n",
       "      <td>1779602.0</td>\n",
       "      <td>474.0808</td>\n",
       "      <td>474.71</td>\n",
       "      <td>473.91</td>\n",
       "      <td>474.74</td>\n",
       "      <td>473.550</td>\n",
       "      <td>1641409800000</td>\n",
       "      <td>16863</td>\n",
       "      <td>300.0</td>\n",
       "      <td>-0.001643</td>\n",
       "      <td>2022-01-05</td>\n",
       "      <td>39.510490</td>\n",
       "      <td>475.72</td>\n",
       "      <td>479.84</td>\n",
       "      <td>0.987642</td>\n",
       "      <td>0.996195</td>\n",
       "    </tr>\n",
       "  </tbody>\n",
       "</table>\n",
       "</div>"
      ],
      "text/plain": [
       "             datetime     volume  volume_weighted    open   close    high  \\\n",
       "0 2022-01-05 18:40:00   296642.0         475.9565  475.91  475.88  476.11   \n",
       "1 2022-01-05 18:45:00  1085457.0         477.0310  475.88  475.68  476.02   \n",
       "2 2022-01-05 18:50:00   589527.0         476.5195  475.68  475.76  475.85   \n",
       "3 2022-01-05 18:55:00   428899.0         475.8023  475.78  475.85  475.92   \n",
       "4 2022-01-05 19:00:00  2228010.0         475.9024  475.84  475.27  476.91   \n",
       "5 2022-01-05 19:05:00  2435466.0         475.3168  475.24  474.69  475.49   \n",
       "6 2022-01-05 19:10:00  1779602.0         474.0808  474.71  473.91  474.74   \n",
       "\n",
       "       low      timestamp  no_transactions  time-delta  close_diff  \\\n",
       "0  475.841  1641408000000             3897       300.0   -0.000063   \n",
       "1  475.590  1641408300000             4330       300.0   -0.000420   \n",
       "2  475.630  1641408600000             4153       300.0    0.000168   \n",
       "3  475.650  1641408900000             3813       300.0    0.000189   \n",
       "4  475.220  1641409200000            31790       300.0   -0.001219   \n",
       "5  474.520  1641409500000            28890       300.0   -0.001220   \n",
       "6  473.550  1641409800000            16863       300.0   -0.001643   \n",
       "\n",
       "         date        rsi  previous_day_min  previous_day_max  \\\n",
       "0  2022-01-05  43.987138            475.72            479.84   \n",
       "1  2022-01-05  43.846154            475.72            479.84   \n",
       "2  2022-01-05  44.302177            475.72            479.84   \n",
       "3  2022-01-05  45.167526            475.72            479.84   \n",
       "4  2022-01-05  43.364486            475.72            479.84   \n",
       "5  2022-01-05  42.028986            475.72            479.84   \n",
       "6  2022-01-05  39.510490            475.72            479.84   \n",
       "\n",
       "   previous_day_max_ratio  previous_day_min_ratio  \n",
       "0                0.991747                1.000336  \n",
       "1                0.991330                0.999916  \n",
       "2                0.991497                1.000084  \n",
       "3                0.991685                1.000273  \n",
       "4                0.990476                0.999054  \n",
       "5                0.989267                0.997835  \n",
       "6                0.987642                0.996195  "
      ]
     },
     "execution_count": 192,
     "metadata": {},
     "output_type": "execute_result"
    }
   ],
   "source": [
    "df.head(7)"
   ]
  },
  {
   "cell_type": "code",
   "execution_count": 193,
   "id": "791e1a27",
   "metadata": {},
   "outputs": [],
   "source": [
    "from pandas.api.types import is_numeric_dtype\n",
    "\n",
    "for x in df:\n",
    "    if is_numeric_dtype(df[x]):\n",
    "        df[x] = df[x].astype('float32')"
   ]
  },
  {
   "cell_type": "code",
   "execution_count": 194,
   "id": "fbf8a17d",
   "metadata": {},
   "outputs": [
    {
     "data": {
      "text/plain": [
       "datetime                  0.0\n",
       "volume                    0.0\n",
       "volume_weighted           0.0\n",
       "open                      0.0\n",
       "close                     0.0\n",
       "high                      0.0\n",
       "low                       0.0\n",
       "timestamp                 0.0\n",
       "no_transactions           0.0\n",
       "time-delta                0.0\n",
       "close_diff                0.0\n",
       "date                      0.0\n",
       "rsi                       0.0\n",
       "previous_day_min          0.0\n",
       "previous_day_max          0.0\n",
       "previous_day_max_ratio    0.0\n",
       "previous_day_min_ratio    0.0\n",
       "dtype: float64"
      ]
     },
     "execution_count": 194,
     "metadata": {},
     "output_type": "execute_result"
    }
   ],
   "source": [
    "df.isna().mean()"
   ]
  },
  {
   "cell_type": "code",
   "execution_count": 195,
   "id": "12fed2f4",
   "metadata": {},
   "outputs": [],
   "source": [
    "df['outcome'] = df['close'][::-1].pct_change(6)[::-1]"
   ]
  },
  {
   "cell_type": "code",
   "execution_count": 196,
   "id": "1ff722be",
   "metadata": {},
   "outputs": [],
   "source": [
    "for i in [2,3,4,5,6,7,8,9,10,11,12,13,14,15,16,17]:\n",
    "    df[f'close_growth_{i}'] = df['close'].pct_change(i)"
   ]
  },
  {
   "cell_type": "code",
   "execution_count": 197,
   "id": "9ed2f031",
   "metadata": {},
   "outputs": [
    {
     "data": {
      "text/plain": [
       "<AxesSubplot:>"
      ]
     },
     "execution_count": 197,
     "metadata": {},
     "output_type": "execute_result"
    },
    {
     "data": {
      "image/png": "[encoded data removed]",
      "text/plain": [
       "<Figure size 432x288 with 1 Axes>"
      ]
     },
     "metadata": {
      "needs_background": "light"
     },
     "output_type": "display_data"
    }
   ],
   "source": [
    "df['outcome'].hist(bins=100)"
   ]
  },
  {
   "cell_type": "code",
   "execution_count": 198,
   "id": "930205f6",
   "metadata": {},
   "outputs": [],
   "source": [
    "df = df.replace(np.inf,np.nan).replace(-np.inf,np.nan).dropna(axis=0)"
   ]
  },
  {
   "cell_type": "code",
   "execution_count": 199,
   "id": "3c4445e4",
   "metadata": {},
   "outputs": [
    {
     "data": {
      "text/plain": [
       "(10442, 34)"
      ]
     },
     "execution_count": 199,
     "metadata": {},
     "output_type": "execute_result"
    }
   ],
   "source": [
    "df.shape"
   ]
  },
  {
   "cell_type": "code",
   "execution_count": 200,
   "id": "e4540dbc",
   "metadata": {},
   "outputs": [
    {
     "data": {
      "text/plain": [
       "7.418901051129244e-06"
      ]
     },
     "execution_count": 200,
     "metadata": {},
     "output_type": "execute_result"
    }
   ],
   "source": [
    "from sklearn.ensemble import RandomForestRegressor\n",
    "from sklearn.model_selection import train_test_split\n",
    "from sklearn.metrics import mean_squared_error\n",
    "\n",
    "def calc_perf(df_,variable,target):\n",
    "    df = df_.copy()\n",
    "    reg = RandomForestRegressor(min_samples_leaf=100)\n",
    "    df=  df[~df[variable].isna()]\n",
    "    X,y = df[[variable]].values,df[target].values\n",
    "    X_train, X_test, y_train, y_test = train_test_split(X, y, test_size=0.33, random_state=42)\n",
    "    reg.fit(X_train,y_train)\n",
    "    y_pred_train = reg.predict(X_train)\n",
    "    error = mean_squared_error(y_train,y_pred_train)\n",
    "    return error\n",
    "\n",
    "calc_perf(df,'previous_day_min_ratio','outcome')"
   ]
  },
  {
   "cell_type": "code",
   "execution_count": 210,
   "id": "1757fe9f",
   "metadata": {},
   "outputs": [
    {
     "data": {
      "text/plain": [
       "<AxesSubplot:>"
      ]
     },
     "execution_count": 210,
     "metadata": {},
     "output_type": "execute_result"
    },
    {
     "data": {
      "image/png": "[encoded data removed]",
      "text/plain": [
       "<Figure size 432x288 with 1 Axes>"
      ]
     },
     "metadata": {
      "needs_background": "light"
     },
     "output_type": "display_data"
    }
   ],
   "source": [
    "df['rsi'].hist(bins=100)"
   ]
  },
  {
   "cell_type": "code",
   "execution_count": 201,
   "id": "d8b8f68b",
   "metadata": {},
   "outputs": [
    {
     "data": {
      "text/plain": [
       "['datetime',\n",
       " 'volume',\n",
       " 'volume_weighted',\n",
       " 'open',\n",
       " 'close',\n",
       " 'high',\n",
       " 'low',\n",
       " 'timestamp',\n",
       " 'no_transactions',\n",
       " 'time-delta',\n",
       " 'close_diff',\n",
       " 'date',\n",
       " 'rsi',\n",
       " 'previous_day_min',\n",
       " 'previous_day_max',\n",
       " 'previous_day_max_ratio',\n",
       " 'previous_day_min_ratio',\n",
       " 'outcome',\n",
       " 'close_growth_2',\n",
       " 'close_growth_3',\n",
       " 'close_growth_4',\n",
       " 'close_growth_5',\n",
       " 'close_growth_6',\n",
       " 'close_growth_7',\n",
       " 'close_growth_8',\n",
       " 'close_growth_9',\n",
       " 'close_growth_10',\n",
       " 'close_growth_11',\n",
       " 'close_growth_12',\n",
       " 'close_growth_13',\n",
       " 'close_growth_14',\n",
       " 'close_growth_15',\n",
       " 'close_growth_16',\n",
       " 'close_growth_17']"
      ]
     },
     "execution_count": 201,
     "metadata": {},
     "output_type": "execute_result"
    }
   ],
   "source": [
    "df.columns.tolist()"
   ]
  },
  {
   "cell_type": "code",
   "execution_count": 215,
   "id": "a9148245",
   "metadata": {},
   "outputs": [
    {
     "name": "stderr",
     "output_type": "stream",
     "text": [
      "100%|██████████████████████████████████████████████████████████████████████████████████| 19/19 [00:08<00:00,  2.20it/s]\n"
     ]
    }
   ],
   "source": [
    "import tqdm\n",
    "\n",
    "mse = dict()\n",
    "for variable in tqdm.tqdm([\n",
    "    'rsi',\n",
    " 'previous_day_max_ratio',\n",
    " 'previous_day_min_ratio',\n",
    " 'close_growth_2',\n",
    " 'close_growth_3',\n",
    " 'close_growth_4',\n",
    " 'close_growth_5',\n",
    " 'close_growth_6',\n",
    " 'close_growth_7',\n",
    " 'close_growth_8',\n",
    " 'close_growth_9',\n",
    " 'close_growth_10',\n",
    " 'close_growth_11',\n",
    " 'close_growth_12',\n",
    " 'close_growth_13',\n",
    " 'close_growth_14',\n",
    " 'close_growth_15',\n",
    " 'close_growth_16',\n",
    " 'close_growth_17']):\n",
    "    mse[variable] = calc_perf(df,variable,'outcome')"
   ]
  },
  {
   "cell_type": "code",
   "execution_count": 216,
   "id": "d9ade39d",
   "metadata": {},
   "outputs": [
    {
     "data": {
      "text/plain": [
       "(7.4e-06, 7.5e-06)"
      ]
     },
     "execution_count": 216,
     "metadata": {},
     "output_type": "execute_result"
    },
    {
     "data": {
      "image/png": "[encoded data removed]",
      "text/plain": [
       "<Figure size 1080x360 with 1 Axes>"
      ]
     },
     "metadata": {
      "needs_background": "light"
     },
     "output_type": "display_data"
    }
   ],
   "source": [
    "pd.DataFrame(mse,index=['mse']).T.plot.barh(figsize=[15,5])\n",
    "plt.xlim(7.4e-6,7.5e-6)"
   ]
  },
  {
   "cell_type": "code",
   "execution_count": 217,
   "id": "32cfe05d",
   "metadata": {},
   "outputs": [
    {
     "data": {
      "text/plain": [
       "<AxesSubplot:>"
      ]
     },
     "execution_count": 217,
     "metadata": {},
     "output_type": "execute_result"
    },
    {
     "data": {
      "image/png": "[encoded data removed]",
      "text/plain": [
       "<Figure size 432x288 with 1 Axes>"
      ]
     },
     "metadata": {
      "needs_background": "light"
     },
     "output_type": "display_data"
    }
   ],
   "source": [
    "df['previous_day_min_ratio'].hist()"
   ]
  },
  {
   "cell_type": "code",
   "execution_count": 207,
   "id": "29d816b1",
   "metadata": {},
   "outputs": [
    {
     "data": {
      "text/plain": [
       "7.208318129414693e-05"
      ]
     },
     "execution_count": 207,
     "metadata": {},
     "output_type": "execute_result"
    }
   ],
   "source": [
    "df[df['previous_day_min_ratio']>1.0]['outcome'].mean()"
   ]
  },
  {
   "cell_type": "code",
   "execution_count": 224,
   "id": "8e0b5154",
   "metadata": {},
   "outputs": [
    {
     "data": {
      "image/png": "[encoded data removed]",
      "text/plain": [
       "<Figure size 432x288 with 1 Axes>"
      ]
     },
     "metadata": {
      "needs_background": "light"
     },
     "output_type": "display_data"
    }
   ],
   "source": [
    "mean_1 = df[df['previous_day_min_ratio']>1.01]['outcome'].mean()/10e-4\n",
    "mean_2 = df[df['previous_day_min_ratio']<=1.01]['outcome'].mean()/10e-4\n",
    "axes = df[df['previous_day_min_ratio']>1.01]['outcome'].plot.density(label=f'>1.01 {mean_1:0.8f}')\n",
    "df[df['previous_day_min_ratio']<=1.01]['outcome'].plot.density(ax=axes,label=f'<=1.01 {mean_2:0.8f}')\n",
    "plt.legend()\n",
    "plt.xlim(-0.01,0.01)\n",
    "plt.show()"
   ]
  },
  {
   "cell_type": "code",
   "execution_count": 225,
   "id": "70712f93",
   "metadata": {},
   "outputs": [
    {
     "data": {
      "image/png": "[encoded data removed]",
      "text/plain": [
       "<Figure size 432x288 with 1 Axes>"
      ]
     },
     "metadata": {
      "needs_background": "light"
     },
     "output_type": "display_data"
    }
   ],
   "source": [
    "mean_1 = df[df['rsi']>50]['outcome'].mean()/10e-4\n",
    "mean_2 = df[df['rsi']<=50]['outcome'].mean()/10e-4\n",
    "axes = df[df['rsi']>50]['outcome'].plot.density(label=f'>1.01 {mean_1:0.8f}')\n",
    "df[df['rsi']<=50]['outcome'].plot.density(ax=axes,label=f'<=1.01 {mean_2:0.8f}')\n",
    "plt.legend()\n",
    "plt.xlim(-0.01,0.01)\n",
    "plt.show()"
   ]
  },
  {
   "cell_type": "code",
   "execution_count": null,
   "id": "14e4297b",
   "metadata": {},
   "outputs": [],
   "source": []
  },
  {
   "cell_type": "code",
   "execution_count": 212,
   "id": "9c87afac",
   "metadata": {},
   "outputs": [
    {
     "data": {
      "text/html": [
       "<div>\n",
       "<style scoped>\n",
       "    .dataframe tbody tr th:only-of-type {\n",
       "        vertical-align: middle;\n",
       "    }\n",
       "\n",
       "    .dataframe tbody tr th {\n",
       "        vertical-align: top;\n",
       "    }\n",
       "\n",
       "    .dataframe thead th {\n",
       "        text-align: right;\n",
       "    }\n",
       "</style>\n",
       "<table border=\"1\" class=\"dataframe\">\n",
       "  <thead>\n",
       "    <tr style=\"text-align: right;\">\n",
       "      <th></th>\n",
       "      <th>datetime</th>\n",
       "      <th>volume</th>\n",
       "      <th>volume_weighted</th>\n",
       "      <th>open</th>\n",
       "      <th>close</th>\n",
       "      <th>high</th>\n",
       "      <th>low</th>\n",
       "      <th>timestamp</th>\n",
       "      <th>no_transactions</th>\n",
       "      <th>time-delta</th>\n",
       "      <th>...</th>\n",
       "      <th>close_growth_8</th>\n",
       "      <th>close_growth_9</th>\n",
       "      <th>close_growth_10</th>\n",
       "      <th>close_growth_11</th>\n",
       "      <th>close_growth_12</th>\n",
       "      <th>close_growth_13</th>\n",
       "      <th>close_growth_14</th>\n",
       "      <th>close_growth_15</th>\n",
       "      <th>close_growth_16</th>\n",
       "      <th>close_growth_17</th>\n",
       "    </tr>\n",
       "  </thead>\n",
       "  <tbody>\n",
       "  </tbody>\n",
       "</table>\n",
       "<p>0 rows × 34 columns</p>\n",
       "</div>"
      ],
      "text/plain": [
       "Empty DataFrame\n",
       "Columns: [datetime, volume, volume_weighted, open, close, high, low, timestamp, no_transactions, time-delta, close_diff, date, rsi, previous_day_min, previous_day_max, previous_day_max_ratio, previous_day_min_ratio, outcome, close_growth_2, close_growth_3, close_growth_4, close_growth_5, close_growth_6, close_growth_7, close_growth_8, close_growth_9, close_growth_10, close_growth_11, close_growth_12, close_growth_13, close_growth_14, close_growth_15, close_growth_16, close_growth_17]\n",
       "Index: []\n",
       "\n",
       "[0 rows x 34 columns]"
      ]
     },
     "execution_count": 212,
     "metadata": {},
     "output_type": "execute_result"
    }
   ],
   "source": [
    "df[df['rsi']<=0.5]"
   ]
  },
  {
   "cell_type": "code",
   "execution_count": 214,
   "id": "bcb2e89f",
   "metadata": {},
   "outputs": [
    {
     "data": {
      "image/png": "[encoded data removed]",
      "text/plain": [
       "<Figure size 432x288 with 1 Axes>"
      ]
     },
     "metadata": {
      "needs_background": "light"
     },
     "output_type": "display_data"
    }
   ],
   "source": [
    "axes = df[df['rsi']>50]['outcome'].plot.density(label='>50')\n",
    "df[df['rsi']<=50]['outcome'].plot.density(ax=axes,label='<=50')\n",
    "plt.legend()\n",
    "plt.xlim(-0.01,0.01)\n",
    "plt.show()"
   ]
  },
  {
   "cell_type": "code",
   "execution_count": 164,
   "id": "dc7988db",
   "metadata": {},
   "outputs": [
    {
     "data": {
      "text/plain": [
       "-9.033794776769355e-05"
      ]
     },
     "execution_count": 164,
     "metadata": {},
     "output_type": "execute_result"
    }
   ],
   "source": [
    "df[df['previous_day_min_ratio']<1.0]['outcome'].mean()"
   ]
  },
  {
   "cell_type": "code",
   "execution_count": 169,
   "id": "b6a61892",
   "metadata": {},
   "outputs": [
    {
     "data": {
      "text/plain": [
       "<AxesSubplot:>"
      ]
     },
     "execution_count": 169,
     "metadata": {},
     "output_type": "execute_result"
    },
    {
     "data": {
      "image/png": "[encoded data removed]",
      "text/plain": [
       "<Figure size 432x288 with 1 Axes>"
      ]
     },
     "metadata": {
      "needs_background": "light"
     },
     "output_type": "display_data"
    }
   ],
   "source": [
    "df[df['previous_day_min_ratio']<1.01]['outcome'].hist(bins=100)"
   ]
  },
  {
   "cell_type": "code",
   "execution_count": 75,
   "id": "111b7751",
   "metadata": {},
   "outputs": [],
   "source": [
    "# bins = [-np.inf]+np.arange(-0.01,0.01,0.002).tolist()+[np.inf]\n",
    "# df['outcome_bin'] = pd.cut(df['outcome'],bins)\n",
    "# df.groupby('outcome_bin')['outcome'].count().sum()\n",
    "\n",
    "# baseline = (df.groupby('outcome_bin')['outcome'].count()/10459).to_frame(name='baseline')\n",
    "\n",
    "# def calc_distribution(df,variable):\n",
    "#     baseline_bins = [-np.inf]+np.arange(-0.01,0.01,0.002).tolist()+[np.inf]\n",
    "#     df['new_bins'] = pd.cut(df[variable],bins=baseline_bins)\n",
    "#     new = df.groupby('new_bins')['outcome'].count().to_frame(name='new')\n",
    "#     return baseline.join(new).fillna(0)\n",
    "\n",
    "# calc_distribution(df,'previous_day_min_ratio',variable_bins)"
   ]
  },
  {
   "cell_type": "code",
   "execution_count": null,
   "id": "db6fee6d",
   "metadata": {},
   "outputs": [],
   "source": []
  },
  {
   "cell_type": "code",
   "execution_count": null,
   "id": "c9745ec0",
   "metadata": {},
   "outputs": [],
   "source": []
  },
  {
   "cell_type": "code",
   "execution_count": null,
   "id": "e7aaa066",
   "metadata": {},
   "outputs": [],
   "source": []
  },
  {
   "cell_type": "code",
   "execution_count": null,
   "id": "00fb06ca",
   "metadata": {},
   "outputs": [],
   "source": []
  },
  {
   "cell_type": "code",
   "execution_count": null,
   "id": "e4b47707",
   "metadata": {},
   "outputs": [],
   "source": [
    "def calc_distribution(x):"
   ]
  },
  {
   "cell_type": "code",
   "execution_count": 36,
   "id": "d96b6bd4",
   "metadata": {},
   "outputs": [
    {
     "name": "stdout",
     "output_type": "stream",
     "text": [
      "0.0\n"
     ]
    },
    {
     "name": "stderr",
     "output_type": "stream",
     "text": [
      "C:\\Users\\cemly\\AppData\\Local\\Temp/ipykernel_19508/3870850906.py:4: DeprecationWarning: `np.float` is a deprecated alias for the builtin `float`. To silence this warning, use `float` by itself. Doing this will not modify any behavior and is safe. If you specifically wanted the numpy scalar type, use `np.float64` here.\n",
      "Deprecated in NumPy 1.20; for more details and guidance: https://numpy.org/devdocs/release/1.20.0-notes.html#deprecations\n",
      "  a = np.asarray(a, dtype=np.float)\n",
      "C:\\Users\\cemly\\AppData\\Local\\Temp/ipykernel_19508/3870850906.py:5: DeprecationWarning: `np.float` is a deprecated alias for the builtin `float`. To silence this warning, use `float` by itself. Doing this will not modify any behavior and is safe. If you specifically wanted the numpy scalar type, use `np.float64` here.\n",
      "Deprecated in NumPy 1.20; for more details and guidance: https://numpy.org/devdocs/release/1.20.0-notes.html#deprecations\n",
      "  b = np.asarray(b, dtype=np.float)\n"
     ]
    }
   ],
   "source": [
    "import numpy as np\n",
    "\n",
    "def KL(a, b):\n",
    "    a = np.asarray(a, dtype=np.float)\n",
    "    b = np.asarray(b, dtype=np.float)\n",
    "\n",
    "    return np.sum(np.where(a != 0, a * np.log(a / b), 0))\n",
    "\n",
    "\n",
    "values1 = [1.346112,1.337432,1.246655]\n",
    "values2 = [1.346112,1.337432,1.246655]\n",
    "\n",
    "print(KL(values1, values2))"
   ]
  },
  {
   "cell_type": "code",
   "execution_count": 31,
   "id": "b9d938ea",
   "metadata": {},
   "outputs": [
    {
     "data": {
      "text/plain": [
       "1.0041569074296808"
      ]
     },
     "execution_count": 31,
     "metadata": {},
     "output_type": "execute_result"
    }
   ],
   "source": [
    "df[df[]]['outcome']"
   ]
  },
  {
   "cell_type": "code",
   "execution_count": 32,
   "id": "d972e548",
   "metadata": {},
   "outputs": [
    {
     "data": {
      "text/plain": [
       "0.9958603009161974"
      ]
     },
     "execution_count": 32,
     "metadata": {},
     "output_type": "execute_result"
    }
   ],
   "source": [
    "473.91/475.88"
   ]
  },
  {
   "cell_type": "code",
   "execution_count": 11,
   "id": "2878fb2f",
   "metadata": {},
   "outputs": [
    {
     "name": "stdout",
     "output_type": "stream",
     "text": [
      "10465 ticks found\n",
      "Counter:10461\r"
     ]
    }
   ],
   "source": [
    "# Window of data we're working with\n",
    "N = df.shape[0]\n",
    "print(f'{N} ticks found')\n",
    "\n",
    "# 2 hour lookback period\n",
    "LOOKBACK = 2*(60/5)\n",
    "\n",
    "# Growth requirement\n",
    "GROWTH_LIMIT = 0.005\n",
    "\n",
    "# outcome period 30min\n",
    "HORIZON = 6\n",
    "\n",
    "X = list()\n",
    "y = list()\n",
    "growth = list()\n",
    "\n",
    "t =1\n",
    "finish = False\n",
    "counter = 0\n",
    "while finish is False:\n",
    "    \n",
    "    counter+=1\n",
    "    print(f'Counter:{counter}',end='\\r')\n",
    "    \n",
    "    # check we have enough lookback data\n",
    "    if t<22:\n",
    "        t+=1\n",
    "        continue\n",
    "    \n",
    "    # check we don't have enough data left then end the cycle\n",
    "    if (N - t)<5:\n",
    "        finish = True\n",
    "        t+=1\n",
    "        continue\n",
    "        \n",
    "    lookback_data = df.loc[t-20:t,['volume','close','open','high','low','previous_day_max_ratio','previous_day_min_ratio']].values\n",
    "    lookback_data = lookback_data/lookback_data[-1]\n",
    "    outcome_data = df.loc[t+1:t+6,'close_diff'].sum()>GROWTH_LIMIT\n",
    "    growth_data = df.loc[t+1:t+6,'close_diff'].sum()\n",
    "    \n",
    "    X.append(lookback_data)\n",
    "    y.append(outcome_data)\n",
    "    growth.append(growth_data)\n",
    "    \n",
    "    t+=1"
   ]
  },
  {
   "cell_type": "code",
   "execution_count": 14,
   "id": "9c9e469a",
   "metadata": {},
   "outputs": [
    {
     "data": {
      "text/plain": [
       "(10439, 1)"
      ]
     },
     "execution_count": 14,
     "metadata": {},
     "output_type": "execute_result"
    }
   ],
   "source": [
    "y = np.array(y).reshape(-1,1)\n",
    "y.shape"
   ]
  },
  {
   "cell_type": "code",
   "execution_count": 15,
   "id": "cd6ee694",
   "metadata": {},
   "outputs": [
    {
     "data": {
      "text/plain": [
       "(10439, 1)"
      ]
     },
     "execution_count": 15,
     "metadata": {},
     "output_type": "execute_result"
    }
   ],
   "source": [
    "growth = np.array(growth).reshape(-1,1)\n",
    "growth.shape"
   ]
  },
  {
   "cell_type": "code",
   "execution_count": 16,
   "id": "bee6afee",
   "metadata": {},
   "outputs": [],
   "source": [
    "growth_train = growth[:6000]\n",
    "growth_test = growth[6000:]"
   ]
  },
  {
   "cell_type": "code",
   "execution_count": 17,
   "id": "db4e880b",
   "metadata": {},
   "outputs": [
    {
     "data": {
      "text/plain": [
       "(10439, 21, 7)"
      ]
     },
     "execution_count": 17,
     "metadata": {},
     "output_type": "execute_result"
    }
   ],
   "source": [
    "X = np.stack(X)\n",
    "X.shape"
   ]
  },
  {
   "cell_type": "code",
   "execution_count": 18,
   "id": "de2cadf0",
   "metadata": {},
   "outputs": [],
   "source": [
    "X_train = X[:6000]\n",
    "X_test = X[6000:]\n",
    "\n",
    "y_train = y[:6000]\n",
    "y_test = y[6000:]\n",
    "\n",
    "with open('./data/X_train_2.npy','wb') as f:\n",
    "    np.save(f,X_train)\n",
    "    \n",
    "with open('./data/X_test_2.npy','wb') as f:\n",
    "    np.save(f,X_test)\n",
    "    \n",
    "with open('./data/y_train_2.npy','wb') as f:\n",
    "    np.save(f,y_train)\n",
    "    \n",
    "with open('./data/y_test_2.npy','wb') as f:\n",
    "    np.save(f,X_test)"
   ]
  },
  {
   "cell_type": "markdown",
   "id": "7b7b08e6",
   "metadata": {},
   "source": [
    "# Defining a simple CNN"
   ]
  },
  {
   "cell_type": "code",
   "execution_count": 19,
   "id": "8baee004",
   "metadata": {},
   "outputs": [],
   "source": [
    "import tensorflow as tf\n",
    "from tensorflow import keras"
   ]
  },
  {
   "cell_type": "code",
   "execution_count": 20,
   "id": "9825ddb6",
   "metadata": {},
   "outputs": [],
   "source": [
    "X_train = X_train.astype('float32')\n",
    "X_test = X_test.astype('float32')\n",
    "y_train = y_train.astype('float32')\n",
    "y_test = y_test.astype('float32')"
   ]
  },
  {
   "cell_type": "code",
   "execution_count": 110,
   "id": "53b482ab",
   "metadata": {},
   "outputs": [],
   "source": [
    "model = keras.Sequential([\n",
    "    keras.layers.Conv1D(36,2,\n",
    "                        activation='sigmoid',\n",
    "                        input_shape=(X_train.shape[1],X_train.shape[2]),\n",
    "                        kernel_regularizer=tf.keras.regularizers.l2(l=.05)),\n",
    "    #keras.layers.Conv1D(3,3,activation='relu'),\n",
    "    keras.layers.BatchNormalization(),\n",
    "    keras.layers.MaxPooling1D(2),\n",
    "    #keras.layers.Conv1D(6,2,activation='relu'),\n",
    "    #keras.layers.BatchNormalization(),\n",
    "    #keras.layers.MaxPooling1D(2),    \n",
    "    keras.layers.Flatten(),\n",
    "    keras.layers.Dense(10,activation='sigmoid'),\n",
    "    keras.layers.Dense(1,activation='sigmoid')\n",
    "])"
   ]
  },
  {
   "cell_type": "code",
   "execution_count": 111,
   "id": "ce805d6f",
   "metadata": {},
   "outputs": [],
   "source": [
    "metrics = [\n",
    "    tf.metrics.AUC(name='auc')\n",
    "]\n",
    "\n",
    "#odel.compile(optimizer=keras.optimizers.Adam(1e-4),loss='binary_crossentropy',metrics=metrics)\n",
    "model.compile(optimizer=keras.optimizers.Adam(1e-4),loss='binary_crossentropy',metrics=metrics)"
   ]
  },
  {
   "cell_type": "code",
   "execution_count": 112,
   "id": "7dd6d4a8",
   "metadata": {},
   "outputs": [],
   "source": [
    "callbacks = [keras.callbacks.EarlyStopping(patience=500,restore_best_weights=True)]"
   ]
  },
  {
   "cell_type": "code",
   "execution_count": 113,
   "id": "6039ad26",
   "metadata": {},
   "outputs": [
    {
     "name": "stdout",
     "output_type": "stream",
     "text": [
      "Epoch 1/200\n",
      "120/120 - 1s - loss: 1.0790 - auc: 0.4544 - val_loss: 0.9391 - val_auc: 0.4503 - 1s/epoch - 10ms/step\n",
      "Epoch 2/200\n",
      "120/120 - 0s - loss: 0.8483 - auc: 0.5012 - val_loss: 0.7739 - val_auc: 0.5341 - 366ms/epoch - 3ms/step\n",
      "Epoch 3/200\n",
      "120/120 - 0s - loss: 0.7101 - auc: 0.5788 - val_loss: 0.6701 - val_auc: 0.5671 - 333ms/epoch - 3ms/step\n",
      "Epoch 4/200\n",
      "120/120 - 0s - loss: 0.6168 - auc: 0.6057 - val_loss: 0.5903 - val_auc: 0.5795 - 315ms/epoch - 3ms/step\n",
      "Epoch 5/200\n",
      "120/120 - 0s - loss: 0.5453 - auc: 0.6416 - val_loss: 0.5278 - val_auc: 0.5840 - 325ms/epoch - 3ms/step\n",
      "Epoch 6/200\n",
      "120/120 - 0s - loss: 0.4884 - auc: 0.6326 - val_loss: 0.4764 - val_auc: 0.5906 - 331ms/epoch - 3ms/step\n",
      "Epoch 7/200\n",
      "120/120 - 0s - loss: 0.4411 - auc: 0.6545 - val_loss: 0.4336 - val_auc: 0.5919 - 313ms/epoch - 3ms/step\n",
      "Epoch 8/200\n",
      "120/120 - 0s - loss: 0.4006 - auc: 0.6397 - val_loss: 0.3964 - val_auc: 0.5935 - 307ms/epoch - 3ms/step\n",
      "Epoch 9/200\n",
      "120/120 - 0s - loss: 0.3654 - auc: 0.6441 - val_loss: 0.3643 - val_auc: 0.5966 - 355ms/epoch - 3ms/step\n",
      "Epoch 10/200\n",
      "120/120 - 0s - loss: 0.3349 - auc: 0.6506 - val_loss: 0.3362 - val_auc: 0.5993 - 358ms/epoch - 3ms/step\n",
      "Epoch 11/200\n",
      "120/120 - 0s - loss: 0.3083 - auc: 0.6401 - val_loss: 0.3116 - val_auc: 0.6032 - 369ms/epoch - 3ms/step\n",
      "Epoch 12/200\n",
      "120/120 - 0s - loss: 0.2849 - auc: 0.6458 - val_loss: 0.2900 - val_auc: 0.6023 - 348ms/epoch - 3ms/step\n",
      "Epoch 13/200\n",
      "120/120 - 0s - loss: 0.2643 - auc: 0.6625 - val_loss: 0.2714 - val_auc: 0.6028 - 307ms/epoch - 3ms/step\n",
      "Epoch 14/200\n",
      "120/120 - 0s - loss: 0.2467 - auc: 0.6508 - val_loss: 0.2551 - val_auc: 0.6001 - 330ms/epoch - 3ms/step\n",
      "Epoch 15/200\n",
      "120/120 - 0s - loss: 0.2313 - auc: 0.6445 - val_loss: 0.2409 - val_auc: 0.6041 - 333ms/epoch - 3ms/step\n",
      "Epoch 16/200\n",
      "120/120 - 0s - loss: 0.2177 - auc: 0.6536 - val_loss: 0.2287 - val_auc: 0.5942 - 325ms/epoch - 3ms/step\n",
      "Epoch 17/200\n",
      "120/120 - 0s - loss: 0.2062 - auc: 0.6478 - val_loss: 0.2180 - val_auc: 0.6188 - 321ms/epoch - 3ms/step\n",
      "Epoch 18/200\n",
      "120/120 - 0s - loss: 0.1961 - auc: 0.6488 - val_loss: 0.2091 - val_auc: 0.5864 - 305ms/epoch - 3ms/step\n",
      "Epoch 19/200\n",
      "120/120 - 0s - loss: 0.1875 - auc: 0.6470 - val_loss: 0.2012 - val_auc: 0.6131 - 327ms/epoch - 3ms/step\n",
      "Epoch 20/200\n",
      "120/120 - 0s - loss: 0.1801 - auc: 0.6379 - val_loss: 0.1945 - val_auc: 0.5884 - 310ms/epoch - 3ms/step\n",
      "Epoch 21/200\n",
      "120/120 - 0s - loss: 0.1739 - auc: 0.6485 - val_loss: 0.1891 - val_auc: 0.5992 - 301ms/epoch - 3ms/step\n",
      "Epoch 22/200\n",
      "120/120 - 0s - loss: 0.1685 - auc: 0.6426 - val_loss: 0.1844 - val_auc: 0.6267 - 302ms/epoch - 3ms/step\n",
      "Epoch 23/200\n",
      "120/120 - 0s - loss: 0.1640 - auc: 0.6626 - val_loss: 0.1803 - val_auc: 0.6035 - 325ms/epoch - 3ms/step\n",
      "Epoch 24/200\n",
      "120/120 - 0s - loss: 0.1601 - auc: 0.6458 - val_loss: 0.1771 - val_auc: 0.5953 - 304ms/epoch - 3ms/step\n",
      "Epoch 25/200\n",
      "120/120 - 0s - loss: 0.1570 - auc: 0.6338 - val_loss: 0.1743 - val_auc: 0.6144 - 304ms/epoch - 3ms/step\n",
      "Epoch 26/200\n",
      "120/120 - 0s - loss: 0.1544 - auc: 0.6525 - val_loss: 0.1723 - val_auc: 0.6292 - 309ms/epoch - 3ms/step\n",
      "Epoch 27/200\n",
      "120/120 - 0s - loss: 0.1522 - auc: 0.6630 - val_loss: 0.1704 - val_auc: 0.5964 - 303ms/epoch - 3ms/step\n",
      "Epoch 28/200\n",
      "120/120 - 0s - loss: 0.1505 - auc: 0.6136 - val_loss: 0.1688 - val_auc: 0.5948 - 320ms/epoch - 3ms/step\n",
      "Epoch 29/200\n",
      "120/120 - 0s - loss: 0.1492 - auc: 0.6183 - val_loss: 0.1677 - val_auc: 0.6081 - 321ms/epoch - 3ms/step\n",
      "Epoch 30/200\n",
      "120/120 - 0s - loss: 0.1479 - auc: 0.6476 - val_loss: 0.1668 - val_auc: 0.6183 - 318ms/epoch - 3ms/step\n",
      "Epoch 31/200\n",
      "120/120 - 0s - loss: 0.1468 - auc: 0.6510 - val_loss: 0.1659 - val_auc: 0.6315 - 309ms/epoch - 3ms/step\n",
      "Epoch 32/200\n",
      "120/120 - 0s - loss: 0.1462 - auc: 0.6459 - val_loss: 0.1653 - val_auc: 0.6453 - 308ms/epoch - 3ms/step\n",
      "Epoch 33/200\n",
      "120/120 - 0s - loss: 0.1455 - auc: 0.6316 - val_loss: 0.1648 - val_auc: 0.6142 - 313ms/epoch - 3ms/step\n",
      "Epoch 34/200\n",
      "120/120 - 0s - loss: 0.1450 - auc: 0.6411 - val_loss: 0.1644 - val_auc: 0.5899 - 311ms/epoch - 3ms/step\n",
      "Epoch 35/200\n",
      "120/120 - 0s - loss: 0.1445 - auc: 0.6404 - val_loss: 0.1641 - val_auc: 0.6028 - 308ms/epoch - 3ms/step\n",
      "Epoch 36/200\n",
      "120/120 - 0s - loss: 0.1442 - auc: 0.6336 - val_loss: 0.1638 - val_auc: 0.5969 - 304ms/epoch - 3ms/step\n",
      "Epoch 37/200\n",
      "120/120 - 0s - loss: 0.1439 - auc: 0.6316 - val_loss: 0.1636 - val_auc: 0.6064 - 303ms/epoch - 3ms/step\n",
      "Epoch 38/200\n",
      "120/120 - 0s - loss: 0.1434 - auc: 0.6497 - val_loss: 0.1633 - val_auc: 0.6042 - 322ms/epoch - 3ms/step\n",
      "Epoch 39/200\n",
      "120/120 - 0s - loss: 0.1433 - auc: 0.6339 - val_loss: 0.1633 - val_auc: 0.6094 - 313ms/epoch - 3ms/step\n",
      "Epoch 40/200\n",
      "120/120 - 0s - loss: 0.1430 - auc: 0.6438 - val_loss: 0.1633 - val_auc: 0.6131 - 317ms/epoch - 3ms/step\n",
      "Epoch 41/200\n",
      "120/120 - 0s - loss: 0.1429 - auc: 0.6469 - val_loss: 0.1630 - val_auc: 0.6340 - 309ms/epoch - 3ms/step\n",
      "Epoch 42/200\n",
      "120/120 - 0s - loss: 0.1427 - auc: 0.6448 - val_loss: 0.1627 - val_auc: 0.6231 - 317ms/epoch - 3ms/step\n",
      "Epoch 43/200\n",
      "120/120 - 0s - loss: 0.1425 - auc: 0.6457 - val_loss: 0.1625 - val_auc: 0.6209 - 320ms/epoch - 3ms/step\n",
      "Epoch 44/200\n",
      "120/120 - 0s - loss: 0.1424 - auc: 0.6322 - val_loss: 0.1628 - val_auc: 0.6538 - 310ms/epoch - 3ms/step\n",
      "Epoch 45/200\n",
      "120/120 - 0s - loss: 0.1425 - auc: 0.6437 - val_loss: 0.1623 - val_auc: 0.6268 - 304ms/epoch - 3ms/step\n",
      "Epoch 46/200\n",
      "120/120 - 0s - loss: 0.1419 - auc: 0.6517 - val_loss: 0.1621 - val_auc: 0.6339 - 300ms/epoch - 2ms/step\n",
      "Epoch 47/200\n",
      "120/120 - 0s - loss: 0.1417 - auc: 0.6646 - val_loss: 0.1618 - val_auc: 0.6453 - 302ms/epoch - 3ms/step\n",
      "Epoch 48/200\n",
      "120/120 - 0s - loss: 0.1417 - auc: 0.6514 - val_loss: 0.1617 - val_auc: 0.6482 - 305ms/epoch - 3ms/step\n",
      "Epoch 49/200\n",
      "120/120 - 0s - loss: 0.1415 - auc: 0.6527 - val_loss: 0.1618 - val_auc: 0.6434 - 310ms/epoch - 3ms/step\n",
      "Epoch 50/200\n",
      "120/120 - 0s - loss: 0.1414 - auc: 0.6500 - val_loss: 0.1618 - val_auc: 0.6362 - 311ms/epoch - 3ms/step\n",
      "Epoch 51/200\n",
      "120/120 - 0s - loss: 0.1413 - auc: 0.6509 - val_loss: 0.1619 - val_auc: 0.6514 - 307ms/epoch - 3ms/step\n",
      "Epoch 52/200\n",
      "120/120 - 0s - loss: 0.1411 - auc: 0.6719 - val_loss: 0.1615 - val_auc: 0.6365 - 309ms/epoch - 3ms/step\n",
      "Epoch 53/200\n",
      "120/120 - 0s - loss: 0.1414 - auc: 0.6458 - val_loss: 0.1614 - val_auc: 0.6431 - 305ms/epoch - 3ms/step\n",
      "Epoch 54/200\n",
      "120/120 - 0s - loss: 0.1410 - auc: 0.6523 - val_loss: 0.1610 - val_auc: 0.6575 - 306ms/epoch - 3ms/step\n",
      "Epoch 55/200\n",
      "120/120 - 0s - loss: 0.1412 - auc: 0.6410 - val_loss: 0.1611 - val_auc: 0.6571 - 323ms/epoch - 3ms/step\n",
      "Epoch 56/200\n",
      "120/120 - 0s - loss: 0.1408 - auc: 0.6561 - val_loss: 0.1610 - val_auc: 0.6584 - 333ms/epoch - 3ms/step\n",
      "Epoch 57/200\n",
      "120/120 - 0s - loss: 0.1406 - auc: 0.6616 - val_loss: 0.1606 - val_auc: 0.6458 - 308ms/epoch - 3ms/step\n",
      "Epoch 58/200\n",
      "120/120 - 0s - loss: 0.1407 - auc: 0.6523 - val_loss: 0.1611 - val_auc: 0.6452 - 336ms/epoch - 3ms/step\n",
      "Epoch 59/200\n",
      "120/120 - 0s - loss: 0.1406 - auc: 0.6562 - val_loss: 0.1604 - val_auc: 0.6551 - 311ms/epoch - 3ms/step\n",
      "Epoch 60/200\n",
      "120/120 - 0s - loss: 0.1404 - auc: 0.6585 - val_loss: 0.1613 - val_auc: 0.6553 - 342ms/epoch - 3ms/step\n",
      "Epoch 61/200\n",
      "120/120 - 0s - loss: 0.1407 - auc: 0.6475 - val_loss: 0.1607 - val_auc: 0.6628 - 337ms/epoch - 3ms/step\n",
      "Epoch 62/200\n",
      "120/120 - 0s - loss: 0.1400 - auc: 0.6759 - val_loss: 0.1606 - val_auc: 0.6558 - 321ms/epoch - 3ms/step\n",
      "Epoch 63/200\n",
      "120/120 - 0s - loss: 0.1402 - auc: 0.6586 - val_loss: 0.1604 - val_auc: 0.6551 - 317ms/epoch - 3ms/step\n",
      "Epoch 64/200\n",
      "120/120 - 0s - loss: 0.1406 - auc: 0.6457 - val_loss: 0.1602 - val_auc: 0.6497 - 327ms/epoch - 3ms/step\n",
      "Epoch 65/200\n",
      "120/120 - 0s - loss: 0.1403 - auc: 0.6553 - val_loss: 0.1604 - val_auc: 0.6598 - 300ms/epoch - 2ms/step\n",
      "Epoch 66/200\n",
      "120/120 - 0s - loss: 0.1398 - auc: 0.6670 - val_loss: 0.1599 - val_auc: 0.6551 - 311ms/epoch - 3ms/step\n",
      "Epoch 67/200\n",
      "120/120 - 0s - loss: 0.1403 - auc: 0.6512 - val_loss: 0.1608 - val_auc: 0.6521 - 323ms/epoch - 3ms/step\n",
      "Epoch 68/200\n",
      "120/120 - 0s - loss: 0.1402 - auc: 0.6572 - val_loss: 0.1602 - val_auc: 0.6546 - 321ms/epoch - 3ms/step\n",
      "Epoch 69/200\n",
      "120/120 - 0s - loss: 0.1403 - auc: 0.6524 - val_loss: 0.1598 - val_auc: 0.6598 - 318ms/epoch - 3ms/step\n",
      "Epoch 70/200\n",
      "120/120 - 0s - loss: 0.1399 - auc: 0.6575 - val_loss: 0.1604 - val_auc: 0.6637 - 313ms/epoch - 3ms/step\n",
      "Epoch 71/200\n",
      "120/120 - 0s - loss: 0.1400 - auc: 0.6551 - val_loss: 0.1597 - val_auc: 0.6584 - 316ms/epoch - 3ms/step\n"
     ]
    },
    {
     "name": "stdout",
     "output_type": "stream",
     "text": [
      "Epoch 72/200\n",
      "120/120 - 0s - loss: 0.1396 - auc: 0.6737 - val_loss: 0.1597 - val_auc: 0.6559 - 307ms/epoch - 3ms/step\n",
      "Epoch 73/200\n",
      "120/120 - 0s - loss: 0.1400 - auc: 0.6603 - val_loss: 0.1604 - val_auc: 0.6587 - 309ms/epoch - 3ms/step\n",
      "Epoch 74/200\n",
      "120/120 - 0s - loss: 0.1400 - auc: 0.6530 - val_loss: 0.1605 - val_auc: 0.6580 - 320ms/epoch - 3ms/step\n",
      "Epoch 75/200\n",
      "120/120 - 0s - loss: 0.1396 - auc: 0.6681 - val_loss: 0.1598 - val_auc: 0.6534 - 321ms/epoch - 3ms/step\n",
      "Epoch 76/200\n",
      "120/120 - 0s - loss: 0.1400 - auc: 0.6478 - val_loss: 0.1596 - val_auc: 0.6607 - 314ms/epoch - 3ms/step\n",
      "Epoch 77/200\n",
      "120/120 - 0s - loss: 0.1400 - auc: 0.6493 - val_loss: 0.1599 - val_auc: 0.6543 - 320ms/epoch - 3ms/step\n",
      "Epoch 78/200\n",
      "120/120 - 0s - loss: 0.1394 - auc: 0.6643 - val_loss: 0.1598 - val_auc: 0.6574 - 303ms/epoch - 3ms/step\n",
      "Epoch 79/200\n",
      "120/120 - 0s - loss: 0.1398 - auc: 0.6603 - val_loss: 0.1601 - val_auc: 0.6624 - 312ms/epoch - 3ms/step\n",
      "Epoch 80/200\n",
      "120/120 - 0s - loss: 0.1392 - auc: 0.6724 - val_loss: 0.1617 - val_auc: 0.6568 - 323ms/epoch - 3ms/step\n",
      "Epoch 81/200\n",
      "120/120 - 0s - loss: 0.1393 - auc: 0.6640 - val_loss: 0.1601 - val_auc: 0.6617 - 338ms/epoch - 3ms/step\n",
      "Epoch 82/200\n",
      "120/120 - 0s - loss: 0.1392 - auc: 0.6624 - val_loss: 0.1594 - val_auc: 0.6558 - 311ms/epoch - 3ms/step\n",
      "Epoch 83/200\n",
      "120/120 - 0s - loss: 0.1398 - auc: 0.6579 - val_loss: 0.1594 - val_auc: 0.6604 - 320ms/epoch - 3ms/step\n",
      "Epoch 84/200\n",
      "120/120 - 0s - loss: 0.1394 - auc: 0.6659 - val_loss: 0.1599 - val_auc: 0.6593 - 316ms/epoch - 3ms/step\n",
      "Epoch 85/200\n",
      "120/120 - 0s - loss: 0.1393 - auc: 0.6595 - val_loss: 0.1593 - val_auc: 0.6575 - 343ms/epoch - 3ms/step\n",
      "Epoch 86/200\n",
      "120/120 - 0s - loss: 0.1395 - auc: 0.6577 - val_loss: 0.1597 - val_auc: 0.6562 - 359ms/epoch - 3ms/step\n",
      "Epoch 87/200\n",
      "120/120 - 0s - loss: 0.1396 - auc: 0.6484 - val_loss: 0.1599 - val_auc: 0.6584 - 352ms/epoch - 3ms/step\n",
      "Epoch 88/200\n",
      "120/120 - 0s - loss: 0.1392 - auc: 0.6699 - val_loss: 0.1603 - val_auc: 0.6563 - 327ms/epoch - 3ms/step\n",
      "Epoch 89/200\n",
      "120/120 - 0s - loss: 0.1390 - auc: 0.6653 - val_loss: 0.1593 - val_auc: 0.6601 - 316ms/epoch - 3ms/step\n",
      "Epoch 90/200\n",
      "120/120 - 0s - loss: 0.1394 - auc: 0.6543 - val_loss: 0.1593 - val_auc: 0.6570 - 319ms/epoch - 3ms/step\n",
      "Epoch 91/200\n",
      "120/120 - 0s - loss: 0.1393 - auc: 0.6608 - val_loss: 0.1600 - val_auc: 0.6628 - 313ms/epoch - 3ms/step\n",
      "Epoch 92/200\n",
      "120/120 - 0s - loss: 0.1391 - auc: 0.6599 - val_loss: 0.1603 - val_auc: 0.6554 - 316ms/epoch - 3ms/step\n",
      "Epoch 93/200\n",
      "120/120 - 0s - loss: 0.1395 - auc: 0.6577 - val_loss: 0.1592 - val_auc: 0.6623 - 326ms/epoch - 3ms/step\n",
      "Epoch 94/200\n",
      "120/120 - 0s - loss: 0.1393 - auc: 0.6604 - val_loss: 0.1595 - val_auc: 0.6576 - 318ms/epoch - 3ms/step\n",
      "Epoch 95/200\n",
      "120/120 - 0s - loss: 0.1388 - auc: 0.6772 - val_loss: 0.1591 - val_auc: 0.6587 - 312ms/epoch - 3ms/step\n",
      "Epoch 96/200\n",
      "120/120 - 0s - loss: 0.1391 - auc: 0.6604 - val_loss: 0.1598 - val_auc: 0.6612 - 318ms/epoch - 3ms/step\n",
      "Epoch 97/200\n",
      "120/120 - 0s - loss: 0.1392 - auc: 0.6688 - val_loss: 0.1594 - val_auc: 0.6610 - 316ms/epoch - 3ms/step\n",
      "Epoch 98/200\n",
      "120/120 - 0s - loss: 0.1392 - auc: 0.6650 - val_loss: 0.1592 - val_auc: 0.6638 - 316ms/epoch - 3ms/step\n",
      "Epoch 99/200\n",
      "120/120 - 0s - loss: 0.1391 - auc: 0.6609 - val_loss: 0.1595 - val_auc: 0.6622 - 313ms/epoch - 3ms/step\n",
      "Epoch 100/200\n",
      "120/120 - 0s - loss: 0.1391 - auc: 0.6633 - val_loss: 0.1590 - val_auc: 0.6606 - 312ms/epoch - 3ms/step\n",
      "Epoch 101/200\n",
      "120/120 - 0s - loss: 0.1388 - auc: 0.6739 - val_loss: 0.1609 - val_auc: 0.6648 - 337ms/epoch - 3ms/step\n",
      "Epoch 102/200\n",
      "120/120 - 0s - loss: 0.1385 - auc: 0.6799 - val_loss: 0.1594 - val_auc: 0.6613 - 319ms/epoch - 3ms/step\n",
      "Epoch 103/200\n",
      "120/120 - 0s - loss: 0.1386 - auc: 0.6699 - val_loss: 0.1603 - val_auc: 0.6599 - 309ms/epoch - 3ms/step\n",
      "Epoch 104/200\n",
      "120/120 - 0s - loss: 0.1387 - auc: 0.6638 - val_loss: 0.1606 - val_auc: 0.6606 - 302ms/epoch - 3ms/step\n",
      "Epoch 105/200\n",
      "120/120 - 0s - loss: 0.1392 - auc: 0.6558 - val_loss: 0.1596 - val_auc: 0.6636 - 315ms/epoch - 3ms/step\n",
      "Epoch 106/200\n",
      "120/120 - 0s - loss: 0.1388 - auc: 0.6679 - val_loss: 0.1596 - val_auc: 0.6658 - 320ms/epoch - 3ms/step\n",
      "Epoch 107/200\n",
      "120/120 - 0s - loss: 0.1389 - auc: 0.6708 - val_loss: 0.1600 - val_auc: 0.6636 - 315ms/epoch - 3ms/step\n",
      "Epoch 108/200\n",
      "120/120 - 0s - loss: 0.1391 - auc: 0.6666 - val_loss: 0.1597 - val_auc: 0.6702 - 328ms/epoch - 3ms/step\n",
      "Epoch 109/200\n",
      "120/120 - 0s - loss: 0.1388 - auc: 0.6655 - val_loss: 0.1605 - val_auc: 0.6673 - 315ms/epoch - 3ms/step\n",
      "Epoch 110/200\n",
      "120/120 - 0s - loss: 0.1383 - auc: 0.6825 - val_loss: 0.1596 - val_auc: 0.6703 - 305ms/epoch - 3ms/step\n",
      "Epoch 111/200\n",
      "120/120 - 0s - loss: 0.1391 - auc: 0.6663 - val_loss: 0.1595 - val_auc: 0.6682 - 313ms/epoch - 3ms/step\n",
      "Epoch 112/200\n",
      "120/120 - 0s - loss: 0.1386 - auc: 0.6782 - val_loss: 0.1593 - val_auc: 0.6650 - 317ms/epoch - 3ms/step\n",
      "Epoch 113/200\n",
      "120/120 - 0s - loss: 0.1390 - auc: 0.6642 - val_loss: 0.1593 - val_auc: 0.6651 - 320ms/epoch - 3ms/step\n",
      "Epoch 114/200\n",
      "120/120 - 0s - loss: 0.1386 - auc: 0.6748 - val_loss: 0.1590 - val_auc: 0.6679 - 308ms/epoch - 3ms/step\n",
      "Epoch 115/200\n",
      "120/120 - 0s - loss: 0.1386 - auc: 0.6741 - val_loss: 0.1598 - val_auc: 0.6633 - 318ms/epoch - 3ms/step\n",
      "Epoch 116/200\n",
      "120/120 - 0s - loss: 0.1385 - auc: 0.6809 - val_loss: 0.1591 - val_auc: 0.6678 - 309ms/epoch - 3ms/step\n",
      "Epoch 117/200\n",
      "120/120 - 0s - loss: 0.1384 - auc: 0.6782 - val_loss: 0.1599 - val_auc: 0.6607 - 321ms/epoch - 3ms/step\n",
      "Epoch 118/200\n",
      "120/120 - 0s - loss: 0.1387 - auc: 0.6716 - val_loss: 0.1600 - val_auc: 0.6614 - 307ms/epoch - 3ms/step\n",
      "Epoch 119/200\n",
      "120/120 - 0s - loss: 0.1385 - auc: 0.6757 - val_loss: 0.1588 - val_auc: 0.6697 - 308ms/epoch - 3ms/step\n",
      "Epoch 120/200\n",
      "120/120 - 0s - loss: 0.1387 - auc: 0.6711 - val_loss: 0.1588 - val_auc: 0.6684 - 311ms/epoch - 3ms/step\n",
      "Epoch 121/200\n",
      "120/120 - 0s - loss: 0.1386 - auc: 0.6668 - val_loss: 0.1588 - val_auc: 0.6684 - 312ms/epoch - 3ms/step\n",
      "Epoch 122/200\n",
      "120/120 - 0s - loss: 0.1383 - auc: 0.6726 - val_loss: 0.1587 - val_auc: 0.6657 - 315ms/epoch - 3ms/step\n",
      "Epoch 123/200\n",
      "120/120 - 0s - loss: 0.1383 - auc: 0.6775 - val_loss: 0.1590 - val_auc: 0.6671 - 312ms/epoch - 3ms/step\n",
      "Epoch 124/200\n",
      "120/120 - 0s - loss: 0.1379 - auc: 0.6830 - val_loss: 0.1588 - val_auc: 0.6644 - 312ms/epoch - 3ms/step\n",
      "Epoch 125/200\n",
      "120/120 - 0s - loss: 0.1382 - auc: 0.6865 - val_loss: 0.1604 - val_auc: 0.6695 - 306ms/epoch - 3ms/step\n",
      "Epoch 126/200\n",
      "120/120 - 0s - loss: 0.1385 - auc: 0.6705 - val_loss: 0.1600 - val_auc: 0.6649 - 327ms/epoch - 3ms/step\n",
      "Epoch 127/200\n",
      "120/120 - 0s - loss: 0.1385 - auc: 0.6683 - val_loss: 0.1590 - val_auc: 0.6674 - 323ms/epoch - 3ms/step\n",
      "Epoch 128/200\n",
      "120/120 - 0s - loss: 0.1379 - auc: 0.6850 - val_loss: 0.1586 - val_auc: 0.6652 - 326ms/epoch - 3ms/step\n",
      "Epoch 129/200\n",
      "120/120 - 0s - loss: 0.1382 - auc: 0.6758 - val_loss: 0.1589 - val_auc: 0.6680 - 315ms/epoch - 3ms/step\n",
      "Epoch 130/200\n",
      "120/120 - 0s - loss: 0.1382 - auc: 0.6807 - val_loss: 0.1601 - val_auc: 0.6670 - 323ms/epoch - 3ms/step\n",
      "Epoch 131/200\n",
      "120/120 - 0s - loss: 0.1382 - auc: 0.6763 - val_loss: 0.1596 - val_auc: 0.6680 - 309ms/epoch - 3ms/step\n",
      "Epoch 132/200\n",
      "120/120 - 0s - loss: 0.1380 - auc: 0.6778 - val_loss: 0.1588 - val_auc: 0.6674 - 315ms/epoch - 3ms/step\n",
      "Epoch 133/200\n",
      "120/120 - 0s - loss: 0.1383 - auc: 0.6687 - val_loss: 0.1591 - val_auc: 0.6625 - 316ms/epoch - 3ms/step\n",
      "Epoch 134/200\n",
      "120/120 - 0s - loss: 0.1379 - auc: 0.6828 - val_loss: 0.1601 - val_auc: 0.6682 - 306ms/epoch - 3ms/step\n",
      "Epoch 135/200\n",
      "120/120 - 0s - loss: 0.1381 - auc: 0.6731 - val_loss: 0.1586 - val_auc: 0.6673 - 325ms/epoch - 3ms/step\n",
      "Epoch 136/200\n",
      "120/120 - 0s - loss: 0.1384 - auc: 0.6722 - val_loss: 0.1586 - val_auc: 0.6672 - 306ms/epoch - 3ms/step\n",
      "Epoch 137/200\n",
      "120/120 - 0s - loss: 0.1380 - auc: 0.6759 - val_loss: 0.1595 - val_auc: 0.6673 - 310ms/epoch - 3ms/step\n",
      "Epoch 138/200\n",
      "120/120 - 0s - loss: 0.1382 - auc: 0.6753 - val_loss: 0.1587 - val_auc: 0.6671 - 318ms/epoch - 3ms/step\n",
      "Epoch 139/200\n",
      "120/120 - 0s - loss: 0.1386 - auc: 0.6656 - val_loss: 0.1594 - val_auc: 0.6726 - 328ms/epoch - 3ms/step\n",
      "Epoch 140/200\n",
      "120/120 - 0s - loss: 0.1383 - auc: 0.6736 - val_loss: 0.1594 - val_auc: 0.6696 - 324ms/epoch - 3ms/step\n",
      "Epoch 141/200\n",
      "120/120 - 0s - loss: 0.1377 - auc: 0.6797 - val_loss: 0.1600 - val_auc: 0.6716 - 315ms/epoch - 3ms/step\n"
     ]
    },
    {
     "name": "stdout",
     "output_type": "stream",
     "text": [
      "Epoch 142/200\n",
      "120/120 - 0s - loss: 0.1381 - auc: 0.6764 - val_loss: 0.1591 - val_auc: 0.6645 - 330ms/epoch - 3ms/step\n",
      "Epoch 143/200\n",
      "120/120 - 0s - loss: 0.1371 - auc: 0.6953 - val_loss: 0.1602 - val_auc: 0.6687 - 311ms/epoch - 3ms/step\n",
      "Epoch 144/200\n",
      "120/120 - 0s - loss: 0.1383 - auc: 0.6713 - val_loss: 0.1591 - val_auc: 0.6668 - 307ms/epoch - 3ms/step\n",
      "Epoch 145/200\n",
      "120/120 - 0s - loss: 0.1375 - auc: 0.6872 - val_loss: 0.1598 - val_auc: 0.6668 - 327ms/epoch - 3ms/step\n",
      "Epoch 146/200\n",
      "120/120 - 0s - loss: 0.1380 - auc: 0.6750 - val_loss: 0.1586 - val_auc: 0.6667 - 310ms/epoch - 3ms/step\n",
      "Epoch 147/200\n",
      "120/120 - 0s - loss: 0.1378 - auc: 0.6770 - val_loss: 0.1591 - val_auc: 0.6647 - 314ms/epoch - 3ms/step\n",
      "Epoch 148/200\n",
      "120/120 - 0s - loss: 0.1376 - auc: 0.6836 - val_loss: 0.1591 - val_auc: 0.6677 - 311ms/epoch - 3ms/step\n",
      "Epoch 149/200\n",
      "120/120 - 0s - loss: 0.1380 - auc: 0.6797 - val_loss: 0.1604 - val_auc: 0.6667 - 314ms/epoch - 3ms/step\n",
      "Epoch 150/200\n",
      "120/120 - 0s - loss: 0.1371 - auc: 0.6924 - val_loss: 0.1586 - val_auc: 0.6654 - 327ms/epoch - 3ms/step\n",
      "Epoch 151/200\n",
      "120/120 - 0s - loss: 0.1377 - auc: 0.6799 - val_loss: 0.1592 - val_auc: 0.6639 - 333ms/epoch - 3ms/step\n",
      "Epoch 152/200\n",
      "120/120 - 0s - loss: 0.1373 - auc: 0.6868 - val_loss: 0.1588 - val_auc: 0.6617 - 329ms/epoch - 3ms/step\n",
      "Epoch 153/200\n",
      "120/120 - 0s - loss: 0.1375 - auc: 0.6852 - val_loss: 0.1589 - val_auc: 0.6719 - 318ms/epoch - 3ms/step\n",
      "Epoch 154/200\n",
      "120/120 - 0s - loss: 0.1375 - auc: 0.6876 - val_loss: 0.1592 - val_auc: 0.6638 - 318ms/epoch - 3ms/step\n",
      "Epoch 155/200\n",
      "120/120 - 0s - loss: 0.1379 - auc: 0.6762 - val_loss: 0.1591 - val_auc: 0.6615 - 322ms/epoch - 3ms/step\n",
      "Epoch 156/200\n",
      "120/120 - 0s - loss: 0.1373 - auc: 0.6859 - val_loss: 0.1598 - val_auc: 0.6674 - 315ms/epoch - 3ms/step\n",
      "Epoch 157/200\n",
      "120/120 - 0s - loss: 0.1373 - auc: 0.6934 - val_loss: 0.1587 - val_auc: 0.6696 - 315ms/epoch - 3ms/step\n",
      "Epoch 158/200\n",
      "120/120 - 0s - loss: 0.1376 - auc: 0.6886 - val_loss: 0.1603 - val_auc: 0.6709 - 312ms/epoch - 3ms/step\n",
      "Epoch 159/200\n",
      "120/120 - 0s - loss: 0.1372 - auc: 0.6888 - val_loss: 0.1596 - val_auc: 0.6695 - 301ms/epoch - 3ms/step\n",
      "Epoch 160/200\n",
      "120/120 - 0s - loss: 0.1372 - auc: 0.6902 - val_loss: 0.1597 - val_auc: 0.6667 - 320ms/epoch - 3ms/step\n",
      "Epoch 161/200\n",
      "120/120 - 0s - loss: 0.1371 - auc: 0.6892 - val_loss: 0.1595 - val_auc: 0.6715 - 327ms/epoch - 3ms/step\n",
      "Epoch 162/200\n",
      "120/120 - 0s - loss: 0.1371 - auc: 0.6940 - val_loss: 0.1594 - val_auc: 0.6693 - 308ms/epoch - 3ms/step\n",
      "Epoch 163/200\n",
      "120/120 - 0s - loss: 0.1370 - auc: 0.6983 - val_loss: 0.1591 - val_auc: 0.6651 - 326ms/epoch - 3ms/step\n",
      "Epoch 164/200\n",
      "120/120 - 0s - loss: 0.1374 - auc: 0.6910 - val_loss: 0.1592 - val_auc: 0.6653 - 319ms/epoch - 3ms/step\n",
      "Epoch 165/200\n",
      "120/120 - 0s - loss: 0.1373 - auc: 0.6833 - val_loss: 0.1589 - val_auc: 0.6681 - 329ms/epoch - 3ms/step\n",
      "Epoch 166/200\n",
      "120/120 - 0s - loss: 0.1372 - auc: 0.6874 - val_loss: 0.1590 - val_auc: 0.6716 - 321ms/epoch - 3ms/step\n",
      "Epoch 167/200\n",
      "120/120 - 0s - loss: 0.1372 - auc: 0.6906 - val_loss: 0.1589 - val_auc: 0.6682 - 333ms/epoch - 3ms/step\n",
      "Epoch 168/200\n",
      "120/120 - 0s - loss: 0.1375 - auc: 0.6884 - val_loss: 0.1603 - val_auc: 0.6727 - 321ms/epoch - 3ms/step\n",
      "Epoch 169/200\n",
      "120/120 - 0s - loss: 0.1373 - auc: 0.6843 - val_loss: 0.1590 - val_auc: 0.6727 - 322ms/epoch - 3ms/step\n",
      "Epoch 170/200\n",
      "120/120 - 0s - loss: 0.1369 - auc: 0.6936 - val_loss: 0.1587 - val_auc: 0.6640 - 313ms/epoch - 3ms/step\n",
      "Epoch 171/200\n",
      "120/120 - 0s - loss: 0.1367 - auc: 0.6973 - val_loss: 0.1600 - val_auc: 0.6674 - 315ms/epoch - 3ms/step\n",
      "Epoch 172/200\n",
      "120/120 - 0s - loss: 0.1378 - auc: 0.6850 - val_loss: 0.1589 - val_auc: 0.6702 - 318ms/epoch - 3ms/step\n",
      "Epoch 173/200\n",
      "120/120 - 0s - loss: 0.1370 - auc: 0.6964 - val_loss: 0.1589 - val_auc: 0.6695 - 308ms/epoch - 3ms/step\n",
      "Epoch 174/200\n",
      "120/120 - 0s - loss: 0.1372 - auc: 0.6881 - val_loss: 0.1595 - val_auc: 0.6709 - 331ms/epoch - 3ms/step\n",
      "Epoch 175/200\n",
      "120/120 - 0s - loss: 0.1370 - auc: 0.6936 - val_loss: 0.1606 - val_auc: 0.6648 - 333ms/epoch - 3ms/step\n",
      "Epoch 176/200\n",
      "120/120 - 0s - loss: 0.1371 - auc: 0.6922 - val_loss: 0.1597 - val_auc: 0.6677 - 324ms/epoch - 3ms/step\n",
      "Epoch 177/200\n",
      "120/120 - 0s - loss: 0.1366 - auc: 0.6993 - val_loss: 0.1587 - val_auc: 0.6675 - 318ms/epoch - 3ms/step\n",
      "Epoch 178/200\n",
      "120/120 - 0s - loss: 0.1373 - auc: 0.6854 - val_loss: 0.1587 - val_auc: 0.6723 - 318ms/epoch - 3ms/step\n",
      "Epoch 179/200\n",
      "120/120 - 0s - loss: 0.1371 - auc: 0.6932 - val_loss: 0.1588 - val_auc: 0.6709 - 311ms/epoch - 3ms/step\n",
      "Epoch 180/200\n",
      "120/120 - 0s - loss: 0.1369 - auc: 0.6946 - val_loss: 0.1587 - val_auc: 0.6706 - 324ms/epoch - 3ms/step\n",
      "Epoch 181/200\n",
      "120/120 - 0s - loss: 0.1368 - auc: 0.6966 - val_loss: 0.1591 - val_auc: 0.6679 - 320ms/epoch - 3ms/step\n",
      "Epoch 182/200\n",
      "120/120 - 0s - loss: 0.1369 - auc: 0.6982 - val_loss: 0.1587 - val_auc: 0.6658 - 319ms/epoch - 3ms/step\n",
      "Epoch 183/200\n",
      "120/120 - 0s - loss: 0.1367 - auc: 0.6992 - val_loss: 0.1592 - val_auc: 0.6686 - 319ms/epoch - 3ms/step\n",
      "Epoch 184/200\n",
      "120/120 - 0s - loss: 0.1367 - auc: 0.6976 - val_loss: 0.1588 - val_auc: 0.6662 - 307ms/epoch - 3ms/step\n",
      "Epoch 185/200\n",
      "120/120 - 0s - loss: 0.1372 - auc: 0.6930 - val_loss: 0.1588 - val_auc: 0.6712 - 308ms/epoch - 3ms/step\n",
      "Epoch 186/200\n",
      "120/120 - 0s - loss: 0.1366 - auc: 0.7015 - val_loss: 0.1595 - val_auc: 0.6664 - 317ms/epoch - 3ms/step\n",
      "Epoch 187/200\n",
      "120/120 - 0s - loss: 0.1373 - auc: 0.6811 - val_loss: 0.1594 - val_auc: 0.6700 - 313ms/epoch - 3ms/step\n",
      "Epoch 188/200\n",
      "120/120 - 0s - loss: 0.1371 - auc: 0.6896 - val_loss: 0.1587 - val_auc: 0.6717 - 310ms/epoch - 3ms/step\n",
      "Epoch 189/200\n",
      "120/120 - 0s - loss: 0.1368 - auc: 0.6974 - val_loss: 0.1601 - val_auc: 0.6653 - 307ms/epoch - 3ms/step\n",
      "Epoch 190/200\n",
      "120/120 - 0s - loss: 0.1375 - auc: 0.6865 - val_loss: 0.1588 - val_auc: 0.6691 - 315ms/epoch - 3ms/step\n",
      "Epoch 191/200\n",
      "120/120 - 0s - loss: 0.1363 - auc: 0.7003 - val_loss: 0.1596 - val_auc: 0.6706 - 317ms/epoch - 3ms/step\n",
      "Epoch 192/200\n",
      "120/120 - 0s - loss: 0.1368 - auc: 0.6989 - val_loss: 0.1592 - val_auc: 0.6674 - 318ms/epoch - 3ms/step\n",
      "Epoch 193/200\n",
      "120/120 - 0s - loss: 0.1366 - auc: 0.6996 - val_loss: 0.1594 - val_auc: 0.6673 - 314ms/epoch - 3ms/step\n",
      "Epoch 194/200\n",
      "120/120 - 0s - loss: 0.1369 - auc: 0.6925 - val_loss: 0.1591 - val_auc: 0.6690 - 316ms/epoch - 3ms/step\n",
      "Epoch 195/200\n",
      "120/120 - 0s - loss: 0.1372 - auc: 0.6874 - val_loss: 0.1588 - val_auc: 0.6713 - 315ms/epoch - 3ms/step\n",
      "Epoch 196/200\n",
      "120/120 - 0s - loss: 0.1368 - auc: 0.6925 - val_loss: 0.1609 - val_auc: 0.6651 - 326ms/epoch - 3ms/step\n",
      "Epoch 197/200\n",
      "120/120 - 0s - loss: 0.1370 - auc: 0.6914 - val_loss: 0.1615 - val_auc: 0.6668 - 300ms/epoch - 2ms/step\n",
      "Epoch 198/200\n",
      "120/120 - 0s - loss: 0.1364 - auc: 0.7004 - val_loss: 0.1615 - val_auc: 0.6665 - 310ms/epoch - 3ms/step\n",
      "Epoch 199/200\n",
      "120/120 - 0s - loss: 0.1366 - auc: 0.6952 - val_loss: 0.1587 - val_auc: 0.6681 - 310ms/epoch - 3ms/step\n",
      "Epoch 200/200\n",
      "120/120 - 0s - loss: 0.1369 - auc: 0.6903 - val_loss: 0.1599 - val_auc: 0.6641 - 329ms/epoch - 3ms/step\n"
     ]
    }
   ],
   "source": [
    "history = model.fit(X_train,y_train,batch_size=50,epochs=200,verbose=2,validation_data=(X_test,y_test))"
   ]
  },
  {
   "cell_type": "code",
   "execution_count": 115,
   "id": "ce2c026b",
   "metadata": {},
   "outputs": [
    {
     "data": {
      "image/png": "[encoded data removed]",
      "text/plain": [
       "<Figure size 432x288 with 1 Axes>"
      ]
     },
     "metadata": {
      "needs_background": "light"
     },
     "output_type": "display_data"
    }
   ],
   "source": [
    "from matplotlib import pyplot as plt\n",
    "metric = 'auc'\n",
    "plt.figure()\n",
    "plt.plot(history.history[metric])\n",
    "plt.plot(history.history['val_'+metric])\n",
    "plt.title('model '+metric)\n",
    "plt.ylabel(metric,fontsize='large')\n",
    "plt.xlabel('epoch',fontsize='large')\n",
    "plt.legend(['train','val'],loc='best')\n",
    "plt.show()"
   ]
  },
  {
   "cell_type": "code",
   "execution_count": 116,
   "id": "888e1fcf",
   "metadata": {},
   "outputs": [
    {
     "name": "stdout",
     "output_type": "stream",
     "text": [
      "139/139 [==============================] - 0s 932us/step\n"
     ]
    },
    {
     "data": {
      "text/plain": [
       "array([[0.01628682],\n",
       "       [0.01207299],\n",
       "       [0.02736442],\n",
       "       ...,\n",
       "       [0.04647183],\n",
       "       [0.04643214],\n",
       "       [0.04836774]], dtype=float32)"
      ]
     },
     "execution_count": 116,
     "metadata": {},
     "output_type": "execute_result"
    }
   ],
   "source": [
    "model.predict(X_test)"
   ]
  },
  {
   "cell_type": "code",
   "execution_count": 117,
   "id": "100a3d51",
   "metadata": {},
   "outputs": [
    {
     "name": "stdout",
     "output_type": "stream",
     "text": [
      "139/139 [==============================] - 0s 923us/step\n"
     ]
    },
    {
     "data": {
      "text/plain": [
       "0.34663807151694215"
      ]
     },
     "execution_count": 117,
     "metadata": {},
     "output_type": "execute_result"
    }
   ],
   "source": [
    "from sklearn.metrics import roc_auc_score\n",
    "\n",
    "2*roc_auc_score(y_test,model.predict(X_test))-1"
   ]
  },
  {
   "cell_type": "code",
   "execution_count": 40,
   "id": "0e332ba6",
   "metadata": {
    "scrolled": true
   },
   "outputs": [
    {
     "name": "stderr",
     "output_type": "stream",
     "text": [
      "WARNING:absl:Found untraced functions such as _jit_compiled_convolution_op while saving (showing 1 of 1). These functions will not be directly callable after loading.\n"
     ]
    },
    {
     "name": "stdout",
     "output_type": "stream",
     "text": [
      "INFO:tensorflow:Assets written to: cnn_model\\assets\n"
     ]
    },
    {
     "name": "stderr",
     "output_type": "stream",
     "text": [
      "INFO:tensorflow:Assets written to: cnn_model\\assets\n"
     ]
    }
   ],
   "source": [
    "model.save('cnn_model')"
   ]
  },
  {
   "cell_type": "markdown",
   "id": "eccf67b3",
   "metadata": {},
   "source": [
    "Tops out at 0.35...."
   ]
  },
  {
   "cell_type": "markdown",
   "id": "2f87040a",
   "metadata": {},
   "source": [
    "# Analyzing model performance"
   ]
  },
  {
   "cell_type": "code",
   "execution_count": 20,
   "id": "182ec9fb",
   "metadata": {},
   "outputs": [
    {
     "name": "stdout",
     "output_type": "stream",
     "text": [
      "155/155 [==============================] - 0s 777us/step\n",
      "188/188 [==============================] - 0s 752us/step\n"
     ]
    }
   ],
   "source": [
    "from sklearn.metrics import roc_curve, auc\n",
    "\n",
    "fpr, tpr, _ = roc_curve(y_test, model.predict(X_test))\n",
    "fpr_train, tpr_train, _ = roc_curve(y_train, model.predict(X_train))"
   ]
  },
  {
   "cell_type": "code",
   "execution_count": 21,
   "id": "4d6fe28b",
   "metadata": {},
   "outputs": [
    {
     "name": "stdout",
     "output_type": "stream",
     "text": [
      "155/155 [==============================] - 0s 764us/step\n",
      "188/188 [==============================] - 0s 714us/step\n"
     ]
    },
    {
     "data": {
      "image/png": "[encoded data removed]",
      "text/plain": [
       "<Figure size 432x288 with 1 Axes>"
      ]
     },
     "metadata": {
      "needs_background": "light"
     },
     "output_type": "display_data"
    }
   ],
   "source": [
    "plt.figure()\n",
    "lw = 2\n",
    "roc = 2*roc_auc_score(y_test,model.predict(X_test))-1\n",
    "roc_train = 2*roc_auc_score(y_train,model.predict(X_train))-1\n",
    "\n",
    "plt.plot(\n",
    "    fpr,\n",
    "    tpr,\n",
    "    color=\"darkorange\",\n",
    "    lw=lw,\n",
    "    label=\"ROC curve (area = %0.2f)\" % roc,\n",
    ")\n",
    "\n",
    "plt.plot(\n",
    "    fpr_train,\n",
    "    tpr_train,\n",
    "    #color=\"darkorange\",\n",
    "    lw=lw,\n",
    "    label=\"ROC curve Train (area = %0.2f)\" % roc_train,\n",
    ")\n",
    "\n",
    "\n",
    "plt.plot([0, 1], [0, 1], color=\"navy\", lw=lw, linestyle=\"--\")\n",
    "plt.xlim([0.0, 1.0])\n",
    "plt.ylim([0.0, 1.05])\n",
    "plt.xlabel(\"False Positive Rate\")\n",
    "plt.ylabel(\"True Positive Rate\")\n",
    "plt.title(\"Receiver operating characteristic example\")\n",
    "plt.legend(loc=\"lower right\")\n",
    "plt.show()"
   ]
  },
  {
   "cell_type": "code",
   "execution_count": 22,
   "id": "e5bb9e85",
   "metadata": {},
   "outputs": [
    {
     "name": "stdout",
     "output_type": "stream",
     "text": [
      "155/155 [==============================] - 0s 751us/step\n"
     ]
    },
    {
     "data": {
      "image/png": "[encoded data removed]",
      "text/plain": [
       "<Figure size 432x288 with 1 Axes>"
      ]
     },
     "metadata": {
      "needs_background": "light"
     },
     "output_type": "display_data"
    }
   ],
   "source": [
    "plt.hist(model.predict(X_test),bins=100)\n",
    "plt.show()"
   ]
  },
  {
   "cell_type": "code",
   "execution_count": 23,
   "id": "a7c6bc2d",
   "metadata": {},
   "outputs": [
    {
     "name": "stdout",
     "output_type": "stream",
     "text": [
      "155/155 [==============================] - 0s 842us/step\n"
     ]
    },
    {
     "data": {
      "text/plain": [
       "array([0.03060718, 0.02626335, 0.03055166, ..., 0.04522171, 0.04465409,\n",
       "       0.04708198], dtype=float32)"
      ]
     },
     "execution_count": 23,
     "metadata": {},
     "output_type": "execute_result"
    }
   ],
   "source": [
    "test_pred = model.predict(X_test).ravel()\n",
    "test_pred"
   ]
  },
  {
   "cell_type": "code",
   "execution_count": 24,
   "id": "57fdd6b9",
   "metadata": {},
   "outputs": [
    {
     "data": {
      "text/plain": [
       "<AxesSubplot:xlabel='datetime'>"
      ]
     },
     "execution_count": 24,
     "metadata": {},
     "output_type": "execute_result"
    },
    {
     "data": {
      "image/png": "[encoded data removed]",
      "text/plain": [
       "<Figure size 1440x360 with 1 Axes>"
      ]
     },
     "metadata": {
      "needs_background": "light"
     },
     "output_type": "display_data"
    }
   ],
   "source": [
    "test_pred_df = pd.DataFrame({'test_predictions':test_pred,'test_results':y_test.ravel(),'growth':growth_test.ravel()})\n",
    "test_datetime_df = df[['datetime']][6020:-6].reset_index(drop=True)\n",
    "results_df = pd.concat([test_datetime_df,test_pred_df],axis=1).set_index('datetime')\n",
    "results_df[:200].plot(figsize=[20,5])"
   ]
  },
  {
   "cell_type": "code",
   "execution_count": 25,
   "id": "18668d62",
   "metadata": {},
   "outputs": [
    {
     "data": {
      "image/png": "[encoded data removed]",
      "text/plain": [
       "<Figure size 1440x360 with 2 Axes>"
      ]
     },
     "metadata": {
      "needs_background": "light"
     },
     "output_type": "display_data"
    }
   ],
   "source": [
    "axes = results_df[['test_predictions']].plot(figsize=[20,5])\n",
    "axes2 = axes.twinx()\n",
    "results_df[['growth']].plot(ax=axes2,c='darkorange')\n",
    "#plt.yscale('log')\n",
    "plt.show()"
   ]
  },
  {
   "cell_type": "code",
   "execution_count": 26,
   "id": "007ef76c",
   "metadata": {},
   "outputs": [
    {
     "data": {
      "text/html": [
       "<div>\n",
       "<style scoped>\n",
       "    .dataframe tbody tr th:only-of-type {\n",
       "        vertical-align: middle;\n",
       "    }\n",
       "\n",
       "    .dataframe tbody tr th {\n",
       "        vertical-align: top;\n",
       "    }\n",
       "\n",
       "    .dataframe thead th {\n",
       "        text-align: right;\n",
       "    }\n",
       "</style>\n",
       "<table border=\"1\" class=\"dataframe\">\n",
       "  <thead>\n",
       "    <tr style=\"text-align: right;\">\n",
       "      <th></th>\n",
       "      <th>count</th>\n",
       "      <th>sum</th>\n",
       "      <th>mean</th>\n",
       "    </tr>\n",
       "    <tr>\n",
       "      <th>test_predictions_bin</th>\n",
       "      <th></th>\n",
       "      <th></th>\n",
       "      <th></th>\n",
       "    </tr>\n",
       "  </thead>\n",
       "  <tbody>\n",
       "    <tr>\n",
       "      <th>(0.00887, 0.00989]</th>\n",
       "      <td>494</td>\n",
       "      <td>2.0</td>\n",
       "      <td>0.004049</td>\n",
       "    </tr>\n",
       "    <tr>\n",
       "      <th>(0.00989, 0.012]</th>\n",
       "      <td>494</td>\n",
       "      <td>9.0</td>\n",
       "      <td>0.018219</td>\n",
       "    </tr>\n",
       "    <tr>\n",
       "      <th>(0.012, 0.0186]</th>\n",
       "      <td>494</td>\n",
       "      <td>11.0</td>\n",
       "      <td>0.022267</td>\n",
       "    </tr>\n",
       "    <tr>\n",
       "      <th>(0.0186, 0.0257]</th>\n",
       "      <td>494</td>\n",
       "      <td>12.0</td>\n",
       "      <td>0.024291</td>\n",
       "    </tr>\n",
       "    <tr>\n",
       "      <th>(0.0257, 0.0307]</th>\n",
       "      <td>494</td>\n",
       "      <td>14.0</td>\n",
       "      <td>0.028340</td>\n",
       "    </tr>\n",
       "    <tr>\n",
       "      <th>(0.0307, 0.0342]</th>\n",
       "      <td>493</td>\n",
       "      <td>18.0</td>\n",
       "      <td>0.036511</td>\n",
       "    </tr>\n",
       "    <tr>\n",
       "      <th>(0.0342, 0.0377]</th>\n",
       "      <td>494</td>\n",
       "      <td>19.0</td>\n",
       "      <td>0.038462</td>\n",
       "    </tr>\n",
       "    <tr>\n",
       "      <th>(0.0377, 0.0417]</th>\n",
       "      <td>494</td>\n",
       "      <td>26.0</td>\n",
       "      <td>0.052632</td>\n",
       "    </tr>\n",
       "    <tr>\n",
       "      <th>(0.0417, 0.0461]</th>\n",
       "      <td>494</td>\n",
       "      <td>25.0</td>\n",
       "      <td>0.050607</td>\n",
       "    </tr>\n",
       "    <tr>\n",
       "      <th>(0.0461, 0.0618]</th>\n",
       "      <td>494</td>\n",
       "      <td>49.0</td>\n",
       "      <td>0.099190</td>\n",
       "    </tr>\n",
       "  </tbody>\n",
       "</table>\n",
       "</div>"
      ],
      "text/plain": [
       "                      count   sum      mean\n",
       "test_predictions_bin                       \n",
       "(0.00887, 0.00989]      494   2.0  0.004049\n",
       "(0.00989, 0.012]        494   9.0  0.018219\n",
       "(0.012, 0.0186]         494  11.0  0.022267\n",
       "(0.0186, 0.0257]        494  12.0  0.024291\n",
       "(0.0257, 0.0307]        494  14.0  0.028340\n",
       "(0.0307, 0.0342]        493  18.0  0.036511\n",
       "(0.0342, 0.0377]        494  19.0  0.038462\n",
       "(0.0377, 0.0417]        494  26.0  0.052632\n",
       "(0.0417, 0.0461]        494  25.0  0.050607\n",
       "(0.0461, 0.0618]        494  49.0  0.099190"
      ]
     },
     "execution_count": 26,
     "metadata": {},
     "output_type": "execute_result"
    }
   ],
   "source": [
    "results_df['test_predictions_bin'] = pd.qcut(results_df['test_predictions'],10)\n",
    "results_df.groupby('test_predictions_bin')['test_results'].agg(['count','sum','mean'])"
   ]
  },
  {
   "cell_type": "markdown",
   "id": "156d2ddb",
   "metadata": {},
   "source": [
    "###### running a simulation"
   ]
  },
  {
   "cell_type": "code",
   "execution_count": 27,
   "id": "c08c2d5b",
   "metadata": {},
   "outputs": [
    {
     "data": {
      "text/plain": [
       "datetime\n",
       "2022-02-16 17:40:00    True\n",
       "2022-02-16 17:45:00    True\n",
       "2022-02-16 17:50:00    True\n",
       "2022-02-16 17:55:00    True\n",
       "2022-02-16 18:00:00    True\n",
       "                       ... \n",
       "2022-03-25 13:20:00    True\n",
       "2022-03-25 13:25:00    True\n",
       "2022-03-25 13:30:00    True\n",
       "2022-03-25 13:35:00    True\n",
       "2022-03-25 13:40:00    True\n",
       "Name: test_predictions, Length: 4939, dtype: bool"
      ]
     },
     "execution_count": 27,
     "metadata": {},
     "output_type": "execute_result"
    }
   ],
   "source": [
    "results_df.test_predictions>0.01"
   ]
  },
  {
   "cell_type": "code",
   "execution_count": 28,
   "id": "aa505255",
   "metadata": {},
   "outputs": [
    {
     "data": {
      "text/plain": [
       "array([0.  , 0.01, 0.02, 0.03, 0.04, 0.05, 0.06, 0.07, 0.08, 0.09, 0.1 ,\n",
       "       0.11, 0.12, 0.13, 0.14, 0.15, 0.16, 0.17, 0.18, 0.19, 0.2 , 0.21,\n",
       "       0.22, 0.23, 0.24, 0.25, 0.26, 0.27, 0.28, 0.29, 0.3 , 0.31, 0.32,\n",
       "       0.33, 0.34, 0.35, 0.36, 0.37, 0.38, 0.39, 0.4 , 0.41, 0.42, 0.43,\n",
       "       0.44, 0.45, 0.46, 0.47, 0.48, 0.49, 0.5 , 0.51, 0.52, 0.53, 0.54,\n",
       "       0.55, 0.56, 0.57, 0.58, 0.59, 0.6 , 0.61, 0.62, 0.63, 0.64, 0.65,\n",
       "       0.66, 0.67, 0.68, 0.69])"
      ]
     },
     "execution_count": 28,
     "metadata": {},
     "output_type": "execute_result"
    }
   ],
   "source": [
    "np.arange(0.0,0.7,0.01)"
   ]
  },
  {
   "cell_type": "code",
   "execution_count": 29,
   "id": "51afb792",
   "metadata": {},
   "outputs": [
    {
     "data": {
      "text/plain": [
       "0.1292404931238622"
      ]
     },
     "execution_count": 29,
     "metadata": {},
     "output_type": "execute_result"
    }
   ],
   "source": [
    "results_df[results_df.test_predictions>0.0].growth.sum()"
   ]
  },
  {
   "cell_type": "code",
   "execution_count": 30,
   "id": "7a2a1669",
   "metadata": {},
   "outputs": [
    {
     "data": {
      "text/plain": [
       "<AxesSubplot:xlabel='datetime'>"
      ]
     },
     "execution_count": 30,
     "metadata": {},
     "output_type": "execute_result"
    },
    {
     "data": {
      "image/png": "[encoded data removed]",
      "text/plain": [
       "<Figure size 432x288 with 1 Axes>"
      ]
     },
     "metadata": {
      "needs_background": "light"
     },
     "output_type": "display_data"
    }
   ],
   "source": [
    "results_df.growth.plot()"
   ]
  },
  {
   "cell_type": "code",
   "execution_count": 31,
   "id": "8297b0d7",
   "metadata": {},
   "outputs": [
    {
     "data": {
      "image/png": "[encoded data removed]",
      "text/plain": [
       "<Figure size 432x288 with 1 Axes>"
      ]
     },
     "metadata": {
      "needs_background": "light"
     },
     "output_type": "display_data"
    }
   ],
   "source": [
    "profit = list()\n",
    "cutoff = list()\n",
    "for i in np.arange(0.0,0.07,0.001):\n",
    "    p = results_df[results_df.test_predictions>i].growth.sum()\n",
    "    profit.append(p)\n",
    "    cutoff.append(i)\n",
    "plt.plot(cutoff,profit,marker='x')\n",
    "plt.ylabel('%Growth')\n",
    "plt.show()"
   ]
  },
  {
   "cell_type": "code",
   "execution_count": 32,
   "id": "751eb803",
   "metadata": {},
   "outputs": [
    {
     "data": {
      "text/plain": [
       "0.1292404931238622"
      ]
     },
     "execution_count": 32,
     "metadata": {},
     "output_type": "execute_result"
    }
   ],
   "source": [
    "results_df[results_df.test_predictions>0.001].growth.sum()"
   ]
  },
  {
   "cell_type": "markdown",
   "id": "8deaa3c6",
   "metadata": {},
   "source": [
    "If you were to just buy when the model has a prob greater than 0.04 you would get a 5% return, which over 36 days ain't bad.\n",
    "\n",
    "Of course, this 10% figure will be reduced, and could even be eradicated by fees and spread in the buy sell."
   ]
  },
  {
   "cell_type": "code",
   "execution_count": 33,
   "id": "d4128e17",
   "metadata": {},
   "outputs": [
    {
     "data": {
      "text/plain": [
       "65173918.409652695"
      ]
     },
     "execution_count": 33,
     "metadata": {},
     "output_type": "execute_result"
    }
   ],
   "source": [
    "10000*1.05**(15*12)"
   ]
  },
  {
   "cell_type": "code",
   "execution_count": 34,
   "id": "d27aafaa",
   "metadata": {},
   "outputs": [
    {
     "data": {
      "image/png": "[encoded data removed]",
      "text/plain": [
       "<Figure size 1440x360 with 1 Axes>"
      ]
     },
     "metadata": {
      "needs_background": "light"
     },
     "output_type": "display_data"
    }
   ],
   "source": [
    "results_df.groupby('test_predictions_bin')['growth'].agg(['count','sum','mean'])['sum'].plot(figsize=[20,5],marker='x')\n",
    "plt.ylabel('Total Return')\n",
    "plt.title('Total growth by band')\n",
    "plt.show()"
   ]
  },
  {
   "cell_type": "code",
   "execution_count": 35,
   "id": "819d7da2",
   "metadata": {},
   "outputs": [
    {
     "data": {
      "text/html": [
       "<div>\n",
       "<style scoped>\n",
       "    .dataframe tbody tr th:only-of-type {\n",
       "        vertical-align: middle;\n",
       "    }\n",
       "\n",
       "    .dataframe tbody tr th {\n",
       "        vertical-align: top;\n",
       "    }\n",
       "\n",
       "    .dataframe thead th {\n",
       "        text-align: right;\n",
       "    }\n",
       "</style>\n",
       "<table border=\"1\" class=\"dataframe\">\n",
       "  <thead>\n",
       "    <tr style=\"text-align: right;\">\n",
       "      <th></th>\n",
       "      <th>count</th>\n",
       "      <th>sum</th>\n",
       "      <th>mean</th>\n",
       "    </tr>\n",
       "    <tr>\n",
       "      <th>test_predictions_bin</th>\n",
       "      <th></th>\n",
       "      <th></th>\n",
       "      <th></th>\n",
       "    </tr>\n",
       "  </thead>\n",
       "  <tbody>\n",
       "    <tr>\n",
       "      <th>(0.00887, 0.00989]</th>\n",
       "      <td>494</td>\n",
       "      <td>0.000138</td>\n",
       "      <td>2.801615e-07</td>\n",
       "    </tr>\n",
       "    <tr>\n",
       "      <th>(0.00989, 0.012]</th>\n",
       "      <td>494</td>\n",
       "      <td>-0.050394</td>\n",
       "      <td>-1.020130e-04</td>\n",
       "    </tr>\n",
       "    <tr>\n",
       "      <th>(0.012, 0.0186]</th>\n",
       "      <td>494</td>\n",
       "      <td>-0.064801</td>\n",
       "      <td>-1.311759e-04</td>\n",
       "    </tr>\n",
       "    <tr>\n",
       "      <th>(0.0186, 0.0257]</th>\n",
       "      <td>494</td>\n",
       "      <td>-0.035805</td>\n",
       "      <td>-7.247886e-05</td>\n",
       "    </tr>\n",
       "    <tr>\n",
       "      <th>(0.0257, 0.0307]</th>\n",
       "      <td>494</td>\n",
       "      <td>0.067073</td>\n",
       "      <td>1.357744e-04</td>\n",
       "    </tr>\n",
       "    <tr>\n",
       "      <th>(0.0307, 0.0342]</th>\n",
       "      <td>493</td>\n",
       "      <td>-0.114478</td>\n",
       "      <td>-2.322067e-04</td>\n",
       "    </tr>\n",
       "    <tr>\n",
       "      <th>(0.0342, 0.0377]</th>\n",
       "      <td>494</td>\n",
       "      <td>0.063613</td>\n",
       "      <td>1.287710e-04</td>\n",
       "    </tr>\n",
       "    <tr>\n",
       "      <th>(0.0377, 0.0417]</th>\n",
       "      <td>494</td>\n",
       "      <td>0.095726</td>\n",
       "      <td>1.937767e-04</td>\n",
       "    </tr>\n",
       "    <tr>\n",
       "      <th>(0.0417, 0.0461]</th>\n",
       "      <td>494</td>\n",
       "      <td>0.132676</td>\n",
       "      <td>2.685746e-04</td>\n",
       "    </tr>\n",
       "    <tr>\n",
       "      <th>(0.0461, 0.0618]</th>\n",
       "      <td>494</td>\n",
       "      <td>0.035493</td>\n",
       "      <td>7.184789e-05</td>\n",
       "    </tr>\n",
       "  </tbody>\n",
       "</table>\n",
       "</div>"
      ],
      "text/plain": [
       "                      count       sum          mean\n",
       "test_predictions_bin                               \n",
       "(0.00887, 0.00989]      494  0.000138  2.801615e-07\n",
       "(0.00989, 0.012]        494 -0.050394 -1.020130e-04\n",
       "(0.012, 0.0186]         494 -0.064801 -1.311759e-04\n",
       "(0.0186, 0.0257]        494 -0.035805 -7.247886e-05\n",
       "(0.0257, 0.0307]        494  0.067073  1.357744e-04\n",
       "(0.0307, 0.0342]        493 -0.114478 -2.322067e-04\n",
       "(0.0342, 0.0377]        494  0.063613  1.287710e-04\n",
       "(0.0377, 0.0417]        494  0.095726  1.937767e-04\n",
       "(0.0417, 0.0461]        494  0.132676  2.685746e-04\n",
       "(0.0461, 0.0618]        494  0.035493  7.184789e-05"
      ]
     },
     "execution_count": 35,
     "metadata": {},
     "output_type": "execute_result"
    }
   ],
   "source": [
    "results_df['test_predictions_bin'] = pd.qcut(results_df['test_predictions'],10)\n",
    "results_df.groupby('test_predictions_bin')['growth'].agg(['count','sum','mean'])"
   ]
  },
  {
   "cell_type": "code",
   "execution_count": 36,
   "id": "2f773639",
   "metadata": {},
   "outputs": [
    {
     "data": {
      "text/plain": [
       "Timedelta('36 days 20:00:00')"
      ]
     },
     "execution_count": 36,
     "metadata": {},
     "output_type": "execute_result"
    }
   ],
   "source": [
    "results_df.index.max()-results_df.index.min()"
   ]
  },
  {
   "cell_type": "code",
   "execution_count": 37,
   "id": "e2826db3",
   "metadata": {},
   "outputs": [
    {
     "data": {
      "image/png": "[encoded data removed]",
      "text/plain": [
       "<Figure size 1440x360 with 1 Axes>"
      ]
     },
     "metadata": {
      "needs_background": "light"
     },
     "output_type": "display_data"
    }
   ],
   "source": [
    "results_df.groupby('test_predictions_bin')['test_results'].agg(['count','sum','mean'])['mean'].plot(figsize=[20,5],marker='x')\n",
    "plt.ylabel('Rate')\n",
    "plt.title('Probability growth>0.5% in the next ')\n",
    "plt.show()"
   ]
  },
  {
   "cell_type": "code",
   "execution_count": 38,
   "id": "43e4dad1",
   "metadata": {},
   "outputs": [
    {
     "data": {
      "text/plain": [
       "0.005"
      ]
     },
     "execution_count": 38,
     "metadata": {},
     "output_type": "execute_result"
    }
   ],
   "source": [
    "0.005"
   ]
  },
  {
   "cell_type": "markdown",
   "id": "00b8730b",
   "metadata": {},
   "source": [
    "Additional features?\n",
    "- time since opening?\n",
    "- interday movements"
   ]
  },
  {
   "cell_type": "code",
   "execution_count": 39,
   "id": "2b350dc6",
   "metadata": {},
   "outputs": [
    {
     "data": {
      "text/plain": [
       "array([[ 0.00030514],\n",
       "       [ 0.00042934],\n",
       "       [ 0.00051987],\n",
       "       ...,\n",
       "       [ 0.00042343],\n",
       "       [-0.00077431],\n",
       "       [-0.00099585]])"
      ]
     },
     "execution_count": 39,
     "metadata": {},
     "output_type": "execute_result"
    }
   ],
   "source": [
    "growth_test"
   ]
  }
 ],
 "metadata": {
  "kernelspec": {
   "display_name": "Python 3 (ipykernel)",
   "language": "python",
   "name": "python3"
  },
  "language_info": {
   "codemirror_mode": {
    "name": "ipython",
    "version": 3
   },
   "file_extension": ".py",
   "mimetype": "text/x-python",
   "name": "python",
   "nbconvert_exporter": "python",
   "pygments_lexer": "ipython3",
   "version": "3.9.7"
  }
 },
 "nbformat": 4,
 "nbformat_minor": 5
}
