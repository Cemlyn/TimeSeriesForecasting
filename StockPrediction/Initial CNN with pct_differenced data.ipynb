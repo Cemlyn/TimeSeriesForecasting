{
 "cells": [
  {
   "cell_type": "code",
   "execution_count": 1,
   "id": "e0b20a2a",
   "metadata": {},
   "outputs": [],
   "source": [
    "import pandas as pd\n",
    "import numpy as np\n",
    "import os\n",
    "from matplotlib import pyplot as plt"
   ]
  },
  {
   "cell_type": "code",
   "execution_count": 2,
   "id": "263f1b32",
   "metadata": {},
   "outputs": [
    {
     "name": "stdout",
     "output_type": "stream",
     "text": [
      "SPY_5min_2022-01-03T09.00.00_2022-03-25T14.10.00.csv\r\n",
      "SPY_5min_2022-01-03T09.00.00_2022-03-25T14.10.00.csv.7z\r\n",
      "X_test.npy\r\n",
      "X_train.npy\r\n",
      "y_test.npy\r\n",
      "y_train.npy\r\n"
     ]
    }
   ],
   "source": [
    "!ls data/"
   ]
  },
  {
   "cell_type": "code",
   "execution_count": 3,
   "id": "69cb09a6",
   "metadata": {},
   "outputs": [
    {
     "data": {
      "text/html": [
       "<div>\n",
       "<style scoped>\n",
       "    .dataframe tbody tr th:only-of-type {\n",
       "        vertical-align: middle;\n",
       "    }\n",
       "\n",
       "    .dataframe tbody tr th {\n",
       "        vertical-align: top;\n",
       "    }\n",
       "\n",
       "    .dataframe thead th {\n",
       "        text-align: right;\n",
       "    }\n",
       "</style>\n",
       "<table border=\"1\" class=\"dataframe\">\n",
       "  <thead>\n",
       "    <tr style=\"text-align: right;\">\n",
       "      <th></th>\n",
       "      <th>datetime</th>\n",
       "      <th>volume</th>\n",
       "      <th>volume_weighted</th>\n",
       "      <th>open</th>\n",
       "      <th>close</th>\n",
       "      <th>high</th>\n",
       "      <th>low</th>\n",
       "      <th>timestamp</th>\n",
       "      <th>no_transactions</th>\n",
       "    </tr>\n",
       "  </thead>\n",
       "  <tbody>\n",
       "    <tr>\n",
       "      <th>0</th>\n",
       "      <td>2022-01-03 09:00:00</td>\n",
       "      <td>9426.0</td>\n",
       "      <td>476.6581</td>\n",
       "      <td>476.38</td>\n",
       "      <td>476.56</td>\n",
       "      <td>476.92</td>\n",
       "      <td>476.38</td>\n",
       "      <td>1641200400000</td>\n",
       "      <td>115</td>\n",
       "    </tr>\n",
       "    <tr>\n",
       "      <th>1</th>\n",
       "      <td>2022-01-03 09:05:00</td>\n",
       "      <td>1778.0</td>\n",
       "      <td>476.4585</td>\n",
       "      <td>476.48</td>\n",
       "      <td>476.44</td>\n",
       "      <td>476.49</td>\n",
       "      <td>476.44</td>\n",
       "      <td>1641200700000</td>\n",
       "      <td>37</td>\n",
       "    </tr>\n",
       "    <tr>\n",
       "      <th>2</th>\n",
       "      <td>2022-01-03 09:10:00</td>\n",
       "      <td>9767.0</td>\n",
       "      <td>476.7624</td>\n",
       "      <td>476.62</td>\n",
       "      <td>476.83</td>\n",
       "      <td>476.87</td>\n",
       "      <td>476.58</td>\n",
       "      <td>1641201000000</td>\n",
       "      <td>80</td>\n",
       "    </tr>\n",
       "    <tr>\n",
       "      <th>3</th>\n",
       "      <td>2022-01-03 09:15:00</td>\n",
       "      <td>1743.0</td>\n",
       "      <td>476.7269</td>\n",
       "      <td>476.84</td>\n",
       "      <td>476.53</td>\n",
       "      <td>476.84</td>\n",
       "      <td>476.53</td>\n",
       "      <td>1641201300000</td>\n",
       "      <td>44</td>\n",
       "    </tr>\n",
       "    <tr>\n",
       "      <th>4</th>\n",
       "      <td>2022-01-03 09:20:00</td>\n",
       "      <td>1037.0</td>\n",
       "      <td>476.7011</td>\n",
       "      <td>476.65</td>\n",
       "      <td>476.82</td>\n",
       "      <td>476.82</td>\n",
       "      <td>476.62</td>\n",
       "      <td>1641201600000</td>\n",
       "      <td>21</td>\n",
       "    </tr>\n",
       "  </tbody>\n",
       "</table>\n",
       "</div>"
      ],
      "text/plain": [
       "             datetime  volume  volume_weighted    open   close    high  \\\n",
       "0 2022-01-03 09:00:00  9426.0         476.6581  476.38  476.56  476.92   \n",
       "1 2022-01-03 09:05:00  1778.0         476.4585  476.48  476.44  476.49   \n",
       "2 2022-01-03 09:10:00  9767.0         476.7624  476.62  476.83  476.87   \n",
       "3 2022-01-03 09:15:00  1743.0         476.7269  476.84  476.53  476.84   \n",
       "4 2022-01-03 09:20:00  1037.0         476.7011  476.65  476.82  476.82   \n",
       "\n",
       "      low      timestamp  no_transactions  \n",
       "0  476.38  1641200400000              115  \n",
       "1  476.44  1641200700000               37  \n",
       "2  476.58  1641201000000               80  \n",
       "3  476.53  1641201300000               44  \n",
       "4  476.62  1641201600000               21  "
      ]
     },
     "execution_count": 3,
     "metadata": {},
     "output_type": "execute_result"
    }
   ],
   "source": [
    "file_loc = 'SPY_5min_2022-01-03T09.00.00_2022-03-25T14.10.00.csv'\n",
    "df = pd.read_csv(os.path.join('data',file_loc),parse_dates=['datetime'])\n",
    "df.head()"
   ]
  },
  {
   "cell_type": "code",
   "execution_count": 4,
   "id": "085ca0ce",
   "metadata": {},
   "outputs": [
    {
     "data": {
      "text/plain": [
       "<AxesSubplot:xlabel='datetime'>"
      ]
     },
     "execution_count": 4,
     "metadata": {},
     "output_type": "execute_result"
    },
    {
     "data": {
      "image/png": "[encoded data removed]",
      "text/plain": [
       "<Figure size 432x288 with 1 Axes>"
      ]
     },
     "metadata": {
      "needs_background": "light"
     },
     "output_type": "display_data"
    }
   ],
   "source": [
    "df.set_index('datetime')['close'].plot()"
   ]
  },
  {
   "cell_type": "code",
   "execution_count": 5,
   "id": "3a3a0e26",
   "metadata": {},
   "outputs": [
    {
     "data": {
      "text/html": [
       "<div>\n",
       "<style scoped>\n",
       "    .dataframe tbody tr th:only-of-type {\n",
       "        vertical-align: middle;\n",
       "    }\n",
       "\n",
       "    .dataframe tbody tr th {\n",
       "        vertical-align: top;\n",
       "    }\n",
       "\n",
       "    .dataframe thead th {\n",
       "        text-align: right;\n",
       "    }\n",
       "</style>\n",
       "<table border=\"1\" class=\"dataframe\">\n",
       "  <thead>\n",
       "    <tr style=\"text-align: right;\">\n",
       "      <th></th>\n",
       "      <th>datetime</th>\n",
       "      <th>volume</th>\n",
       "      <th>volume_weighted</th>\n",
       "      <th>open</th>\n",
       "      <th>close</th>\n",
       "      <th>high</th>\n",
       "      <th>low</th>\n",
       "      <th>timestamp</th>\n",
       "      <th>no_transactions</th>\n",
       "      <th>time-delta</th>\n",
       "      <th>volume_diff</th>\n",
       "      <th>open_diff</th>\n",
       "      <th>close_diff</th>\n",
       "      <th>high_diff</th>\n",
       "      <th>low_diff</th>\n",
       "    </tr>\n",
       "  </thead>\n",
       "  <tbody>\n",
       "    <tr>\n",
       "      <th>0</th>\n",
       "      <td>2022-01-03 09:00:00</td>\n",
       "      <td>9426.0</td>\n",
       "      <td>476.6581</td>\n",
       "      <td>476.38</td>\n",
       "      <td>476.56</td>\n",
       "      <td>476.92</td>\n",
       "      <td>476.38</td>\n",
       "      <td>1641200400000</td>\n",
       "      <td>115</td>\n",
       "      <td>NaN</td>\n",
       "      <td>NaN</td>\n",
       "      <td>NaN</td>\n",
       "      <td>NaN</td>\n",
       "      <td>NaN</td>\n",
       "      <td>NaN</td>\n",
       "    </tr>\n",
       "    <tr>\n",
       "      <th>1</th>\n",
       "      <td>2022-01-03 09:05:00</td>\n",
       "      <td>1778.0</td>\n",
       "      <td>476.4585</td>\n",
       "      <td>476.48</td>\n",
       "      <td>476.44</td>\n",
       "      <td>476.49</td>\n",
       "      <td>476.44</td>\n",
       "      <td>1641200700000</td>\n",
       "      <td>37</td>\n",
       "      <td>300.0</td>\n",
       "      <td>-0.811373</td>\n",
       "      <td>0.000210</td>\n",
       "      <td>-0.000252</td>\n",
       "      <td>-0.000902</td>\n",
       "      <td>0.000126</td>\n",
       "    </tr>\n",
       "    <tr>\n",
       "      <th>2</th>\n",
       "      <td>2022-01-03 09:10:00</td>\n",
       "      <td>9767.0</td>\n",
       "      <td>476.7624</td>\n",
       "      <td>476.62</td>\n",
       "      <td>476.83</td>\n",
       "      <td>476.87</td>\n",
       "      <td>476.58</td>\n",
       "      <td>1641201000000</td>\n",
       "      <td>80</td>\n",
       "      <td>300.0</td>\n",
       "      <td>4.493251</td>\n",
       "      <td>0.000294</td>\n",
       "      <td>0.000819</td>\n",
       "      <td>0.000797</td>\n",
       "      <td>0.000294</td>\n",
       "    </tr>\n",
       "    <tr>\n",
       "      <th>3</th>\n",
       "      <td>2022-01-03 09:15:00</td>\n",
       "      <td>1743.0</td>\n",
       "      <td>476.7269</td>\n",
       "      <td>476.84</td>\n",
       "      <td>476.53</td>\n",
       "      <td>476.84</td>\n",
       "      <td>476.53</td>\n",
       "      <td>1641201300000</td>\n",
       "      <td>44</td>\n",
       "      <td>300.0</td>\n",
       "      <td>-0.821542</td>\n",
       "      <td>0.000462</td>\n",
       "      <td>-0.000629</td>\n",
       "      <td>-0.000063</td>\n",
       "      <td>-0.000105</td>\n",
       "    </tr>\n",
       "    <tr>\n",
       "      <th>4</th>\n",
       "      <td>2022-01-03 09:20:00</td>\n",
       "      <td>1037.0</td>\n",
       "      <td>476.7011</td>\n",
       "      <td>476.65</td>\n",
       "      <td>476.82</td>\n",
       "      <td>476.82</td>\n",
       "      <td>476.62</td>\n",
       "      <td>1641201600000</td>\n",
       "      <td>21</td>\n",
       "      <td>300.0</td>\n",
       "      <td>-0.405049</td>\n",
       "      <td>-0.000398</td>\n",
       "      <td>0.000609</td>\n",
       "      <td>-0.000042</td>\n",
       "      <td>0.000189</td>\n",
       "    </tr>\n",
       "  </tbody>\n",
       "</table>\n",
       "</div>"
      ],
      "text/plain": [
       "             datetime  volume  volume_weighted    open   close    high  \\\n",
       "0 2022-01-03 09:00:00  9426.0         476.6581  476.38  476.56  476.92   \n",
       "1 2022-01-03 09:05:00  1778.0         476.4585  476.48  476.44  476.49   \n",
       "2 2022-01-03 09:10:00  9767.0         476.7624  476.62  476.83  476.87   \n",
       "3 2022-01-03 09:15:00  1743.0         476.7269  476.84  476.53  476.84   \n",
       "4 2022-01-03 09:20:00  1037.0         476.7011  476.65  476.82  476.82   \n",
       "\n",
       "      low      timestamp  no_transactions  time-delta  volume_diff  open_diff  \\\n",
       "0  476.38  1641200400000              115         NaN          NaN        NaN   \n",
       "1  476.44  1641200700000               37       300.0    -0.811373   0.000210   \n",
       "2  476.58  1641201000000               80       300.0     4.493251   0.000294   \n",
       "3  476.53  1641201300000               44       300.0    -0.821542   0.000462   \n",
       "4  476.62  1641201600000               21       300.0    -0.405049  -0.000398   \n",
       "\n",
       "   close_diff  high_diff  low_diff  \n",
       "0         NaN        NaN       NaN  \n",
       "1   -0.000252  -0.000902  0.000126  \n",
       "2    0.000819   0.000797  0.000294  \n",
       "3   -0.000629  -0.000063 -0.000105  \n",
       "4    0.000609  -0.000042  0.000189  "
      ]
     },
     "execution_count": 5,
     "metadata": {},
     "output_type": "execute_result"
    }
   ],
   "source": [
    "df['time-delta'] = df['datetime'].diff().dt.seconds\n",
    "for col in ['volume','open','close','high','low']:\n",
    "    df[f'{col}_diff'] = df[col].pct_change()\n",
    "df.head()"
   ]
  },
  {
   "cell_type": "code",
   "execution_count": 6,
   "id": "f5b0e26d",
   "metadata": {},
   "outputs": [
    {
     "data": {
      "text/plain": [
       "300.0      10856\n",
       "600.0         49\n",
       "900.0          1\n",
       "1200.0         1\n",
       "25500.0        1\n",
       "29100.0       56\n",
       "Name: time-delta, dtype: int64"
      ]
     },
     "execution_count": 6,
     "metadata": {},
     "output_type": "execute_result"
    }
   ],
   "source": [
    "df['time-delta'].value_counts().sort_index()"
   ]
  },
  {
   "cell_type": "code",
   "execution_count": 7,
   "id": "e91eba46",
   "metadata": {},
   "outputs": [],
   "source": [
    "df = df[1:]"
   ]
  },
  {
   "cell_type": "code",
   "execution_count": 8,
   "id": "c4b7c036",
   "metadata": {},
   "outputs": [
    {
     "data": {
      "text/plain": [
       "5.0"
      ]
     },
     "execution_count": 8,
     "metadata": {},
     "output_type": "execute_result"
    }
   ],
   "source": [
    "300/60"
   ]
  },
  {
   "cell_type": "code",
   "execution_count": 9,
   "id": "c165a8d8",
   "metadata": {},
   "outputs": [
    {
     "data": {
      "text/plain": [
       "10.0"
      ]
     },
     "execution_count": 9,
     "metadata": {},
     "output_type": "execute_result"
    }
   ],
   "source": [
    "600/60"
   ]
  },
  {
   "cell_type": "code",
   "execution_count": 10,
   "id": "e0bc4c9c",
   "metadata": {},
   "outputs": [
    {
     "data": {
      "text/plain": [
       "15.0"
      ]
     },
     "execution_count": 10,
     "metadata": {},
     "output_type": "execute_result"
    }
   ],
   "source": [
    "900/60"
   ]
  },
  {
   "cell_type": "code",
   "execution_count": 11,
   "id": "3067a743",
   "metadata": {},
   "outputs": [
    {
     "data": {
      "text/plain": [
       "20.0"
      ]
     },
     "execution_count": 11,
     "metadata": {},
     "output_type": "execute_result"
    }
   ],
   "source": [
    "1200/60"
   ]
  },
  {
   "cell_type": "code",
   "execution_count": 12,
   "id": "2d0bc796",
   "metadata": {},
   "outputs": [
    {
     "data": {
      "text/plain": [
       "425.0"
      ]
     },
     "execution_count": 12,
     "metadata": {},
     "output_type": "execute_result"
    }
   ],
   "source": [
    "25500/60"
   ]
  },
  {
   "cell_type": "code",
   "execution_count": 13,
   "id": "b1c06e1a",
   "metadata": {},
   "outputs": [
    {
     "data": {
      "text/plain": [
       "485.0"
      ]
     },
     "execution_count": 13,
     "metadata": {},
     "output_type": "execute_result"
    }
   ],
   "source": [
    "29100/60"
   ]
  },
  {
   "cell_type": "markdown",
   "id": "e27330cc",
   "metadata": {},
   "source": [
    "# Creating the feature Matrix"
   ]
  },
  {
   "cell_type": "code",
   "execution_count": 14,
   "id": "44de751d",
   "metadata": {
    "scrolled": true
   },
   "outputs": [
    {
     "name": "stdout",
     "output_type": "stream",
     "text": [
      "10964 ticks found\n",
      "Counter:10960\r"
     ]
    }
   ],
   "source": [
    "# Window of data we're working with\n",
    "N = df.shape[0]\n",
    "print(f'{N} ticks found')\n",
    "\n",
    "# 2 hour lookback period\n",
    "LOOKBACK = 2*(60/5)\n",
    "\n",
    "# Growth requirement\n",
    "GROWTH_LIMIT = 0.005\n",
    "\n",
    "# outcome period 30min\n",
    "HORIZON = 6\n",
    "\n",
    "X = list()\n",
    "y = list()\n",
    "\n",
    "t =1\n",
    "finish = False\n",
    "counter = 0\n",
    "while finish is False:\n",
    "    \n",
    "    counter+=1\n",
    "    print(f'Counter:{counter}',end='\\r')\n",
    "    \n",
    "    # check we have enough lookback data\n",
    "    if t<22:\n",
    "        t+=1\n",
    "        continue\n",
    "    \n",
    "    # check we don't have enough data left then end the cycle\n",
    "    if (N - t)<5:\n",
    "        finish = True\n",
    "        t+=1\n",
    "        continue\n",
    "        \n",
    "    lookback_data = df.loc[t-20:t,['volume_diff','close_diff','open_diff','high_diff','low_diff']].values\n",
    "    outcome_data = df.loc[t+1:t+6,'close_diff'].sum()>GROWTH_LIMIT\n",
    "    \n",
    "    X.append(lookback_data)\n",
    "    y.append(outcome_data)\n",
    "    \n",
    "    t+=1\n"
   ]
  },
  {
   "cell_type": "code",
   "execution_count": 15,
   "id": "c3f91be6",
   "metadata": {},
   "outputs": [
    {
     "data": {
      "text/plain": [
       "(10938, 1)"
      ]
     },
     "execution_count": 15,
     "metadata": {},
     "output_type": "execute_result"
    }
   ],
   "source": [
    "y = np.array(y).reshape(-1,1)\n",
    "y.shape"
   ]
  },
  {
   "cell_type": "code",
   "execution_count": 16,
   "id": "2d058816",
   "metadata": {},
   "outputs": [
    {
     "data": {
      "text/plain": [
       "0.03355275187420004"
      ]
     },
     "execution_count": 16,
     "metadata": {},
     "output_type": "execute_result"
    }
   ],
   "source": [
    "y.mean()"
   ]
  },
  {
   "cell_type": "code",
   "execution_count": 17,
   "id": "fdfd29bc",
   "metadata": {},
   "outputs": [
    {
     "data": {
      "text/plain": [
       "367"
      ]
     },
     "execution_count": 17,
     "metadata": {},
     "output_type": "execute_result"
    }
   ],
   "source": [
    "y.sum()"
   ]
  },
  {
   "cell_type": "code",
   "execution_count": 18,
   "id": "19e965ad",
   "metadata": {},
   "outputs": [
    {
     "data": {
      "text/plain": [
       "(21, 5)"
      ]
     },
     "execution_count": 18,
     "metadata": {},
     "output_type": "execute_result"
    }
   ],
   "source": [
    "X[-1].shape"
   ]
  },
  {
   "cell_type": "code",
   "execution_count": 19,
   "id": "778a4a57",
   "metadata": {},
   "outputs": [],
   "source": [
    "X = np.stack(X)"
   ]
  },
  {
   "cell_type": "code",
   "execution_count": 20,
   "id": "890e1696",
   "metadata": {},
   "outputs": [
    {
     "data": {
      "text/plain": [
       "(10938, 21, 5)"
      ]
     },
     "execution_count": 20,
     "metadata": {},
     "output_type": "execute_result"
    }
   ],
   "source": [
    "X.shape"
   ]
  },
  {
   "cell_type": "code",
   "execution_count": 21,
   "id": "31fed75a",
   "metadata": {},
   "outputs": [],
   "source": [
    "X_train = X[:6000]\n",
    "X_test = X[6000:]\n",
    "\n",
    "y_train = y[:6000]\n",
    "y_test = y[6000:]\n",
    "\n",
    "with open('./data/X_train.npy','wb') as f:\n",
    "    np.save(f,X_train)\n",
    "    \n",
    "with open('./data/X_test.npy','wb') as f:\n",
    "    np.save(f,X_test)\n",
    "    \n",
    "with open('./data/y_train.npy','wb') as f:\n",
    "    np.save(f,y_train)\n",
    "    \n",
    "with open('./data/y_test.npy','wb') as f:\n",
    "    np.save(f,X_test)"
   ]
  },
  {
   "cell_type": "markdown",
   "id": "36f52584",
   "metadata": {},
   "source": [
    "# Defining a simple CNN"
   ]
  },
  {
   "cell_type": "code",
   "execution_count": 22,
   "id": "25883a21",
   "metadata": {},
   "outputs": [],
   "source": [
    "import tensorflow as tf\n",
    "from tensorflow import keras"
   ]
  },
  {
   "cell_type": "code",
   "execution_count": 23,
   "id": "be427fa4",
   "metadata": {},
   "outputs": [
    {
     "data": {
      "text/plain": [
       "(6000, 21, 5)"
      ]
     },
     "execution_count": 23,
     "metadata": {},
     "output_type": "execute_result"
    }
   ],
   "source": [
    "X_train.shape"
   ]
  },
  {
   "cell_type": "code",
   "execution_count": 24,
   "id": "953cfed1",
   "metadata": {},
   "outputs": [],
   "source": [
    "X_train = X_train.astype('float32')\n",
    "X_test = X_test.astype('float32')\n",
    "y_train = y_train.astype('float32')\n",
    "y_test = y_test.astype('float32')"
   ]
  },
  {
   "cell_type": "code",
   "execution_count": 25,
   "id": "ba90c1b7",
   "metadata": {},
   "outputs": [
    {
     "data": {
      "text/plain": [
       "(6000, 21, 5)"
      ]
     },
     "execution_count": 25,
     "metadata": {},
     "output_type": "execute_result"
    }
   ],
   "source": [
    "X_train.shape"
   ]
  },
  {
   "cell_type": "code",
   "execution_count": 26,
   "id": "0f58d07c",
   "metadata": {},
   "outputs": [
    {
     "name": "stderr",
     "output_type": "stream",
     "text": [
      "2022-07-31 17:45:37.660390: I tensorflow/core/platform/cpu_feature_guard.cc:145] This TensorFlow binary is optimized with Intel(R) MKL-DNN to use the following CPU instructions in performance critical operations:  SSE4.1 SSE4.2\n",
      "To enable them in non-MKL-DNN operations, rebuild TensorFlow with the appropriate compiler flags.\n",
      "2022-07-31 17:45:37.660979: I tensorflow/core/common_runtime/process_util.cc:115] Creating new thread pool with default inter op setting: 10. Tune using inter_op_parallelism_threads for best performance.\n"
     ]
    },
    {
     "data": {
      "text/plain": [
       "(10, 24)"
      ]
     },
     "execution_count": 26,
     "metadata": {},
     "output_type": "execute_result"
    }
   ],
   "source": [
    "x = keras.layers.Conv1D(12,3,activation='relu',input_shape=(X_train.shape[1],X_train.shape[2]))(X_train[:10])\n",
    "x = keras.layers.BatchNormalization()(x)\n",
    "x = keras.layers.MaxPooling1D(2)(x)\n",
    "x = keras.layers.Conv1D(6,2,activation='relu')(x)\n",
    "x = keras.layers.BatchNormalization()(x)\n",
    "x = keras.layers.MaxPooling1D(2)(x)\n",
    "x = keras.layers.Flatten()(x)\n",
    "#x = keras.layers.Dense(10,activation='relu')(x)\n",
    "#x = keras.layers.Dense(1,activation='sigmoid')(x)\n",
    "x.numpy().shape"
   ]
  },
  {
   "cell_type": "code",
   "execution_count": 27,
   "id": "d73a8ad9",
   "metadata": {},
   "outputs": [],
   "source": [
    "model = keras.Sequential([\n",
    "    keras.layers.Conv1D(24,2,\n",
    "                        activation='relu',\n",
    "                        input_shape=(X_train.shape[1],X_train.shape[2]),\n",
    "                        kernel_regularizer=tf.keras.regularizers.l2(l=.1)),\n",
    "    keras.layers.Conv1D(18,3,activation='relu'),\n",
    "    keras.layers.BatchNormalization(),\n",
    "    keras.layers.MaxPooling1D(2),\n",
    "    #keras.layers.Conv1D(6,2,activation='relu'),\n",
    "    #keras.layers.BatchNormalization(),\n",
    "    #keras.layers.MaxPooling1D(2),    \n",
    "    keras.layers.Flatten(),\n",
    "    #keras.layers.Dense(10,activation='relu'),\n",
    "    keras.layers.Dense(1,activation='sigmoid')\n",
    "])"
   ]
  },
  {
   "cell_type": "code",
   "execution_count": 28,
   "id": "ca4bb2e6",
   "metadata": {},
   "outputs": [],
   "source": [
    "metrics = [\n",
    "    tf.metrics.AUC(name='auc')\n",
    "]\n",
    "\n",
    "model.compile(optimizer=keras.optimizers.Adam(1e-4),loss='binary_crossentropy',metrics=metrics)"
   ]
  },
  {
   "cell_type": "code",
   "execution_count": 29,
   "id": "bb953dd7",
   "metadata": {},
   "outputs": [],
   "source": [
    "callbacks = [keras.callbacks.EarlyStopping(patience=500,restore_best_weights=True)]"
   ]
  },
  {
   "cell_type": "code",
   "execution_count": 30,
   "id": "93716fb7",
   "metadata": {},
   "outputs": [
    {
     "name": "stdout",
     "output_type": "stream",
     "text": [
      "Train on 6000 samples, validate on 4938 samples\n",
      "Epoch 1/200\n",
      "6000/6000 - 2s - loss: 1.3415 - auc: 0.5520 - val_loss: 1.3062 - val_auc: 0.4626\n",
      "Epoch 2/200\n",
      "6000/6000 - 1s - loss: 1.0817 - auc: 0.6052 - val_loss: 1.1027 - val_auc: 0.5173\n",
      "Epoch 3/200\n",
      "6000/6000 - 1s - loss: 0.8946 - auc: 0.6227 - val_loss: 0.9406 - val_auc: 0.5502\n",
      "Epoch 4/200\n",
      "6000/6000 - 1s - loss: 0.7534 - auc: 0.5986 - val_loss: 0.8050 - val_auc: 0.5652\n",
      "Epoch 5/200\n",
      "6000/6000 - 1s - loss: 0.6432 - auc: 0.5980 - val_loss: 0.6608 - val_auc: 0.5821\n",
      "Epoch 6/200\n",
      "6000/6000 - 1s - loss: 0.5678 - auc: 0.5870 - val_loss: 0.5773 - val_auc: 0.5868\n",
      "Epoch 7/200\n",
      "6000/6000 - 1s - loss: 0.5120 - auc: 0.5922 - val_loss: 0.5195 - val_auc: 0.5886\n",
      "Epoch 8/200\n",
      "6000/6000 - 1s - loss: 0.4665 - auc: 0.6023 - val_loss: 0.4715 - val_auc: 0.5973\n",
      "Epoch 9/200\n",
      "6000/6000 - 1s - loss: 0.4296 - auc: 0.6125 - val_loss: 0.4379 - val_auc: 0.6003\n",
      "Epoch 10/200\n",
      "6000/6000 - 1s - loss: 0.3985 - auc: 0.6188 - val_loss: 0.4097 - val_auc: 0.6033\n",
      "Epoch 11/200\n",
      "6000/6000 - 1s - loss: 0.3731 - auc: 0.6146 - val_loss: 0.3858 - val_auc: 0.6079\n",
      "Epoch 12/200\n",
      "6000/6000 - 1s - loss: 0.3474 - auc: 0.6477 - val_loss: 0.3658 - val_auc: 0.6081\n",
      "Epoch 13/200\n",
      "6000/6000 - 1s - loss: 0.3266 - auc: 0.6353 - val_loss: 0.3445 - val_auc: 0.6153\n",
      "Epoch 14/200\n",
      "6000/6000 - 1s - loss: 0.3080 - auc: 0.6508 - val_loss: 0.3271 - val_auc: 0.6147\n",
      "Epoch 15/200\n",
      "6000/6000 - 1s - loss: 0.2913 - auc: 0.6520 - val_loss: 0.3131 - val_auc: 0.6115\n",
      "Epoch 16/200\n",
      "6000/6000 - 1s - loss: 0.2764 - auc: 0.6594 - val_loss: 0.2983 - val_auc: 0.6160\n",
      "Epoch 17/200\n",
      "6000/6000 - 1s - loss: 0.2641 - auc: 0.6567 - val_loss: 0.2859 - val_auc: 0.6143\n",
      "Epoch 18/200\n",
      "6000/6000 - 1s - loss: 0.2520 - auc: 0.6588 - val_loss: 0.2750 - val_auc: 0.6178\n",
      "Epoch 19/200\n",
      "6000/6000 - 1s - loss: 0.2403 - auc: 0.6796 - val_loss: 0.2657 - val_auc: 0.6190\n",
      "Epoch 20/200\n",
      "6000/6000 - 1s - loss: 0.2314 - auc: 0.6716 - val_loss: 0.2563 - val_auc: 0.6175\n",
      "Epoch 21/200\n",
      "6000/6000 - 1s - loss: 0.2228 - auc: 0.6827 - val_loss: 0.2492 - val_auc: 0.6206\n",
      "Epoch 22/200\n",
      "6000/6000 - 1s - loss: 0.2153 - auc: 0.6859 - val_loss: 0.2423 - val_auc: 0.6163\n",
      "Epoch 23/200\n",
      "6000/6000 - 1s - loss: 0.2082 - auc: 0.6995 - val_loss: 0.2359 - val_auc: 0.6207\n",
      "Epoch 24/200\n",
      "6000/6000 - 1s - loss: 0.2023 - auc: 0.7026 - val_loss: 0.2317 - val_auc: 0.6239\n",
      "Epoch 25/200\n",
      "6000/6000 - 1s - loss: 0.1978 - auc: 0.6996 - val_loss: 0.2254 - val_auc: 0.6227\n",
      "Epoch 26/200\n",
      "6000/6000 - 1s - loss: 0.1918 - auc: 0.7104 - val_loss: 0.2239 - val_auc: 0.6231\n",
      "Epoch 27/200\n",
      "6000/6000 - 1s - loss: 0.1889 - auc: 0.7026 - val_loss: 0.2184 - val_auc: 0.6250\n",
      "Epoch 28/200\n",
      "6000/6000 - 1s - loss: 0.1849 - auc: 0.7148 - val_loss: 0.2155 - val_auc: 0.6194\n",
      "Epoch 29/200\n",
      "6000/6000 - 1s - loss: 0.1811 - auc: 0.7264 - val_loss: 0.2123 - val_auc: 0.6280\n",
      "Epoch 30/200\n",
      "6000/6000 - 1s - loss: 0.1787 - auc: 0.7284 - val_loss: 0.2098 - val_auc: 0.6258\n",
      "Epoch 31/200\n",
      "6000/6000 - 1s - loss: 0.1757 - auc: 0.7350 - val_loss: 0.2080 - val_auc: 0.6237\n",
      "Epoch 32/200\n",
      "6000/6000 - 1s - loss: 0.1735 - auc: 0.7326 - val_loss: 0.2058 - val_auc: 0.6222\n",
      "Epoch 33/200\n",
      "6000/6000 - 1s - loss: 0.1728 - auc: 0.7248 - val_loss: 0.2045 - val_auc: 0.6255\n",
      "Epoch 34/200\n",
      "6000/6000 - 1s - loss: 0.1704 - auc: 0.7394 - val_loss: 0.2027 - val_auc: 0.6295\n",
      "Epoch 35/200\n",
      "6000/6000 - 1s - loss: 0.1685 - auc: 0.7418 - val_loss: 0.2022 - val_auc: 0.6299\n",
      "Epoch 36/200\n",
      "6000/6000 - 1s - loss: 0.1669 - auc: 0.7472 - val_loss: 0.2001 - val_auc: 0.6269\n",
      "Epoch 37/200\n",
      "6000/6000 - 1s - loss: 0.1667 - auc: 0.7382 - val_loss: 0.1997 - val_auc: 0.6228\n",
      "Epoch 38/200\n",
      "6000/6000 - 1s - loss: 0.1644 - auc: 0.7511 - val_loss: 0.1978 - val_auc: 0.6311\n",
      "Epoch 39/200\n",
      "6000/6000 - 1s - loss: 0.1631 - auc: 0.7557 - val_loss: 0.1981 - val_auc: 0.6304\n",
      "Epoch 40/200\n",
      "6000/6000 - 1s - loss: 0.1635 - auc: 0.7434 - val_loss: 0.1972 - val_auc: 0.6299\n",
      "Epoch 41/200\n",
      "6000/6000 - 1s - loss: 0.1622 - auc: 0.7475 - val_loss: 0.1962 - val_auc: 0.6306\n",
      "Epoch 42/200\n",
      "6000/6000 - 1s - loss: 0.1618 - auc: 0.7422 - val_loss: 0.1955 - val_auc: 0.6251\n",
      "Epoch 43/200\n",
      "6000/6000 - 1s - loss: 0.1599 - auc: 0.7586 - val_loss: 0.1942 - val_auc: 0.6358\n",
      "Epoch 44/200\n",
      "6000/6000 - 1s - loss: 0.1592 - auc: 0.7611 - val_loss: 0.1941 - val_auc: 0.6348\n",
      "Epoch 45/200\n",
      "6000/6000 - 1s - loss: 0.1593 - auc: 0.7504 - val_loss: 0.1932 - val_auc: 0.6342\n",
      "Epoch 46/200\n",
      "6000/6000 - 1s - loss: 0.1574 - auc: 0.7674 - val_loss: 0.1931 - val_auc: 0.6312\n",
      "Epoch 47/200\n",
      "6000/6000 - 1s - loss: 0.1568 - auc: 0.7662 - val_loss: 0.1922 - val_auc: 0.6341\n",
      "Epoch 48/200\n",
      "6000/6000 - 1s - loss: 0.1571 - auc: 0.7544 - val_loss: 0.1913 - val_auc: 0.6333\n",
      "Epoch 49/200\n",
      "6000/6000 - 1s - loss: 0.1555 - auc: 0.7659 - val_loss: 0.1919 - val_auc: 0.6346\n",
      "Epoch 50/200\n",
      "6000/6000 - 1s - loss: 0.1544 - auc: 0.7716 - val_loss: 0.1900 - val_auc: 0.6383\n",
      "Epoch 51/200\n",
      "6000/6000 - 1s - loss: 0.1540 - auc: 0.7698 - val_loss: 0.1888 - val_auc: 0.6371\n",
      "Epoch 52/200\n",
      "6000/6000 - 1s - loss: 0.1537 - auc: 0.7718 - val_loss: 0.1889 - val_auc: 0.6394\n",
      "Epoch 53/200\n",
      "6000/6000 - 1s - loss: 0.1532 - auc: 0.7700 - val_loss: 0.1881 - val_auc: 0.6408\n",
      "Epoch 54/200\n",
      "6000/6000 - 1s - loss: 0.1523 - auc: 0.7714 - val_loss: 0.1877 - val_auc: 0.6431\n",
      "Epoch 55/200\n",
      "6000/6000 - 1s - loss: 0.1518 - auc: 0.7752 - val_loss: 0.1894 - val_auc: 0.6428\n",
      "Epoch 56/200\n",
      "6000/6000 - 1s - loss: 0.1517 - auc: 0.7732 - val_loss: 0.1877 - val_auc: 0.6390\n",
      "Epoch 57/200\n",
      "6000/6000 - 1s - loss: 0.1506 - auc: 0.7760 - val_loss: 0.1866 - val_auc: 0.6458\n",
      "Epoch 58/200\n",
      "6000/6000 - 1s - loss: 0.1494 - auc: 0.7838 - val_loss: 0.1854 - val_auc: 0.6438\n",
      "Epoch 59/200\n",
      "6000/6000 - 1s - loss: 0.1489 - auc: 0.7829 - val_loss: 0.1860 - val_auc: 0.6499\n",
      "Epoch 60/200\n",
      "6000/6000 - 1s - loss: 0.1490 - auc: 0.7823 - val_loss: 0.1844 - val_auc: 0.6483\n",
      "Epoch 61/200\n",
      "6000/6000 - 1s - loss: 0.1473 - auc: 0.7913 - val_loss: 0.1845 - val_auc: 0.6471\n",
      "Epoch 62/200\n",
      "6000/6000 - 1s - loss: 0.1473 - auc: 0.7936 - val_loss: 0.1839 - val_auc: 0.6494\n",
      "Epoch 63/200\n",
      "6000/6000 - 1s - loss: 0.1468 - auc: 0.7900 - val_loss: 0.1838 - val_auc: 0.6499\n",
      "Epoch 64/200\n",
      "6000/6000 - 1s - loss: 0.1463 - auc: 0.7919 - val_loss: 0.1835 - val_auc: 0.6506\n",
      "Epoch 65/200\n",
      "6000/6000 - 1s - loss: 0.1456 - auc: 0.7959 - val_loss: 0.1825 - val_auc: 0.6496\n",
      "Epoch 66/200\n",
      "6000/6000 - 1s - loss: 0.1447 - auc: 0.7952 - val_loss: 0.1834 - val_auc: 0.6524\n",
      "Epoch 67/200\n",
      "6000/6000 - 1s - loss: 0.1440 - auc: 0.8041 - val_loss: 0.1857 - val_auc: 0.6501\n",
      "Epoch 68/200\n",
      "6000/6000 - 1s - loss: 0.1450 - auc: 0.7858 - val_loss: 0.1823 - val_auc: 0.6525\n",
      "Epoch 69/200\n",
      "6000/6000 - 1s - loss: 0.1439 - auc: 0.7939 - val_loss: 0.1829 - val_auc: 0.6539\n",
      "Epoch 70/200\n",
      "6000/6000 - 1s - loss: 0.1431 - auc: 0.7982 - val_loss: 0.1806 - val_auc: 0.6499\n",
      "Epoch 71/200\n",
      "6000/6000 - 1s - loss: 0.1431 - auc: 0.7977 - val_loss: 0.1817 - val_auc: 0.6564\n",
      "Epoch 72/200\n",
      "6000/6000 - 1s - loss: 0.1426 - auc: 0.7981 - val_loss: 0.1798 - val_auc: 0.6540\n",
      "Epoch 73/200\n",
      "6000/6000 - 1s - loss: 0.1425 - auc: 0.7931 - val_loss: 0.1799 - val_auc: 0.6542\n",
      "Epoch 74/200\n",
      "6000/6000 - 1s - loss: 0.1428 - auc: 0.7878 - val_loss: 0.1802 - val_auc: 0.6560\n",
      "Epoch 75/200\n",
      "6000/6000 - 1s - loss: 0.1417 - auc: 0.7940 - val_loss: 0.1796 - val_auc: 0.6536\n",
      "Epoch 76/200\n",
      "6000/6000 - 1s - loss: 0.1414 - auc: 0.8000 - val_loss: 0.1812 - val_auc: 0.6542\n",
      "Epoch 77/200\n",
      "6000/6000 - 1s - loss: 0.1405 - auc: 0.8037 - val_loss: 0.1805 - val_auc: 0.6569\n",
      "Epoch 78/200\n",
      "6000/6000 - 1s - loss: 0.1402 - auc: 0.8025 - val_loss: 0.1791 - val_auc: 0.6570\n",
      "Epoch 79/200\n",
      "6000/6000 - 1s - loss: 0.1398 - auc: 0.8039 - val_loss: 0.1792 - val_auc: 0.6553\n",
      "Epoch 80/200\n",
      "6000/6000 - 1s - loss: 0.1399 - auc: 0.8006 - val_loss: 0.1802 - val_auc: 0.6536\n",
      "Epoch 81/200\n",
      "6000/6000 - 1s - loss: 0.1403 - auc: 0.7938 - val_loss: 0.1787 - val_auc: 0.6561\n",
      "Epoch 82/200\n",
      "6000/6000 - 1s - loss: 0.1392 - auc: 0.7996 - val_loss: 0.1805 - val_auc: 0.6532\n",
      "Epoch 83/200\n",
      "6000/6000 - 1s - loss: 0.1399 - auc: 0.7933 - val_loss: 0.1781 - val_auc: 0.6632\n",
      "Epoch 84/200\n",
      "6000/6000 - 1s - loss: 0.1383 - auc: 0.8000 - val_loss: 0.1777 - val_auc: 0.6627\n",
      "Epoch 85/200\n",
      "6000/6000 - 1s - loss: 0.1388 - auc: 0.7990 - val_loss: 0.1775 - val_auc: 0.6614\n",
      "Epoch 86/200\n",
      "6000/6000 - 1s - loss: 0.1370 - auc: 0.8095 - val_loss: 0.1764 - val_auc: 0.6599\n",
      "Epoch 87/200\n",
      "6000/6000 - 1s - loss: 0.1375 - auc: 0.8074 - val_loss: 0.1789 - val_auc: 0.6549\n"
     ]
    },
    {
     "name": "stdout",
     "output_type": "stream",
     "text": [
      "Epoch 88/200\n",
      "6000/6000 - 1s - loss: 0.1376 - auc: 0.8022 - val_loss: 0.1760 - val_auc: 0.6586\n",
      "Epoch 89/200\n",
      "6000/6000 - 1s - loss: 0.1367 - auc: 0.8077 - val_loss: 0.1771 - val_auc: 0.6597\n",
      "Epoch 90/200\n",
      "6000/6000 - 1s - loss: 0.1360 - auc: 0.8108 - val_loss: 0.1749 - val_auc: 0.6618\n",
      "Epoch 91/200\n",
      "6000/6000 - 1s - loss: 0.1361 - auc: 0.8083 - val_loss: 0.1776 - val_auc: 0.6604\n",
      "Epoch 92/200\n",
      "6000/6000 - 2s - loss: 0.1366 - auc: 0.8046 - val_loss: 0.1761 - val_auc: 0.6603\n",
      "Epoch 93/200\n",
      "6000/6000 - 1s - loss: 0.1363 - auc: 0.8034 - val_loss: 0.1753 - val_auc: 0.6608\n",
      "Epoch 94/200\n",
      "6000/6000 - 1s - loss: 0.1360 - auc: 0.8041 - val_loss: 0.1749 - val_auc: 0.6634\n",
      "Epoch 95/200\n",
      "6000/6000 - 2s - loss: 0.1350 - auc: 0.8129 - val_loss: 0.1755 - val_auc: 0.6587\n",
      "Epoch 96/200\n",
      "6000/6000 - 2s - loss: 0.1358 - auc: 0.8021 - val_loss: 0.1766 - val_auc: 0.6593\n",
      "Epoch 97/200\n",
      "6000/6000 - 1s - loss: 0.1350 - auc: 0.8054 - val_loss: 0.1790 - val_auc: 0.6521\n",
      "Epoch 98/200\n",
      "6000/6000 - 1s - loss: 0.1346 - auc: 0.8076 - val_loss: 0.1743 - val_auc: 0.6613\n",
      "Epoch 99/200\n",
      "6000/6000 - 1s - loss: 0.1346 - auc: 0.8073 - val_loss: 0.1738 - val_auc: 0.6633\n",
      "Epoch 100/200\n",
      "6000/6000 - 1s - loss: 0.1343 - auc: 0.8089 - val_loss: 0.1753 - val_auc: 0.6600\n",
      "Epoch 101/200\n",
      "6000/6000 - 1s - loss: 0.1345 - auc: 0.8037 - val_loss: 0.1757 - val_auc: 0.6581\n",
      "Epoch 102/200\n",
      "6000/6000 - 1s - loss: 0.1335 - auc: 0.8105 - val_loss: 0.1747 - val_auc: 0.6632\n",
      "Epoch 103/200\n",
      "6000/6000 - 1s - loss: 0.1327 - auc: 0.8163 - val_loss: 0.1733 - val_auc: 0.6612\n",
      "Epoch 104/200\n",
      "6000/6000 - 1s - loss: 0.1341 - auc: 0.8041 - val_loss: 0.1744 - val_auc: 0.6621\n",
      "Epoch 105/200\n",
      "6000/6000 - 1s - loss: 0.1321 - auc: 0.8180 - val_loss: 0.1737 - val_auc: 0.6636\n",
      "Epoch 106/200\n",
      "6000/6000 - 1s - loss: 0.1318 - auc: 0.8218 - val_loss: 0.1756 - val_auc: 0.6590\n",
      "Epoch 107/200\n",
      "6000/6000 - 1s - loss: 0.1329 - auc: 0.8075 - val_loss: 0.1755 - val_auc: 0.6594\n",
      "Epoch 108/200\n",
      "6000/6000 - 1s - loss: 0.1319 - auc: 0.8154 - val_loss: 0.1745 - val_auc: 0.6575\n",
      "Epoch 109/200\n",
      "6000/6000 - 1s - loss: 0.1316 - auc: 0.8134 - val_loss: 0.1742 - val_auc: 0.6596\n",
      "Epoch 110/200\n",
      "6000/6000 - 1s - loss: 0.1324 - auc: 0.8063 - val_loss: 0.1726 - val_auc: 0.6674\n",
      "Epoch 111/200\n",
      "6000/6000 - 1s - loss: 0.1313 - auc: 0.8122 - val_loss: 0.1761 - val_auc: 0.6577\n",
      "Epoch 112/200\n",
      "6000/6000 - 1s - loss: 0.1320 - auc: 0.8071 - val_loss: 0.1734 - val_auc: 0.6609\n",
      "Epoch 113/200\n",
      "6000/6000 - 1s - loss: 0.1315 - auc: 0.8110 - val_loss: 0.1734 - val_auc: 0.6606\n",
      "Epoch 114/200\n",
      "6000/6000 - 1s - loss: 0.1304 - auc: 0.8202 - val_loss: 0.1731 - val_auc: 0.6598\n",
      "Epoch 115/200\n",
      "6000/6000 - 1s - loss: 0.1320 - auc: 0.8051 - val_loss: 0.1738 - val_auc: 0.6576\n",
      "Epoch 116/200\n",
      "6000/6000 - 1s - loss: 0.1312 - auc: 0.8118 - val_loss: 0.1731 - val_auc: 0.6604\n",
      "Epoch 117/200\n",
      "6000/6000 - 1s - loss: 0.1299 - auc: 0.8200 - val_loss: 0.1755 - val_auc: 0.6535\n",
      "Epoch 118/200\n",
      "6000/6000 - 1s - loss: 0.1308 - auc: 0.8094 - val_loss: 0.1767 - val_auc: 0.6519\n",
      "Epoch 119/200\n",
      "6000/6000 - 2s - loss: 0.1295 - auc: 0.8192 - val_loss: 0.1730 - val_auc: 0.6615\n",
      "Epoch 120/200\n",
      "6000/6000 - 2s - loss: 0.1294 - auc: 0.8208 - val_loss: 0.1739 - val_auc: 0.6586\n",
      "Epoch 121/200\n",
      "6000/6000 - 139s - loss: 0.1291 - auc: 0.8216 - val_loss: 0.1739 - val_auc: 0.6529\n",
      "Epoch 122/200\n",
      "6000/6000 - 2s - loss: 0.1285 - auc: 0.8224 - val_loss: 0.1738 - val_auc: 0.6582\n",
      "Epoch 123/200\n",
      "6000/6000 - 1s - loss: 0.1290 - auc: 0.8232 - val_loss: 0.1742 - val_auc: 0.6554\n",
      "Epoch 124/200\n",
      "6000/6000 - 1s - loss: 0.1283 - auc: 0.8222 - val_loss: 0.1745 - val_auc: 0.6573\n",
      "Epoch 125/200\n",
      "6000/6000 - 1s - loss: 0.1287 - auc: 0.8199 - val_loss: 0.1728 - val_auc: 0.6558\n",
      "Epoch 126/200\n",
      "6000/6000 - 157s - loss: 0.1278 - auc: 0.8253 - val_loss: 0.1723 - val_auc: 0.6593\n",
      "Epoch 127/200\n",
      "6000/6000 - 1s - loss: 0.1278 - auc: 0.8225 - val_loss: 0.1717 - val_auc: 0.6593\n",
      "Epoch 128/200\n",
      "6000/6000 - 1s - loss: 0.1279 - auc: 0.8259 - val_loss: 0.1753 - val_auc: 0.6597\n",
      "Epoch 129/200\n",
      "6000/6000 - 1s - loss: 0.1273 - auc: 0.8215 - val_loss: 0.1713 - val_auc: 0.6602\n",
      "Epoch 130/200\n",
      "6000/6000 - 1s - loss: 0.1283 - auc: 0.8154 - val_loss: 0.1731 - val_auc: 0.6613\n",
      "Epoch 131/200\n",
      "6000/6000 - 1s - loss: 0.1282 - auc: 0.8201 - val_loss: 0.1764 - val_auc: 0.6569\n",
      "Epoch 132/200\n",
      "6000/6000 - 2s - loss: 0.1268 - auc: 0.8281 - val_loss: 0.1725 - val_auc: 0.6583\n",
      "Epoch 133/200\n",
      "6000/6000 - 1s - loss: 0.1270 - auc: 0.8239 - val_loss: 0.1742 - val_auc: 0.6561\n",
      "Epoch 134/200\n",
      "6000/6000 - 1s - loss: 0.1265 - auc: 0.8284 - val_loss: 0.1725 - val_auc: 0.6548\n",
      "Epoch 135/200\n",
      "6000/6000 - 1s - loss: 0.1261 - auc: 0.8294 - val_loss: 0.1736 - val_auc: 0.6537\n",
      "Epoch 136/200\n",
      "6000/6000 - 1s - loss: 0.1268 - auc: 0.8194 - val_loss: 0.1738 - val_auc: 0.6604\n",
      "Epoch 137/200\n",
      "6000/6000 - 1s - loss: 0.1265 - auc: 0.8279 - val_loss: 0.1731 - val_auc: 0.6541\n",
      "Epoch 138/200\n",
      "6000/6000 - 1s - loss: 0.1262 - auc: 0.8244 - val_loss: 0.1736 - val_auc: 0.6547\n",
      "Epoch 139/200\n",
      "6000/6000 - 1s - loss: 0.1268 - auc: 0.8214 - val_loss: 0.1736 - val_auc: 0.6553\n",
      "Epoch 140/200\n",
      "6000/6000 - 1s - loss: 0.1264 - auc: 0.8247 - val_loss: 0.1719 - val_auc: 0.6582\n",
      "Epoch 141/200\n",
      "6000/6000 - 2s - loss: 0.1258 - auc: 0.8272 - val_loss: 0.1729 - val_auc: 0.6526\n",
      "Epoch 142/200\n",
      "6000/6000 - 2s - loss: 0.1254 - auc: 0.8302 - val_loss: 0.1750 - val_auc: 0.6591\n",
      "Epoch 143/200\n",
      "6000/6000 - 2s - loss: 0.1256 - auc: 0.8289 - val_loss: 0.1737 - val_auc: 0.6590\n",
      "Epoch 144/200\n",
      "6000/6000 - 1s - loss: 0.1250 - auc: 0.8314 - val_loss: 0.1727 - val_auc: 0.6625\n",
      "Epoch 145/200\n",
      "6000/6000 - 1s - loss: 0.1253 - auc: 0.8269 - val_loss: 0.1709 - val_auc: 0.6555\n",
      "Epoch 146/200\n",
      "6000/6000 - 1s - loss: 0.1249 - auc: 0.8298 - val_loss: 0.1792 - val_auc: 0.6508\n",
      "Epoch 147/200\n",
      "6000/6000 - 2s - loss: 0.1253 - auc: 0.8275 - val_loss: 0.1736 - val_auc: 0.6517\n",
      "Epoch 148/200\n",
      "6000/6000 - 1s - loss: 0.1246 - auc: 0.8260 - val_loss: 0.1728 - val_auc: 0.6589\n",
      "Epoch 149/200\n",
      "6000/6000 - 2s - loss: 0.1240 - auc: 0.8304 - val_loss: 0.1714 - val_auc: 0.6536\n",
      "Epoch 150/200\n",
      "6000/6000 - 2s - loss: 0.1248 - auc: 0.8271 - val_loss: 0.1715 - val_auc: 0.6563\n",
      "Epoch 151/200\n",
      "6000/6000 - 2s - loss: 0.1240 - auc: 0.8328 - val_loss: 0.1721 - val_auc: 0.6594\n",
      "Epoch 152/200\n",
      "6000/6000 - 1s - loss: 0.1244 - auc: 0.8305 - val_loss: 0.1714 - val_auc: 0.6567\n",
      "Epoch 153/200\n",
      "6000/6000 - 1s - loss: 0.1231 - auc: 0.8331 - val_loss: 0.1728 - val_auc: 0.6607\n",
      "Epoch 154/200\n",
      "6000/6000 - 1s - loss: 0.1236 - auc: 0.8331 - val_loss: 0.1743 - val_auc: 0.6549\n",
      "Epoch 155/200\n",
      "6000/6000 - 2s - loss: 0.1237 - auc: 0.8316 - val_loss: 0.1740 - val_auc: 0.6552\n",
      "Epoch 156/200\n",
      "6000/6000 - 2s - loss: 0.1229 - auc: 0.8346 - val_loss: 0.1735 - val_auc: 0.6573\n",
      "Epoch 157/200\n",
      "6000/6000 - 1s - loss: 0.1221 - auc: 0.8376 - val_loss: 0.1737 - val_auc: 0.6514\n",
      "Epoch 158/200\n",
      "6000/6000 - 2s - loss: 0.1236 - auc: 0.8307 - val_loss: 0.1743 - val_auc: 0.6558\n",
      "Epoch 159/200\n",
      "6000/6000 - 1s - loss: 0.1237 - auc: 0.8272 - val_loss: 0.1737 - val_auc: 0.6561\n",
      "Epoch 160/200\n",
      "6000/6000 - 2s - loss: 0.1226 - auc: 0.8362 - val_loss: 0.1732 - val_auc: 0.6563\n",
      "Epoch 161/200\n",
      "6000/6000 - 1s - loss: 0.1224 - auc: 0.8386 - val_loss: 0.1743 - val_auc: 0.6553\n",
      "Epoch 162/200\n",
      "6000/6000 - 1s - loss: 0.1230 - auc: 0.8312 - val_loss: 0.1715 - val_auc: 0.6587\n",
      "Epoch 163/200\n",
      "6000/6000 - 1s - loss: 0.1222 - auc: 0.8412 - val_loss: 0.1757 - val_auc: 0.6549\n",
      "Epoch 164/200\n",
      "6000/6000 - 1s - loss: 0.1221 - auc: 0.8391 - val_loss: 0.1752 - val_auc: 0.6503\n",
      "Epoch 165/200\n",
      "6000/6000 - 1s - loss: 0.1222 - auc: 0.8362 - val_loss: 0.1743 - val_auc: 0.6503\n",
      "Epoch 166/200\n",
      "6000/6000 - 1s - loss: 0.1219 - auc: 0.8368 - val_loss: 0.1741 - val_auc: 0.6538\n",
      "Epoch 167/200\n",
      "6000/6000 - 1s - loss: 0.1217 - auc: 0.8374 - val_loss: 0.1751 - val_auc: 0.6510\n",
      "Epoch 168/200\n",
      "6000/6000 - 2s - loss: 0.1223 - auc: 0.8345 - val_loss: 0.1718 - val_auc: 0.6577\n",
      "Epoch 169/200\n",
      "6000/6000 - 1s - loss: 0.1219 - auc: 0.8387 - val_loss: 0.1744 - val_auc: 0.6540\n",
      "Epoch 170/200\n",
      "6000/6000 - 1s - loss: 0.1207 - auc: 0.8429 - val_loss: 0.1736 - val_auc: 0.6524\n",
      "Epoch 171/200\n",
      "6000/6000 - 1s - loss: 0.1211 - auc: 0.8422 - val_loss: 0.1734 - val_auc: 0.6554\n",
      "Epoch 172/200\n",
      "6000/6000 - 1s - loss: 0.1209 - auc: 0.8443 - val_loss: 0.1757 - val_auc: 0.6505\n",
      "Epoch 173/200\n",
      "6000/6000 - 1s - loss: 0.1211 - auc: 0.8434 - val_loss: 0.1751 - val_auc: 0.6477\n",
      "Epoch 174/200\n",
      "6000/6000 - 1s - loss: 0.1208 - auc: 0.8386 - val_loss: 0.1765 - val_auc: 0.6524\n"
     ]
    },
    {
     "name": "stdout",
     "output_type": "stream",
     "text": [
      "Epoch 175/200\n",
      "6000/6000 - 1s - loss: 0.1220 - auc: 0.8357 - val_loss: 0.1740 - val_auc: 0.6494\n",
      "Epoch 176/200\n",
      "6000/6000 - 1s - loss: 0.1210 - auc: 0.8359 - val_loss: 0.1754 - val_auc: 0.6549\n",
      "Epoch 177/200\n",
      "6000/6000 - 1s - loss: 0.1204 - auc: 0.8431 - val_loss: 0.1702 - val_auc: 0.6570\n",
      "Epoch 178/200\n",
      "6000/6000 - 1s - loss: 0.1202 - auc: 0.8403 - val_loss: 0.1752 - val_auc: 0.6461\n",
      "Epoch 179/200\n",
      "6000/6000 - 1s - loss: 0.1209 - auc: 0.8320 - val_loss: 0.1743 - val_auc: 0.6522\n",
      "Epoch 180/200\n",
      "6000/6000 - 2s - loss: 0.1206 - auc: 0.8390 - val_loss: 0.1721 - val_auc: 0.6560\n",
      "Epoch 181/200\n",
      "6000/6000 - 2s - loss: 0.1203 - auc: 0.8426 - val_loss: 0.1779 - val_auc: 0.6442\n",
      "Epoch 182/200\n",
      "6000/6000 - 2s - loss: 0.1202 - auc: 0.8420 - val_loss: 0.1741 - val_auc: 0.6504\n",
      "Epoch 183/200\n",
      "6000/6000 - 1s - loss: 0.1201 - auc: 0.8443 - val_loss: 0.1712 - val_auc: 0.6544\n",
      "Epoch 184/200\n",
      "6000/6000 - 1s - loss: 0.1197 - auc: 0.8452 - val_loss: 0.1781 - val_auc: 0.6462\n",
      "Epoch 185/200\n",
      "6000/6000 - 1s - loss: 0.1200 - auc: 0.8433 - val_loss: 0.1763 - val_auc: 0.6534\n",
      "Epoch 186/200\n",
      "6000/6000 - 2s - loss: 0.1201 - auc: 0.8398 - val_loss: 0.1712 - val_auc: 0.6548\n",
      "Epoch 187/200\n",
      "6000/6000 - 1s - loss: 0.1192 - auc: 0.8431 - val_loss: 0.1767 - val_auc: 0.6494\n",
      "Epoch 188/200\n",
      "6000/6000 - 1s - loss: 0.1194 - auc: 0.8430 - val_loss: 0.1742 - val_auc: 0.6521\n",
      "Epoch 189/200\n",
      "6000/6000 - 1s - loss: 0.1192 - auc: 0.8443 - val_loss: 0.1701 - val_auc: 0.6592\n",
      "Epoch 190/200\n",
      "6000/6000 - 1s - loss: 0.1195 - auc: 0.8404 - val_loss: 0.1724 - val_auc: 0.6561\n",
      "Epoch 191/200\n",
      "6000/6000 - 2s - loss: 0.1190 - auc: 0.8429 - val_loss: 0.1737 - val_auc: 0.6550\n",
      "Epoch 192/200\n",
      "6000/6000 - 1s - loss: 0.1191 - auc: 0.8485 - val_loss: 0.1736 - val_auc: 0.6493\n",
      "Epoch 193/200\n",
      "6000/6000 - 1s - loss: 0.1187 - auc: 0.8481 - val_loss: 0.1740 - val_auc: 0.6523\n",
      "Epoch 194/200\n",
      "6000/6000 - 2s - loss: 0.1187 - auc: 0.8488 - val_loss: 0.1733 - val_auc: 0.6481\n",
      "Epoch 195/200\n",
      "6000/6000 - 3s - loss: 0.1179 - auc: 0.8514 - val_loss: 0.1744 - val_auc: 0.6499\n",
      "Epoch 196/200\n",
      "6000/6000 - 3s - loss: 0.1180 - auc: 0.8475 - val_loss: 0.1730 - val_auc: 0.6533\n",
      "Epoch 197/200\n",
      "6000/6000 - 4s - loss: 0.1178 - auc: 0.8431 - val_loss: 0.1759 - val_auc: 0.6517\n",
      "Epoch 198/200\n",
      "6000/6000 - 3s - loss: 0.1173 - auc: 0.8540 - val_loss: 0.1744 - val_auc: 0.6509\n",
      "Epoch 199/200\n",
      "6000/6000 - 4s - loss: 0.1183 - auc: 0.8485 - val_loss: 0.1734 - val_auc: 0.6532\n",
      "Epoch 200/200\n",
      "6000/6000 - 4s - loss: 0.1182 - auc: 0.8476 - val_loss: 0.1741 - val_auc: 0.6531\n"
     ]
    }
   ],
   "source": [
    "history = model.fit(X_train,y_train,batch_size=50,epochs=200,verbose=2,validation_data=(X_test,y_test))"
   ]
  },
  {
   "cell_type": "code",
   "execution_count": 31,
   "id": "18edfb5b",
   "metadata": {},
   "outputs": [
    {
     "data": {
      "image/png": "[encoded data removed]",
      "text/plain": [
       "<Figure size 432x288 with 1 Axes>"
      ]
     },
     "metadata": {
      "needs_background": "light"
     },
     "output_type": "display_data"
    }
   ],
   "source": [
    "from matplotlib import pyplot as plt\n",
    "metric = 'auc'\n",
    "plt.figure()\n",
    "plt.plot(history.history[metric])\n",
    "plt.plot(history.history['val_'+metric])\n",
    "plt.title('model '+metric)\n",
    "plt.ylabel(metric,fontsize='large')\n",
    "plt.xlabel('epoch',fontsize='large')\n",
    "plt.legend(['train','val'],loc='best')\n",
    "plt.show()"
   ]
  },
  {
   "cell_type": "code",
   "execution_count": 32,
   "id": "5b2cf4fd",
   "metadata": {},
   "outputs": [
    {
     "data": {
      "text/plain": [
       "0.32000000000000006"
      ]
     },
     "execution_count": 32,
     "metadata": {},
     "output_type": "execute_result"
    }
   ],
   "source": [
    "2*0.66-1"
   ]
  },
  {
   "cell_type": "code",
   "execution_count": null,
   "id": "274ca59b",
   "metadata": {},
   "outputs": [],
   "source": []
  }
 ],
 "metadata": {
  "kernelspec": {
   "display_name": "Python 3 (ipykernel)",
   "language": "python",
   "name": "python3"
  },
  "language_info": {
   "codemirror_mode": {
    "name": "ipython",
    "version": 3
   },
   "file_extension": ".py",
   "mimetype": "text/x-python",
   "name": "python",
   "nbconvert_exporter": "python",
   "pygments_lexer": "ipython3",
   "version": "3.7.13"
  }
 },
 "nbformat": 4,
 "nbformat_minor": 5
}
