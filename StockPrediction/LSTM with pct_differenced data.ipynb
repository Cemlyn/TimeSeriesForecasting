{
 "cells": [
  {
   "cell_type": "code",
   "execution_count": 12,
   "id": "e0b20a2a",
   "metadata": {},
   "outputs": [],
   "source": [
    "import pandas as pd\n",
    "import numpy as np\n",
    "import os\n",
    "from matplotlib import pyplot as plt"
   ]
  },
  {
   "cell_type": "code",
   "execution_count": 13,
   "id": "263f1b32",
   "metadata": {},
   "outputs": [
    {
     "name": "stdout",
     "output_type": "stream",
     "text": [
      "SPY_5min_2022-01-03T09.00.00_2022-03-25T14.10.00.csv\r\n",
      "SPY_5min_2022-01-03T09.00.00_2022-03-25T14.10.00.csv.7z\r\n",
      "X_test.npy\r\n",
      "X_test_2.npy\r\n",
      "X_train.npy\r\n",
      "X_train_2.npy\r\n",
      "y_test.npy\r\n",
      "y_test_2.npy\r\n",
      "y_train.npy\r\n",
      "y_train_2.npy\r\n"
     ]
    }
   ],
   "source": [
    "!ls data/"
   ]
  },
  {
   "cell_type": "code",
   "execution_count": 14,
   "id": "69cb09a6",
   "metadata": {},
   "outputs": [
    {
     "data": {
      "text/html": [
       "<div>\n",
       "<style scoped>\n",
       "    .dataframe tbody tr th:only-of-type {\n",
       "        vertical-align: middle;\n",
       "    }\n",
       "\n",
       "    .dataframe tbody tr th {\n",
       "        vertical-align: top;\n",
       "    }\n",
       "\n",
       "    .dataframe thead th {\n",
       "        text-align: right;\n",
       "    }\n",
       "</style>\n",
       "<table border=\"1\" class=\"dataframe\">\n",
       "  <thead>\n",
       "    <tr style=\"text-align: right;\">\n",
       "      <th></th>\n",
       "      <th>datetime</th>\n",
       "      <th>volume</th>\n",
       "      <th>volume_weighted</th>\n",
       "      <th>open</th>\n",
       "      <th>close</th>\n",
       "      <th>high</th>\n",
       "      <th>low</th>\n",
       "      <th>timestamp</th>\n",
       "      <th>no_transactions</th>\n",
       "    </tr>\n",
       "  </thead>\n",
       "  <tbody>\n",
       "    <tr>\n",
       "      <th>0</th>\n",
       "      <td>2022-01-03 09:00:00</td>\n",
       "      <td>9426.0</td>\n",
       "      <td>476.6581</td>\n",
       "      <td>476.38</td>\n",
       "      <td>476.56</td>\n",
       "      <td>476.92</td>\n",
       "      <td>476.38</td>\n",
       "      <td>1641200400000</td>\n",
       "      <td>115</td>\n",
       "    </tr>\n",
       "    <tr>\n",
       "      <th>1</th>\n",
       "      <td>2022-01-03 09:05:00</td>\n",
       "      <td>1778.0</td>\n",
       "      <td>476.4585</td>\n",
       "      <td>476.48</td>\n",
       "      <td>476.44</td>\n",
       "      <td>476.49</td>\n",
       "      <td>476.44</td>\n",
       "      <td>1641200700000</td>\n",
       "      <td>37</td>\n",
       "    </tr>\n",
       "    <tr>\n",
       "      <th>2</th>\n",
       "      <td>2022-01-03 09:10:00</td>\n",
       "      <td>9767.0</td>\n",
       "      <td>476.7624</td>\n",
       "      <td>476.62</td>\n",
       "      <td>476.83</td>\n",
       "      <td>476.87</td>\n",
       "      <td>476.58</td>\n",
       "      <td>1641201000000</td>\n",
       "      <td>80</td>\n",
       "    </tr>\n",
       "    <tr>\n",
       "      <th>3</th>\n",
       "      <td>2022-01-03 09:15:00</td>\n",
       "      <td>1743.0</td>\n",
       "      <td>476.7269</td>\n",
       "      <td>476.84</td>\n",
       "      <td>476.53</td>\n",
       "      <td>476.84</td>\n",
       "      <td>476.53</td>\n",
       "      <td>1641201300000</td>\n",
       "      <td>44</td>\n",
       "    </tr>\n",
       "    <tr>\n",
       "      <th>4</th>\n",
       "      <td>2022-01-03 09:20:00</td>\n",
       "      <td>1037.0</td>\n",
       "      <td>476.7011</td>\n",
       "      <td>476.65</td>\n",
       "      <td>476.82</td>\n",
       "      <td>476.82</td>\n",
       "      <td>476.62</td>\n",
       "      <td>1641201600000</td>\n",
       "      <td>21</td>\n",
       "    </tr>\n",
       "  </tbody>\n",
       "</table>\n",
       "</div>"
      ],
      "text/plain": [
       "             datetime  volume  volume_weighted    open   close    high  \\\n",
       "0 2022-01-03 09:00:00  9426.0         476.6581  476.38  476.56  476.92   \n",
       "1 2022-01-03 09:05:00  1778.0         476.4585  476.48  476.44  476.49   \n",
       "2 2022-01-03 09:10:00  9767.0         476.7624  476.62  476.83  476.87   \n",
       "3 2022-01-03 09:15:00  1743.0         476.7269  476.84  476.53  476.84   \n",
       "4 2022-01-03 09:20:00  1037.0         476.7011  476.65  476.82  476.82   \n",
       "\n",
       "      low      timestamp  no_transactions  \n",
       "0  476.38  1641200400000              115  \n",
       "1  476.44  1641200700000               37  \n",
       "2  476.58  1641201000000               80  \n",
       "3  476.53  1641201300000               44  \n",
       "4  476.62  1641201600000               21  "
      ]
     },
     "execution_count": 14,
     "metadata": {},
     "output_type": "execute_result"
    }
   ],
   "source": [
    "file_loc = 'SPY_5min_2022-01-03T09.00.00_2022-03-25T14.10.00.csv'\n",
    "df = pd.read_csv(os.path.join('data',file_loc),parse_dates=['datetime'])\n",
    "df.head()"
   ]
  },
  {
   "cell_type": "code",
   "execution_count": 15,
   "id": "085ca0ce",
   "metadata": {},
   "outputs": [
    {
     "data": {
      "text/plain": [
       "<matplotlib.axes._subplots.AxesSubplot at 0x7fb2ccc45f90>"
      ]
     },
     "execution_count": 15,
     "metadata": {},
     "output_type": "execute_result"
    },
    {
     "data": {
      "image/png": "[encoded data removed]",
      "text/plain": [
       "<Figure size 432x288 with 1 Axes>"
      ]
     },
     "metadata": {
      "needs_background": "light"
     },
     "output_type": "display_data"
    }
   ],
   "source": [
    "df.set_index('datetime')['close'].plot()"
   ]
  },
  {
   "cell_type": "code",
   "execution_count": 16,
   "id": "3a3a0e26",
   "metadata": {},
   "outputs": [
    {
     "data": {
      "text/html": [
       "<div>\n",
       "<style scoped>\n",
       "    .dataframe tbody tr th:only-of-type {\n",
       "        vertical-align: middle;\n",
       "    }\n",
       "\n",
       "    .dataframe tbody tr th {\n",
       "        vertical-align: top;\n",
       "    }\n",
       "\n",
       "    .dataframe thead th {\n",
       "        text-align: right;\n",
       "    }\n",
       "</style>\n",
       "<table border=\"1\" class=\"dataframe\">\n",
       "  <thead>\n",
       "    <tr style=\"text-align: right;\">\n",
       "      <th></th>\n",
       "      <th>datetime</th>\n",
       "      <th>volume</th>\n",
       "      <th>volume_weighted</th>\n",
       "      <th>open</th>\n",
       "      <th>close</th>\n",
       "      <th>high</th>\n",
       "      <th>low</th>\n",
       "      <th>timestamp</th>\n",
       "      <th>no_transactions</th>\n",
       "      <th>time-delta</th>\n",
       "      <th>volume_diff</th>\n",
       "      <th>open_diff</th>\n",
       "      <th>close_diff</th>\n",
       "      <th>high_diff</th>\n",
       "      <th>low_diff</th>\n",
       "    </tr>\n",
       "  </thead>\n",
       "  <tbody>\n",
       "    <tr>\n",
       "      <th>0</th>\n",
       "      <td>2022-01-03 09:00:00</td>\n",
       "      <td>9426.0</td>\n",
       "      <td>476.6581</td>\n",
       "      <td>476.38</td>\n",
       "      <td>476.56</td>\n",
       "      <td>476.92</td>\n",
       "      <td>476.38</td>\n",
       "      <td>1641200400000</td>\n",
       "      <td>115</td>\n",
       "      <td>NaN</td>\n",
       "      <td>NaN</td>\n",
       "      <td>NaN</td>\n",
       "      <td>NaN</td>\n",
       "      <td>NaN</td>\n",
       "      <td>NaN</td>\n",
       "    </tr>\n",
       "    <tr>\n",
       "      <th>1</th>\n",
       "      <td>2022-01-03 09:05:00</td>\n",
       "      <td>1778.0</td>\n",
       "      <td>476.4585</td>\n",
       "      <td>476.48</td>\n",
       "      <td>476.44</td>\n",
       "      <td>476.49</td>\n",
       "      <td>476.44</td>\n",
       "      <td>1641200700000</td>\n",
       "      <td>37</td>\n",
       "      <td>300.0</td>\n",
       "      <td>-0.811373</td>\n",
       "      <td>0.000210</td>\n",
       "      <td>-0.000252</td>\n",
       "      <td>-0.000902</td>\n",
       "      <td>0.000126</td>\n",
       "    </tr>\n",
       "    <tr>\n",
       "      <th>2</th>\n",
       "      <td>2022-01-03 09:10:00</td>\n",
       "      <td>9767.0</td>\n",
       "      <td>476.7624</td>\n",
       "      <td>476.62</td>\n",
       "      <td>476.83</td>\n",
       "      <td>476.87</td>\n",
       "      <td>476.58</td>\n",
       "      <td>1641201000000</td>\n",
       "      <td>80</td>\n",
       "      <td>300.0</td>\n",
       "      <td>4.493251</td>\n",
       "      <td>0.000294</td>\n",
       "      <td>0.000819</td>\n",
       "      <td>0.000797</td>\n",
       "      <td>0.000294</td>\n",
       "    </tr>\n",
       "    <tr>\n",
       "      <th>3</th>\n",
       "      <td>2022-01-03 09:15:00</td>\n",
       "      <td>1743.0</td>\n",
       "      <td>476.7269</td>\n",
       "      <td>476.84</td>\n",
       "      <td>476.53</td>\n",
       "      <td>476.84</td>\n",
       "      <td>476.53</td>\n",
       "      <td>1641201300000</td>\n",
       "      <td>44</td>\n",
       "      <td>300.0</td>\n",
       "      <td>-0.821542</td>\n",
       "      <td>0.000462</td>\n",
       "      <td>-0.000629</td>\n",
       "      <td>-0.000063</td>\n",
       "      <td>-0.000105</td>\n",
       "    </tr>\n",
       "    <tr>\n",
       "      <th>4</th>\n",
       "      <td>2022-01-03 09:20:00</td>\n",
       "      <td>1037.0</td>\n",
       "      <td>476.7011</td>\n",
       "      <td>476.65</td>\n",
       "      <td>476.82</td>\n",
       "      <td>476.82</td>\n",
       "      <td>476.62</td>\n",
       "      <td>1641201600000</td>\n",
       "      <td>21</td>\n",
       "      <td>300.0</td>\n",
       "      <td>-0.405049</td>\n",
       "      <td>-0.000398</td>\n",
       "      <td>0.000609</td>\n",
       "      <td>-0.000042</td>\n",
       "      <td>0.000189</td>\n",
       "    </tr>\n",
       "  </tbody>\n",
       "</table>\n",
       "</div>"
      ],
      "text/plain": [
       "             datetime  volume  volume_weighted    open   close    high  \\\n",
       "0 2022-01-03 09:00:00  9426.0         476.6581  476.38  476.56  476.92   \n",
       "1 2022-01-03 09:05:00  1778.0         476.4585  476.48  476.44  476.49   \n",
       "2 2022-01-03 09:10:00  9767.0         476.7624  476.62  476.83  476.87   \n",
       "3 2022-01-03 09:15:00  1743.0         476.7269  476.84  476.53  476.84   \n",
       "4 2022-01-03 09:20:00  1037.0         476.7011  476.65  476.82  476.82   \n",
       "\n",
       "      low      timestamp  no_transactions  time-delta  volume_diff  open_diff  \\\n",
       "0  476.38  1641200400000              115         NaN          NaN        NaN   \n",
       "1  476.44  1641200700000               37       300.0    -0.811373   0.000210   \n",
       "2  476.58  1641201000000               80       300.0     4.493251   0.000294   \n",
       "3  476.53  1641201300000               44       300.0    -0.821542   0.000462   \n",
       "4  476.62  1641201600000               21       300.0    -0.405049  -0.000398   \n",
       "\n",
       "   close_diff  high_diff  low_diff  \n",
       "0         NaN        NaN       NaN  \n",
       "1   -0.000252  -0.000902  0.000126  \n",
       "2    0.000819   0.000797  0.000294  \n",
       "3   -0.000629  -0.000063 -0.000105  \n",
       "4    0.000609  -0.000042  0.000189  "
      ]
     },
     "execution_count": 16,
     "metadata": {},
     "output_type": "execute_result"
    }
   ],
   "source": [
    "df['time-delta'] = df['datetime'].diff().dt.seconds\n",
    "for col in ['volume','open','close','high','low']:\n",
    "    df[f'{col}_diff'] = df[col].pct_change()\n",
    "df.head()"
   ]
  },
  {
   "cell_type": "code",
   "execution_count": 17,
   "id": "f5b0e26d",
   "metadata": {},
   "outputs": [
    {
     "data": {
      "text/plain": [
       "300.0      10856\n",
       "600.0         49\n",
       "900.0          1\n",
       "1200.0         1\n",
       "25500.0        1\n",
       "29100.0       56\n",
       "Name: time-delta, dtype: int64"
      ]
     },
     "execution_count": 17,
     "metadata": {},
     "output_type": "execute_result"
    }
   ],
   "source": [
    "df['time-delta'].value_counts().sort_index()"
   ]
  },
  {
   "cell_type": "code",
   "execution_count": 18,
   "id": "e91eba46",
   "metadata": {},
   "outputs": [],
   "source": [
    "df = df[1:]"
   ]
  },
  {
   "cell_type": "code",
   "execution_count": 19,
   "id": "c4b7c036",
   "metadata": {},
   "outputs": [
    {
     "data": {
      "text/plain": [
       "5.0"
      ]
     },
     "execution_count": 19,
     "metadata": {},
     "output_type": "execute_result"
    }
   ],
   "source": [
    "300/60"
   ]
  },
  {
   "cell_type": "code",
   "execution_count": 20,
   "id": "c165a8d8",
   "metadata": {},
   "outputs": [
    {
     "data": {
      "text/plain": [
       "10.0"
      ]
     },
     "execution_count": 20,
     "metadata": {},
     "output_type": "execute_result"
    }
   ],
   "source": [
    "600/60"
   ]
  },
  {
   "cell_type": "code",
   "execution_count": 21,
   "id": "e0bc4c9c",
   "metadata": {},
   "outputs": [
    {
     "data": {
      "text/plain": [
       "15.0"
      ]
     },
     "execution_count": 21,
     "metadata": {},
     "output_type": "execute_result"
    }
   ],
   "source": [
    "900/60"
   ]
  },
  {
   "cell_type": "code",
   "execution_count": 22,
   "id": "3067a743",
   "metadata": {},
   "outputs": [
    {
     "data": {
      "text/plain": [
       "20.0"
      ]
     },
     "execution_count": 22,
     "metadata": {},
     "output_type": "execute_result"
    }
   ],
   "source": [
    "1200/60"
   ]
  },
  {
   "cell_type": "code",
   "execution_count": 23,
   "id": "2d0bc796",
   "metadata": {},
   "outputs": [
    {
     "data": {
      "text/plain": [
       "425.0"
      ]
     },
     "execution_count": 23,
     "metadata": {},
     "output_type": "execute_result"
    }
   ],
   "source": [
    "25500/60"
   ]
  },
  {
   "cell_type": "code",
   "execution_count": 24,
   "id": "b1c06e1a",
   "metadata": {},
   "outputs": [
    {
     "data": {
      "text/plain": [
       "485.0"
      ]
     },
     "execution_count": 24,
     "metadata": {},
     "output_type": "execute_result"
    }
   ],
   "source": [
    "29100/60"
   ]
  },
  {
   "cell_type": "markdown",
   "id": "e27330cc",
   "metadata": {},
   "source": [
    "# Creating the feature Matrix"
   ]
  },
  {
   "cell_type": "code",
   "execution_count": 25,
   "id": "44de751d",
   "metadata": {
    "scrolled": true
   },
   "outputs": [
    {
     "name": "stdout",
     "output_type": "stream",
     "text": [
      "10964 ticks found\n",
      "Counter:10960\r"
     ]
    }
   ],
   "source": [
    "# Window of data we're working with\n",
    "N = df.shape[0]\n",
    "print(f'{N} ticks found')\n",
    "\n",
    "# 2 hour lookback period\n",
    "LOOKBACK = 2*(60/5)\n",
    "\n",
    "# Growth requirement\n",
    "GROWTH_LIMIT = 0.005\n",
    "\n",
    "# outcome period 30min\n",
    "HORIZON = 6\n",
    "\n",
    "X = list()\n",
    "y = list()\n",
    "\n",
    "t =1\n",
    "finish = False\n",
    "counter = 0\n",
    "while finish is False:\n",
    "    \n",
    "    counter+=1\n",
    "    print(f'Counter:{counter}',end='\\r')\n",
    "    \n",
    "    # check we have enough lookback data\n",
    "    if t<22:\n",
    "        t+=1\n",
    "        continue\n",
    "    \n",
    "    # check we don't have enough data left then end the cycle\n",
    "    if (N - t)<5:\n",
    "        finish = True\n",
    "        t+=1\n",
    "        continue\n",
    "        \n",
    "    lookback_data = df.loc[t-20:t,['volume_diff','close_diff','open_diff','high_diff','low_diff']].values\n",
    "    outcome_data = df.loc[t+1:t+6,'close_diff'].sum()>GROWTH_LIMIT\n",
    "    \n",
    "    X.append(lookback_data)\n",
    "    y.append(outcome_data)\n",
    "    \n",
    "    t+=1\n"
   ]
  },
  {
   "cell_type": "code",
   "execution_count": 26,
   "id": "c3f91be6",
   "metadata": {},
   "outputs": [
    {
     "data": {
      "text/plain": [
       "(10938, 1)"
      ]
     },
     "execution_count": 26,
     "metadata": {},
     "output_type": "execute_result"
    }
   ],
   "source": [
    "y = np.array(y).reshape(-1,1)\n",
    "y.shape"
   ]
  },
  {
   "cell_type": "code",
   "execution_count": 27,
   "id": "2d058816",
   "metadata": {},
   "outputs": [
    {
     "data": {
      "text/plain": [
       "0.03355275187420004"
      ]
     },
     "execution_count": 27,
     "metadata": {},
     "output_type": "execute_result"
    }
   ],
   "source": [
    "y.mean()"
   ]
  },
  {
   "cell_type": "code",
   "execution_count": 28,
   "id": "fdfd29bc",
   "metadata": {},
   "outputs": [
    {
     "data": {
      "text/plain": [
       "367"
      ]
     },
     "execution_count": 28,
     "metadata": {},
     "output_type": "execute_result"
    }
   ],
   "source": [
    "y.sum()"
   ]
  },
  {
   "cell_type": "code",
   "execution_count": 29,
   "id": "778a4a57",
   "metadata": {},
   "outputs": [],
   "source": [
    "X = np.stack(X)"
   ]
  },
  {
   "cell_type": "code",
   "execution_count": 30,
   "id": "890e1696",
   "metadata": {},
   "outputs": [
    {
     "data": {
      "text/plain": [
       "(10938, 21, 5)"
      ]
     },
     "execution_count": 30,
     "metadata": {},
     "output_type": "execute_result"
    }
   ],
   "source": [
    "X.shape"
   ]
  },
  {
   "cell_type": "code",
   "execution_count": 31,
   "id": "31fed75a",
   "metadata": {},
   "outputs": [],
   "source": [
    "X_train = X[:6000]\n",
    "X_test = X[6000:]\n",
    "\n",
    "y_train = y[:6000]\n",
    "y_test = y[6000:]\n",
    "\n",
    "with open('./data/X_train.npy','wb') as f:\n",
    "    np.save(f,X_train)\n",
    "    \n",
    "with open('./data/X_test.npy','wb') as f:\n",
    "    np.save(f,X_test)\n",
    "    \n",
    "with open('./data/y_train.npy','wb') as f:\n",
    "    np.save(f,y_train)\n",
    "    \n",
    "with open('./data/y_test.npy','wb') as f:\n",
    "    np.save(f,X_test)"
   ]
  },
  {
   "cell_type": "markdown",
   "id": "36f52584",
   "metadata": {},
   "source": [
    "# Defining a simple LSTM"
   ]
  },
  {
   "cell_type": "code",
   "execution_count": 32,
   "id": "25883a21",
   "metadata": {},
   "outputs": [],
   "source": [
    "import tensorflow as tf\n",
    "from tensorflow import keras"
   ]
  },
  {
   "cell_type": "code",
   "execution_count": 33,
   "id": "be427fa4",
   "metadata": {},
   "outputs": [
    {
     "data": {
      "text/plain": [
       "(6000, 21, 5)"
      ]
     },
     "execution_count": 33,
     "metadata": {},
     "output_type": "execute_result"
    }
   ],
   "source": [
    "X_train.shape"
   ]
  },
  {
   "cell_type": "code",
   "execution_count": 34,
   "id": "953cfed1",
   "metadata": {},
   "outputs": [],
   "source": [
    "X_train = X_train.astype('float32')\n",
    "X_test = X_test.astype('float32')\n",
    "y_train = y_train.astype('float32')\n",
    "y_test = y_test.astype('float32')"
   ]
  },
  {
   "cell_type": "code",
   "execution_count": 35,
   "id": "ba90c1b7",
   "metadata": {},
   "outputs": [
    {
     "data": {
      "text/plain": [
       "(6000, 21, 5)"
      ]
     },
     "execution_count": 35,
     "metadata": {},
     "output_type": "execute_result"
    }
   ],
   "source": [
    "X_train.shape"
   ]
  },
  {
   "cell_type": "code",
   "execution_count": 65,
   "id": "d73a8ad9",
   "metadata": {},
   "outputs": [],
   "source": [
    "from tensorflow.keras.layers import LSTM\n",
    "from tensorflow import keras\n",
    "\n",
    "lookback = 20\n",
    "model = keras.Sequential([\n",
    "    keras.layers.LSTM(20,input_shape=(21,5)),\n",
    "    keras.layers.Dense(5),\n",
    "    keras.layers.Dense(1,activation='sigmoid')\n",
    "])"
   ]
  },
  {
   "cell_type": "code",
   "execution_count": 66,
   "id": "ca4bb2e6",
   "metadata": {},
   "outputs": [],
   "source": [
    "import tensorflow as tf\n",
    "\n",
    "metrics = [tf.metrics.AUC(name='auc')]\n",
    "\n",
    "model.compile(optimizer=keras.optimizers.Adam(1e-4),loss='binary_crossentropy',metrics=metrics)"
   ]
  },
  {
   "cell_type": "code",
   "execution_count": 67,
   "id": "bb953dd7",
   "metadata": {},
   "outputs": [],
   "source": [
    "callbacks = [keras.callbacks.EarlyStopping(patience=500,restore_best_weights=True)]"
   ]
  },
  {
   "cell_type": "code",
   "execution_count": 68,
   "id": "93716fb7",
   "metadata": {},
   "outputs": [
    {
     "name": "stdout",
     "output_type": "stream",
     "text": [
      "Train on 6000 samples, validate on 4938 samples\n",
      "Epoch 1/10\n"
     ]
    },
    {
     "name": "stderr",
     "output_type": "stream",
     "text": [
      "2022-07-31 21:27:44.174651: W tensorflow/core/grappler/optimizers/implementation_selector.cc:310] Skipping optimization due to error while loading function libraries: Invalid argument: Functions '__inference___backward_standard_lstm_71195_71666' and '__inference___backward_standard_lstm_71195_71666_specialized_for_StatefulPartitionedCall_at___inference_distributed_function_71886' both implement 'lstm_62671b29-88f1-4857-9115-582e9d10d52f' but their signatures do not match.\n",
      "2022-07-31 21:27:47.489387: W tensorflow/core/grappler/optimizers/implementation_selector.cc:310] Skipping optimization due to error while loading function libraries: Invalid argument: Functions '__inference_standard_lstm_72440_specialized_for_sequential_11_lstm_11_StatefulPartitionedCall_at___inference_distributed_function_72911' and '__inference_cudnn_lstm_with_fallback_72551' both implement 'lstm_33dcdd39-3ca9-4af7-ad42-0a992af3c0a3' but their signatures do not match.\n"
     ]
    },
    {
     "name": "stdout",
     "output_type": "stream",
     "text": [
      "6000/6000 - 5s - loss: 0.7038 - auc: 0.4559 - val_loss: 0.6701 - val_auc: 0.4941\n",
      "Epoch 2/10\n",
      "6000/6000 - 3s - loss: 0.6388 - auc: 0.5395 - val_loss: 0.6079 - val_auc: 0.5212\n",
      "Epoch 3/10\n",
      "6000/6000 - 3s - loss: 0.5656 - auc: 0.5737 - val_loss: 0.5207 - val_auc: 0.5173\n",
      "Epoch 4/10\n",
      "6000/6000 - 3s - loss: 0.4241 - auc: 0.5427 - val_loss: 0.3103 - val_auc: 0.4942\n",
      "Epoch 5/10\n",
      "6000/6000 - 3s - loss: 0.2023 - auc: 0.5074 - val_loss: 0.1739 - val_auc: 0.4714\n",
      "Epoch 6/10\n",
      "6000/6000 - 3s - loss: 0.1453 - auc: 0.5529 - val_loss: 0.1634 - val_auc: 0.4723\n",
      "Epoch 7/10\n",
      "6000/6000 - 3s - loss: 0.1389 - auc: 0.5478 - val_loss: 0.1622 - val_auc: 0.4659\n",
      "Epoch 8/10\n",
      "6000/6000 - 3s - loss: 0.1373 - auc: 0.5460 - val_loss: 0.1621 - val_auc: 0.4798\n",
      "Epoch 9/10\n",
      "6000/6000 - 3s - loss: 0.1369 - auc: 0.5393 - val_loss: 0.1622 - val_auc: 0.4731\n",
      "Epoch 10/10\n",
      "6000/6000 - 3s - loss: 0.1366 - auc: 0.5405 - val_loss: 0.1622 - val_auc: 0.4718\n"
     ]
    }
   ],
   "source": [
    "history = model.fit(X_train,y_train,batch_size=50,epochs=10,verbose=2,validation_data=(X_test,y_test))"
   ]
  },
  {
   "cell_type": "code",
   "execution_count": 69,
   "id": "18edfb5b",
   "metadata": {},
   "outputs": [
    {
     "data": {
      "image/png": "[encoded data removed]",
      "text/plain": [
       "<Figure size 432x288 with 1 Axes>"
      ]
     },
     "metadata": {
      "needs_background": "light"
     },
     "output_type": "display_data"
    }
   ],
   "source": [
    "from matplotlib import pyplot as plt\n",
    "metric = 'auc'\n",
    "plt.figure()\n",
    "plt.plot(history.history[metric])\n",
    "plt.plot(history.history['val_'+metric])\n",
    "plt.title('model '+metric)\n",
    "plt.ylabel(metric,fontsize='large')\n",
    "plt.xlabel('epoch',fontsize='large')\n",
    "plt.legend(['train','val'],loc='best')\n",
    "plt.show()"
   ]
  },
  {
   "cell_type": "code",
   "execution_count": 32,
   "id": "5b2cf4fd",
   "metadata": {},
   "outputs": [
    {
     "data": {
      "text/plain": [
       "0.32000000000000006"
      ]
     },
     "execution_count": 32,
     "metadata": {},
     "output_type": "execute_result"
    }
   ],
   "source": [
    "2*0.66-1"
   ]
  },
  {
   "cell_type": "code",
   "execution_count": null,
   "id": "274ca59b",
   "metadata": {},
   "outputs": [],
   "source": []
  }
 ],
 "metadata": {
  "kernelspec": {
   "display_name": "Python 3 (ipykernel)",
   "language": "python",
   "name": "python3"
  },
  "language_info": {
   "codemirror_mode": {
    "name": "ipython",
    "version": 3
   },
   "file_extension": ".py",
   "mimetype": "text/x-python",
   "name": "python",
   "nbconvert_exporter": "python",
   "pygments_lexer": "ipython3",
   "version": "3.9.7"
  }
 },
 "nbformat": 4,
 "nbformat_minor": 5
}
