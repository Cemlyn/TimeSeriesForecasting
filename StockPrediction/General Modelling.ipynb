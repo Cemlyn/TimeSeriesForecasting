{
 "cells": [
  {
   "cell_type": "markdown",
   "id": "a84ffdfa",
   "metadata": {},
   "source": [
    "# Predicting the SPY\n",
    "---\n",
    "\n",
    "- [0. Data Processing]\n",
    "- [1. Neural Network]\n",
    "- [2. 1D Convolution Neural Network]\n",
    "\n",
    "The models get the following:\n",
    "- normalised data\n",
    "    - Neural Net: 0.251\n",
    "    - Conv 1D Neural Net: 0.36\n",
    "    - LSTM: 0.32\n",
    "\n",
    "\n",
    "## 0. Data Processing\n",
    "\n",
    "The data is 5min intervals.\n",
    "\n",
    "The target variable for this will be binary. Does the SPY go up or down in the next 30min. Will ingest the last 2 hours of data as input.\n"
   ]
  },
  {
   "cell_type": "code",
   "execution_count": 1,
   "id": "cbed3774",
   "metadata": {},
   "outputs": [],
   "source": [
    "import pandas as pd\n",
    "import numpy as np\n",
    "import os\n",
    "from matplotlib import pyplot as plt"
   ]
  },
  {
   "cell_type": "code",
   "execution_count": 2,
   "id": "ec78f695",
   "metadata": {},
   "outputs": [
    {
     "data": {
      "text/html": [
       "<div>\n",
       "<style scoped>\n",
       "    .dataframe tbody tr th:only-of-type {\n",
       "        vertical-align: middle;\n",
       "    }\n",
       "\n",
       "    .dataframe tbody tr th {\n",
       "        vertical-align: top;\n",
       "    }\n",
       "\n",
       "    .dataframe thead th {\n",
       "        text-align: right;\n",
       "    }\n",
       "</style>\n",
       "<table border=\"1\" class=\"dataframe\">\n",
       "  <thead>\n",
       "    <tr style=\"text-align: right;\">\n",
       "      <th></th>\n",
       "      <th>datetime</th>\n",
       "      <th>volume</th>\n",
       "      <th>volume_weighted</th>\n",
       "      <th>open</th>\n",
       "      <th>close</th>\n",
       "      <th>high</th>\n",
       "      <th>low</th>\n",
       "      <th>timestamp</th>\n",
       "      <th>no_transactions</th>\n",
       "      <th>date</th>\n",
       "    </tr>\n",
       "  </thead>\n",
       "  <tbody>\n",
       "    <tr>\n",
       "      <th>0</th>\n",
       "      <td>2022-01-03 09:00:00</td>\n",
       "      <td>9426.0</td>\n",
       "      <td>476.6581</td>\n",
       "      <td>476.38</td>\n",
       "      <td>476.56</td>\n",
       "      <td>476.92</td>\n",
       "      <td>476.38</td>\n",
       "      <td>1641200400000</td>\n",
       "      <td>115</td>\n",
       "      <td>2022-01-03</td>\n",
       "    </tr>\n",
       "    <tr>\n",
       "      <th>1</th>\n",
       "      <td>2022-01-03 09:05:00</td>\n",
       "      <td>1778.0</td>\n",
       "      <td>476.4585</td>\n",
       "      <td>476.48</td>\n",
       "      <td>476.44</td>\n",
       "      <td>476.49</td>\n",
       "      <td>476.44</td>\n",
       "      <td>1641200700000</td>\n",
       "      <td>37</td>\n",
       "      <td>2022-01-03</td>\n",
       "    </tr>\n",
       "    <tr>\n",
       "      <th>2</th>\n",
       "      <td>2022-01-03 09:10:00</td>\n",
       "      <td>9767.0</td>\n",
       "      <td>476.7624</td>\n",
       "      <td>476.62</td>\n",
       "      <td>476.83</td>\n",
       "      <td>476.87</td>\n",
       "      <td>476.58</td>\n",
       "      <td>1641201000000</td>\n",
       "      <td>80</td>\n",
       "      <td>2022-01-03</td>\n",
       "    </tr>\n",
       "    <tr>\n",
       "      <th>3</th>\n",
       "      <td>2022-01-03 09:15:00</td>\n",
       "      <td>1743.0</td>\n",
       "      <td>476.7269</td>\n",
       "      <td>476.84</td>\n",
       "      <td>476.53</td>\n",
       "      <td>476.84</td>\n",
       "      <td>476.53</td>\n",
       "      <td>1641201300000</td>\n",
       "      <td>44</td>\n",
       "      <td>2022-01-03</td>\n",
       "    </tr>\n",
       "    <tr>\n",
       "      <th>4</th>\n",
       "      <td>2022-01-03 09:20:00</td>\n",
       "      <td>1037.0</td>\n",
       "      <td>476.7011</td>\n",
       "      <td>476.65</td>\n",
       "      <td>476.82</td>\n",
       "      <td>476.82</td>\n",
       "      <td>476.62</td>\n",
       "      <td>1641201600000</td>\n",
       "      <td>21</td>\n",
       "      <td>2022-01-03</td>\n",
       "    </tr>\n",
       "  </tbody>\n",
       "</table>\n",
       "</div>"
      ],
      "text/plain": [
       "             datetime  volume  volume_weighted    open   close    high  \\\n",
       "0 2022-01-03 09:00:00  9426.0         476.6581  476.38  476.56  476.92   \n",
       "1 2022-01-03 09:05:00  1778.0         476.4585  476.48  476.44  476.49   \n",
       "2 2022-01-03 09:10:00  9767.0         476.7624  476.62  476.83  476.87   \n",
       "3 2022-01-03 09:15:00  1743.0         476.7269  476.84  476.53  476.84   \n",
       "4 2022-01-03 09:20:00  1037.0         476.7011  476.65  476.82  476.82   \n",
       "\n",
       "      low      timestamp  no_transactions        date  \n",
       "0  476.38  1641200400000              115  2022-01-03  \n",
       "1  476.44  1641200700000               37  2022-01-03  \n",
       "2  476.58  1641201000000               80  2022-01-03  \n",
       "3  476.53  1641201300000               44  2022-01-03  \n",
       "4  476.62  1641201600000               21  2022-01-03  "
      ]
     },
     "execution_count": 2,
     "metadata": {},
     "output_type": "execute_result"
    }
   ],
   "source": [
    "file_loc = 'SPY_5min_2022-01-03T09.00.00_2022-03-25T14.10.00.csv'\n",
    "df = pd.read_csv(os.path.join('data',file_loc),parse_dates=['datetime'])\n",
    "df['date'] = df['datetime'].dt.date\n",
    "df.head()"
   ]
  },
  {
   "cell_type": "code",
   "execution_count": 3,
   "id": "f4c8ae18",
   "metadata": {},
   "outputs": [
    {
     "data": {
      "text/plain": [
       "max   2022-03-25 14:10:00\n",
       "min   2022-01-03 09:00:00\n",
       "Name: datetime, dtype: datetime64[ns]"
      ]
     },
     "execution_count": 3,
     "metadata": {},
     "output_type": "execute_result"
    }
   ],
   "source": [
    "df.datetime.agg(['max','min'])"
   ]
  },
  {
   "cell_type": "code",
   "execution_count": 4,
   "id": "a3d02b27",
   "metadata": {},
   "outputs": [
    {
     "data": {
      "text/plain": [
       "(10965, 10)"
      ]
     },
     "execution_count": 4,
     "metadata": {},
     "output_type": "execute_result"
    }
   ],
   "source": [
    "df.shape"
   ]
  },
  {
   "cell_type": "code",
   "execution_count": 5,
   "id": "4d2e27b5",
   "metadata": {},
   "outputs": [
    {
     "data": {
      "text/html": [
       "<div>\n",
       "<style scoped>\n",
       "    .dataframe tbody tr th:only-of-type {\n",
       "        vertical-align: middle;\n",
       "    }\n",
       "\n",
       "    .dataframe tbody tr th {\n",
       "        vertical-align: top;\n",
       "    }\n",
       "\n",
       "    .dataframe thead th {\n",
       "        text-align: right;\n",
       "    }\n",
       "</style>\n",
       "<table border=\"1\" class=\"dataframe\">\n",
       "  <thead>\n",
       "    <tr style=\"text-align: right;\">\n",
       "      <th></th>\n",
       "      <th>datetime</th>\n",
       "      <th>volume</th>\n",
       "      <th>volume_weighted</th>\n",
       "      <th>open</th>\n",
       "      <th>close</th>\n",
       "      <th>high</th>\n",
       "      <th>low</th>\n",
       "      <th>timestamp</th>\n",
       "      <th>no_transactions</th>\n",
       "      <th>date</th>\n",
       "      <th>time-delta</th>\n",
       "      <th>close_diff</th>\n",
       "    </tr>\n",
       "  </thead>\n",
       "  <tbody>\n",
       "    <tr>\n",
       "      <th>0</th>\n",
       "      <td>2022-01-03 09:00:00</td>\n",
       "      <td>9426.0</td>\n",
       "      <td>476.6581</td>\n",
       "      <td>476.38</td>\n",
       "      <td>476.56</td>\n",
       "      <td>476.92</td>\n",
       "      <td>476.38</td>\n",
       "      <td>1641200400000</td>\n",
       "      <td>115</td>\n",
       "      <td>2022-01-03</td>\n",
       "      <td>NaN</td>\n",
       "      <td>NaN</td>\n",
       "    </tr>\n",
       "    <tr>\n",
       "      <th>1</th>\n",
       "      <td>2022-01-03 09:05:00</td>\n",
       "      <td>1778.0</td>\n",
       "      <td>476.4585</td>\n",
       "      <td>476.48</td>\n",
       "      <td>476.44</td>\n",
       "      <td>476.49</td>\n",
       "      <td>476.44</td>\n",
       "      <td>1641200700000</td>\n",
       "      <td>37</td>\n",
       "      <td>2022-01-03</td>\n",
       "      <td>300.0</td>\n",
       "      <td>-0.000252</td>\n",
       "    </tr>\n",
       "    <tr>\n",
       "      <th>2</th>\n",
       "      <td>2022-01-03 09:10:00</td>\n",
       "      <td>9767.0</td>\n",
       "      <td>476.7624</td>\n",
       "      <td>476.62</td>\n",
       "      <td>476.83</td>\n",
       "      <td>476.87</td>\n",
       "      <td>476.58</td>\n",
       "      <td>1641201000000</td>\n",
       "      <td>80</td>\n",
       "      <td>2022-01-03</td>\n",
       "      <td>300.0</td>\n",
       "      <td>0.000819</td>\n",
       "    </tr>\n",
       "    <tr>\n",
       "      <th>3</th>\n",
       "      <td>2022-01-03 09:15:00</td>\n",
       "      <td>1743.0</td>\n",
       "      <td>476.7269</td>\n",
       "      <td>476.84</td>\n",
       "      <td>476.53</td>\n",
       "      <td>476.84</td>\n",
       "      <td>476.53</td>\n",
       "      <td>1641201300000</td>\n",
       "      <td>44</td>\n",
       "      <td>2022-01-03</td>\n",
       "      <td>300.0</td>\n",
       "      <td>-0.000629</td>\n",
       "    </tr>\n",
       "    <tr>\n",
       "      <th>4</th>\n",
       "      <td>2022-01-03 09:20:00</td>\n",
       "      <td>1037.0</td>\n",
       "      <td>476.7011</td>\n",
       "      <td>476.65</td>\n",
       "      <td>476.82</td>\n",
       "      <td>476.82</td>\n",
       "      <td>476.62</td>\n",
       "      <td>1641201600000</td>\n",
       "      <td>21</td>\n",
       "      <td>2022-01-03</td>\n",
       "      <td>300.0</td>\n",
       "      <td>0.000609</td>\n",
       "    </tr>\n",
       "  </tbody>\n",
       "</table>\n",
       "</div>"
      ],
      "text/plain": [
       "             datetime  volume  volume_weighted    open   close    high  \\\n",
       "0 2022-01-03 09:00:00  9426.0         476.6581  476.38  476.56  476.92   \n",
       "1 2022-01-03 09:05:00  1778.0         476.4585  476.48  476.44  476.49   \n",
       "2 2022-01-03 09:10:00  9767.0         476.7624  476.62  476.83  476.87   \n",
       "3 2022-01-03 09:15:00  1743.0         476.7269  476.84  476.53  476.84   \n",
       "4 2022-01-03 09:20:00  1037.0         476.7011  476.65  476.82  476.82   \n",
       "\n",
       "      low      timestamp  no_transactions        date  time-delta  close_diff  \n",
       "0  476.38  1641200400000              115  2022-01-03         NaN         NaN  \n",
       "1  476.44  1641200700000               37  2022-01-03       300.0   -0.000252  \n",
       "2  476.58  1641201000000               80  2022-01-03       300.0    0.000819  \n",
       "3  476.53  1641201300000               44  2022-01-03       300.0   -0.000629  \n",
       "4  476.62  1641201600000               21  2022-01-03       300.0    0.000609  "
      ]
     },
     "execution_count": 5,
     "metadata": {},
     "output_type": "execute_result"
    }
   ],
   "source": [
    "df['time-delta'] = df['datetime'].diff().dt.seconds\n",
    "for col in ['close']:\n",
    "    df[f'{col}_diff'] = df[col].pct_change()\n",
    "df.head()"
   ]
  },
  {
   "cell_type": "code",
   "execution_count": 6,
   "id": "e7f6632a",
   "metadata": {},
   "outputs": [],
   "source": [
    "# min_max = df.groupby('date')['close'].agg(['min','max']).shift(1).reset_index().rename(columns={'min':'previous_day_min',\n",
    "#                                                                                                 'max':'previous_day_max'})\n",
    "# df = df.merge(min_max,on='date')\n",
    "# df['previous_day_max_ratio'] = df['close']/df['previous_day_max']\n",
    "# df['previous_day_min_ratio'] = df['close']/df['previous_day_min']"
   ]
  },
  {
   "cell_type": "code",
   "execution_count": 7,
   "id": "85a1454a",
   "metadata": {},
   "outputs": [
    {
     "data": {
      "text/plain": [
       "<AxesSubplot:xlabel='datetime'>"
      ]
     },
     "execution_count": 7,
     "metadata": {},
     "output_type": "execute_result"
    },
    {
     "data": {
      "image/png": "[encoded data removed]",
      "text/plain": [
       "<Figure size 432x288 with 1 Axes>"
      ]
     },
     "metadata": {
      "needs_background": "light"
     },
     "output_type": "display_data"
    }
   ],
   "source": [
    "df.set_index('datetime')['close'].plot()"
   ]
  },
  {
   "cell_type": "code",
   "execution_count": 8,
   "id": "2878fb2f",
   "metadata": {},
   "outputs": [
    {
     "name": "stdout",
     "output_type": "stream",
     "text": [
      "10965 ticks found\n",
      "Counter:10961\r"
     ]
    }
   ],
   "source": [
    "# Window of data we're working with\n",
    "N = df.shape[0]\n",
    "print(f'{N} ticks found')\n",
    "\n",
    "# 2 hour lookback period\n",
    "LOOKBACK = 2*(60/5)\n",
    "\n",
    "# Growth requirement\n",
    "GROWTH_LIMIT = 0.005\n",
    "\n",
    "# outcome period 30min\n",
    "HORIZON = 6\n",
    "\n",
    "X = list()\n",
    "y = list()\n",
    "growth = list()\n",
    "\n",
    "t =1\n",
    "finish = False\n",
    "counter = 0\n",
    "while finish is False:\n",
    "    \n",
    "    counter+=1\n",
    "    print(f'Counter:{counter}',end='\\r')\n",
    "    \n",
    "    # check we have enough lookback data\n",
    "    if t<22:\n",
    "        t+=1\n",
    "        continue\n",
    "    \n",
    "    # check we don't have enough data left then end the cycle\n",
    "    if (N - t)<5:\n",
    "        finish = True\n",
    "        t+=1\n",
    "        continue\n",
    "        \n",
    "    lookback_data = df.loc[t-20:t,['volume','close','open','high','low']].values\n",
    "    lookback_data = lookback_data/lookback_data[-1]\n",
    "    outcome_data = df.loc[t+1:t+6,'close_diff'].sum()>GROWTH_LIMIT\n",
    "    growth_data = df.loc[t+1:t+6,'close_diff'].sum()\n",
    "    \n",
    "    X.append(lookback_data)\n",
    "    y.append(outcome_data)\n",
    "    growth.append(growth_data)\n",
    "    \n",
    "    t+=1"
   ]
  },
  {
   "cell_type": "code",
   "execution_count": 9,
   "id": "9c9e469a",
   "metadata": {},
   "outputs": [
    {
     "data": {
      "text/plain": [
       "(10939, 1)"
      ]
     },
     "execution_count": 9,
     "metadata": {},
     "output_type": "execute_result"
    }
   ],
   "source": [
    "y = np.array(y).reshape(-1,1)\n",
    "y.shape"
   ]
  },
  {
   "cell_type": "code",
   "execution_count": 10,
   "id": "cd6ee694",
   "metadata": {},
   "outputs": [
    {
     "data": {
      "text/plain": [
       "(10939, 1)"
      ]
     },
     "execution_count": 10,
     "metadata": {},
     "output_type": "execute_result"
    }
   ],
   "source": [
    "growth = np.array(growth).reshape(-1,1)\n",
    "growth.shape"
   ]
  },
  {
   "cell_type": "code",
   "execution_count": 11,
   "id": "db4e880b",
   "metadata": {},
   "outputs": [
    {
     "data": {
      "text/plain": [
       "(10939, 21, 5)"
      ]
     },
     "execution_count": 11,
     "metadata": {},
     "output_type": "execute_result"
    }
   ],
   "source": [
    "X = np.stack(X)\n",
    "X.shape"
   ]
  },
  {
   "cell_type": "code",
   "execution_count": 12,
   "id": "de2cadf0",
   "metadata": {},
   "outputs": [],
   "source": [
    "X_train = X[:6000]\n",
    "X_test = X[6000:]\n",
    "\n",
    "y_train = y[:6000]\n",
    "y_test = y[6000:]\n",
    "\n",
    "with open('./data/X_train_2.npy','wb') as f:\n",
    "    np.save(f,X_train)\n",
    "    \n",
    "with open('./data/X_test_2.npy','wb') as f:\n",
    "    np.save(f,X_test)\n",
    "    \n",
    "with open('./data/y_train_2.npy','wb') as f:\n",
    "    np.save(f,y_train)\n",
    "    \n",
    "with open('./data/y_test_2.npy','wb') as f:\n",
    "    np.save(f,X_test)"
   ]
  },
  {
   "cell_type": "markdown",
   "id": "7b7b08e6",
   "metadata": {},
   "source": [
    "## 1.0 Neural Network"
   ]
  },
  {
   "cell_type": "code",
   "execution_count": 13,
   "id": "fc3f44d5",
   "metadata": {},
   "outputs": [],
   "source": [
    "import tensorflow as tf\n",
    "from tensorflow import keras\n",
    "\n",
    "X_train = X_train.astype('float32')\n",
    "X_test = X_test.astype('float32')\n",
    "y_train = y_train.astype('float32')\n",
    "y_test = y_test.astype('float32')\n",
    "\n",
    "# with open('./data/X_train_2.npy','rb') as f:\n",
    "#     X_train = np.load(f).astype('float32')\n",
    "    \n",
    "# with open('./data/X_test_2.npy','rb') as f:\n",
    "#     X_test = np.load(f).astype('float32')\n",
    "    \n",
    "# with open('./data/y_train_2.npy','rb') as f:\n",
    "#     y_train = np.load(f).astype('float32')\n",
    "\n",
    "# with open('./data/y_test_2.npy','rb') as f:\n",
    "#     y_test = np.load(f).astype('float32')"
   ]
  },
  {
   "cell_type": "code",
   "execution_count": 14,
   "id": "d7ab0fa4",
   "metadata": {},
   "outputs": [
    {
     "data": {
      "text/plain": [
       "(6000, 21, 5)"
      ]
     },
     "execution_count": 14,
     "metadata": {},
     "output_type": "execute_result"
    }
   ],
   "source": [
    "X_train.shape"
   ]
  },
  {
   "cell_type": "code",
   "execution_count": 15,
   "id": "91e2f20a",
   "metadata": {},
   "outputs": [
    {
     "data": {
      "text/plain": [
       "(6000, 1)"
      ]
     },
     "execution_count": 15,
     "metadata": {},
     "output_type": "execute_result"
    }
   ],
   "source": [
    "y_train.shape"
   ]
  },
  {
   "cell_type": "code",
   "execution_count": 16,
   "id": "06a41987",
   "metadata": {},
   "outputs": [
    {
     "data": {
      "text/plain": [
       "(4939, 21, 5)"
      ]
     },
     "execution_count": 16,
     "metadata": {},
     "output_type": "execute_result"
    }
   ],
   "source": [
    "X_test.shape"
   ]
  },
  {
   "cell_type": "code",
   "execution_count": 17,
   "id": "c0ea6adc",
   "metadata": {},
   "outputs": [
    {
     "data": {
      "text/plain": [
       "(4939, 1)"
      ]
     },
     "execution_count": 17,
     "metadata": {},
     "output_type": "execute_result"
    }
   ],
   "source": [
    "y_test.shape"
   ]
  },
  {
   "cell_type": "code",
   "execution_count": 18,
   "id": "38a0d262",
   "metadata": {},
   "outputs": [],
   "source": [
    "model = keras.Sequential([\n",
    "    keras.layers.Flatten(input_shape=(X_train.shape[1],X_train.shape[2])),\n",
    "    #keras.layers.Dense(21,activation='relu'),\n",
    "    keras.layers.Dense(20,activation='relu'),\n",
    "    keras.layers.Dense(1,activation='sigmoid')\n",
    "])"
   ]
  },
  {
   "cell_type": "code",
   "execution_count": 19,
   "id": "2a7d0cc9",
   "metadata": {},
   "outputs": [],
   "source": [
    "metrics = [\n",
    "    tf.metrics.AUC(name='auc')\n",
    "]\n",
    "\n",
    "model.compile(optimizer=keras.optimizers.Adam(1e-4),loss='binary_crossentropy',metrics=metrics)"
   ]
  },
  {
   "cell_type": "code",
   "execution_count": 20,
   "id": "a47387f6",
   "metadata": {},
   "outputs": [],
   "source": [
    "callbacks = [keras.callbacks.EarlyStopping(patience=500,restore_best_weights=True)]"
   ]
  },
  {
   "cell_type": "code",
   "execution_count": 21,
   "id": "9ccce763",
   "metadata": {},
   "outputs": [
    {
     "name": "stdout",
     "output_type": "stream",
     "text": [
      "Epoch 1/100\n",
      "120/120 - 1s - loss: 0.6776 - auc: 0.5706 - val_loss: 0.2342 - val_auc: 0.6222 - 805ms/epoch - 7ms/step\n",
      "Epoch 2/100\n",
      "120/120 - 0s - loss: 0.4281 - auc: 0.5887 - val_loss: 0.2205 - val_auc: 0.6268 - 157ms/epoch - 1ms/step\n",
      "Epoch 3/100\n",
      "120/120 - 0s - loss: 0.3910 - auc: 0.5966 - val_loss: 0.2148 - val_auc: 0.6279 - 168ms/epoch - 1ms/step\n",
      "Epoch 4/100\n",
      "120/120 - 0s - loss: 0.3538 - auc: 0.6054 - val_loss: 0.2085 - val_auc: 0.6269 - 163ms/epoch - 1ms/step\n",
      "Epoch 5/100\n",
      "120/120 - 0s - loss: 0.3139 - auc: 0.6063 - val_loss: 0.2033 - val_auc: 0.6295 - 160ms/epoch - 1ms/step\n",
      "Epoch 6/100\n",
      "120/120 - 0s - loss: 0.2776 - auc: 0.6116 - val_loss: 0.1989 - val_auc: 0.6328 - 150ms/epoch - 1ms/step\n",
      "Epoch 7/100\n",
      "120/120 - 0s - loss: 0.2550 - auc: 0.6082 - val_loss: 0.1960 - val_auc: 0.6321 - 152ms/epoch - 1ms/step\n",
      "Epoch 8/100\n",
      "120/120 - 0s - loss: 0.2458 - auc: 0.6143 - val_loss: 0.1945 - val_auc: 0.6312 - 150ms/epoch - 1ms/step\n",
      "Epoch 9/100\n",
      "120/120 - 0s - loss: 0.2415 - auc: 0.6177 - val_loss: 0.1917 - val_auc: 0.6341 - 149ms/epoch - 1ms/step\n",
      "Epoch 10/100\n",
      "120/120 - 0s - loss: 0.2372 - auc: 0.6175 - val_loss: 0.1907 - val_auc: 0.6319 - 159ms/epoch - 1ms/step\n",
      "Epoch 11/100\n",
      "120/120 - 0s - loss: 0.2329 - auc: 0.6166 - val_loss: 0.1888 - val_auc: 0.6313 - 153ms/epoch - 1ms/step\n",
      "Epoch 12/100\n",
      "120/120 - 0s - loss: 0.2288 - auc: 0.6176 - val_loss: 0.1872 - val_auc: 0.6380 - 151ms/epoch - 1ms/step\n",
      "Epoch 13/100\n",
      "120/120 - 0s - loss: 0.2242 - auc: 0.6187 - val_loss: 0.1852 - val_auc: 0.6367 - 150ms/epoch - 1ms/step\n",
      "Epoch 14/100\n",
      "120/120 - 0s - loss: 0.2198 - auc: 0.6201 - val_loss: 0.1846 - val_auc: 0.6332 - 154ms/epoch - 1ms/step\n",
      "Epoch 15/100\n",
      "120/120 - 0s - loss: 0.2150 - auc: 0.6221 - val_loss: 0.1841 - val_auc: 0.6348 - 152ms/epoch - 1ms/step\n",
      "Epoch 16/100\n",
      "120/120 - 0s - loss: 0.2109 - auc: 0.6211 - val_loss: 0.1816 - val_auc: 0.6365 - 151ms/epoch - 1ms/step\n",
      "Epoch 17/100\n",
      "120/120 - 0s - loss: 0.2065 - auc: 0.6171 - val_loss: 0.1798 - val_auc: 0.6384 - 152ms/epoch - 1ms/step\n",
      "Epoch 18/100\n",
      "120/120 - 0s - loss: 0.2031 - auc: 0.6211 - val_loss: 0.1788 - val_auc: 0.6373 - 156ms/epoch - 1ms/step\n",
      "Epoch 19/100\n",
      "120/120 - 0s - loss: 0.2003 - auc: 0.6181 - val_loss: 0.1782 - val_auc: 0.6358 - 161ms/epoch - 1ms/step\n",
      "Epoch 20/100\n",
      "120/120 - 0s - loss: 0.1977 - auc: 0.6206 - val_loss: 0.1777 - val_auc: 0.6404 - 163ms/epoch - 1ms/step\n",
      "Epoch 21/100\n",
      "120/120 - 0s - loss: 0.1953 - auc: 0.6189 - val_loss: 0.1776 - val_auc: 0.6343 - 150ms/epoch - 1ms/step\n",
      "Epoch 22/100\n",
      "120/120 - 0s - loss: 0.1931 - auc: 0.6270 - val_loss: 0.1757 - val_auc: 0.6402 - 151ms/epoch - 1ms/step\n",
      "Epoch 23/100\n",
      "120/120 - 0s - loss: 0.1910 - auc: 0.6211 - val_loss: 0.1756 - val_auc: 0.6368 - 154ms/epoch - 1ms/step\n",
      "Epoch 24/100\n",
      "120/120 - 0s - loss: 0.1887 - auc: 0.6339 - val_loss: 0.1747 - val_auc: 0.6414 - 153ms/epoch - 1ms/step\n",
      "Epoch 25/100\n",
      "120/120 - 0s - loss: 0.1865 - auc: 0.6256 - val_loss: 0.1744 - val_auc: 0.6356 - 150ms/epoch - 1ms/step\n",
      "Epoch 26/100\n",
      "120/120 - 0s - loss: 0.1850 - auc: 0.6271 - val_loss: 0.1743 - val_auc: 0.6432 - 151ms/epoch - 1ms/step\n",
      "Epoch 27/100\n",
      "120/120 - 0s - loss: 0.1837 - auc: 0.6306 - val_loss: 0.1739 - val_auc: 0.6401 - 149ms/epoch - 1ms/step\n",
      "Epoch 28/100\n",
      "120/120 - 0s - loss: 0.1824 - auc: 0.6254 - val_loss: 0.1732 - val_auc: 0.6401 - 152ms/epoch - 1ms/step\n",
      "Epoch 29/100\n",
      "120/120 - 0s - loss: 0.1810 - auc: 0.6256 - val_loss: 0.1727 - val_auc: 0.6389 - 149ms/epoch - 1ms/step\n",
      "Epoch 30/100\n",
      "120/120 - 0s - loss: 0.1796 - auc: 0.6268 - val_loss: 0.1727 - val_auc: 0.6389 - 152ms/epoch - 1ms/step\n",
      "Epoch 31/100\n",
      "120/120 - 0s - loss: 0.1781 - auc: 0.6386 - val_loss: 0.1720 - val_auc: 0.6400 - 154ms/epoch - 1ms/step\n",
      "Epoch 32/100\n",
      "120/120 - 0s - loss: 0.1767 - auc: 0.6366 - val_loss: 0.1729 - val_auc: 0.6331 - 154ms/epoch - 1ms/step\n",
      "Epoch 33/100\n",
      "120/120 - 0s - loss: 0.1755 - auc: 0.6329 - val_loss: 0.1723 - val_auc: 0.6338 - 150ms/epoch - 1ms/step\n",
      "Epoch 34/100\n",
      "120/120 - 0s - loss: 0.1741 - auc: 0.6350 - val_loss: 0.1712 - val_auc: 0.6381 - 154ms/epoch - 1ms/step\n",
      "Epoch 35/100\n",
      "120/120 - 0s - loss: 0.1725 - auc: 0.6329 - val_loss: 0.1713 - val_auc: 0.6355 - 154ms/epoch - 1ms/step\n",
      "Epoch 36/100\n",
      "120/120 - 0s - loss: 0.1711 - auc: 0.6343 - val_loss: 0.1720 - val_auc: 0.6370 - 151ms/epoch - 1ms/step\n",
      "Epoch 37/100\n",
      "120/120 - 0s - loss: 0.1697 - auc: 0.6346 - val_loss: 0.1722 - val_auc: 0.6327 - 148ms/epoch - 1ms/step\n",
      "Epoch 38/100\n",
      "120/120 - 0s - loss: 0.1684 - auc: 0.6294 - val_loss: 0.1698 - val_auc: 0.6358 - 150ms/epoch - 1ms/step\n",
      "Epoch 39/100\n",
      "120/120 - 0s - loss: 0.1668 - auc: 0.6341 - val_loss: 0.1697 - val_auc: 0.6308 - 151ms/epoch - 1ms/step\n",
      "Epoch 40/100\n",
      "120/120 - 0s - loss: 0.1654 - auc: 0.6324 - val_loss: 0.1697 - val_auc: 0.6394 - 156ms/epoch - 1ms/step\n",
      "Epoch 41/100\n",
      "120/120 - 0s - loss: 0.1641 - auc: 0.6311 - val_loss: 0.1685 - val_auc: 0.6355 - 150ms/epoch - 1ms/step\n",
      "Epoch 42/100\n",
      "120/120 - 0s - loss: 0.1625 - auc: 0.6373 - val_loss: 0.1673 - val_auc: 0.6379 - 149ms/epoch - 1ms/step\n",
      "Epoch 43/100\n",
      "120/120 - 0s - loss: 0.1613 - auc: 0.6370 - val_loss: 0.1685 - val_auc: 0.6329 - 150ms/epoch - 1ms/step\n",
      "Epoch 44/100\n",
      "120/120 - 0s - loss: 0.1603 - auc: 0.6377 - val_loss: 0.1672 - val_auc: 0.6346 - 149ms/epoch - 1ms/step\n",
      "Epoch 45/100\n",
      "120/120 - 0s - loss: 0.1587 - auc: 0.6396 - val_loss: 0.1673 - val_auc: 0.6375 - 155ms/epoch - 1ms/step\n",
      "Epoch 46/100\n",
      "120/120 - 0s - loss: 0.1581 - auc: 0.6401 - val_loss: 0.1652 - val_auc: 0.6408 - 153ms/epoch - 1ms/step\n",
      "Epoch 47/100\n",
      "120/120 - 0s - loss: 0.1569 - auc: 0.6411 - val_loss: 0.1651 - val_auc: 0.6382 - 152ms/epoch - 1ms/step\n",
      "Epoch 48/100\n",
      "120/120 - 0s - loss: 0.1559 - auc: 0.6440 - val_loss: 0.1645 - val_auc: 0.6413 - 150ms/epoch - 1ms/step\n",
      "Epoch 49/100\n",
      "120/120 - 0s - loss: 0.1543 - auc: 0.6455 - val_loss: 0.1647 - val_auc: 0.6414 - 152ms/epoch - 1ms/step\n",
      "Epoch 50/100\n",
      "120/120 - 0s - loss: 0.1532 - auc: 0.6448 - val_loss: 0.1652 - val_auc: 0.6385 - 155ms/epoch - 1ms/step\n",
      "Epoch 51/100\n",
      "120/120 - 0s - loss: 0.1521 - auc: 0.6393 - val_loss: 0.1640 - val_auc: 0.6429 - 151ms/epoch - 1ms/step\n",
      "Epoch 52/100\n",
      "120/120 - 0s - loss: 0.1508 - auc: 0.6428 - val_loss: 0.1647 - val_auc: 0.6364 - 150ms/epoch - 1ms/step\n",
      "Epoch 53/100\n",
      "120/120 - 0s - loss: 0.1500 - auc: 0.6379 - val_loss: 0.1637 - val_auc: 0.6415 - 154ms/epoch - 1ms/step\n",
      "Epoch 54/100\n",
      "120/120 - 0s - loss: 0.1487 - auc: 0.6435 - val_loss: 0.1640 - val_auc: 0.6442 - 151ms/epoch - 1ms/step\n",
      "Epoch 55/100\n",
      "120/120 - 0s - loss: 0.1475 - auc: 0.6461 - val_loss: 0.1646 - val_auc: 0.6377 - 158ms/epoch - 1ms/step\n",
      "Epoch 56/100\n",
      "120/120 - 0s - loss: 0.1466 - auc: 0.6321 - val_loss: 0.1634 - val_auc: 0.6412 - 148ms/epoch - 1ms/step\n",
      "Epoch 57/100\n",
      "120/120 - 0s - loss: 0.1448 - auc: 0.6389 - val_loss: 0.1624 - val_auc: 0.6376 - 150ms/epoch - 1ms/step\n",
      "Epoch 58/100\n",
      "120/120 - 0s - loss: 0.1443 - auc: 0.6368 - val_loss: 0.1627 - val_auc: 0.6416 - 150ms/epoch - 1ms/step\n",
      "Epoch 59/100\n",
      "120/120 - 0s - loss: 0.1428 - auc: 0.6483 - val_loss: 0.1625 - val_auc: 0.6456 - 148ms/epoch - 1ms/step\n",
      "Epoch 60/100\n",
      "120/120 - 0s - loss: 0.1423 - auc: 0.6560 - val_loss: 0.1610 - val_auc: 0.6408 - 152ms/epoch - 1ms/step\n",
      "Epoch 61/100\n",
      "120/120 - 0s - loss: 0.1412 - auc: 0.6553 - val_loss: 0.1616 - val_auc: 0.6463 - 146ms/epoch - 1ms/step\n",
      "Epoch 62/100\n",
      "120/120 - 0s - loss: 0.1402 - auc: 0.6578 - val_loss: 0.1602 - val_auc: 0.6467 - 150ms/epoch - 1ms/step\n",
      "Epoch 63/100\n",
      "120/120 - 0s - loss: 0.1396 - auc: 0.6560 - val_loss: 0.1606 - val_auc: 0.6428 - 150ms/epoch - 1ms/step\n",
      "Epoch 64/100\n",
      "120/120 - 0s - loss: 0.1402 - auc: 0.6558 - val_loss: 0.1601 - val_auc: 0.6437 - 154ms/epoch - 1ms/step\n",
      "Epoch 65/100\n",
      "120/120 - 0s - loss: 0.1395 - auc: 0.6742 - val_loss: 0.1606 - val_auc: 0.6454 - 149ms/epoch - 1ms/step\n",
      "Epoch 66/100\n",
      "120/120 - 0s - loss: 0.1390 - auc: 0.6620 - val_loss: 0.1597 - val_auc: 0.6414 - 149ms/epoch - 1ms/step\n",
      "Epoch 67/100\n",
      "120/120 - 0s - loss: 0.1385 - auc: 0.6679 - val_loss: 0.1603 - val_auc: 0.6453 - 148ms/epoch - 1ms/step\n",
      "Epoch 68/100\n",
      "120/120 - 0s - loss: 0.1393 - auc: 0.6598 - val_loss: 0.1596 - val_auc: 0.6421 - 151ms/epoch - 1ms/step\n",
      "Epoch 69/100\n",
      "120/120 - 0s - loss: 0.1382 - auc: 0.6608 - val_loss: 0.1598 - val_auc: 0.6418 - 150ms/epoch - 1ms/step\n",
      "Epoch 70/100\n",
      "120/120 - 0s - loss: 0.1374 - auc: 0.6655 - val_loss: 0.1601 - val_auc: 0.6459 - 168ms/epoch - 1ms/step\n",
      "Epoch 71/100\n"
     ]
    },
    {
     "name": "stdout",
     "output_type": "stream",
     "text": [
      "120/120 - 0s - loss: 0.1370 - auc: 0.6642 - val_loss: 0.1608 - val_auc: 0.6370 - 164ms/epoch - 1ms/step\n",
      "Epoch 72/100\n",
      "120/120 - 0s - loss: 0.1368 - auc: 0.6642 - val_loss: 0.1603 - val_auc: 0.6424 - 149ms/epoch - 1ms/step\n",
      "Epoch 73/100\n",
      "120/120 - 0s - loss: 0.1375 - auc: 0.6741 - val_loss: 0.1596 - val_auc: 0.6474 - 149ms/epoch - 1ms/step\n",
      "Epoch 74/100\n",
      "120/120 - 0s - loss: 0.1369 - auc: 0.6627 - val_loss: 0.1602 - val_auc: 0.6468 - 148ms/epoch - 1ms/step\n",
      "Epoch 75/100\n",
      "120/120 - 0s - loss: 0.1361 - auc: 0.6692 - val_loss: 0.1597 - val_auc: 0.6365 - 152ms/epoch - 1ms/step\n",
      "Epoch 76/100\n",
      "120/120 - 0s - loss: 0.1356 - auc: 0.6695 - val_loss: 0.1606 - val_auc: 0.6434 - 148ms/epoch - 1ms/step\n",
      "Epoch 77/100\n",
      "120/120 - 0s - loss: 0.1359 - auc: 0.6691 - val_loss: 0.1597 - val_auc: 0.6504 - 147ms/epoch - 1ms/step\n",
      "Epoch 78/100\n",
      "120/120 - 0s - loss: 0.1355 - auc: 0.6729 - val_loss: 0.1603 - val_auc: 0.6439 - 149ms/epoch - 1ms/step\n",
      "Epoch 79/100\n",
      "120/120 - 0s - loss: 0.1359 - auc: 0.6743 - val_loss: 0.1620 - val_auc: 0.6502 - 151ms/epoch - 1ms/step\n",
      "Epoch 80/100\n",
      "120/120 - 0s - loss: 0.1358 - auc: 0.6719 - val_loss: 0.1594 - val_auc: 0.6477 - 148ms/epoch - 1ms/step\n",
      "Epoch 81/100\n",
      "120/120 - 0s - loss: 0.1350 - auc: 0.6765 - val_loss: 0.1589 - val_auc: 0.6530 - 153ms/epoch - 1ms/step\n",
      "Epoch 82/100\n",
      "120/120 - 0s - loss: 0.1344 - auc: 0.6725 - val_loss: 0.1597 - val_auc: 0.6504 - 150ms/epoch - 1ms/step\n",
      "Epoch 83/100\n",
      "120/120 - 0s - loss: 0.1339 - auc: 0.6673 - val_loss: 0.1592 - val_auc: 0.6491 - 150ms/epoch - 1ms/step\n",
      "Epoch 84/100\n",
      "120/120 - 0s - loss: 0.1350 - auc: 0.6777 - val_loss: 0.1607 - val_auc: 0.6503 - 147ms/epoch - 1ms/step\n",
      "Epoch 85/100\n",
      "120/120 - 0s - loss: 0.1347 - auc: 0.6738 - val_loss: 0.1594 - val_auc: 0.6515 - 148ms/epoch - 1ms/step\n",
      "Epoch 86/100\n",
      "120/120 - 0s - loss: 0.1334 - auc: 0.6839 - val_loss: 0.1590 - val_auc: 0.6447 - 147ms/epoch - 1ms/step\n",
      "Epoch 87/100\n",
      "120/120 - 0s - loss: 0.1335 - auc: 0.6779 - val_loss: 0.1597 - val_auc: 0.6523 - 148ms/epoch - 1ms/step\n",
      "Epoch 88/100\n",
      "120/120 - 0s - loss: 0.1337 - auc: 0.6855 - val_loss: 0.1587 - val_auc: 0.6498 - 150ms/epoch - 1ms/step\n",
      "Epoch 89/100\n",
      "120/120 - 0s - loss: 0.1333 - auc: 0.6780 - val_loss: 0.1592 - val_auc: 0.6460 - 152ms/epoch - 1ms/step\n",
      "Epoch 90/100\n",
      "120/120 - 0s - loss: 0.1327 - auc: 0.6843 - val_loss: 0.1602 - val_auc: 0.6473 - 148ms/epoch - 1ms/step\n",
      "Epoch 91/100\n",
      "120/120 - 0s - loss: 0.1323 - auc: 0.6737 - val_loss: 0.1598 - val_auc: 0.6471 - 146ms/epoch - 1ms/step\n",
      "Epoch 92/100\n",
      "120/120 - 0s - loss: 0.1319 - auc: 0.6803 - val_loss: 0.1593 - val_auc: 0.6426 - 148ms/epoch - 1ms/step\n",
      "Epoch 93/100\n",
      "120/120 - 0s - loss: 0.1319 - auc: 0.6824 - val_loss: 0.1598 - val_auc: 0.6471 - 152ms/epoch - 1ms/step\n",
      "Epoch 94/100\n",
      "120/120 - 0s - loss: 0.1313 - auc: 0.6895 - val_loss: 0.1607 - val_auc: 0.6492 - 154ms/epoch - 1ms/step\n",
      "Epoch 95/100\n",
      "120/120 - 0s - loss: 0.1311 - auc: 0.6861 - val_loss: 0.1617 - val_auc: 0.6527 - 149ms/epoch - 1ms/step\n",
      "Epoch 96/100\n",
      "120/120 - 0s - loss: 0.1314 - auc: 0.6878 - val_loss: 0.1599 - val_auc: 0.6459 - 148ms/epoch - 1ms/step\n",
      "Epoch 97/100\n",
      "120/120 - 0s - loss: 0.1306 - auc: 0.6929 - val_loss: 0.1598 - val_auc: 0.6430 - 148ms/epoch - 1ms/step\n",
      "Epoch 98/100\n",
      "120/120 - 0s - loss: 0.1313 - auc: 0.6924 - val_loss: 0.1594 - val_auc: 0.6444 - 149ms/epoch - 1ms/step\n",
      "Epoch 99/100\n",
      "120/120 - 0s - loss: 0.1311 - auc: 0.6855 - val_loss: 0.1599 - val_auc: 0.6490 - 149ms/epoch - 1ms/step\n",
      "Epoch 100/100\n",
      "120/120 - 0s - loss: 0.1305 - auc: 0.6884 - val_loss: 0.1595 - val_auc: 0.6491 - 148ms/epoch - 1ms/step\n"
     ]
    }
   ],
   "source": [
    "history = model.fit(X_train,y_train,batch_size=50,epochs=100,verbose=2,validation_data=(X_test,y_test))"
   ]
  },
  {
   "cell_type": "code",
   "execution_count": 22,
   "id": "27ee96f4",
   "metadata": {},
   "outputs": [
    {
     "data": {
      "image/png": "[encoded data removed]",
      "text/plain": [
       "<Figure size 432x288 with 1 Axes>"
      ]
     },
     "metadata": {
      "needs_background": "light"
     },
     "output_type": "display_data"
    }
   ],
   "source": [
    "from matplotlib import pyplot as plt\n",
    "metric = 'auc'\n",
    "plt.figure()\n",
    "plt.plot(history.history[metric])\n",
    "plt.plot(history.history['val_'+metric])\n",
    "plt.title('model '+metric)\n",
    "plt.ylabel(metric,fontsize='large')\n",
    "plt.xlabel('epoch',fontsize='large')\n",
    "plt.legend(['train','val'],loc='best')\n",
    "plt.show()"
   ]
  },
  {
   "cell_type": "code",
   "execution_count": 23,
   "id": "ccc39bb2",
   "metadata": {},
   "outputs": [
    {
     "name": "stdout",
     "output_type": "stream",
     "text": [
      "155/155 [==============================] - 0s 589us/step\n",
      "188/188 [==============================] - 0s 597us/step\n",
      "Train GINI:0.401, Test GINI:0.300\n"
     ]
    }
   ],
   "source": [
    "from sklearn.metrics import roc_auc_score\n",
    "\n",
    "test_gini = 2*roc_auc_score(y_test,model.predict(X_test))-1\n",
    "train_gini = 2*roc_auc_score(y_train,model.predict(X_train))-1\n",
    "\n",
    "print(f'Train GINI:{train_gini:0.3f}, Test GINI:{test_gini:0.3f}')"
   ]
  },
  {
   "cell_type": "code",
   "execution_count": 24,
   "id": "470fd874",
   "metadata": {},
   "outputs": [
    {
     "name": "stdout",
     "output_type": "stream",
     "text": [
      "155/155 [==============================] - 0s 615us/step\n"
     ]
    },
    {
     "data": {
      "image/png": "[encoded data removed]",
      "text/plain": [
       "<Figure size 432x288 with 1 Axes>"
      ]
     },
     "metadata": {
      "needs_background": "light"
     },
     "output_type": "display_data"
    }
   ],
   "source": [
    "from matplotlib import pyplot as plt\n",
    "axes = plt.hist(model.predict(X_test),label='test')\n",
    "#axes.hist(model.predict(X_train),label='train')\n",
    "plt.show()"
   ]
  },
  {
   "cell_type": "code",
   "execution_count": 26,
   "id": "fe77822c",
   "metadata": {},
   "outputs": [
    {
     "name": "stdout",
     "output_type": "stream",
     "text": [
      "155/155 [==============================] - 0s 594us/step\n",
      "188/188 [==============================] - 0s 587us/step\n",
      "155/155 [==============================] - 0s 605us/step\n",
      "188/188 [==============================] - 0s 645us/step\n"
     ]
    },
    {
     "data": {
      "image/png": "[encoded data removed]",
      "text/plain": [
       "<Figure size 432x288 with 1 Axes>"
      ]
     },
     "metadata": {
      "needs_background": "light"
     },
     "output_type": "display_data"
    }
   ],
   "source": [
    "from sklearn.metrics import roc_curve, auc\n",
    "\n",
    "fpr, tpr, _ = roc_curve(y_test, model.predict(X_test))\n",
    "fpr_train, tpr_train, _ = roc_curve(y_train, model.predict(X_train))\n",
    "\n",
    "plt.figure()\n",
    "lw = 2\n",
    "roc = 2*roc_auc_score(y_test,model.predict(X_test))-1\n",
    "roc_train = 2*roc_auc_score(y_train,model.predict(X_train))-1\n",
    "\n",
    "plt.plot(\n",
    "    fpr,\n",
    "    tpr,\n",
    "    color=\"darkorange\",\n",
    "    lw=lw,\n",
    "    label=\"ROC curve (area = %0.2f)\" % roc,\n",
    ")\n",
    "\n",
    "plt.plot(\n",
    "    fpr_train,\n",
    "    tpr_train,\n",
    "    #color=\"darkorange\",\n",
    "    lw=lw,\n",
    "    label=\"ROC curve Train (area = %0.2f)\" % roc_train,\n",
    ")\n",
    "\n",
    "\n",
    "plt.plot([0, 1], [0, 1], color=\"navy\", lw=lw, linestyle=\"--\")\n",
    "plt.xlim([0.0, 1.0])\n",
    "plt.ylim([0.0, 1.05])\n",
    "plt.xlabel(\"False Positive Rate\")\n",
    "plt.ylabel(\"True Positive Rate\")\n",
    "plt.title(\"Receiver operating characteristic example\")\n",
    "plt.legend(loc=\"lower right\")\n",
    "plt.show()"
   ]
  },
  {
   "cell_type": "markdown",
   "id": "07bf3523",
   "metadata": {},
   "source": [
    "## 2.0 1D Convolutional NN"
   ]
  },
  {
   "cell_type": "code",
   "execution_count": 27,
   "id": "53b482ab",
   "metadata": {},
   "outputs": [],
   "source": [
    "model = keras.Sequential([\n",
    "    keras.layers.Conv1D(36,2,\n",
    "                        activation='sigmoid',\n",
    "                        input_shape=(X_train.shape[1],X_train.shape[2]),padding=\"valid\",groups=1,\n",
    "                        kernel_regularizer=tf.keras.regularizers.l2(l=.05)),\n",
    "    #keras.layers.Conv1D(3,3,activation='relu'),\n",
    "    keras.layers.BatchNormalization(),\n",
    "    keras.layers.MaxPooling1D(2),\n",
    "    #keras.layers.Conv1D(6,2,activation='relu'),\n",
    "    #keras.layers.BatchNormalization(),\n",
    "    #keras.layers.MaxPooling1D(2),    \n",
    "    keras.layers.Flatten(),\n",
    "    keras.layers.Dense(10,activation='sigmoid'),\n",
    "    keras.layers.Dense(1,activation='sigmoid')\n",
    "])"
   ]
  },
  {
   "cell_type": "code",
   "execution_count": 28,
   "id": "ce805d6f",
   "metadata": {},
   "outputs": [],
   "source": [
    "metrics = [\n",
    "    tf.metrics.AUC(name='auc')\n",
    "]\n",
    "\n",
    "#odel.compile(optimizer=keras.optimizers.Adam(1e-4),loss='binary_crossentropy',metrics=metrics)\n",
    "model.compile(optimizer=keras.optimizers.Adam(1e-4),loss='binary_crossentropy',metrics=metrics)"
   ]
  },
  {
   "cell_type": "code",
   "execution_count": 29,
   "id": "7dd6d4a8",
   "metadata": {},
   "outputs": [],
   "source": [
    "callbacks = [keras.callbacks.EarlyStopping(patience=500,restore_best_weights=True)]"
   ]
  },
  {
   "cell_type": "code",
   "execution_count": 30,
   "id": "6039ad26",
   "metadata": {},
   "outputs": [
    {
     "name": "stdout",
     "output_type": "stream",
     "text": [
      "Epoch 1/200\n",
      "120/120 - 1s - loss: 1.0782 - auc: 0.5764 - val_loss: 0.9408 - val_auc: 0.4767 - 1s/epoch - 8ms/step\n",
      "Epoch 2/200\n",
      "120/120 - 0s - loss: 0.8888 - auc: 0.5182 - val_loss: 0.8121 - val_auc: 0.4841 - 265ms/epoch - 2ms/step\n",
      "Epoch 3/200\n",
      "120/120 - 0s - loss: 0.7604 - auc: 0.5565 - val_loss: 0.7158 - val_auc: 0.5152 - 278ms/epoch - 2ms/step\n",
      "Epoch 4/200\n",
      "120/120 - 0s - loss: 0.6672 - auc: 0.5735 - val_loss: 0.6361 - val_auc: 0.5399 - 294ms/epoch - 2ms/step\n",
      "Epoch 5/200\n",
      "120/120 - 0s - loss: 0.5942 - auc: 0.5978 - val_loss: 0.5711 - val_auc: 0.5784 - 263ms/epoch - 2ms/step\n",
      "Epoch 6/200\n",
      "120/120 - 0s - loss: 0.5352 - auc: 0.6382 - val_loss: 0.5192 - val_auc: 0.5883 - 285ms/epoch - 2ms/step\n",
      "Epoch 7/200\n",
      "120/120 - 0s - loss: 0.4870 - auc: 0.6328 - val_loss: 0.4754 - val_auc: 0.5931 - 263ms/epoch - 2ms/step\n",
      "Epoch 8/200\n",
      "120/120 - 0s - loss: 0.4457 - auc: 0.6234 - val_loss: 0.4373 - val_auc: 0.5865 - 289ms/epoch - 2ms/step\n",
      "Epoch 9/200\n",
      "120/120 - 0s - loss: 0.4096 - auc: 0.6288 - val_loss: 0.4041 - val_auc: 0.5930 - 288ms/epoch - 2ms/step\n",
      "Epoch 10/200\n",
      "120/120 - 0s - loss: 0.3775 - auc: 0.6372 - val_loss: 0.3741 - val_auc: 0.5862 - 290ms/epoch - 2ms/step\n",
      "Epoch 11/200\n",
      "120/120 - 0s - loss: 0.3490 - auc: 0.6370 - val_loss: 0.3474 - val_auc: 0.5754 - 309ms/epoch - 3ms/step\n",
      "Epoch 12/200\n",
      "120/120 - 0s - loss: 0.3234 - auc: 0.6255 - val_loss: 0.3239 - val_auc: 0.5579 - 299ms/epoch - 2ms/step\n",
      "Epoch 13/200\n",
      "120/120 - 0s - loss: 0.3007 - auc: 0.5840 - val_loss: 0.3031 - val_auc: 0.5504 - 278ms/epoch - 2ms/step\n",
      "Epoch 14/200\n",
      "120/120 - 0s - loss: 0.2807 - auc: 0.5377 - val_loss: 0.2848 - val_auc: 0.5239 - 280ms/epoch - 2ms/step\n",
      "Epoch 15/200\n",
      "120/120 - 0s - loss: 0.2628 - auc: 0.5993 - val_loss: 0.2687 - val_auc: 0.4917 - 287ms/epoch - 2ms/step\n",
      "Epoch 16/200\n",
      "120/120 - 0s - loss: 0.2471 - auc: 0.5445 - val_loss: 0.2538 - val_auc: 0.5112 - 289ms/epoch - 2ms/step\n",
      "Epoch 17/200\n",
      "120/120 - 0s - loss: 0.2331 - auc: 0.5836 - val_loss: 0.2412 - val_auc: 0.5366 - 274ms/epoch - 2ms/step\n",
      "Epoch 18/200\n",
      "120/120 - 0s - loss: 0.2205 - auc: 0.5921 - val_loss: 0.2295 - val_auc: 0.5576 - 282ms/epoch - 2ms/step\n",
      "Epoch 19/200\n",
      "120/120 - 0s - loss: 0.2095 - auc: 0.6239 - val_loss: 0.2204 - val_auc: 0.5494 - 264ms/epoch - 2ms/step\n",
      "Epoch 20/200\n",
      "120/120 - 0s - loss: 0.2003 - auc: 0.5853 - val_loss: 0.2119 - val_auc: 0.5375 - 263ms/epoch - 2ms/step\n",
      "Epoch 21/200\n",
      "120/120 - 0s - loss: 0.1923 - auc: 0.5804 - val_loss: 0.2047 - val_auc: 0.4973 - 253ms/epoch - 2ms/step\n",
      "Epoch 22/200\n",
      "120/120 - 0s - loss: 0.1852 - auc: 0.5878 - val_loss: 0.1983 - val_auc: 0.5159 - 271ms/epoch - 2ms/step\n",
      "Epoch 23/200\n",
      "120/120 - 0s - loss: 0.1790 - auc: 0.5807 - val_loss: 0.1932 - val_auc: 0.5801 - 263ms/epoch - 2ms/step\n",
      "Epoch 24/200\n",
      "120/120 - 0s - loss: 0.1737 - auc: 0.5610 - val_loss: 0.1885 - val_auc: 0.5798 - 266ms/epoch - 2ms/step\n",
      "Epoch 25/200\n",
      "120/120 - 0s - loss: 0.1690 - auc: 0.5660 - val_loss: 0.1844 - val_auc: 0.4946 - 278ms/epoch - 2ms/step\n",
      "Epoch 26/200\n",
      "120/120 - 0s - loss: 0.1648 - auc: 0.5929 - val_loss: 0.1807 - val_auc: 0.4908 - 261ms/epoch - 2ms/step\n",
      "Epoch 27/200\n",
      "120/120 - 0s - loss: 0.1612 - auc: 0.5374 - val_loss: 0.1775 - val_auc: 0.6058 - 286ms/epoch - 2ms/step\n",
      "Epoch 28/200\n",
      "120/120 - 0s - loss: 0.1578 - auc: 0.4926 - val_loss: 0.1744 - val_auc: 0.5015 - 288ms/epoch - 2ms/step\n",
      "Epoch 29/200\n",
      "120/120 - 0s - loss: 0.1546 - auc: 0.5437 - val_loss: 0.1722 - val_auc: 0.4914 - 293ms/epoch - 2ms/step\n",
      "Epoch 30/200\n",
      "120/120 - 0s - loss: 0.1519 - auc: 0.5184 - val_loss: 0.1697 - val_auc: 0.4452 - 331ms/epoch - 3ms/step\n",
      "Epoch 31/200\n",
      "120/120 - 0s - loss: 0.1494 - auc: 0.4977 - val_loss: 0.1677 - val_auc: 0.5549 - 289ms/epoch - 2ms/step\n",
      "Epoch 32/200\n",
      "120/120 - 0s - loss: 0.1473 - auc: 0.5401 - val_loss: 0.1660 - val_auc: 0.4977 - 264ms/epoch - 2ms/step\n",
      "Epoch 33/200\n",
      "120/120 - 0s - loss: 0.1455 - auc: 0.5197 - val_loss: 0.1648 - val_auc: 0.5794 - 279ms/epoch - 2ms/step\n",
      "Epoch 34/200\n",
      "120/120 - 0s - loss: 0.1441 - auc: 0.6028 - val_loss: 0.1639 - val_auc: 0.4973 - 281ms/epoch - 2ms/step\n",
      "Epoch 35/200\n",
      "120/120 - 0s - loss: 0.1429 - auc: 0.5007 - val_loss: 0.1632 - val_auc: 0.4979 - 253ms/epoch - 2ms/step\n",
      "Epoch 36/200\n",
      "120/120 - 0s - loss: 0.1419 - auc: 0.5691 - val_loss: 0.1624 - val_auc: 0.6084 - 263ms/epoch - 2ms/step\n",
      "Epoch 37/200\n",
      "120/120 - 0s - loss: 0.1411 - auc: 0.5662 - val_loss: 0.1620 - val_auc: 0.4976 - 303ms/epoch - 3ms/step\n",
      "Epoch 38/200\n",
      "120/120 - 0s - loss: 0.1403 - auc: 0.5107 - val_loss: 0.1614 - val_auc: 0.4999 - 286ms/epoch - 2ms/step\n",
      "Epoch 39/200\n",
      "120/120 - 0s - loss: 0.1397 - auc: 0.5509 - val_loss: 0.1611 - val_auc: 0.5937 - 285ms/epoch - 2ms/step\n",
      "Epoch 40/200\n",
      "120/120 - 0s - loss: 0.1392 - auc: 0.5874 - val_loss: 0.1608 - val_auc: 0.4995 - 283ms/epoch - 2ms/step\n",
      "Epoch 41/200\n",
      "120/120 - 0s - loss: 0.1386 - auc: 0.5422 - val_loss: 0.1605 - val_auc: 0.5000 - 251ms/epoch - 2ms/step\n",
      "Epoch 42/200\n",
      "120/120 - 0s - loss: 0.1384 - auc: 0.5020 - val_loss: 0.1603 - val_auc: 0.4999 - 264ms/epoch - 2ms/step\n",
      "Epoch 43/200\n",
      "120/120 - 0s - loss: 0.1380 - auc: 0.5318 - val_loss: 0.1602 - val_auc: 0.5640 - 265ms/epoch - 2ms/step\n",
      "Epoch 44/200\n",
      "120/120 - 0s - loss: 0.1376 - auc: 0.5849 - val_loss: 0.1601 - val_auc: 0.5982 - 269ms/epoch - 2ms/step\n",
      "Epoch 45/200\n",
      "120/120 - 0s - loss: 0.1373 - auc: 0.5438 - val_loss: 0.1600 - val_auc: 0.5000 - 276ms/epoch - 2ms/step\n",
      "Epoch 46/200\n",
      "120/120 - 0s - loss: 0.1372 - auc: 0.5511 - val_loss: 0.1598 - val_auc: 0.5000 - 261ms/epoch - 2ms/step\n",
      "Epoch 47/200\n",
      "120/120 - 0s - loss: 0.1369 - auc: 0.5513 - val_loss: 0.1597 - val_auc: 0.5000 - 277ms/epoch - 2ms/step\n",
      "Epoch 48/200\n",
      "120/120 - 0s - loss: 0.1367 - auc: 0.4939 - val_loss: 0.1597 - val_auc: 0.5000 - 270ms/epoch - 2ms/step\n",
      "Epoch 49/200\n",
      "120/120 - 0s - loss: 0.1366 - auc: 0.5404 - val_loss: 0.1595 - val_auc: 0.5587 - 280ms/epoch - 2ms/step\n",
      "Epoch 50/200\n",
      "120/120 - 0s - loss: 0.1364 - auc: 0.5702 - val_loss: 0.1595 - val_auc: 0.5729 - 289ms/epoch - 2ms/step\n",
      "Epoch 51/200\n",
      "120/120 - 0s - loss: 0.1361 - auc: 0.5877 - val_loss: 0.1593 - val_auc: 0.5885 - 290ms/epoch - 2ms/step\n",
      "Epoch 52/200\n",
      "120/120 - 0s - loss: 0.1360 - auc: 0.6054 - val_loss: 0.1592 - val_auc: 0.5978 - 270ms/epoch - 2ms/step\n",
      "Epoch 53/200\n",
      "120/120 - 0s - loss: 0.1359 - auc: 0.6184 - val_loss: 0.1591 - val_auc: 0.6014 - 270ms/epoch - 2ms/step\n",
      "Epoch 54/200\n",
      "120/120 - 0s - loss: 0.1357 - auc: 0.6084 - val_loss: 0.1589 - val_auc: 0.6024 - 253ms/epoch - 2ms/step\n",
      "Epoch 55/200\n",
      "120/120 - 0s - loss: 0.1356 - auc: 0.6200 - val_loss: 0.1587 - val_auc: 0.6039 - 266ms/epoch - 2ms/step\n",
      "Epoch 56/200\n",
      "120/120 - 0s - loss: 0.1354 - auc: 0.6122 - val_loss: 0.1585 - val_auc: 0.6102 - 256ms/epoch - 2ms/step\n",
      "Epoch 57/200\n",
      "120/120 - 0s - loss: 0.1354 - auc: 0.6021 - val_loss: 0.1587 - val_auc: 0.6104 - 259ms/epoch - 2ms/step\n",
      "Epoch 58/200\n",
      "120/120 - 0s - loss: 0.1354 - auc: 0.6116 - val_loss: 0.1589 - val_auc: 0.6377 - 281ms/epoch - 2ms/step\n",
      "Epoch 59/200\n",
      "120/120 - 0s - loss: 0.1351 - auc: 0.6242 - val_loss: 0.1582 - val_auc: 0.6205 - 303ms/epoch - 3ms/step\n",
      "Epoch 60/200\n",
      "120/120 - 0s - loss: 0.1352 - auc: 0.6338 - val_loss: 0.1582 - val_auc: 0.6346 - 276ms/epoch - 2ms/step\n",
      "Epoch 61/200\n",
      "120/120 - 0s - loss: 0.1345 - auc: 0.6400 - val_loss: 0.1581 - val_auc: 0.6337 - 265ms/epoch - 2ms/step\n",
      "Epoch 62/200\n",
      "120/120 - 0s - loss: 0.1344 - auc: 0.6397 - val_loss: 0.1578 - val_auc: 0.6397 - 261ms/epoch - 2ms/step\n",
      "Epoch 63/200\n",
      "120/120 - 0s - loss: 0.1346 - auc: 0.6303 - val_loss: 0.1578 - val_auc: 0.6404 - 250ms/epoch - 2ms/step\n",
      "Epoch 64/200\n",
      "120/120 - 0s - loss: 0.1343 - auc: 0.6412 - val_loss: 0.1575 - val_auc: 0.6480 - 277ms/epoch - 2ms/step\n",
      "Epoch 65/200\n",
      "120/120 - 0s - loss: 0.1342 - auc: 0.6491 - val_loss: 0.1574 - val_auc: 0.6521 - 257ms/epoch - 2ms/step\n",
      "Epoch 66/200\n",
      "120/120 - 0s - loss: 0.1342 - auc: 0.6393 - val_loss: 0.1570 - val_auc: 0.6410 - 263ms/epoch - 2ms/step\n",
      "Epoch 67/200\n",
      "120/120 - 0s - loss: 0.1342 - auc: 0.6276 - val_loss: 0.1575 - val_auc: 0.6449 - 258ms/epoch - 2ms/step\n",
      "Epoch 68/200\n",
      "120/120 - 0s - loss: 0.1338 - auc: 0.6538 - val_loss: 0.1572 - val_auc: 0.6528 - 252ms/epoch - 2ms/step\n",
      "Epoch 69/200\n",
      "120/120 - 0s - loss: 0.1342 - auc: 0.6287 - val_loss: 0.1570 - val_auc: 0.6519 - 255ms/epoch - 2ms/step\n",
      "Epoch 70/200\n",
      "120/120 - 0s - loss: 0.1338 - auc: 0.6442 - val_loss: 0.1568 - val_auc: 0.6484 - 258ms/epoch - 2ms/step\n",
      "Epoch 71/200\n",
      "120/120 - 0s - loss: 0.1339 - auc: 0.6330 - val_loss: 0.1569 - val_auc: 0.6545 - 274ms/epoch - 2ms/step\n"
     ]
    },
    {
     "name": "stdout",
     "output_type": "stream",
     "text": [
      "Epoch 72/200\n",
      "120/120 - 0s - loss: 0.1340 - auc: 0.6314 - val_loss: 0.1572 - val_auc: 0.6549 - 265ms/epoch - 2ms/step\n",
      "Epoch 73/200\n",
      "120/120 - 0s - loss: 0.1336 - auc: 0.6366 - val_loss: 0.1568 - val_auc: 0.6550 - 258ms/epoch - 2ms/step\n",
      "Epoch 74/200\n",
      "120/120 - 0s - loss: 0.1335 - auc: 0.6428 - val_loss: 0.1571 - val_auc: 0.6542 - 264ms/epoch - 2ms/step\n",
      "Epoch 75/200\n",
      "120/120 - 0s - loss: 0.1332 - auc: 0.6494 - val_loss: 0.1565 - val_auc: 0.6536 - 267ms/epoch - 2ms/step\n",
      "Epoch 76/200\n",
      "120/120 - 0s - loss: 0.1341 - auc: 0.6278 - val_loss: 0.1564 - val_auc: 0.6472 - 279ms/epoch - 2ms/step\n",
      "Epoch 77/200\n",
      "120/120 - 0s - loss: 0.1337 - auc: 0.6515 - val_loss: 0.1569 - val_auc: 0.6548 - 264ms/epoch - 2ms/step\n",
      "Epoch 78/200\n",
      "120/120 - 0s - loss: 0.1332 - auc: 0.6519 - val_loss: 0.1565 - val_auc: 0.6535 - 284ms/epoch - 2ms/step\n",
      "Epoch 79/200\n",
      "120/120 - 0s - loss: 0.1333 - auc: 0.6469 - val_loss: 0.1572 - val_auc: 0.6394 - 258ms/epoch - 2ms/step\n",
      "Epoch 80/200\n",
      "120/120 - 0s - loss: 0.1334 - auc: 0.6399 - val_loss: 0.1566 - val_auc: 0.6555 - 250ms/epoch - 2ms/step\n",
      "Epoch 81/200\n",
      "120/120 - 0s - loss: 0.1329 - auc: 0.6475 - val_loss: 0.1565 - val_auc: 0.6560 - 265ms/epoch - 2ms/step\n",
      "Epoch 82/200\n",
      "120/120 - 0s - loss: 0.1331 - auc: 0.6417 - val_loss: 0.1566 - val_auc: 0.6481 - 274ms/epoch - 2ms/step\n",
      "Epoch 83/200\n",
      "120/120 - 0s - loss: 0.1334 - auc: 0.6375 - val_loss: 0.1562 - val_auc: 0.6507 - 296ms/epoch - 2ms/step\n",
      "Epoch 84/200\n",
      "120/120 - 0s - loss: 0.1330 - auc: 0.6355 - val_loss: 0.1562 - val_auc: 0.6560 - 273ms/epoch - 2ms/step\n",
      "Epoch 85/200\n",
      "120/120 - 0s - loss: 0.1327 - auc: 0.6487 - val_loss: 0.1560 - val_auc: 0.6527 - 257ms/epoch - 2ms/step\n",
      "Epoch 86/200\n",
      "120/120 - 0s - loss: 0.1339 - auc: 0.6233 - val_loss: 0.1570 - val_auc: 0.6535 - 276ms/epoch - 2ms/step\n",
      "Epoch 87/200\n",
      "120/120 - 0s - loss: 0.1332 - auc: 0.6460 - val_loss: 0.1561 - val_auc: 0.6594 - 268ms/epoch - 2ms/step\n",
      "Epoch 88/200\n",
      "120/120 - 0s - loss: 0.1332 - auc: 0.6371 - val_loss: 0.1557 - val_auc: 0.6529 - 261ms/epoch - 2ms/step\n",
      "Epoch 89/200\n",
      "120/120 - 0s - loss: 0.1326 - auc: 0.6540 - val_loss: 0.1565 - val_auc: 0.6501 - 273ms/epoch - 2ms/step\n",
      "Epoch 90/200\n",
      "120/120 - 0s - loss: 0.1327 - auc: 0.6554 - val_loss: 0.1563 - val_auc: 0.6553 - 264ms/epoch - 2ms/step\n",
      "Epoch 91/200\n",
      "120/120 - 0s - loss: 0.1328 - auc: 0.6510 - val_loss: 0.1558 - val_auc: 0.6542 - 260ms/epoch - 2ms/step\n",
      "Epoch 92/200\n",
      "120/120 - 0s - loss: 0.1331 - auc: 0.6430 - val_loss: 0.1561 - val_auc: 0.6567 - 261ms/epoch - 2ms/step\n",
      "Epoch 93/200\n",
      "120/120 - 0s - loss: 0.1330 - auc: 0.6450 - val_loss: 0.1566 - val_auc: 0.6531 - 272ms/epoch - 2ms/step\n",
      "Epoch 94/200\n",
      "120/120 - 0s - loss: 0.1333 - auc: 0.6372 - val_loss: 0.1558 - val_auc: 0.6519 - 268ms/epoch - 2ms/step\n",
      "Epoch 95/200\n",
      "120/120 - 0s - loss: 0.1327 - auc: 0.6441 - val_loss: 0.1553 - val_auc: 0.6571 - 264ms/epoch - 2ms/step\n",
      "Epoch 96/200\n",
      "120/120 - 0s - loss: 0.1331 - auc: 0.6379 - val_loss: 0.1554 - val_auc: 0.6557 - 260ms/epoch - 2ms/step\n",
      "Epoch 97/200\n",
      "120/120 - 0s - loss: 0.1333 - auc: 0.6354 - val_loss: 0.1558 - val_auc: 0.6544 - 263ms/epoch - 2ms/step\n",
      "Epoch 98/200\n",
      "120/120 - 0s - loss: 0.1330 - auc: 0.6440 - val_loss: 0.1566 - val_auc: 0.6481 - 249ms/epoch - 2ms/step\n",
      "Epoch 99/200\n",
      "120/120 - 0s - loss: 0.1327 - auc: 0.6547 - val_loss: 0.1553 - val_auc: 0.6540 - 251ms/epoch - 2ms/step\n",
      "Epoch 100/200\n",
      "120/120 - 0s - loss: 0.1325 - auc: 0.6500 - val_loss: 0.1554 - val_auc: 0.6470 - 291ms/epoch - 2ms/step\n",
      "Epoch 101/200\n",
      "120/120 - 0s - loss: 0.1330 - auc: 0.6349 - val_loss: 0.1562 - val_auc: 0.6541 - 263ms/epoch - 2ms/step\n",
      "Epoch 102/200\n",
      "120/120 - 0s - loss: 0.1325 - auc: 0.6546 - val_loss: 0.1557 - val_auc: 0.6530 - 247ms/epoch - 2ms/step\n",
      "Epoch 103/200\n",
      "120/120 - 0s - loss: 0.1330 - auc: 0.6418 - val_loss: 0.1554 - val_auc: 0.6530 - 256ms/epoch - 2ms/step\n",
      "Epoch 104/200\n",
      "120/120 - 0s - loss: 0.1324 - auc: 0.6572 - val_loss: 0.1552 - val_auc: 0.6544 - 263ms/epoch - 2ms/step\n",
      "Epoch 105/200\n",
      "120/120 - 0s - loss: 0.1329 - auc: 0.6347 - val_loss: 0.1555 - val_auc: 0.6537 - 270ms/epoch - 2ms/step\n",
      "Epoch 106/200\n",
      "120/120 - 0s - loss: 0.1323 - auc: 0.6542 - val_loss: 0.1554 - val_auc: 0.6519 - 258ms/epoch - 2ms/step\n",
      "Epoch 107/200\n",
      "120/120 - 0s - loss: 0.1328 - auc: 0.6448 - val_loss: 0.1550 - val_auc: 0.6578 - 266ms/epoch - 2ms/step\n",
      "Epoch 108/200\n",
      "120/120 - 0s - loss: 0.1322 - auc: 0.6557 - val_loss: 0.1557 - val_auc: 0.6587 - 268ms/epoch - 2ms/step\n",
      "Epoch 109/200\n",
      "120/120 - 0s - loss: 0.1324 - auc: 0.6474 - val_loss: 0.1558 - val_auc: 0.6592 - 260ms/epoch - 2ms/step\n",
      "Epoch 110/200\n",
      "120/120 - 0s - loss: 0.1323 - auc: 0.6560 - val_loss: 0.1556 - val_auc: 0.6589 - 259ms/epoch - 2ms/step\n",
      "Epoch 111/200\n",
      "120/120 - 0s - loss: 0.1325 - auc: 0.6523 - val_loss: 0.1559 - val_auc: 0.6573 - 280ms/epoch - 2ms/step\n",
      "Epoch 112/200\n",
      "120/120 - 0s - loss: 0.1329 - auc: 0.6439 - val_loss: 0.1559 - val_auc: 0.6556 - 259ms/epoch - 2ms/step\n",
      "Epoch 113/200\n",
      "120/120 - 0s - loss: 0.1322 - auc: 0.6599 - val_loss: 0.1554 - val_auc: 0.6544 - 269ms/epoch - 2ms/step\n",
      "Epoch 114/200\n",
      "120/120 - 0s - loss: 0.1327 - auc: 0.6433 - val_loss: 0.1550 - val_auc: 0.6585 - 275ms/epoch - 2ms/step\n",
      "Epoch 115/200\n",
      "120/120 - 0s - loss: 0.1328 - auc: 0.6439 - val_loss: 0.1556 - val_auc: 0.6585 - 283ms/epoch - 2ms/step\n",
      "Epoch 116/200\n",
      "120/120 - 0s - loss: 0.1322 - auc: 0.6555 - val_loss: 0.1558 - val_auc: 0.6598 - 287ms/epoch - 2ms/step\n",
      "Epoch 117/200\n",
      "120/120 - 0s - loss: 0.1320 - auc: 0.6560 - val_loss: 0.1560 - val_auc: 0.6590 - 281ms/epoch - 2ms/step\n",
      "Epoch 118/200\n",
      "120/120 - 0s - loss: 0.1324 - auc: 0.6521 - val_loss: 0.1561 - val_auc: 0.6555 - 281ms/epoch - 2ms/step\n",
      "Epoch 119/200\n",
      "120/120 - 0s - loss: 0.1324 - auc: 0.6498 - val_loss: 0.1562 - val_auc: 0.6569 - 261ms/epoch - 2ms/step\n",
      "Epoch 120/200\n",
      "120/120 - 0s - loss: 0.1320 - auc: 0.6556 - val_loss: 0.1554 - val_auc: 0.6590 - 264ms/epoch - 2ms/step\n",
      "Epoch 121/200\n",
      "120/120 - 0s - loss: 0.1323 - auc: 0.6566 - val_loss: 0.1558 - val_auc: 0.6598 - 272ms/epoch - 2ms/step\n",
      "Epoch 122/200\n",
      "120/120 - 0s - loss: 0.1320 - auc: 0.6570 - val_loss: 0.1554 - val_auc: 0.6614 - 313ms/epoch - 3ms/step\n",
      "Epoch 123/200\n",
      "120/120 - 0s - loss: 0.1316 - auc: 0.6655 - val_loss: 0.1558 - val_auc: 0.6621 - 289ms/epoch - 2ms/step\n",
      "Epoch 124/200\n",
      "120/120 - 0s - loss: 0.1321 - auc: 0.6542 - val_loss: 0.1555 - val_auc: 0.6625 - 263ms/epoch - 2ms/step\n",
      "Epoch 125/200\n",
      "120/120 - 0s - loss: 0.1320 - auc: 0.6548 - val_loss: 0.1550 - val_auc: 0.6609 - 265ms/epoch - 2ms/step\n",
      "Epoch 126/200\n",
      "120/120 - 0s - loss: 0.1320 - auc: 0.6557 - val_loss: 0.1553 - val_auc: 0.6573 - 260ms/epoch - 2ms/step\n",
      "Epoch 127/200\n",
      "120/120 - 0s - loss: 0.1318 - auc: 0.6588 - val_loss: 0.1554 - val_auc: 0.6678 - 258ms/epoch - 2ms/step\n",
      "Epoch 128/200\n",
      "120/120 - 0s - loss: 0.1323 - auc: 0.6504 - val_loss: 0.1558 - val_auc: 0.6600 - 260ms/epoch - 2ms/step\n",
      "Epoch 129/200\n",
      "120/120 - 0s - loss: 0.1320 - auc: 0.6618 - val_loss: 0.1571 - val_auc: 0.6565 - 282ms/epoch - 2ms/step\n",
      "Epoch 130/200\n",
      "120/120 - 0s - loss: 0.1323 - auc: 0.6460 - val_loss: 0.1553 - val_auc: 0.6633 - 275ms/epoch - 2ms/step\n",
      "Epoch 131/200\n",
      "120/120 - 0s - loss: 0.1324 - auc: 0.6526 - val_loss: 0.1549 - val_auc: 0.6629 - 270ms/epoch - 2ms/step\n",
      "Epoch 132/200\n",
      "120/120 - 0s - loss: 0.1320 - auc: 0.6626 - val_loss: 0.1576 - val_auc: 0.6607 - 268ms/epoch - 2ms/step\n",
      "Epoch 133/200\n",
      "120/120 - 0s - loss: 0.1316 - auc: 0.6686 - val_loss: 0.1568 - val_auc: 0.6622 - 269ms/epoch - 2ms/step\n",
      "Epoch 134/200\n",
      "120/120 - 0s - loss: 0.1316 - auc: 0.6693 - val_loss: 0.1552 - val_auc: 0.6655 - 274ms/epoch - 2ms/step\n",
      "Epoch 135/200\n",
      "120/120 - 0s - loss: 0.1322 - auc: 0.6528 - val_loss: 0.1550 - val_auc: 0.6611 - 270ms/epoch - 2ms/step\n",
      "Epoch 136/200\n",
      "120/120 - 0s - loss: 0.1317 - auc: 0.6640 - val_loss: 0.1575 - val_auc: 0.6580 - 269ms/epoch - 2ms/step\n",
      "Epoch 137/200\n",
      "120/120 - 0s - loss: 0.1315 - auc: 0.6685 - val_loss: 0.1555 - val_auc: 0.6635 - 289ms/epoch - 2ms/step\n",
      "Epoch 138/200\n",
      "120/120 - 0s - loss: 0.1319 - auc: 0.6589 - val_loss: 0.1558 - val_auc: 0.6577 - 263ms/epoch - 2ms/step\n",
      "Epoch 139/200\n",
      "120/120 - 0s - loss: 0.1324 - auc: 0.6521 - val_loss: 0.1557 - val_auc: 0.6587 - 264ms/epoch - 2ms/step\n",
      "Epoch 140/200\n",
      "120/120 - 0s - loss: 0.1318 - auc: 0.6619 - val_loss: 0.1553 - val_auc: 0.6626 - 286ms/epoch - 2ms/step\n",
      "Epoch 141/200\n",
      "120/120 - 0s - loss: 0.1323 - auc: 0.6552 - val_loss: 0.1561 - val_auc: 0.6601 - 271ms/epoch - 2ms/step\n"
     ]
    },
    {
     "name": "stdout",
     "output_type": "stream",
     "text": [
      "Epoch 142/200\n",
      "120/120 - 0s - loss: 0.1318 - auc: 0.6616 - val_loss: 0.1545 - val_auc: 0.6619 - 271ms/epoch - 2ms/step\n",
      "Epoch 143/200\n",
      "120/120 - 0s - loss: 0.1312 - auc: 0.6765 - val_loss: 0.1567 - val_auc: 0.6617 - 273ms/epoch - 2ms/step\n",
      "Epoch 144/200\n",
      "120/120 - 0s - loss: 0.1320 - auc: 0.6556 - val_loss: 0.1554 - val_auc: 0.6634 - 275ms/epoch - 2ms/step\n",
      "Epoch 145/200\n",
      "120/120 - 0s - loss: 0.1319 - auc: 0.6590 - val_loss: 0.1546 - val_auc: 0.6634 - 264ms/epoch - 2ms/step\n",
      "Epoch 146/200\n",
      "120/120 - 0s - loss: 0.1322 - auc: 0.6526 - val_loss: 0.1547 - val_auc: 0.6640 - 270ms/epoch - 2ms/step\n",
      "Epoch 147/200\n",
      "120/120 - 0s - loss: 0.1317 - auc: 0.6644 - val_loss: 0.1559 - val_auc: 0.6609 - 268ms/epoch - 2ms/step\n",
      "Epoch 148/200\n",
      "120/120 - 0s - loss: 0.1320 - auc: 0.6539 - val_loss: 0.1559 - val_auc: 0.6609 - 264ms/epoch - 2ms/step\n",
      "Epoch 149/200\n",
      "120/120 - 0s - loss: 0.1318 - auc: 0.6632 - val_loss: 0.1545 - val_auc: 0.6650 - 270ms/epoch - 2ms/step\n",
      "Epoch 150/200\n",
      "120/120 - 0s - loss: 0.1315 - auc: 0.6668 - val_loss: 0.1550 - val_auc: 0.6647 - 277ms/epoch - 2ms/step\n",
      "Epoch 151/200\n",
      "120/120 - 0s - loss: 0.1314 - auc: 0.6735 - val_loss: 0.1550 - val_auc: 0.6614 - 265ms/epoch - 2ms/step\n",
      "Epoch 152/200\n",
      "120/120 - 0s - loss: 0.1316 - auc: 0.6625 - val_loss: 0.1558 - val_auc: 0.6616 - 270ms/epoch - 2ms/step\n",
      "Epoch 153/200\n",
      "120/120 - 0s - loss: 0.1318 - auc: 0.6562 - val_loss: 0.1553 - val_auc: 0.6662 - 277ms/epoch - 2ms/step\n",
      "Epoch 154/200\n",
      "120/120 - 0s - loss: 0.1316 - auc: 0.6641 - val_loss: 0.1547 - val_auc: 0.6665 - 292ms/epoch - 2ms/step\n",
      "Epoch 155/200\n",
      "120/120 - 0s - loss: 0.1321 - auc: 0.6600 - val_loss: 0.1544 - val_auc: 0.6619 - 275ms/epoch - 2ms/step\n",
      "Epoch 156/200\n",
      "120/120 - 0s - loss: 0.1316 - auc: 0.6632 - val_loss: 0.1557 - val_auc: 0.6642 - 290ms/epoch - 2ms/step\n",
      "Epoch 157/200\n",
      "120/120 - 0s - loss: 0.1314 - auc: 0.6659 - val_loss: 0.1550 - val_auc: 0.6644 - 277ms/epoch - 2ms/step\n",
      "Epoch 158/200\n",
      "120/120 - 0s - loss: 0.1320 - auc: 0.6590 - val_loss: 0.1544 - val_auc: 0.6606 - 266ms/epoch - 2ms/step\n",
      "Epoch 159/200\n",
      "120/120 - 0s - loss: 0.1314 - auc: 0.6653 - val_loss: 0.1549 - val_auc: 0.6653 - 269ms/epoch - 2ms/step\n",
      "Epoch 160/200\n",
      "120/120 - 0s - loss: 0.1315 - auc: 0.6659 - val_loss: 0.1552 - val_auc: 0.6668 - 272ms/epoch - 2ms/step\n",
      "Epoch 161/200\n",
      "120/120 - 0s - loss: 0.1316 - auc: 0.6677 - val_loss: 0.1554 - val_auc: 0.6669 - 263ms/epoch - 2ms/step\n",
      "Epoch 162/200\n",
      "120/120 - 0s - loss: 0.1312 - auc: 0.6750 - val_loss: 0.1543 - val_auc: 0.6642 - 268ms/epoch - 2ms/step\n",
      "Epoch 163/200\n",
      "120/120 - 0s - loss: 0.1311 - auc: 0.6743 - val_loss: 0.1550 - val_auc: 0.6638 - 269ms/epoch - 2ms/step\n",
      "Epoch 164/200\n",
      "120/120 - 0s - loss: 0.1311 - auc: 0.6735 - val_loss: 0.1558 - val_auc: 0.6622 - 263ms/epoch - 2ms/step\n",
      "Epoch 165/200\n",
      "120/120 - 0s - loss: 0.1318 - auc: 0.6574 - val_loss: 0.1547 - val_auc: 0.6641 - 268ms/epoch - 2ms/step\n",
      "Epoch 166/200\n",
      "120/120 - 0s - loss: 0.1311 - auc: 0.6792 - val_loss: 0.1555 - val_auc: 0.6667 - 267ms/epoch - 2ms/step\n",
      "Epoch 167/200\n",
      "120/120 - 0s - loss: 0.1313 - auc: 0.6697 - val_loss: 0.1544 - val_auc: 0.6624 - 272ms/epoch - 2ms/step\n",
      "Epoch 168/200\n",
      "120/120 - 0s - loss: 0.1313 - auc: 0.6688 - val_loss: 0.1565 - val_auc: 0.6619 - 268ms/epoch - 2ms/step\n",
      "Epoch 169/200\n",
      "120/120 - 0s - loss: 0.1307 - auc: 0.6790 - val_loss: 0.1548 - val_auc: 0.6627 - 271ms/epoch - 2ms/step\n",
      "Epoch 170/200\n",
      "120/120 - 0s - loss: 0.1313 - auc: 0.6701 - val_loss: 0.1555 - val_auc: 0.6601 - 271ms/epoch - 2ms/step\n",
      "Epoch 171/200\n",
      "120/120 - 0s - loss: 0.1309 - auc: 0.6703 - val_loss: 0.1554 - val_auc: 0.6650 - 268ms/epoch - 2ms/step\n",
      "Epoch 172/200\n",
      "120/120 - 0s - loss: 0.1312 - auc: 0.6663 - val_loss: 0.1545 - val_auc: 0.6645 - 275ms/epoch - 2ms/step\n",
      "Epoch 173/200\n",
      "120/120 - 0s - loss: 0.1312 - auc: 0.6686 - val_loss: 0.1546 - val_auc: 0.6647 - 277ms/epoch - 2ms/step\n",
      "Epoch 174/200\n",
      "120/120 - 0s - loss: 0.1313 - auc: 0.6691 - val_loss: 0.1556 - val_auc: 0.6573 - 271ms/epoch - 2ms/step\n",
      "Epoch 175/200\n",
      "120/120 - 0s - loss: 0.1312 - auc: 0.6668 - val_loss: 0.1560 - val_auc: 0.6619 - 276ms/epoch - 2ms/step\n",
      "Epoch 176/200\n",
      "120/120 - 0s - loss: 0.1317 - auc: 0.6599 - val_loss: 0.1549 - val_auc: 0.6627 - 271ms/epoch - 2ms/step\n",
      "Epoch 177/200\n",
      "120/120 - 0s - loss: 0.1307 - auc: 0.6819 - val_loss: 0.1544 - val_auc: 0.6616 - 273ms/epoch - 2ms/step\n",
      "Epoch 178/200\n",
      "120/120 - 0s - loss: 0.1315 - auc: 0.6565 - val_loss: 0.1559 - val_auc: 0.6624 - 260ms/epoch - 2ms/step\n",
      "Epoch 179/200\n",
      "120/120 - 0s - loss: 0.1309 - auc: 0.6797 - val_loss: 0.1555 - val_auc: 0.6558 - 259ms/epoch - 2ms/step\n",
      "Epoch 180/200\n",
      "120/120 - 0s - loss: 0.1312 - auc: 0.6646 - val_loss: 0.1553 - val_auc: 0.6671 - 271ms/epoch - 2ms/step\n",
      "Epoch 181/200\n",
      "120/120 - 0s - loss: 0.1308 - auc: 0.6793 - val_loss: 0.1547 - val_auc: 0.6646 - 282ms/epoch - 2ms/step\n",
      "Epoch 182/200\n",
      "120/120 - 0s - loss: 0.1310 - auc: 0.6735 - val_loss: 0.1546 - val_auc: 0.6642 - 279ms/epoch - 2ms/step\n",
      "Epoch 183/200\n",
      "120/120 - 0s - loss: 0.1313 - auc: 0.6740 - val_loss: 0.1545 - val_auc: 0.6640 - 262ms/epoch - 2ms/step\n",
      "Epoch 184/200\n",
      "120/120 - 0s - loss: 0.1310 - auc: 0.6711 - val_loss: 0.1552 - val_auc: 0.6666 - 276ms/epoch - 2ms/step\n",
      "Epoch 185/200\n",
      "120/120 - 0s - loss: 0.1311 - auc: 0.6747 - val_loss: 0.1555 - val_auc: 0.6584 - 276ms/epoch - 2ms/step\n",
      "Epoch 186/200\n",
      "120/120 - 0s - loss: 0.1313 - auc: 0.6707 - val_loss: 0.1550 - val_auc: 0.6651 - 266ms/epoch - 2ms/step\n",
      "Epoch 187/200\n",
      "120/120 - 0s - loss: 0.1313 - auc: 0.6645 - val_loss: 0.1551 - val_auc: 0.6632 - 267ms/epoch - 2ms/step\n",
      "Epoch 188/200\n",
      "120/120 - 0s - loss: 0.1310 - auc: 0.6743 - val_loss: 0.1558 - val_auc: 0.6646 - 303ms/epoch - 3ms/step\n",
      "Epoch 189/200\n",
      "120/120 - 0s - loss: 0.1311 - auc: 0.6734 - val_loss: 0.1550 - val_auc: 0.6629 - 281ms/epoch - 2ms/step\n",
      "Epoch 190/200\n",
      "120/120 - 0s - loss: 0.1311 - auc: 0.6750 - val_loss: 0.1566 - val_auc: 0.6641 - 262ms/epoch - 2ms/step\n",
      "Epoch 191/200\n",
      "120/120 - 0s - loss: 0.1306 - auc: 0.6802 - val_loss: 0.1558 - val_auc: 0.6614 - 278ms/epoch - 2ms/step\n",
      "Epoch 192/200\n",
      "120/120 - 0s - loss: 0.1309 - auc: 0.6739 - val_loss: 0.1545 - val_auc: 0.6697 - 285ms/epoch - 2ms/step\n",
      "Epoch 193/200\n",
      "120/120 - 0s - loss: 0.1307 - auc: 0.6823 - val_loss: 0.1554 - val_auc: 0.6612 - 291ms/epoch - 2ms/step\n",
      "Epoch 194/200\n",
      "120/120 - 0s - loss: 0.1310 - auc: 0.6700 - val_loss: 0.1553 - val_auc: 0.6615 - 269ms/epoch - 2ms/step\n",
      "Epoch 195/200\n",
      "120/120 - 0s - loss: 0.1307 - auc: 0.6765 - val_loss: 0.1546 - val_auc: 0.6661 - 268ms/epoch - 2ms/step\n",
      "Epoch 196/200\n",
      "120/120 - 0s - loss: 0.1311 - auc: 0.6711 - val_loss: 0.1552 - val_auc: 0.6660 - 273ms/epoch - 2ms/step\n",
      "Epoch 197/200\n",
      "120/120 - 0s - loss: 0.1305 - auc: 0.6808 - val_loss: 0.1554 - val_auc: 0.6592 - 253ms/epoch - 2ms/step\n",
      "Epoch 198/200\n",
      "120/120 - 0s - loss: 0.1310 - auc: 0.6713 - val_loss: 0.1562 - val_auc: 0.6603 - 257ms/epoch - 2ms/step\n",
      "Epoch 199/200\n",
      "120/120 - 0s - loss: 0.1308 - auc: 0.6786 - val_loss: 0.1554 - val_auc: 0.6646 - 269ms/epoch - 2ms/step\n",
      "Epoch 200/200\n",
      "120/120 - 0s - loss: 0.1308 - auc: 0.6745 - val_loss: 0.1552 - val_auc: 0.6653 - 266ms/epoch - 2ms/step\n"
     ]
    }
   ],
   "source": [
    "history = model.fit(X_train,y_train,batch_size=50,epochs=200,verbose=2,validation_data=(X_test,y_test))"
   ]
  },
  {
   "cell_type": "code",
   "execution_count": 31,
   "id": "ce2c026b",
   "metadata": {},
   "outputs": [
    {
     "data": {
      "image/png": "[encoded data removed]",
      "text/plain": [
       "<Figure size 432x288 with 1 Axes>"
      ]
     },
     "metadata": {
      "needs_background": "light"
     },
     "output_type": "display_data"
    }
   ],
   "source": [
    "from matplotlib import pyplot as plt\n",
    "metric = 'auc'\n",
    "plt.figure()\n",
    "plt.plot(history.history[metric])\n",
    "plt.plot(history.history['val_'+metric])\n",
    "plt.title('model '+metric)\n",
    "plt.ylabel(metric,fontsize='large')\n",
    "plt.xlabel('epoch',fontsize='large')\n",
    "plt.legend(['train','val'],loc='best')\n",
    "plt.show()"
   ]
  },
  {
   "cell_type": "code",
   "execution_count": 32,
   "id": "888e1fcf",
   "metadata": {},
   "outputs": [
    {
     "name": "stdout",
     "output_type": "stream",
     "text": [
      "155/155 [==============================] - 0s 765us/step\n"
     ]
    },
    {
     "data": {
      "text/plain": [
       "array([[0.03088853],\n",
       "       [0.02687662],\n",
       "       [0.03052026],\n",
       "       ...,\n",
       "       [0.04898142],\n",
       "       [0.04878054],\n",
       "       [0.04821908]], dtype=float32)"
      ]
     },
     "execution_count": 32,
     "metadata": {},
     "output_type": "execute_result"
    }
   ],
   "source": [
    "model.predict(X_test)"
   ]
  },
  {
   "cell_type": "code",
   "execution_count": 33,
   "id": "100a3d51",
   "metadata": {},
   "outputs": [
    {
     "name": "stdout",
     "output_type": "stream",
     "text": [
      "155/155 [==============================] - 0s 842us/step\n"
     ]
    },
    {
     "data": {
      "text/plain": [
       "0.3410738041364887"
      ]
     },
     "execution_count": 33,
     "metadata": {},
     "output_type": "execute_result"
    }
   ],
   "source": [
    "from sklearn.metrics import roc_auc_score\n",
    "\n",
    "2*roc_auc_score(y_test,model.predict(X_test))-1"
   ]
  },
  {
   "cell_type": "code",
   "execution_count": 34,
   "id": "5bfc4262",
   "metadata": {},
   "outputs": [
    {
     "name": "stdout",
     "output_type": "stream",
     "text": [
      "155/155 [==============================] - 0s 832us/step\n",
      "188/188 [==============================] - 0s 890us/step\n",
      "Train GINI:0.384, Test GINI:0.341\n"
     ]
    }
   ],
   "source": [
    "from sklearn.metrics import roc_auc_score\n",
    "\n",
    "test_gini = 2*roc_auc_score(y_test,model.predict(X_test))-1\n",
    "train_gini = 2*roc_auc_score(y_train,model.predict(X_train))-1\n",
    "\n",
    "print(f'Train GINI:{train_gini:0.3f}, Test GINI:{test_gini:0.3f}')"
   ]
  },
  {
   "cell_type": "code",
   "execution_count": 35,
   "id": "0e332ba6",
   "metadata": {
    "scrolled": true
   },
   "outputs": [
    {
     "name": "stderr",
     "output_type": "stream",
     "text": [
      "WARNING:absl:Found untraced functions such as _jit_compiled_convolution_op while saving (showing 1 of 1). These functions will not be directly callable after loading.\n"
     ]
    },
    {
     "name": "stdout",
     "output_type": "stream",
     "text": [
      "INFO:tensorflow:Assets written to: cnn_model\\assets\n"
     ]
    },
    {
     "name": "stderr",
     "output_type": "stream",
     "text": [
      "INFO:tensorflow:Assets written to: cnn_model\\assets\n"
     ]
    }
   ],
   "source": [
    "model.save('cnn_model')"
   ]
  },
  {
   "cell_type": "markdown",
   "id": "eccf67b3",
   "metadata": {},
   "source": [
    "Tops out at 0.35...."
   ]
  },
  {
   "cell_type": "code",
   "execution_count": 36,
   "id": "e5f0fc93",
   "metadata": {},
   "outputs": [
    {
     "name": "stdout",
     "output_type": "stream",
     "text": [
      "155/155 [==============================] - 0s 771us/step\n",
      "188/188 [==============================] - 0s 802us/step\n"
     ]
    }
   ],
   "source": [
    "from sklearn.metrics import roc_curve, auc\n",
    "\n",
    "fpr, tpr, _ = roc_curve(y_test, model.predict(X_test))\n",
    "fpr_train, tpr_train, _ = roc_curve(y_train, model.predict(X_train))"
   ]
  },
  {
   "cell_type": "code",
   "execution_count": 37,
   "id": "92531ae3",
   "metadata": {},
   "outputs": [
    {
     "name": "stdout",
     "output_type": "stream",
     "text": [
      "155/155 [==============================] - 0s 804us/step\n",
      "188/188 [==============================] - 0s 762us/step\n",
      "155/155 [==============================] - 0s 745us/step\n",
      "188/188 [==============================] - 0s 864us/step\n"
     ]
    },
    {
     "data": {
      "image/png": "[encoded data removed]",
      "text/plain": [
       "<Figure size 432x288 with 1 Axes>"
      ]
     },
     "metadata": {
      "needs_background": "light"
     },
     "output_type": "display_data"
    }
   ],
   "source": [
    "from sklearn.metrics import roc_curve, auc\n",
    "\n",
    "fpr, tpr, _ = roc_curve(y_test, model.predict(X_test))\n",
    "fpr_train, tpr_train, _ = roc_curve(y_train, model.predict(X_train))\n",
    "\n",
    "plt.figure()\n",
    "lw = 2\n",
    "roc = 2*roc_auc_score(y_test,model.predict(X_test))-1\n",
    "roc_train = 2*roc_auc_score(y_train,model.predict(X_train))-1\n",
    "\n",
    "plt.plot(\n",
    "    fpr,\n",
    "    tpr,\n",
    "    color=\"darkorange\",\n",
    "    lw=lw,\n",
    "    label=\"ROC curve (area = %0.2f)\" % roc,\n",
    ")\n",
    "\n",
    "plt.plot(\n",
    "    fpr_train,\n",
    "    tpr_train,\n",
    "    #color=\"darkorange\",\n",
    "    lw=lw,\n",
    "    label=\"ROC curve Train (area = %0.2f)\" % roc_train,\n",
    ")\n",
    "\n",
    "\n",
    "plt.plot([0, 1], [0, 1], color=\"navy\", lw=lw, linestyle=\"--\")\n",
    "plt.xlim([0.0, 1.0])\n",
    "plt.ylim([0.0, 1.05])\n",
    "plt.xlabel(\"False Positive Rate\")\n",
    "plt.ylabel(\"True Positive Rate\")\n",
    "plt.title(\"Receiver operating characteristic example\")\n",
    "plt.legend(loc=\"lower right\")\n",
    "plt.show()"
   ]
  },
  {
   "cell_type": "markdown",
   "id": "2f87040a",
   "metadata": {},
   "source": [
    "## 3.0 LTSM\n",
    "Not even sure this is right.."
   ]
  },
  {
   "cell_type": "code",
   "execution_count": 41,
   "id": "182ec9fb",
   "metadata": {},
   "outputs": [],
   "source": [
    "from tensorflow.keras.layers import LSTM\n",
    "from tensorflow import keras\n",
    "\n",
    "lookback = 20\n",
    "model = keras.Sequential([\n",
    "    keras.layers.LSTM(20,input_shape=(21,5)),\n",
    "    keras.layers.Dense(5),\n",
    "    keras.layers.Dense(1,activation='sigmoid')\n",
    "])"
   ]
  },
  {
   "cell_type": "code",
   "execution_count": 42,
   "id": "135e886b",
   "metadata": {},
   "outputs": [],
   "source": [
    "import tensorflow as tf\n",
    "\n",
    "metrics = [tf.metrics.AUC(name='auc')]\n",
    "\n",
    "model.compile(optimizer=keras.optimizers.Adam(1e-4),loss='binary_crossentropy',metrics=metrics)"
   ]
  },
  {
   "cell_type": "code",
   "execution_count": 43,
   "id": "46f33a0e",
   "metadata": {},
   "outputs": [],
   "source": [
    "callbacks = [keras.callbacks.EarlyStopping(patience=500,restore_best_weights=True)]"
   ]
  },
  {
   "cell_type": "code",
   "execution_count": 44,
   "id": "e8136b88",
   "metadata": {},
   "outputs": [
    {
     "name": "stdout",
     "output_type": "stream",
     "text": [
      "Epoch 1/100\n",
      "120/120 - 2s - loss: 0.2882 - auc: 0.4456 - val_loss: 0.2045 - val_auc: 0.4342 - 2s/epoch - 20ms/step\n",
      "Epoch 2/100\n",
      "120/120 - 1s - loss: 0.1624 - auc: 0.4637 - val_loss: 0.1670 - val_auc: 0.4307 - 588ms/epoch - 5ms/step\n",
      "Epoch 3/100\n",
      "120/120 - 1s - loss: 0.1427 - auc: 0.4415 - val_loss: 0.1631 - val_auc: 0.4478 - 628ms/epoch - 5ms/step\n",
      "Epoch 4/100\n",
      "120/120 - 1s - loss: 0.1391 - auc: 0.4530 - val_loss: 0.1621 - val_auc: 0.4892 - 574ms/epoch - 5ms/step\n",
      "Epoch 5/100\n",
      "120/120 - 1s - loss: 0.1377 - auc: 0.4791 - val_loss: 0.1609 - val_auc: 0.5048 - 577ms/epoch - 5ms/step\n",
      "Epoch 6/100\n",
      "120/120 - 1s - loss: 0.1367 - auc: 0.5173 - val_loss: 0.1605 - val_auc: 0.5274 - 585ms/epoch - 5ms/step\n",
      "Epoch 7/100\n",
      "120/120 - 1s - loss: 0.1361 - auc: 0.5260 - val_loss: 0.1593 - val_auc: 0.5614 - 575ms/epoch - 5ms/step\n",
      "Epoch 8/100\n",
      "120/120 - 1s - loss: 0.1354 - auc: 0.5667 - val_loss: 0.1593 - val_auc: 0.5598 - 587ms/epoch - 5ms/step\n",
      "Epoch 9/100\n",
      "120/120 - 1s - loss: 0.1350 - auc: 0.5777 - val_loss: 0.1589 - val_auc: 0.5783 - 573ms/epoch - 5ms/step\n",
      "Epoch 10/100\n",
      "120/120 - 1s - loss: 0.1348 - auc: 0.5706 - val_loss: 0.1582 - val_auc: 0.5897 - 592ms/epoch - 5ms/step\n",
      "Epoch 11/100\n",
      "120/120 - 1s - loss: 0.1344 - auc: 0.5885 - val_loss: 0.1582 - val_auc: 0.5953 - 584ms/epoch - 5ms/step\n",
      "Epoch 12/100\n",
      "120/120 - 1s - loss: 0.1341 - auc: 0.5990 - val_loss: 0.1584 - val_auc: 0.6044 - 576ms/epoch - 5ms/step\n",
      "Epoch 13/100\n",
      "120/120 - 1s - loss: 0.1338 - auc: 0.6021 - val_loss: 0.1578 - val_auc: 0.6012 - 577ms/epoch - 5ms/step\n",
      "Epoch 14/100\n",
      "120/120 - 1s - loss: 0.1337 - auc: 0.6022 - val_loss: 0.1582 - val_auc: 0.6089 - 578ms/epoch - 5ms/step\n",
      "Epoch 15/100\n",
      "120/120 - 1s - loss: 0.1336 - auc: 0.5998 - val_loss: 0.1577 - val_auc: 0.6060 - 562ms/epoch - 5ms/step\n",
      "Epoch 16/100\n",
      "120/120 - 1s - loss: 0.1333 - auc: 0.6077 - val_loss: 0.1575 - val_auc: 0.6112 - 595ms/epoch - 5ms/step\n",
      "Epoch 17/100\n",
      "120/120 - 1s - loss: 0.1332 - auc: 0.6093 - val_loss: 0.1572 - val_auc: 0.6175 - 615ms/epoch - 5ms/step\n",
      "Epoch 18/100\n",
      "120/120 - 1s - loss: 0.1332 - auc: 0.6136 - val_loss: 0.1572 - val_auc: 0.6179 - 615ms/epoch - 5ms/step\n",
      "Epoch 19/100\n",
      "120/120 - 1s - loss: 0.1330 - auc: 0.6156 - val_loss: 0.1573 - val_auc: 0.6139 - 606ms/epoch - 5ms/step\n",
      "Epoch 20/100\n",
      "120/120 - 1s - loss: 0.1329 - auc: 0.6136 - val_loss: 0.1569 - val_auc: 0.6203 - 591ms/epoch - 5ms/step\n",
      "Epoch 21/100\n",
      "120/120 - 1s - loss: 0.1328 - auc: 0.6230 - val_loss: 0.1578 - val_auc: 0.6249 - 588ms/epoch - 5ms/step\n",
      "Epoch 22/100\n",
      "120/120 - 1s - loss: 0.1328 - auc: 0.6136 - val_loss: 0.1574 - val_auc: 0.6181 - 583ms/epoch - 5ms/step\n",
      "Epoch 23/100\n",
      "120/120 - 1s - loss: 0.1329 - auc: 0.6211 - val_loss: 0.1570 - val_auc: 0.6263 - 579ms/epoch - 5ms/step\n",
      "Epoch 24/100\n",
      "120/120 - 1s - loss: 0.1327 - auc: 0.6185 - val_loss: 0.1568 - val_auc: 0.6287 - 572ms/epoch - 5ms/step\n",
      "Epoch 25/100\n",
      "120/120 - 1s - loss: 0.1325 - auc: 0.6238 - val_loss: 0.1573 - val_auc: 0.6209 - 595ms/epoch - 5ms/step\n",
      "Epoch 26/100\n",
      "120/120 - 1s - loss: 0.1325 - auc: 0.6249 - val_loss: 0.1567 - val_auc: 0.6336 - 598ms/epoch - 5ms/step\n",
      "Epoch 27/100\n",
      "120/120 - 1s - loss: 0.1324 - auc: 0.6271 - val_loss: 0.1565 - val_auc: 0.6272 - 604ms/epoch - 5ms/step\n",
      "Epoch 28/100\n",
      "120/120 - 1s - loss: 0.1322 - auc: 0.6267 - val_loss: 0.1570 - val_auc: 0.6270 - 596ms/epoch - 5ms/step\n",
      "Epoch 29/100\n",
      "120/120 - 1s - loss: 0.1321 - auc: 0.6344 - val_loss: 0.1564 - val_auc: 0.6358 - 633ms/epoch - 5ms/step\n",
      "Epoch 30/100\n",
      "120/120 - 1s - loss: 0.1320 - auc: 0.6357 - val_loss: 0.1558 - val_auc: 0.6314 - 579ms/epoch - 5ms/step\n",
      "Epoch 31/100\n",
      "120/120 - 1s - loss: 0.1321 - auc: 0.6268 - val_loss: 0.1559 - val_auc: 0.6397 - 588ms/epoch - 5ms/step\n",
      "Epoch 32/100\n",
      "120/120 - 1s - loss: 0.1319 - auc: 0.6266 - val_loss: 0.1558 - val_auc: 0.6441 - 601ms/epoch - 5ms/step\n",
      "Epoch 33/100\n",
      "120/120 - 1s - loss: 0.1318 - auc: 0.6356 - val_loss: 0.1556 - val_auc: 0.6401 - 613ms/epoch - 5ms/step\n",
      "Epoch 34/100\n",
      "120/120 - 1s - loss: 0.1318 - auc: 0.6388 - val_loss: 0.1558 - val_auc: 0.6536 - 591ms/epoch - 5ms/step\n",
      "Epoch 35/100\n",
      "120/120 - 1s - loss: 0.1317 - auc: 0.6401 - val_loss: 0.1563 - val_auc: 0.6446 - 596ms/epoch - 5ms/step\n",
      "Epoch 36/100\n",
      "120/120 - 1s - loss: 0.1318 - auc: 0.6371 - val_loss: 0.1562 - val_auc: 0.6445 - 583ms/epoch - 5ms/step\n",
      "Epoch 37/100\n",
      "120/120 - 1s - loss: 0.1316 - auc: 0.6526 - val_loss: 0.1558 - val_auc: 0.6474 - 618ms/epoch - 5ms/step\n",
      "Epoch 38/100\n",
      "120/120 - 1s - loss: 0.1315 - auc: 0.6514 - val_loss: 0.1558 - val_auc: 0.6539 - 619ms/epoch - 5ms/step\n",
      "Epoch 39/100\n",
      "120/120 - 1s - loss: 0.1315 - auc: 0.6454 - val_loss: 0.1554 - val_auc: 0.6392 - 592ms/epoch - 5ms/step\n",
      "Epoch 40/100\n",
      "120/120 - 1s - loss: 0.1315 - auc: 0.6467 - val_loss: 0.1552 - val_auc: 0.6456 - 593ms/epoch - 5ms/step\n",
      "Epoch 41/100\n",
      "120/120 - 1s - loss: 0.1314 - auc: 0.6563 - val_loss: 0.1561 - val_auc: 0.6445 - 597ms/epoch - 5ms/step\n",
      "Epoch 42/100\n",
      "120/120 - 1s - loss: 0.1314 - auc: 0.6528 - val_loss: 0.1556 - val_auc: 0.6586 - 601ms/epoch - 5ms/step\n",
      "Epoch 43/100\n",
      "120/120 - 1s - loss: 0.1313 - auc: 0.6534 - val_loss: 0.1554 - val_auc: 0.6442 - 569ms/epoch - 5ms/step\n",
      "Epoch 44/100\n",
      "120/120 - 1s - loss: 0.1313 - auc: 0.6489 - val_loss: 0.1564 - val_auc: 0.6489 - 568ms/epoch - 5ms/step\n",
      "Epoch 45/100\n",
      "120/120 - 1s - loss: 0.1314 - auc: 0.6488 - val_loss: 0.1555 - val_auc: 0.6578 - 570ms/epoch - 5ms/step\n",
      "Epoch 46/100\n",
      "120/120 - 1s - loss: 0.1312 - auc: 0.6561 - val_loss: 0.1549 - val_auc: 0.6443 - 579ms/epoch - 5ms/step\n",
      "Epoch 47/100\n",
      "120/120 - 1s - loss: 0.1313 - auc: 0.6438 - val_loss: 0.1550 - val_auc: 0.6523 - 570ms/epoch - 5ms/step\n",
      "Epoch 48/100\n",
      "120/120 - 1s - loss: 0.1311 - auc: 0.6557 - val_loss: 0.1551 - val_auc: 0.6522 - 567ms/epoch - 5ms/step\n",
      "Epoch 49/100\n",
      "120/120 - 1s - loss: 0.1311 - auc: 0.6550 - val_loss: 0.1561 - val_auc: 0.6500 - 567ms/epoch - 5ms/step\n",
      "Epoch 50/100\n",
      "120/120 - 1s - loss: 0.1313 - auc: 0.6529 - val_loss: 0.1554 - val_auc: 0.6547 - 572ms/epoch - 5ms/step\n",
      "Epoch 51/100\n",
      "120/120 - 1s - loss: 0.1312 - auc: 0.6609 - val_loss: 0.1558 - val_auc: 0.6521 - 565ms/epoch - 5ms/step\n",
      "Epoch 52/100\n",
      "120/120 - 1s - loss: 0.1310 - auc: 0.6620 - val_loss: 0.1551 - val_auc: 0.6456 - 571ms/epoch - 5ms/step\n",
      "Epoch 53/100\n",
      "120/120 - 1s - loss: 0.1310 - auc: 0.6579 - val_loss: 0.1550 - val_auc: 0.6514 - 610ms/epoch - 5ms/step\n",
      "Epoch 54/100\n",
      "120/120 - 1s - loss: 0.1311 - auc: 0.6571 - val_loss: 0.1550 - val_auc: 0.6541 - 596ms/epoch - 5ms/step\n",
      "Epoch 55/100\n",
      "120/120 - 1s - loss: 0.1310 - auc: 0.6578 - val_loss: 0.1553 - val_auc: 0.6584 - 614ms/epoch - 5ms/step\n",
      "Epoch 56/100\n",
      "120/120 - 1s - loss: 0.1309 - auc: 0.6589 - val_loss: 0.1552 - val_auc: 0.6550 - 597ms/epoch - 5ms/step\n",
      "Epoch 57/100\n",
      "120/120 - 1s - loss: 0.1308 - auc: 0.6651 - val_loss: 0.1552 - val_auc: 0.6539 - 604ms/epoch - 5ms/step\n",
      "Epoch 58/100\n",
      "120/120 - 1s - loss: 0.1309 - auc: 0.6677 - val_loss: 0.1547 - val_auc: 0.6495 - 599ms/epoch - 5ms/step\n",
      "Epoch 59/100\n",
      "120/120 - 1s - loss: 0.1311 - auc: 0.6531 - val_loss: 0.1549 - val_auc: 0.6559 - 574ms/epoch - 5ms/step\n",
      "Epoch 60/100\n",
      "120/120 - 1s - loss: 0.1308 - auc: 0.6707 - val_loss: 0.1547 - val_auc: 0.6551 - 601ms/epoch - 5ms/step\n",
      "Epoch 61/100\n",
      "120/120 - 1s - loss: 0.1306 - auc: 0.6743 - val_loss: 0.1546 - val_auc: 0.6496 - 588ms/epoch - 5ms/step\n",
      "Epoch 62/100\n",
      "120/120 - 1s - loss: 0.1307 - auc: 0.6599 - val_loss: 0.1546 - val_auc: 0.6491 - 576ms/epoch - 5ms/step\n",
      "Epoch 63/100\n",
      "120/120 - 1s - loss: 0.1307 - auc: 0.6643 - val_loss: 0.1551 - val_auc: 0.6533 - 574ms/epoch - 5ms/step\n",
      "Epoch 64/100\n",
      "120/120 - 1s - loss: 0.1306 - auc: 0.6664 - val_loss: 0.1557 - val_auc: 0.6569 - 568ms/epoch - 5ms/step\n",
      "Epoch 65/100\n",
      "120/120 - 1s - loss: 0.1306 - auc: 0.6724 - val_loss: 0.1549 - val_auc: 0.6544 - 560ms/epoch - 5ms/step\n",
      "Epoch 66/100\n",
      "120/120 - 1s - loss: 0.1304 - auc: 0.6743 - val_loss: 0.1549 - val_auc: 0.6558 - 572ms/epoch - 5ms/step\n",
      "Epoch 67/100\n",
      "120/120 - 1s - loss: 0.1306 - auc: 0.6713 - val_loss: 0.1549 - val_auc: 0.6549 - 567ms/epoch - 5ms/step\n",
      "Epoch 68/100\n",
      "120/120 - 1s - loss: 0.1304 - auc: 0.6799 - val_loss: 0.1547 - val_auc: 0.6589 - 566ms/epoch - 5ms/step\n",
      "Epoch 69/100\n",
      "120/120 - 1s - loss: 0.1305 - auc: 0.6684 - val_loss: 0.1550 - val_auc: 0.6592 - 567ms/epoch - 5ms/step\n",
      "Epoch 70/100\n",
      "120/120 - 1s - loss: 0.1302 - auc: 0.6771 - val_loss: 0.1545 - val_auc: 0.6607 - 582ms/epoch - 5ms/step\n",
      "Epoch 71/100\n",
      "120/120 - 1s - loss: 0.1304 - auc: 0.6709 - val_loss: 0.1552 - val_auc: 0.6630 - 589ms/epoch - 5ms/step\n"
     ]
    },
    {
     "name": "stdout",
     "output_type": "stream",
     "text": [
      "Epoch 72/100\n",
      "120/120 - 1s - loss: 0.1304 - auc: 0.6702 - val_loss: 0.1547 - val_auc: 0.6601 - 572ms/epoch - 5ms/step\n",
      "Epoch 73/100\n",
      "120/120 - 1s - loss: 0.1303 - auc: 0.6728 - val_loss: 0.1546 - val_auc: 0.6596 - 575ms/epoch - 5ms/step\n",
      "Epoch 74/100\n",
      "120/120 - 1s - loss: 0.1305 - auc: 0.6684 - val_loss: 0.1544 - val_auc: 0.6552 - 566ms/epoch - 5ms/step\n",
      "Epoch 75/100\n",
      "120/120 - 1s - loss: 0.1301 - auc: 0.6783 - val_loss: 0.1545 - val_auc: 0.6553 - 567ms/epoch - 5ms/step\n",
      "Epoch 76/100\n",
      "120/120 - 1s - loss: 0.1299 - auc: 0.6812 - val_loss: 0.1546 - val_auc: 0.6612 - 568ms/epoch - 5ms/step\n",
      "Epoch 77/100\n",
      "120/120 - 1s - loss: 0.1300 - auc: 0.6759 - val_loss: 0.1549 - val_auc: 0.6589 - 574ms/epoch - 5ms/step\n",
      "Epoch 78/100\n",
      "120/120 - 1s - loss: 0.1299 - auc: 0.6817 - val_loss: 0.1543 - val_auc: 0.6593 - 571ms/epoch - 5ms/step\n",
      "Epoch 79/100\n",
      "120/120 - 1s - loss: 0.1298 - auc: 0.6797 - val_loss: 0.1552 - val_auc: 0.6572 - 572ms/epoch - 5ms/step\n",
      "Epoch 80/100\n",
      "120/120 - 1s - loss: 0.1298 - auc: 0.6828 - val_loss: 0.1549 - val_auc: 0.6603 - 571ms/epoch - 5ms/step\n",
      "Epoch 81/100\n",
      "120/120 - 1s - loss: 0.1299 - auc: 0.6845 - val_loss: 0.1550 - val_auc: 0.6571 - 568ms/epoch - 5ms/step\n",
      "Epoch 82/100\n",
      "120/120 - 1s - loss: 0.1295 - auc: 0.6886 - val_loss: 0.1544 - val_auc: 0.6550 - 569ms/epoch - 5ms/step\n",
      "Epoch 83/100\n",
      "120/120 - 1s - loss: 0.1296 - auc: 0.6872 - val_loss: 0.1550 - val_auc: 0.6564 - 568ms/epoch - 5ms/step\n",
      "Epoch 84/100\n",
      "120/120 - 1s - loss: 0.1295 - auc: 0.6899 - val_loss: 0.1547 - val_auc: 0.6575 - 568ms/epoch - 5ms/step\n",
      "Epoch 85/100\n",
      "120/120 - 1s - loss: 0.1296 - auc: 0.6852 - val_loss: 0.1544 - val_auc: 0.6556 - 564ms/epoch - 5ms/step\n",
      "Epoch 86/100\n",
      "120/120 - 1s - loss: 0.1295 - auc: 0.6853 - val_loss: 0.1544 - val_auc: 0.6575 - 565ms/epoch - 5ms/step\n",
      "Epoch 87/100\n",
      "120/120 - 1s - loss: 0.1297 - auc: 0.6825 - val_loss: 0.1545 - val_auc: 0.6545 - 568ms/epoch - 5ms/step\n",
      "Epoch 88/100\n",
      "120/120 - 1s - loss: 0.1294 - auc: 0.6863 - val_loss: 0.1549 - val_auc: 0.6597 - 563ms/epoch - 5ms/step\n",
      "Epoch 89/100\n",
      "120/120 - 1s - loss: 0.1293 - auc: 0.6864 - val_loss: 0.1550 - val_auc: 0.6616 - 565ms/epoch - 5ms/step\n",
      "Epoch 90/100\n",
      "120/120 - 1s - loss: 0.1294 - auc: 0.6895 - val_loss: 0.1549 - val_auc: 0.6607 - 568ms/epoch - 5ms/step\n",
      "Epoch 91/100\n",
      "120/120 - 1s - loss: 0.1294 - auc: 0.6843 - val_loss: 0.1552 - val_auc: 0.6570 - 567ms/epoch - 5ms/step\n",
      "Epoch 92/100\n",
      "120/120 - 1s - loss: 0.1295 - auc: 0.6859 - val_loss: 0.1551 - val_auc: 0.6550 - 569ms/epoch - 5ms/step\n",
      "Epoch 93/100\n",
      "120/120 - 1s - loss: 0.1294 - auc: 0.6878 - val_loss: 0.1554 - val_auc: 0.6550 - 572ms/epoch - 5ms/step\n",
      "Epoch 94/100\n",
      "120/120 - 1s - loss: 0.1291 - auc: 0.6922 - val_loss: 0.1546 - val_auc: 0.6544 - 570ms/epoch - 5ms/step\n",
      "Epoch 95/100\n",
      "120/120 - 1s - loss: 0.1293 - auc: 0.6894 - val_loss: 0.1547 - val_auc: 0.6571 - 568ms/epoch - 5ms/step\n",
      "Epoch 96/100\n",
      "120/120 - 1s - loss: 0.1291 - auc: 0.6888 - val_loss: 0.1547 - val_auc: 0.6524 - 569ms/epoch - 5ms/step\n",
      "Epoch 97/100\n",
      "120/120 - 1s - loss: 0.1291 - auc: 0.6906 - val_loss: 0.1548 - val_auc: 0.6542 - 562ms/epoch - 5ms/step\n",
      "Epoch 98/100\n",
      "120/120 - 1s - loss: 0.1296 - auc: 0.6834 - val_loss: 0.1562 - val_auc: 0.6548 - 570ms/epoch - 5ms/step\n",
      "Epoch 99/100\n",
      "120/120 - 1s - loss: 0.1291 - auc: 0.6882 - val_loss: 0.1552 - val_auc: 0.6526 - 564ms/epoch - 5ms/step\n",
      "Epoch 100/100\n",
      "120/120 - 1s - loss: 0.1292 - auc: 0.6913 - val_loss: 0.1549 - val_auc: 0.6510 - 567ms/epoch - 5ms/step\n"
     ]
    }
   ],
   "source": [
    "history = model.fit(X_train,y_train,batch_size=50,epochs=100,verbose=2,validation_data=(X_test,y_test))"
   ]
  },
  {
   "cell_type": "code",
   "execution_count": 45,
   "id": "7a12312e",
   "metadata": {},
   "outputs": [
    {
     "data": {
      "image/png": "[encoded data removed]",
      "text/plain": [
       "<Figure size 432x288 with 1 Axes>"
      ]
     },
     "metadata": {
      "needs_background": "light"
     },
     "output_type": "display_data"
    }
   ],
   "source": [
    "from matplotlib import pyplot as plt\n",
    "metric = 'auc'\n",
    "plt.figure()\n",
    "plt.plot(history.history[metric])\n",
    "plt.plot(history.history['val_'+metric])\n",
    "plt.title('model '+metric)\n",
    "plt.ylabel(metric,fontsize='large')\n",
    "plt.xlabel('epoch',fontsize='large')\n",
    "plt.legend(['train','val'],loc='best')\n",
    "plt.show()"
   ]
  },
  {
   "cell_type": "code",
   "execution_count": 46,
   "id": "9c2527ec",
   "metadata": {},
   "outputs": [
    {
     "name": "stdout",
     "output_type": "stream",
     "text": [
      "155/155 [==============================] - 1s 2ms/step\n",
      "188/188 [==============================] - 0s 2ms/step\n",
      "Train GINI:0.401, Test GINI:0.307\n"
     ]
    }
   ],
   "source": [
    "from sklearn.metrics import roc_auc_score\n",
    "\n",
    "test_gini = 2*roc_auc_score(y_test,model.predict(X_test))-1\n",
    "train_gini = 2*roc_auc_score(y_train,model.predict(X_train))-1\n",
    "\n",
    "print(f'Train GINI:{train_gini:0.3f}, Test GINI:{test_gini:0.3f}')"
   ]
  },
  {
   "cell_type": "code",
   "execution_count": 47,
   "id": "d406ec9c",
   "metadata": {},
   "outputs": [
    {
     "name": "stdout",
     "output_type": "stream",
     "text": [
      "155/155 [==============================] - 0s 2ms/step\n",
      "188/188 [==============================] - 0s 1ms/step\n",
      "155/155 [==============================] - 0s 2ms/step\n",
      "188/188 [==============================] - 0s 2ms/step\n"
     ]
    },
    {
     "data": {
      "image/png": "[encoded data removed]",
      "text/plain": [
       "<Figure size 432x288 with 1 Axes>"
      ]
     },
     "metadata": {
      "needs_background": "light"
     },
     "output_type": "display_data"
    }
   ],
   "source": [
    "from sklearn.metrics import roc_curve, auc\n",
    "\n",
    "fpr, tpr, _ = roc_curve(y_test, model.predict(X_test))\n",
    "fpr_train, tpr_train, _ = roc_curve(y_train, model.predict(X_train))\n",
    "\n",
    "plt.figure()\n",
    "lw = 2\n",
    "roc = 2*roc_auc_score(y_test,model.predict(X_test))-1\n",
    "roc_train = 2*roc_auc_score(y_train,model.predict(X_train))-1\n",
    "\n",
    "plt.plot(\n",
    "    fpr,\n",
    "    tpr,\n",
    "    color=\"darkorange\",\n",
    "    lw=lw,\n",
    "    label=\"ROC curve (area = %0.2f)\" % roc,\n",
    ")\n",
    "\n",
    "plt.plot(\n",
    "    fpr_train,\n",
    "    tpr_train,\n",
    "    #color=\"darkorange\",\n",
    "    lw=lw,\n",
    "    label=\"ROC curve Train (area = %0.2f)\" % roc_train,\n",
    ")\n",
    "\n",
    "\n",
    "plt.plot([0, 1], [0, 1], color=\"navy\", lw=lw, linestyle=\"--\")\n",
    "plt.xlim([0.0, 1.0])\n",
    "plt.ylim([0.0, 1.05])\n",
    "plt.xlabel(\"False Positive Rate\")\n",
    "plt.ylabel(\"True Positive Rate\")\n",
    "plt.title(\"Receiver operating characteristic example\")\n",
    "plt.legend(loc=\"lower right\")\n",
    "plt.show()"
   ]
  },
  {
   "cell_type": "markdown",
   "id": "db0567d0",
   "metadata": {},
   "source": [
    "## 4.0 Conv2D image\n",
    "The image is essentialy the plot of the highs, lows, close, and open. Need to do some manipulation here."
   ]
  },
  {
   "cell_type": "code",
   "execution_count": 48,
   "id": "54189d90",
   "metadata": {},
   "outputs": [
    {
     "data": {
      "text/plain": [
       "(6000, 21, 5)"
      ]
     },
     "execution_count": 48,
     "metadata": {},
     "output_type": "execute_result"
    }
   ],
   "source": [
    "X_train.shape"
   ]
  },
  {
   "cell_type": "code",
   "execution_count": 260,
   "id": "a515c4d1",
   "metadata": {},
   "outputs": [
    {
     "data": {
      "image/png": "[encoded data removed]",
      "text/plain": [
       "<Figure size 432x288 with 1 Axes>"
      ]
     },
     "metadata": {
      "needs_background": "light"
     },
     "output_type": "display_data"
    }
   ],
   "source": [
    "plt.plot(X_train[-1,:,1])\n",
    "plt.show()"
   ]
  },
  {
   "cell_type": "code",
   "execution_count": 252,
   "id": "ede0ac6a",
   "metadata": {},
   "outputs": [
    {
     "data": {
      "text/plain": [
       "array([0.99832505, 0.99769694, 0.9983041 , 0.9981785 , 0.9984298 ,\n",
       "       0.9981785 , 0.9982622 , 0.9982413 , 0.99895316, 0.9992044 ,\n",
       "       0.9990369 , 0.99909973, 0.99951845, 0.99945563, 0.9997697 ,\n",
       "       0.9999372 , 0.9999372 , 1.0000838 , 0.9999581 , 1.0001885 ,\n",
       "       1.        ], dtype=float32)"
      ]
     },
     "execution_count": 252,
     "metadata": {},
     "output_type": "execute_result"
    }
   ],
   "source": [
    "X_train[0,:,1].ravel()"
   ]
  },
  {
   "cell_type": "code",
   "execution_count": 61,
   "id": "ae150117",
   "metadata": {},
   "outputs": [
    {
     "data": {
      "text/plain": [
       "21"
      ]
     },
     "execution_count": 61,
     "metadata": {},
     "output_type": "execute_result"
    }
   ],
   "source": [
    "levels = np.arange(0.9,1.1,0.01)\n",
    "len(levels)"
   ]
  },
  {
   "cell_type": "code",
   "execution_count": 241,
   "id": "3d227685",
   "metadata": {},
   "outputs": [],
   "source": [
    "levels = np.arange(0.996,1.001,0.0001)\n",
    "levels = [-np.inf]+levels.tolist()+[np.inf]\n",
    "n_levels = len(levels)\n",
    "labels = np.arange(n_levels-1)\n",
    "\n",
    "Y = pd.cut(X_train[0,:,1],levels,labels=labels[::-1])\n",
    "\n",
    "y_resolution = len(levels)\n",
    "X = np.arange(0,len(X_train[0,:,1]))\n",
    "\n",
    "blank = np.zeros( (n_levels,21))\n",
    "for n,(x,y) in enumerate(zip(X,Y)):\n",
    "    blank[y,x] = X_train[0,:,1][n]"
   ]
  },
  {
   "cell_type": "code",
   "execution_count": 322,
   "id": "9b532dff",
   "metadata": {},
   "outputs": [],
   "source": [
    "def convert_time_series_img(series,lower_bound,upper_bound,resolution):\n",
    "    \n",
    "    series = series.ravel()\n",
    "    levels = np.arange(lower_bound,upper_bound,resolution)\n",
    "    levels = [-np.inf]+levels.tolist()+[np.inf]\n",
    "    n_levels = len(levels)\n",
    "    labels = np.arange(n_levels-1)\n",
    "    Y = pd.cut(series,levels,labels=labels[::-1])\n",
    "    \n",
    "    y_resolution = len(levels)\n",
    "    X = np.arange(0,len(series))\n",
    "    \n",
    "    blank = np.zeros( (n_levels,21))\n",
    "    for n,(x,y) in enumerate(zip(X,Y)):\n",
    "        #blank[y,x] = series[n]\n",
    "        blank[y,x] = 255\n",
    "        \n",
    "    return blank"
   ]
  },
  {
   "cell_type": "code",
   "execution_count": 328,
   "id": "e074d946",
   "metadata": {},
   "outputs": [],
   "source": [
    "def plot_time_series(series):\n",
    "    np_img = convert_time_series_img(series,0.996,1.004,0.0001)\n",
    "    fig, axes = plt.subplots(figsize=(10,5))\n",
    "    axes.imshow(np_img)\n",
    "    plt.show()"
   ]
  },
  {
   "cell_type": "code",
   "execution_count": 329,
   "id": "35a4ce0f",
   "metadata": {},
   "outputs": [
    {
     "data": {
      "image/png": "[encoded data removed]",
      "text/plain": [
       "<Figure size 720x360 with 1 Axes>"
      ]
     },
     "metadata": {
      "needs_background": "light"
     },
     "output_type": "display_data"
    }
   ],
   "source": [
    "plot_time_series(X_train[0,:,1])"
   ]
  },
  {
   "cell_type": "code",
   "execution_count": 330,
   "id": "8cdf8474",
   "metadata": {},
   "outputs": [
    {
     "data": {
      "image/png": "[encoded data removed]",
      "text/plain": [
       "<Figure size 720x360 with 1 Axes>"
      ]
     },
     "metadata": {
      "needs_background": "light"
     },
     "output_type": "display_data"
    }
   ],
   "source": [
    "plot_time_series(X_train[20,:,1])"
   ]
  },
  {
   "cell_type": "code",
   "execution_count": 338,
   "id": "3a46726d",
   "metadata": {},
   "outputs": [],
   "source": [
    "imgs = [convert_time_series_img(X_train[x,:,1],0.995,1.005,0.0001) for x in range(len(X_train))]"
   ]
  },
  {
   "cell_type": "code",
   "execution_count": 339,
   "id": "d105a2a1",
   "metadata": {},
   "outputs": [],
   "source": [
    "import numpy as np\n",
    "from PIL import Image\n",
    "\n",
    "imgs = [convert_time_series_img(X_train[x,:,1],0.997,1.003,0.0001) for x in range(len(X_train))]\n",
    "imgs = [Image.fromarray(img) for img in imgs]\n",
    "# duration is the number of milliseconds between frames; this is 40 frames per second\n",
    "imgs[0].save(\"array.gif\", save_all=True, append_images=imgs[1:], duration=50, loop=0)"
   ]
  },
  {
   "cell_type": "markdown",
   "id": "e52fe1f3",
   "metadata": {},
   "source": [
    "Hoooooo-rah!!!! Looks like its working.\n",
    "\n",
    "![SegmentLocal](array.gif \"segment\")"
   ]
  },
  {
   "cell_type": "markdown",
   "id": "33e5990f",
   "metadata": {},
   "source": [
    "## 5.0 LTSM with Conv 1D"
   ]
  },
  {
   "cell_type": "code",
   "execution_count": 122,
   "id": "053e0ef0",
   "metadata": {},
   "outputs": [
    {
     "ename": "ValueError",
     "evalue": "Input 0 of layer \"conv_lstm1d_11\" is incompatible with the layer: expected ndim=4, found ndim=3. Full shape received: (None, 21, 5)",
     "output_type": "error",
     "traceback": [
      "\u001b[1;31m---------------------------------------------------------------------------\u001b[0m",
      "\u001b[1;31mValueError\u001b[0m                                Traceback (most recent call last)",
      "\u001b[1;32m~\\AppData\\Local\\Temp/ipykernel_12152/3469064385.py\u001b[0m in \u001b[0;36m<module>\u001b[1;34m\u001b[0m\n\u001b[0;32m      3\u001b[0m \u001b[1;33m\u001b[0m\u001b[0m\n\u001b[0;32m      4\u001b[0m \u001b[0mlookback\u001b[0m \u001b[1;33m=\u001b[0m \u001b[1;36m20\u001b[0m\u001b[1;33m\u001b[0m\u001b[1;33m\u001b[0m\u001b[0m\n\u001b[1;32m----> 5\u001b[1;33m model = keras.Sequential([\n\u001b[0m\u001b[0;32m      6\u001b[0m     keras.layers.ConvLSTM1D(36,3,\n\u001b[0;32m      7\u001b[0m                         \u001b[0mactivation\u001b[0m\u001b[1;33m=\u001b[0m\u001b[1;34m'sigmoid'\u001b[0m\u001b[1;33m,\u001b[0m\u001b[1;33m\u001b[0m\u001b[1;33m\u001b[0m\u001b[0m\n",
      "\u001b[1;32m~\\anaconda3\\envs\\stonks\\lib\\site-packages\\tensorflow\\python\\training\\tracking\\base.py\u001b[0m in \u001b[0;36m_method_wrapper\u001b[1;34m(self, *args, **kwargs)\u001b[0m\n\u001b[0;32m    585\u001b[0m     \u001b[0mself\u001b[0m\u001b[1;33m.\u001b[0m\u001b[0m_self_setattr_tracking\u001b[0m \u001b[1;33m=\u001b[0m \u001b[1;32mFalse\u001b[0m  \u001b[1;31m# pylint: disable=protected-access\u001b[0m\u001b[1;33m\u001b[0m\u001b[1;33m\u001b[0m\u001b[0m\n\u001b[0;32m    586\u001b[0m     \u001b[1;32mtry\u001b[0m\u001b[1;33m:\u001b[0m\u001b[1;33m\u001b[0m\u001b[1;33m\u001b[0m\u001b[0m\n\u001b[1;32m--> 587\u001b[1;33m       \u001b[0mresult\u001b[0m \u001b[1;33m=\u001b[0m \u001b[0mmethod\u001b[0m\u001b[1;33m(\u001b[0m\u001b[0mself\u001b[0m\u001b[1;33m,\u001b[0m \u001b[1;33m*\u001b[0m\u001b[0margs\u001b[0m\u001b[1;33m,\u001b[0m \u001b[1;33m**\u001b[0m\u001b[0mkwargs\u001b[0m\u001b[1;33m)\u001b[0m\u001b[1;33m\u001b[0m\u001b[1;33m\u001b[0m\u001b[0m\n\u001b[0m\u001b[0;32m    588\u001b[0m     \u001b[1;32mfinally\u001b[0m\u001b[1;33m:\u001b[0m\u001b[1;33m\u001b[0m\u001b[1;33m\u001b[0m\u001b[0m\n\u001b[0;32m    589\u001b[0m       \u001b[0mself\u001b[0m\u001b[1;33m.\u001b[0m\u001b[0m_self_setattr_tracking\u001b[0m \u001b[1;33m=\u001b[0m \u001b[0mprevious_value\u001b[0m  \u001b[1;31m# pylint: disable=protected-access\u001b[0m\u001b[1;33m\u001b[0m\u001b[1;33m\u001b[0m\u001b[0m\n",
      "\u001b[1;32m~\\anaconda3\\envs\\stonks\\lib\\site-packages\\keras\\utils\\traceback_utils.py\u001b[0m in \u001b[0;36merror_handler\u001b[1;34m(*args, **kwargs)\u001b[0m\n\u001b[0;32m     65\u001b[0m     \u001b[1;32mexcept\u001b[0m \u001b[0mException\u001b[0m \u001b[1;32mas\u001b[0m \u001b[0me\u001b[0m\u001b[1;33m:\u001b[0m  \u001b[1;31m# pylint: disable=broad-except\u001b[0m\u001b[1;33m\u001b[0m\u001b[1;33m\u001b[0m\u001b[0m\n\u001b[0;32m     66\u001b[0m       \u001b[0mfiltered_tb\u001b[0m \u001b[1;33m=\u001b[0m \u001b[0m_process_traceback_frames\u001b[0m\u001b[1;33m(\u001b[0m\u001b[0me\u001b[0m\u001b[1;33m.\u001b[0m\u001b[0m__traceback__\u001b[0m\u001b[1;33m)\u001b[0m\u001b[1;33m\u001b[0m\u001b[1;33m\u001b[0m\u001b[0m\n\u001b[1;32m---> 67\u001b[1;33m       \u001b[1;32mraise\u001b[0m \u001b[0me\u001b[0m\u001b[1;33m.\u001b[0m\u001b[0mwith_traceback\u001b[0m\u001b[1;33m(\u001b[0m\u001b[0mfiltered_tb\u001b[0m\u001b[1;33m)\u001b[0m \u001b[1;32mfrom\u001b[0m \u001b[1;32mNone\u001b[0m\u001b[1;33m\u001b[0m\u001b[1;33m\u001b[0m\u001b[0m\n\u001b[0m\u001b[0;32m     68\u001b[0m     \u001b[1;32mfinally\u001b[0m\u001b[1;33m:\u001b[0m\u001b[1;33m\u001b[0m\u001b[1;33m\u001b[0m\u001b[0m\n\u001b[0;32m     69\u001b[0m       \u001b[1;32mdel\u001b[0m \u001b[0mfiltered_tb\u001b[0m\u001b[1;33m\u001b[0m\u001b[1;33m\u001b[0m\u001b[0m\n",
      "\u001b[1;32m~\\anaconda3\\envs\\stonks\\lib\\site-packages\\keras\\engine\\input_spec.py\u001b[0m in \u001b[0;36massert_input_compatibility\u001b[1;34m(input_spec, inputs, layer_name)\u001b[0m\n\u001b[0;32m    212\u001b[0m       \u001b[0mndim\u001b[0m \u001b[1;33m=\u001b[0m \u001b[0mshape\u001b[0m\u001b[1;33m.\u001b[0m\u001b[0mrank\u001b[0m\u001b[1;33m\u001b[0m\u001b[1;33m\u001b[0m\u001b[0m\n\u001b[0;32m    213\u001b[0m       \u001b[1;32mif\u001b[0m \u001b[0mndim\u001b[0m \u001b[1;33m!=\u001b[0m \u001b[0mspec\u001b[0m\u001b[1;33m.\u001b[0m\u001b[0mndim\u001b[0m\u001b[1;33m:\u001b[0m\u001b[1;33m\u001b[0m\u001b[1;33m\u001b[0m\u001b[0m\n\u001b[1;32m--> 214\u001b[1;33m         raise ValueError(f'Input {input_index} of layer \"{layer_name}\" '\n\u001b[0m\u001b[0;32m    215\u001b[0m                          \u001b[1;34m'is incompatible with the layer: '\u001b[0m\u001b[1;33m\u001b[0m\u001b[1;33m\u001b[0m\u001b[0m\n\u001b[0;32m    216\u001b[0m                          \u001b[1;34mf'expected ndim={spec.ndim}, found ndim={ndim}. '\u001b[0m\u001b[1;33m\u001b[0m\u001b[1;33m\u001b[0m\u001b[0m\n",
      "\u001b[1;31mValueError\u001b[0m: Input 0 of layer \"conv_lstm1d_11\" is incompatible with the layer: expected ndim=4, found ndim=3. Full shape received: (None, 21, 5)"
     ]
    }
   ],
   "source": [
    "from tensorflow.keras.layers import LSTM\n",
    "from tensorflow import keras\n",
    "\n",
    "lookback = 20\n",
    "model = keras.Sequential([\n",
    "    keras.layers.ConvLSTM1D(36,3,\n",
    "                        activation='sigmoid',\n",
    "                        input_shape=(X_train.shape[1],X_train.shape[2]),padding=\"valid\",\n",
    "                        kernel_regularizer=tf.keras.regularizers.l2(l=.05)),\n",
    "    #keras.layers.Conv1D(3,3,activation='relu'),\n",
    "    #keras.layers.BatchNormalization(),\n",
    "    #keras.layers.MaxPooling1D(2),    \n",
    "    keras.layers.Flatten(),\n",
    "    keras.layers.Dense(5),\n",
    "    keras.layers.Dense(1,activation='sigmoid')\n",
    "])\n",
    "\n",
    "model.summary()"
   ]
  },
  {
   "cell_type": "code",
   "execution_count": 123,
   "id": "341c5ff3",
   "metadata": {},
   "outputs": [],
   "source": [
    "import tensorflow as tf\n",
    "\n",
    "metrics = [tf.metrics.AUC(name='auc')]\n",
    "\n",
    "model.compile(optimizer=keras.optimizers.Adam(1e-4),loss='binary_crossentropy',metrics=metrics)"
   ]
  },
  {
   "cell_type": "code",
   "execution_count": 124,
   "id": "948a2a8f",
   "metadata": {},
   "outputs": [],
   "source": [
    "callbacks = [keras.callbacks.EarlyStopping(patience=500,restore_best_weights=True)]"
   ]
  },
  {
   "cell_type": "code",
   "execution_count": 125,
   "id": "bd29f849",
   "metadata": {},
   "outputs": [
    {
     "name": "stdout",
     "output_type": "stream",
     "text": [
      "Epoch 1/100\n"
     ]
    },
    {
     "ename": "ValueError",
     "evalue": "in user code:\n\n    File \"C:\\Users\\cemly\\anaconda3\\envs\\stonks\\lib\\site-packages\\keras\\engine\\training.py\", line 1051, in train_function  *\n        return step_function(self, iterator)\n    File \"C:\\Users\\cemly\\anaconda3\\envs\\stonks\\lib\\site-packages\\keras\\engine\\training.py\", line 1040, in step_function  **\n        outputs = model.distribute_strategy.run(run_step, args=(data,))\n    File \"C:\\Users\\cemly\\anaconda3\\envs\\stonks\\lib\\site-packages\\keras\\engine\\training.py\", line 1030, in run_step  **\n        outputs = model.train_step(data)\n    File \"C:\\Users\\cemly\\anaconda3\\envs\\stonks\\lib\\site-packages\\keras\\engine\\training.py\", line 889, in train_step\n        y_pred = self(x, training=True)\n    File \"C:\\Users\\cemly\\anaconda3\\envs\\stonks\\lib\\site-packages\\keras\\utils\\traceback_utils.py\", line 67, in error_handler\n        raise e.with_traceback(filtered_tb) from None\n    File \"C:\\Users\\cemly\\anaconda3\\envs\\stonks\\lib\\site-packages\\keras\\engine\\input_spec.py\", line 264, in assert_input_compatibility\n        raise ValueError(f'Input {input_index} of layer \"{layer_name}\" is '\n\n    ValueError: Input 0 of layer \"sequential_22\" is incompatible with the layer: expected shape=(None, None, 21, 5), found shape=(50, 21, 5)\n",
     "output_type": "error",
     "traceback": [
      "\u001b[1;31m---------------------------------------------------------------------------\u001b[0m",
      "\u001b[1;31mValueError\u001b[0m                                Traceback (most recent call last)",
      "\u001b[1;32m~\\AppData\\Local\\Temp/ipykernel_12152/3512565376.py\u001b[0m in \u001b[0;36m<module>\u001b[1;34m\u001b[0m\n\u001b[1;32m----> 1\u001b[1;33m \u001b[0mhistory\u001b[0m \u001b[1;33m=\u001b[0m \u001b[0mmodel\u001b[0m\u001b[1;33m.\u001b[0m\u001b[0mfit\u001b[0m\u001b[1;33m(\u001b[0m\u001b[0mX_train\u001b[0m\u001b[1;33m,\u001b[0m\u001b[0my_train\u001b[0m\u001b[1;33m,\u001b[0m\u001b[0mbatch_size\u001b[0m\u001b[1;33m=\u001b[0m\u001b[1;36m50\u001b[0m\u001b[1;33m,\u001b[0m\u001b[0mepochs\u001b[0m\u001b[1;33m=\u001b[0m\u001b[1;36m100\u001b[0m\u001b[1;33m,\u001b[0m\u001b[0mverbose\u001b[0m\u001b[1;33m=\u001b[0m\u001b[1;36m2\u001b[0m\u001b[1;33m,\u001b[0m\u001b[0mvalidation_data\u001b[0m\u001b[1;33m=\u001b[0m\u001b[1;33m(\u001b[0m\u001b[0mX_test\u001b[0m\u001b[1;33m,\u001b[0m\u001b[0my_test\u001b[0m\u001b[1;33m)\u001b[0m\u001b[1;33m)\u001b[0m\u001b[1;33m\u001b[0m\u001b[1;33m\u001b[0m\u001b[0m\n\u001b[0m",
      "\u001b[1;32m~\\anaconda3\\envs\\stonks\\lib\\site-packages\\keras\\utils\\traceback_utils.py\u001b[0m in \u001b[0;36merror_handler\u001b[1;34m(*args, **kwargs)\u001b[0m\n\u001b[0;32m     65\u001b[0m     \u001b[1;32mexcept\u001b[0m \u001b[0mException\u001b[0m \u001b[1;32mas\u001b[0m \u001b[0me\u001b[0m\u001b[1;33m:\u001b[0m  \u001b[1;31m# pylint: disable=broad-except\u001b[0m\u001b[1;33m\u001b[0m\u001b[1;33m\u001b[0m\u001b[0m\n\u001b[0;32m     66\u001b[0m       \u001b[0mfiltered_tb\u001b[0m \u001b[1;33m=\u001b[0m \u001b[0m_process_traceback_frames\u001b[0m\u001b[1;33m(\u001b[0m\u001b[0me\u001b[0m\u001b[1;33m.\u001b[0m\u001b[0m__traceback__\u001b[0m\u001b[1;33m)\u001b[0m\u001b[1;33m\u001b[0m\u001b[1;33m\u001b[0m\u001b[0m\n\u001b[1;32m---> 67\u001b[1;33m       \u001b[1;32mraise\u001b[0m \u001b[0me\u001b[0m\u001b[1;33m.\u001b[0m\u001b[0mwith_traceback\u001b[0m\u001b[1;33m(\u001b[0m\u001b[0mfiltered_tb\u001b[0m\u001b[1;33m)\u001b[0m \u001b[1;32mfrom\u001b[0m \u001b[1;32mNone\u001b[0m\u001b[1;33m\u001b[0m\u001b[1;33m\u001b[0m\u001b[0m\n\u001b[0m\u001b[0;32m     68\u001b[0m     \u001b[1;32mfinally\u001b[0m\u001b[1;33m:\u001b[0m\u001b[1;33m\u001b[0m\u001b[1;33m\u001b[0m\u001b[0m\n\u001b[0;32m     69\u001b[0m       \u001b[1;32mdel\u001b[0m \u001b[0mfiltered_tb\u001b[0m\u001b[1;33m\u001b[0m\u001b[1;33m\u001b[0m\u001b[0m\n",
      "\u001b[1;32m~\\anaconda3\\envs\\stonks\\lib\\site-packages\\keras\\engine\\training.py\u001b[0m in \u001b[0;36mtf__train_function\u001b[1;34m(iterator)\u001b[0m\n\u001b[0;32m     13\u001b[0m                 \u001b[1;32mtry\u001b[0m\u001b[1;33m:\u001b[0m\u001b[1;33m\u001b[0m\u001b[1;33m\u001b[0m\u001b[0m\n\u001b[0;32m     14\u001b[0m                     \u001b[0mdo_return\u001b[0m \u001b[1;33m=\u001b[0m \u001b[1;32mTrue\u001b[0m\u001b[1;33m\u001b[0m\u001b[1;33m\u001b[0m\u001b[0m\n\u001b[1;32m---> 15\u001b[1;33m                     \u001b[0mretval_\u001b[0m \u001b[1;33m=\u001b[0m \u001b[0mag__\u001b[0m\u001b[1;33m.\u001b[0m\u001b[0mconverted_call\u001b[0m\u001b[1;33m(\u001b[0m\u001b[0mag__\u001b[0m\u001b[1;33m.\u001b[0m\u001b[0mld\u001b[0m\u001b[1;33m(\u001b[0m\u001b[0mstep_function\u001b[0m\u001b[1;33m)\u001b[0m\u001b[1;33m,\u001b[0m \u001b[1;33m(\u001b[0m\u001b[0mag__\u001b[0m\u001b[1;33m.\u001b[0m\u001b[0mld\u001b[0m\u001b[1;33m(\u001b[0m\u001b[0mself\u001b[0m\u001b[1;33m)\u001b[0m\u001b[1;33m,\u001b[0m \u001b[0mag__\u001b[0m\u001b[1;33m.\u001b[0m\u001b[0mld\u001b[0m\u001b[1;33m(\u001b[0m\u001b[0miterator\u001b[0m\u001b[1;33m)\u001b[0m\u001b[1;33m)\u001b[0m\u001b[1;33m,\u001b[0m \u001b[1;32mNone\u001b[0m\u001b[1;33m,\u001b[0m \u001b[0mfscope\u001b[0m\u001b[1;33m)\u001b[0m\u001b[1;33m\u001b[0m\u001b[1;33m\u001b[0m\u001b[0m\n\u001b[0m\u001b[0;32m     16\u001b[0m                 \u001b[1;32mexcept\u001b[0m\u001b[1;33m:\u001b[0m\u001b[1;33m\u001b[0m\u001b[1;33m\u001b[0m\u001b[0m\n\u001b[0;32m     17\u001b[0m                     \u001b[0mdo_return\u001b[0m \u001b[1;33m=\u001b[0m \u001b[1;32mFalse\u001b[0m\u001b[1;33m\u001b[0m\u001b[1;33m\u001b[0m\u001b[0m\n",
      "\u001b[1;31mValueError\u001b[0m: in user code:\n\n    File \"C:\\Users\\cemly\\anaconda3\\envs\\stonks\\lib\\site-packages\\keras\\engine\\training.py\", line 1051, in train_function  *\n        return step_function(self, iterator)\n    File \"C:\\Users\\cemly\\anaconda3\\envs\\stonks\\lib\\site-packages\\keras\\engine\\training.py\", line 1040, in step_function  **\n        outputs = model.distribute_strategy.run(run_step, args=(data,))\n    File \"C:\\Users\\cemly\\anaconda3\\envs\\stonks\\lib\\site-packages\\keras\\engine\\training.py\", line 1030, in run_step  **\n        outputs = model.train_step(data)\n    File \"C:\\Users\\cemly\\anaconda3\\envs\\stonks\\lib\\site-packages\\keras\\engine\\training.py\", line 889, in train_step\n        y_pred = self(x, training=True)\n    File \"C:\\Users\\cemly\\anaconda3\\envs\\stonks\\lib\\site-packages\\keras\\utils\\traceback_utils.py\", line 67, in error_handler\n        raise e.with_traceback(filtered_tb) from None\n    File \"C:\\Users\\cemly\\anaconda3\\envs\\stonks\\lib\\site-packages\\keras\\engine\\input_spec.py\", line 264, in assert_input_compatibility\n        raise ValueError(f'Input {input_index} of layer \"{layer_name}\" is '\n\n    ValueError: Input 0 of layer \"sequential_22\" is incompatible with the layer: expected shape=(None, None, 21, 5), found shape=(50, 21, 5)\n"
     ]
    }
   ],
   "source": [
    "history = model.fit(X_train,y_train,batch_size=50,epochs=100,verbose=2,validation_data=(X_test,y_test))"
   ]
  },
  {
   "cell_type": "code",
   "execution_count": null,
   "id": "2f482825",
   "metadata": {},
   "outputs": [],
   "source": []
  },
  {
   "cell_type": "code",
   "execution_count": null,
   "id": "e547fb0f",
   "metadata": {},
   "outputs": [],
   "source": []
  },
  {
   "cell_type": "code",
   "execution_count": 111,
   "id": "59b2c1d5",
   "metadata": {},
   "outputs": [
    {
     "data": {
      "text/plain": [
       "5"
      ]
     },
     "execution_count": 111,
     "metadata": {},
     "output_type": "execute_result"
    }
   ],
   "source": [
    "X_train.shape[2]"
   ]
  },
  {
   "cell_type": "code",
   "execution_count": null,
   "id": "5cc45478",
   "metadata": {},
   "outputs": [],
   "source": []
  },
  {
   "cell_type": "code",
   "execution_count": null,
   "id": "d51b4f6c",
   "metadata": {},
   "outputs": [],
   "source": []
  },
  {
   "cell_type": "markdown",
   "id": "156d2ddb",
   "metadata": {},
   "source": [
    "###### running a simulation"
   ]
  },
  {
   "cell_type": "code",
   "execution_count": null,
   "id": "c08c2d5b",
   "metadata": {},
   "outputs": [],
   "source": [
    "results_df.test_predictions>0.01"
   ]
  },
  {
   "cell_type": "code",
   "execution_count": null,
   "id": "aa505255",
   "metadata": {},
   "outputs": [],
   "source": [
    "np.arange(0.0,0.7,0.01)"
   ]
  },
  {
   "cell_type": "code",
   "execution_count": null,
   "id": "51afb792",
   "metadata": {},
   "outputs": [],
   "source": [
    "results_df[results_df.test_predictions>0.0].growth.sum()"
   ]
  },
  {
   "cell_type": "code",
   "execution_count": null,
   "id": "7a2a1669",
   "metadata": {},
   "outputs": [],
   "source": [
    "results_df.growth.plot()"
   ]
  },
  {
   "cell_type": "code",
   "execution_count": null,
   "id": "8297b0d7",
   "metadata": {},
   "outputs": [],
   "source": [
    "profit = list()\n",
    "cutoff = list()\n",
    "for i in np.arange(0.0,0.07,0.001):\n",
    "    p = results_df[results_df.test_predictions>i].growth.sum()\n",
    "    profit.append(p)\n",
    "    cutoff.append(i)\n",
    "plt.plot(cutoff,profit,marker='x')\n",
    "plt.ylabel('%Growth')\n",
    "plt.show()"
   ]
  },
  {
   "cell_type": "code",
   "execution_count": null,
   "id": "751eb803",
   "metadata": {},
   "outputs": [],
   "source": [
    "results_df[results_df.test_predictions>0.001].growth.sum()"
   ]
  },
  {
   "cell_type": "markdown",
   "id": "8deaa3c6",
   "metadata": {},
   "source": [
    "If you were to just buy when the model has a prob greater than 0.04 you would get a 5% return, which over 36 days ain't bad.\n",
    "\n",
    "Of course, this 10% figure will be reduced, and could even be eradicated by fees and spread in the buy sell."
   ]
  },
  {
   "cell_type": "code",
   "execution_count": null,
   "id": "d4128e17",
   "metadata": {},
   "outputs": [],
   "source": [
    "10000*1.05**(15*12)"
   ]
  },
  {
   "cell_type": "code",
   "execution_count": null,
   "id": "d27aafaa",
   "metadata": {},
   "outputs": [],
   "source": [
    "results_df.groupby('test_predictions_bin')['growth'].agg(['count','sum','mean'])['sum'].plot(figsize=[20,5],marker='x')\n",
    "plt.ylabel('Total Return')\n",
    "plt.title('Total growth by band')\n",
    "plt.show()"
   ]
  },
  {
   "cell_type": "code",
   "execution_count": null,
   "id": "819d7da2",
   "metadata": {},
   "outputs": [],
   "source": [
    "results_df['test_predictions_bin'] = pd.qcut(results_df['test_predictions'],10)\n",
    "results_df.groupby('test_predictions_bin')['growth'].agg(['count','sum','mean'])"
   ]
  },
  {
   "cell_type": "code",
   "execution_count": null,
   "id": "2f773639",
   "metadata": {},
   "outputs": [],
   "source": [
    "results_df.index.max()-results_df.index.min()"
   ]
  },
  {
   "cell_type": "code",
   "execution_count": null,
   "id": "e2826db3",
   "metadata": {},
   "outputs": [],
   "source": [
    "results_df.groupby('test_predictions_bin')['test_results'].agg(['count','sum','mean'])['mean'].plot(figsize=[20,5],marker='x')\n",
    "plt.ylabel('Rate')\n",
    "plt.title('Probability growth>0.5% in the next ')\n",
    "plt.show()"
   ]
  },
  {
   "cell_type": "code",
   "execution_count": null,
   "id": "43e4dad1",
   "metadata": {},
   "outputs": [],
   "source": [
    "0.005"
   ]
  },
  {
   "cell_type": "markdown",
   "id": "00b8730b",
   "metadata": {},
   "source": [
    "Additional features?\n",
    "- time since opening?\n",
    "- interday movements"
   ]
  },
  {
   "cell_type": "code",
   "execution_count": null,
   "id": "2b350dc6",
   "metadata": {},
   "outputs": [],
   "source": [
    "growth_test"
   ]
  },
  {
   "cell_type": "code",
   "execution_count": null,
   "id": "23bcc0f4",
   "metadata": {},
   "outputs": [],
   "source": []
  },
  {
   "cell_type": "code",
   "execution_count": null,
   "id": "4883b5d5",
   "metadata": {},
   "outputs": [],
   "source": []
  },
  {
   "cell_type": "code",
   "execution_count": null,
   "id": "291f1bca",
   "metadata": {},
   "outputs": [],
   "source": []
  }
 ],
 "metadata": {
  "kernelspec": {
   "display_name": "Python 3 (ipykernel)",
   "language": "python",
   "name": "python3"
  },
  "language_info": {
   "codemirror_mode": {
    "name": "ipython",
    "version": 3
   },
   "file_extension": ".py",
   "mimetype": "text/x-python",
   "name": "python",
   "nbconvert_exporter": "python",
   "pygments_lexer": "ipython3",
   "version": "3.9.7"
  }
 },
 "nbformat": 4,
 "nbformat_minor": 5
}
